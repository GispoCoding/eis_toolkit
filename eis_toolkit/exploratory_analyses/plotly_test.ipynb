{
 "cells": [
  {
   "cell_type": "code",
   "execution_count": 1,
   "metadata": {},
   "outputs": [],
   "source": [
    "import plotly.express as px\n",
    "import plotly.graph_objects as go\n",
    "import numpy as np\n",
    "from sklearn.neighbors import KNeighborsClassifier\n",
    "from sklearn.model_selection import train_test_split"
   ]
  },
  {
   "cell_type": "code",
   "execution_count": 2,
   "metadata": {},
   "outputs": [
    {
     "name": "stderr",
     "output_type": "stream",
     "text": [
      "/home/niko/code/plugin_dev/eis_testing/eis_venv_test/lib/python3.10/site-packages/sklearn/base.py:439: UserWarning: X does not have valid feature names, but KNeighborsClassifier was fitted with feature names\n",
      "  warnings.warn(\n",
      "/home/niko/code/plugin_dev/eis_testing/eis_venv_test/lib/python3.10/site-packages/sklearn/base.py:439: UserWarning: X does not have valid feature names, but KNeighborsClassifier was fitted with feature names\n",
      "  warnings.warn(\n"
     ]
    }
   ],
   "source": [
    "mesh_size = .02\n",
    "margin = 1\n",
    "\n",
    "# We will use the iris data, which is included in px\n",
    "df = px.data.iris()\n",
    "df_train, df_test = train_test_split(df, test_size=0.25, random_state=0)\n",
    "X_train = df_train[['sepal_length', 'sepal_width']]\n",
    "y_train = df_train.species_id\n",
    "\n",
    "# Create a mesh grid on which we will run our model\n",
    "l_min, l_max = df.sepal_length.min() - margin, df.sepal_length.max() + margin\n",
    "w_min, w_max = df.sepal_width.min() - margin, df.sepal_width.max() + margin\n",
    "lrange = np.arange(l_min, l_max, mesh_size)\n",
    "wrange = np.arange(w_min, w_max, mesh_size)\n",
    "ll, ww = np.meshgrid(lrange, wrange)\n",
    "\n",
    "# Create classifier, run predictions on grid\n",
    "clf = KNeighborsClassifier(15, weights='distance')\n",
    "clf.fit(X_train, y_train)\n",
    "Z = clf.predict(np.c_[ll.ravel(), ww.ravel()])\n",
    "Z = Z.reshape(ll.shape)\n",
    "proba = clf.predict_proba(np.c_[ll.ravel(), ww.ravel()])\n",
    "proba = proba.reshape(ll.shape + (3,))\n",
    "\n",
    "# Compute the confidence, which is the difference\n",
    "diff = proba.max(axis=-1) - (proba.sum(axis=-1) - proba.max(axis=-1))\n",
    "\n",
    "fig = px.scatter(\n",
    "    df_test, x='sepal_length', y='sepal_width',\n",
    "    symbol='species',\n",
    "    symbol_map={\n",
    "        'setosa': 'square-dot',\n",
    "        'versicolor': 'circle-dot',\n",
    "        'virginica': 'diamond-dot'},\n",
    ")\n",
    "fig.update_traces(\n",
    "    marker_size=12, marker_line_width=1.5,\n",
    "    marker_color=\"lightyellow\"\n",
    ")\n",
    "fig.add_trace(\n",
    "    go.Heatmap(\n",
    "        x=lrange,\n",
    "        y=wrange,\n",
    "        z=diff,\n",
    "        opacity=0.75,\n",
    "        customdata=proba,\n",
    "        colorscale='RdBu',\n",
    "        hovertemplate=(\n",
    "            'sepal length: %{x} <br>'\n",
    "            'sepal width: %{y} <br>'\n",
    "            'p(setosa): %{customdata[0]:.3f}<br>'\n",
    "            'p(versicolor): %{customdata[1]:.3f}<br>'\n",
    "            'p(virginica): %{customdata[2]:.3f}<extra></extra>'\n",
    "        )\n",
    "    )\n",
    ")\n",
    "fig.update_layout(\n",
    "    legend_orientation='h',\n",
    "    title='Prediction Confidence on Test Split'\n",
    ")\n",
    "fig.write_html(\"/home/niko/Downloads/plotly_test.html\")"
   ]
  },
  {
   "cell_type": "code",
   "execution_count": 9,
   "metadata": {},
   "outputs": [
    {
     "ename": "ValueError",
     "evalue": "Mime type rendering requires nbformat>=4.2.0 but it is not installed",
     "output_type": "error",
     "traceback": [
      "\u001b[0;31m---------------------------------------------------------------------------\u001b[0m",
      "\u001b[0;31mValueError\u001b[0m                                Traceback (most recent call last)",
      "File \u001b[0;32m~/code/plugin_dev/eis_testing/eis_venv_test/lib/python3.10/site-packages/IPython/core/formatters.py:920\u001b[0m, in \u001b[0;36mIPythonDisplayFormatter.__call__\u001b[0;34m(self, obj)\u001b[0m\n\u001b[1;32m    918\u001b[0m method \u001b[39m=\u001b[39m get_real_method(obj, \u001b[39mself\u001b[39m\u001b[39m.\u001b[39mprint_method)\n\u001b[1;32m    919\u001b[0m \u001b[39mif\u001b[39;00m method \u001b[39mis\u001b[39;00m \u001b[39mnot\u001b[39;00m \u001b[39mNone\u001b[39;00m:\n\u001b[0;32m--> 920\u001b[0m     method()\n\u001b[1;32m    921\u001b[0m     \u001b[39mreturn\u001b[39;00m \u001b[39mTrue\u001b[39;00m\n",
      "File \u001b[0;32m~/code/plugin_dev/eis_testing/eis_venv_test/lib/python3.10/site-packages/plotly/basedatatypes.py:834\u001b[0m, in \u001b[0;36mBaseFigure._ipython_display_\u001b[0;34m(self)\u001b[0m\n\u001b[1;32m    831\u001b[0m \u001b[39mimport\u001b[39;00m \u001b[39mplotly\u001b[39;00m\u001b[39m.\u001b[39;00m\u001b[39mio\u001b[39;00m \u001b[39mas\u001b[39;00m \u001b[39mpio\u001b[39;00m\n\u001b[1;32m    833\u001b[0m \u001b[39mif\u001b[39;00m pio\u001b[39m.\u001b[39mrenderers\u001b[39m.\u001b[39mrender_on_display \u001b[39mand\u001b[39;00m pio\u001b[39m.\u001b[39mrenderers\u001b[39m.\u001b[39mdefault:\n\u001b[0;32m--> 834\u001b[0m     pio\u001b[39m.\u001b[39;49mshow(\u001b[39mself\u001b[39;49m)\n\u001b[1;32m    835\u001b[0m \u001b[39melse\u001b[39;00m:\n\u001b[1;32m    836\u001b[0m     \u001b[39mprint\u001b[39m(\u001b[39mrepr\u001b[39m(\u001b[39mself\u001b[39m))\n",
      "File \u001b[0;32m~/code/plugin_dev/eis_testing/eis_venv_test/lib/python3.10/site-packages/plotly/io/_renderers.py:396\u001b[0m, in \u001b[0;36mshow\u001b[0;34m(fig, renderer, validate, **kwargs)\u001b[0m\n\u001b[1;32m    391\u001b[0m         \u001b[39mraise\u001b[39;00m \u001b[39mValueError\u001b[39;00m(\n\u001b[1;32m    392\u001b[0m             \u001b[39m\"\u001b[39m\u001b[39mMime type rendering requires ipython but it is not installed\u001b[39m\u001b[39m\"\u001b[39m\n\u001b[1;32m    393\u001b[0m         )\n\u001b[1;32m    395\u001b[0m     \u001b[39mif\u001b[39;00m \u001b[39mnot\u001b[39;00m nbformat \u001b[39mor\u001b[39;00m Version(nbformat\u001b[39m.\u001b[39m__version__) \u001b[39m<\u001b[39m Version(\u001b[39m\"\u001b[39m\u001b[39m4.2.0\u001b[39m\u001b[39m\"\u001b[39m):\n\u001b[0;32m--> 396\u001b[0m         \u001b[39mraise\u001b[39;00m \u001b[39mValueError\u001b[39;00m(\n\u001b[1;32m    397\u001b[0m             \u001b[39m\"\u001b[39m\u001b[39mMime type rendering requires nbformat>=4.2.0 but it is not installed\u001b[39m\u001b[39m\"\u001b[39m\n\u001b[1;32m    398\u001b[0m         )\n\u001b[1;32m    400\u001b[0m     ipython_display\u001b[39m.\u001b[39mdisplay(bundle, raw\u001b[39m=\u001b[39m\u001b[39mTrue\u001b[39;00m)\n\u001b[1;32m    402\u001b[0m \u001b[39m# external renderers\u001b[39;00m\n",
      "\u001b[0;31mValueError\u001b[0m: Mime type rendering requires nbformat>=4.2.0 but it is not installed"
     ]
    },
    {
     "data": {
      "application/vnd.plotly.v1+json": {
       "config": {
        "plotlyServerURL": "https://plot.ly"
       },
       "data": [
        {
         "hovertemplate": "country=Australia<br>year=%{x}<br>lifeExp=%{y}<extra></extra>",
         "legendgroup": "Australia",
         "marker": {
          "color": "#636efa",
          "symbol": "circle"
         },
         "mode": "markers",
         "name": "Australia",
         "orientation": "v",
         "showlegend": true,
         "type": "scatter",
         "x": [
          1952,
          1957,
          1962,
          1967,
          1972,
          1977,
          1982,
          1987,
          1992,
          1997,
          2002,
          2007
         ],
         "xaxis": "x",
         "y": [
          69.12,
          70.33,
          70.93,
          71.1,
          71.93,
          73.49,
          74.74,
          76.32,
          77.56,
          78.83,
          80.37,
          81.235
         ],
         "yaxis": "y"
        },
        {
         "hovertemplate": "country=New Zealand<br>year=%{x}<br>lifeExp=%{y}<extra></extra>",
         "legendgroup": "New Zealand",
         "marker": {
          "color": "#EF553B",
          "symbol": "circle"
         },
         "mode": "markers",
         "name": "New Zealand",
         "orientation": "v",
         "showlegend": true,
         "type": "scatter",
         "x": [
          1952,
          1957,
          1962,
          1967,
          1972,
          1977,
          1982,
          1987,
          1992,
          1997,
          2002,
          2007
         ],
         "xaxis": "x",
         "y": [
          69.39,
          70.26,
          71.24,
          71.52,
          71.89,
          72.22,
          73.84,
          74.32,
          76.33,
          77.55,
          79.11,
          80.204
         ],
         "yaxis": "y"
        }
       ],
       "layout": {
        "legend": {
         "title": {
          "text": "country"
         },
         "tracegroupgap": 0
        },
        "margin": {
         "t": 60
        },
        "plot_bgcolor": "rgb(255, 255, 255)",
        "template": {
         "data": {
          "bar": [
           {
            "error_x": {
             "color": "#2a3f5f"
            },
            "error_y": {
             "color": "#2a3f5f"
            },
            "marker": {
             "line": {
              "color": "#E5ECF6",
              "width": 0.5
             },
             "pattern": {
              "fillmode": "overlay",
              "size": 10,
              "solidity": 0.2
             }
            },
            "type": "bar"
           }
          ],
          "barpolar": [
           {
            "marker": {
             "line": {
              "color": "#E5ECF6",
              "width": 0.5
             },
             "pattern": {
              "fillmode": "overlay",
              "size": 10,
              "solidity": 0.2
             }
            },
            "type": "barpolar"
           }
          ],
          "carpet": [
           {
            "aaxis": {
             "endlinecolor": "#2a3f5f",
             "gridcolor": "white",
             "linecolor": "white",
             "minorgridcolor": "white",
             "startlinecolor": "#2a3f5f"
            },
            "baxis": {
             "endlinecolor": "#2a3f5f",
             "gridcolor": "white",
             "linecolor": "white",
             "minorgridcolor": "white",
             "startlinecolor": "#2a3f5f"
            },
            "type": "carpet"
           }
          ],
          "choropleth": [
           {
            "colorbar": {
             "outlinewidth": 0,
             "ticks": ""
            },
            "type": "choropleth"
           }
          ],
          "contour": [
           {
            "colorbar": {
             "outlinewidth": 0,
             "ticks": ""
            },
            "colorscale": [
             [
              0,
              "#0d0887"
             ],
             [
              0.1111111111111111,
              "#46039f"
             ],
             [
              0.2222222222222222,
              "#7201a8"
             ],
             [
              0.3333333333333333,
              "#9c179e"
             ],
             [
              0.4444444444444444,
              "#bd3786"
             ],
             [
              0.5555555555555556,
              "#d8576b"
             ],
             [
              0.6666666666666666,
              "#ed7953"
             ],
             [
              0.7777777777777778,
              "#fb9f3a"
             ],
             [
              0.8888888888888888,
              "#fdca26"
             ],
             [
              1,
              "#f0f921"
             ]
            ],
            "type": "contour"
           }
          ],
          "contourcarpet": [
           {
            "colorbar": {
             "outlinewidth": 0,
             "ticks": ""
            },
            "type": "contourcarpet"
           }
          ],
          "heatmap": [
           {
            "colorbar": {
             "outlinewidth": 0,
             "ticks": ""
            },
            "colorscale": [
             [
              0,
              "#0d0887"
             ],
             [
              0.1111111111111111,
              "#46039f"
             ],
             [
              0.2222222222222222,
              "#7201a8"
             ],
             [
              0.3333333333333333,
              "#9c179e"
             ],
             [
              0.4444444444444444,
              "#bd3786"
             ],
             [
              0.5555555555555556,
              "#d8576b"
             ],
             [
              0.6666666666666666,
              "#ed7953"
             ],
             [
              0.7777777777777778,
              "#fb9f3a"
             ],
             [
              0.8888888888888888,
              "#fdca26"
             ],
             [
              1,
              "#f0f921"
             ]
            ],
            "type": "heatmap"
           }
          ],
          "heatmapgl": [
           {
            "colorbar": {
             "outlinewidth": 0,
             "ticks": ""
            },
            "colorscale": [
             [
              0,
              "#0d0887"
             ],
             [
              0.1111111111111111,
              "#46039f"
             ],
             [
              0.2222222222222222,
              "#7201a8"
             ],
             [
              0.3333333333333333,
              "#9c179e"
             ],
             [
              0.4444444444444444,
              "#bd3786"
             ],
             [
              0.5555555555555556,
              "#d8576b"
             ],
             [
              0.6666666666666666,
              "#ed7953"
             ],
             [
              0.7777777777777778,
              "#fb9f3a"
             ],
             [
              0.8888888888888888,
              "#fdca26"
             ],
             [
              1,
              "#f0f921"
             ]
            ],
            "type": "heatmapgl"
           }
          ],
          "histogram": [
           {
            "marker": {
             "pattern": {
              "fillmode": "overlay",
              "size": 10,
              "solidity": 0.2
             }
            },
            "type": "histogram"
           }
          ],
          "histogram2d": [
           {
            "colorbar": {
             "outlinewidth": 0,
             "ticks": ""
            },
            "colorscale": [
             [
              0,
              "#0d0887"
             ],
             [
              0.1111111111111111,
              "#46039f"
             ],
             [
              0.2222222222222222,
              "#7201a8"
             ],
             [
              0.3333333333333333,
              "#9c179e"
             ],
             [
              0.4444444444444444,
              "#bd3786"
             ],
             [
              0.5555555555555556,
              "#d8576b"
             ],
             [
              0.6666666666666666,
              "#ed7953"
             ],
             [
              0.7777777777777778,
              "#fb9f3a"
             ],
             [
              0.8888888888888888,
              "#fdca26"
             ],
             [
              1,
              "#f0f921"
             ]
            ],
            "type": "histogram2d"
           }
          ],
          "histogram2dcontour": [
           {
            "colorbar": {
             "outlinewidth": 0,
             "ticks": ""
            },
            "colorscale": [
             [
              0,
              "#0d0887"
             ],
             [
              0.1111111111111111,
              "#46039f"
             ],
             [
              0.2222222222222222,
              "#7201a8"
             ],
             [
              0.3333333333333333,
              "#9c179e"
             ],
             [
              0.4444444444444444,
              "#bd3786"
             ],
             [
              0.5555555555555556,
              "#d8576b"
             ],
             [
              0.6666666666666666,
              "#ed7953"
             ],
             [
              0.7777777777777778,
              "#fb9f3a"
             ],
             [
              0.8888888888888888,
              "#fdca26"
             ],
             [
              1,
              "#f0f921"
             ]
            ],
            "type": "histogram2dcontour"
           }
          ],
          "mesh3d": [
           {
            "colorbar": {
             "outlinewidth": 0,
             "ticks": ""
            },
            "type": "mesh3d"
           }
          ],
          "parcoords": [
           {
            "line": {
             "colorbar": {
              "outlinewidth": 0,
              "ticks": ""
             }
            },
            "type": "parcoords"
           }
          ],
          "pie": [
           {
            "automargin": true,
            "type": "pie"
           }
          ],
          "scatter": [
           {
            "fillpattern": {
             "fillmode": "overlay",
             "size": 10,
             "solidity": 0.2
            },
            "type": "scatter"
           }
          ],
          "scatter3d": [
           {
            "line": {
             "colorbar": {
              "outlinewidth": 0,
              "ticks": ""
             }
            },
            "marker": {
             "colorbar": {
              "outlinewidth": 0,
              "ticks": ""
             }
            },
            "type": "scatter3d"
           }
          ],
          "scattercarpet": [
           {
            "marker": {
             "colorbar": {
              "outlinewidth": 0,
              "ticks": ""
             }
            },
            "type": "scattercarpet"
           }
          ],
          "scattergeo": [
           {
            "marker": {
             "colorbar": {
              "outlinewidth": 0,
              "ticks": ""
             }
            },
            "type": "scattergeo"
           }
          ],
          "scattergl": [
           {
            "marker": {
             "colorbar": {
              "outlinewidth": 0,
              "ticks": ""
             }
            },
            "type": "scattergl"
           }
          ],
          "scattermapbox": [
           {
            "marker": {
             "colorbar": {
              "outlinewidth": 0,
              "ticks": ""
             }
            },
            "type": "scattermapbox"
           }
          ],
          "scatterpolar": [
           {
            "marker": {
             "colorbar": {
              "outlinewidth": 0,
              "ticks": ""
             }
            },
            "type": "scatterpolar"
           }
          ],
          "scatterpolargl": [
           {
            "marker": {
             "colorbar": {
              "outlinewidth": 0,
              "ticks": ""
             }
            },
            "type": "scatterpolargl"
           }
          ],
          "scatterternary": [
           {
            "marker": {
             "colorbar": {
              "outlinewidth": 0,
              "ticks": ""
             }
            },
            "type": "scatterternary"
           }
          ],
          "surface": [
           {
            "colorbar": {
             "outlinewidth": 0,
             "ticks": ""
            },
            "colorscale": [
             [
              0,
              "#0d0887"
             ],
             [
              0.1111111111111111,
              "#46039f"
             ],
             [
              0.2222222222222222,
              "#7201a8"
             ],
             [
              0.3333333333333333,
              "#9c179e"
             ],
             [
              0.4444444444444444,
              "#bd3786"
             ],
             [
              0.5555555555555556,
              "#d8576b"
             ],
             [
              0.6666666666666666,
              "#ed7953"
             ],
             [
              0.7777777777777778,
              "#fb9f3a"
             ],
             [
              0.8888888888888888,
              "#fdca26"
             ],
             [
              1,
              "#f0f921"
             ]
            ],
            "type": "surface"
           }
          ],
          "table": [
           {
            "cells": {
             "fill": {
              "color": "#EBF0F8"
             },
             "line": {
              "color": "white"
             }
            },
            "header": {
             "fill": {
              "color": "#C8D4E3"
             },
             "line": {
              "color": "white"
             }
            },
            "type": "table"
           }
          ]
         },
         "layout": {
          "annotationdefaults": {
           "arrowcolor": "#2a3f5f",
           "arrowhead": 0,
           "arrowwidth": 1
          },
          "autotypenumbers": "strict",
          "coloraxis": {
           "colorbar": {
            "outlinewidth": 0,
            "ticks": ""
           }
          },
          "colorscale": {
           "diverging": [
            [
             0,
             "#8e0152"
            ],
            [
             0.1,
             "#c51b7d"
            ],
            [
             0.2,
             "#de77ae"
            ],
            [
             0.3,
             "#f1b6da"
            ],
            [
             0.4,
             "#fde0ef"
            ],
            [
             0.5,
             "#f7f7f7"
            ],
            [
             0.6,
             "#e6f5d0"
            ],
            [
             0.7,
             "#b8e186"
            ],
            [
             0.8,
             "#7fbc41"
            ],
            [
             0.9,
             "#4d9221"
            ],
            [
             1,
             "#276419"
            ]
           ],
           "sequential": [
            [
             0,
             "#0d0887"
            ],
            [
             0.1111111111111111,
             "#46039f"
            ],
            [
             0.2222222222222222,
             "#7201a8"
            ],
            [
             0.3333333333333333,
             "#9c179e"
            ],
            [
             0.4444444444444444,
             "#bd3786"
            ],
            [
             0.5555555555555556,
             "#d8576b"
            ],
            [
             0.6666666666666666,
             "#ed7953"
            ],
            [
             0.7777777777777778,
             "#fb9f3a"
            ],
            [
             0.8888888888888888,
             "#fdca26"
            ],
            [
             1,
             "#f0f921"
            ]
           ],
           "sequentialminus": [
            [
             0,
             "#0d0887"
            ],
            [
             0.1111111111111111,
             "#46039f"
            ],
            [
             0.2222222222222222,
             "#7201a8"
            ],
            [
             0.3333333333333333,
             "#9c179e"
            ],
            [
             0.4444444444444444,
             "#bd3786"
            ],
            [
             0.5555555555555556,
             "#d8576b"
            ],
            [
             0.6666666666666666,
             "#ed7953"
            ],
            [
             0.7777777777777778,
             "#fb9f3a"
            ],
            [
             0.8888888888888888,
             "#fdca26"
            ],
            [
             1,
             "#f0f921"
            ]
           ]
          },
          "colorway": [
           "#636efa",
           "#EF553B",
           "#00cc96",
           "#ab63fa",
           "#FFA15A",
           "#19d3f3",
           "#FF6692",
           "#B6E880",
           "#FF97FF",
           "#FECB52"
          ],
          "font": {
           "color": "#2a3f5f"
          },
          "geo": {
           "bgcolor": "white",
           "lakecolor": "white",
           "landcolor": "#E5ECF6",
           "showlakes": true,
           "showland": true,
           "subunitcolor": "white"
          },
          "hoverlabel": {
           "align": "left"
          },
          "hovermode": "closest",
          "mapbox": {
           "style": "light"
          },
          "paper_bgcolor": "white",
          "plot_bgcolor": "#E5ECF6",
          "polar": {
           "angularaxis": {
            "gridcolor": "white",
            "linecolor": "white",
            "ticks": ""
           },
           "bgcolor": "#E5ECF6",
           "radialaxis": {
            "gridcolor": "white",
            "linecolor": "white",
            "ticks": ""
           }
          },
          "scene": {
           "xaxis": {
            "backgroundcolor": "#E5ECF6",
            "gridcolor": "white",
            "gridwidth": 2,
            "linecolor": "white",
            "showbackground": true,
            "ticks": "",
            "zerolinecolor": "white"
           },
           "yaxis": {
            "backgroundcolor": "#E5ECF6",
            "gridcolor": "white",
            "gridwidth": 2,
            "linecolor": "white",
            "showbackground": true,
            "ticks": "",
            "zerolinecolor": "white"
           },
           "zaxis": {
            "backgroundcolor": "#E5ECF6",
            "gridcolor": "white",
            "gridwidth": 2,
            "linecolor": "white",
            "showbackground": true,
            "ticks": "",
            "zerolinecolor": "white"
           }
          },
          "shapedefaults": {
           "line": {
            "color": "#2a3f5f"
           }
          },
          "ternary": {
           "aaxis": {
            "gridcolor": "white",
            "linecolor": "white",
            "ticks": ""
           },
           "baxis": {
            "gridcolor": "white",
            "linecolor": "white",
            "ticks": ""
           },
           "bgcolor": "#E5ECF6",
           "caxis": {
            "gridcolor": "white",
            "linecolor": "white",
            "ticks": ""
           }
          },
          "title": {
           "x": 0.05
          },
          "xaxis": {
           "automargin": true,
           "gridcolor": "white",
           "linecolor": "white",
           "ticks": "",
           "title": {
            "standoff": 15
           },
           "zerolinecolor": "white",
           "zerolinewidth": 2
          },
          "yaxis": {
           "automargin": true,
           "gridcolor": "white",
           "linecolor": "white",
           "ticks": "",
           "title": {
            "standoff": 15
           },
           "zerolinecolor": "white",
           "zerolinewidth": 2
          }
         }
        },
        "xaxis": {
         "anchor": "y",
         "domain": [
          0,
          1
         ],
         "gridcolor": "rgb(217, 217, 217)",
         "showline": true,
         "title": {
          "text": "year"
         }
        },
        "yaxis": {
         "anchor": "x",
         "domain": [
          0,
          1
         ],
         "gridcolor": "rgb(217, 217, 217)",
         "showline": true,
         "title": {
          "text": "lifeExp"
         }
        }
       }
      },
      "text/html": [
       "<div>                        <script type=\"text/javascript\">window.PlotlyConfig = {MathJaxConfig: 'local'};</script>\n",
       "        <script src=\"https://cdn.plot.ly/plotly-2.18.2.min.js\"></script>                <div id=\"d31e8c9c-58bc-4e3f-831f-78b2f32710aa\" class=\"plotly-graph-div\" style=\"height:100%; width:100%;\"></div>            <script type=\"text/javascript\">                                    window.PLOTLYENV=window.PLOTLYENV || {};                                    if (document.getElementById(\"d31e8c9c-58bc-4e3f-831f-78b2f32710aa\")) {                    Plotly.newPlot(                        \"d31e8c9c-58bc-4e3f-831f-78b2f32710aa\",                        [{\"hovertemplate\":\"country=Australia<br>year=%{x}<br>lifeExp=%{y}<extra></extra>\",\"legendgroup\":\"Australia\",\"marker\":{\"color\":\"#636efa\",\"symbol\":\"circle\"},\"mode\":\"markers\",\"name\":\"Australia\",\"orientation\":\"v\",\"showlegend\":true,\"x\":[1952,1957,1962,1967,1972,1977,1982,1987,1992,1997,2002,2007],\"xaxis\":\"x\",\"y\":[69.12,70.33,70.93,71.1,71.93,73.49,74.74,76.32,77.56,78.83,80.37,81.235],\"yaxis\":\"y\",\"type\":\"scatter\"},{\"hovertemplate\":\"country=New Zealand<br>year=%{x}<br>lifeExp=%{y}<extra></extra>\",\"legendgroup\":\"New Zealand\",\"marker\":{\"color\":\"#EF553B\",\"symbol\":\"circle\"},\"mode\":\"markers\",\"name\":\"New Zealand\",\"orientation\":\"v\",\"showlegend\":true,\"x\":[1952,1957,1962,1967,1972,1977,1982,1987,1992,1997,2002,2007],\"xaxis\":\"x\",\"y\":[69.39,70.26,71.24,71.52,71.89,72.22,73.84,74.32,76.33,77.55,79.11,80.204],\"yaxis\":\"y\",\"type\":\"scatter\"}],                        {\"template\":{\"data\":{\"histogram2dcontour\":[{\"type\":\"histogram2dcontour\",\"colorbar\":{\"outlinewidth\":0,\"ticks\":\"\"},\"colorscale\":[[0.0,\"#0d0887\"],[0.1111111111111111,\"#46039f\"],[0.2222222222222222,\"#7201a8\"],[0.3333333333333333,\"#9c179e\"],[0.4444444444444444,\"#bd3786\"],[0.5555555555555556,\"#d8576b\"],[0.6666666666666666,\"#ed7953\"],[0.7777777777777778,\"#fb9f3a\"],[0.8888888888888888,\"#fdca26\"],[1.0,\"#f0f921\"]]}],\"choropleth\":[{\"type\":\"choropleth\",\"colorbar\":{\"outlinewidth\":0,\"ticks\":\"\"}}],\"histogram2d\":[{\"type\":\"histogram2d\",\"colorbar\":{\"outlinewidth\":0,\"ticks\":\"\"},\"colorscale\":[[0.0,\"#0d0887\"],[0.1111111111111111,\"#46039f\"],[0.2222222222222222,\"#7201a8\"],[0.3333333333333333,\"#9c179e\"],[0.4444444444444444,\"#bd3786\"],[0.5555555555555556,\"#d8576b\"],[0.6666666666666666,\"#ed7953\"],[0.7777777777777778,\"#fb9f3a\"],[0.8888888888888888,\"#fdca26\"],[1.0,\"#f0f921\"]]}],\"heatmap\":[{\"type\":\"heatmap\",\"colorbar\":{\"outlinewidth\":0,\"ticks\":\"\"},\"colorscale\":[[0.0,\"#0d0887\"],[0.1111111111111111,\"#46039f\"],[0.2222222222222222,\"#7201a8\"],[0.3333333333333333,\"#9c179e\"],[0.4444444444444444,\"#bd3786\"],[0.5555555555555556,\"#d8576b\"],[0.6666666666666666,\"#ed7953\"],[0.7777777777777778,\"#fb9f3a\"],[0.8888888888888888,\"#fdca26\"],[1.0,\"#f0f921\"]]}],\"heatmapgl\":[{\"type\":\"heatmapgl\",\"colorbar\":{\"outlinewidth\":0,\"ticks\":\"\"},\"colorscale\":[[0.0,\"#0d0887\"],[0.1111111111111111,\"#46039f\"],[0.2222222222222222,\"#7201a8\"],[0.3333333333333333,\"#9c179e\"],[0.4444444444444444,\"#bd3786\"],[0.5555555555555556,\"#d8576b\"],[0.6666666666666666,\"#ed7953\"],[0.7777777777777778,\"#fb9f3a\"],[0.8888888888888888,\"#fdca26\"],[1.0,\"#f0f921\"]]}],\"contourcarpet\":[{\"type\":\"contourcarpet\",\"colorbar\":{\"outlinewidth\":0,\"ticks\":\"\"}}],\"contour\":[{\"type\":\"contour\",\"colorbar\":{\"outlinewidth\":0,\"ticks\":\"\"},\"colorscale\":[[0.0,\"#0d0887\"],[0.1111111111111111,\"#46039f\"],[0.2222222222222222,\"#7201a8\"],[0.3333333333333333,\"#9c179e\"],[0.4444444444444444,\"#bd3786\"],[0.5555555555555556,\"#d8576b\"],[0.6666666666666666,\"#ed7953\"],[0.7777777777777778,\"#fb9f3a\"],[0.8888888888888888,\"#fdca26\"],[1.0,\"#f0f921\"]]}],\"surface\":[{\"type\":\"surface\",\"colorbar\":{\"outlinewidth\":0,\"ticks\":\"\"},\"colorscale\":[[0.0,\"#0d0887\"],[0.1111111111111111,\"#46039f\"],[0.2222222222222222,\"#7201a8\"],[0.3333333333333333,\"#9c179e\"],[0.4444444444444444,\"#bd3786\"],[0.5555555555555556,\"#d8576b\"],[0.6666666666666666,\"#ed7953\"],[0.7777777777777778,\"#fb9f3a\"],[0.8888888888888888,\"#fdca26\"],[1.0,\"#f0f921\"]]}],\"mesh3d\":[{\"type\":\"mesh3d\",\"colorbar\":{\"outlinewidth\":0,\"ticks\":\"\"}}],\"scatter\":[{\"fillpattern\":{\"fillmode\":\"overlay\",\"size\":10,\"solidity\":0.2},\"type\":\"scatter\"}],\"parcoords\":[{\"type\":\"parcoords\",\"line\":{\"colorbar\":{\"outlinewidth\":0,\"ticks\":\"\"}}}],\"scatterpolargl\":[{\"type\":\"scatterpolargl\",\"marker\":{\"colorbar\":{\"outlinewidth\":0,\"ticks\":\"\"}}}],\"bar\":[{\"error_x\":{\"color\":\"#2a3f5f\"},\"error_y\":{\"color\":\"#2a3f5f\"},\"marker\":{\"line\":{\"color\":\"#E5ECF6\",\"width\":0.5},\"pattern\":{\"fillmode\":\"overlay\",\"size\":10,\"solidity\":0.2}},\"type\":\"bar\"}],\"scattergeo\":[{\"type\":\"scattergeo\",\"marker\":{\"colorbar\":{\"outlinewidth\":0,\"ticks\":\"\"}}}],\"scatterpolar\":[{\"type\":\"scatterpolar\",\"marker\":{\"colorbar\":{\"outlinewidth\":0,\"ticks\":\"\"}}}],\"histogram\":[{\"marker\":{\"pattern\":{\"fillmode\":\"overlay\",\"size\":10,\"solidity\":0.2}},\"type\":\"histogram\"}],\"scattergl\":[{\"type\":\"scattergl\",\"marker\":{\"colorbar\":{\"outlinewidth\":0,\"ticks\":\"\"}}}],\"scatter3d\":[{\"type\":\"scatter3d\",\"line\":{\"colorbar\":{\"outlinewidth\":0,\"ticks\":\"\"}},\"marker\":{\"colorbar\":{\"outlinewidth\":0,\"ticks\":\"\"}}}],\"scattermapbox\":[{\"type\":\"scattermapbox\",\"marker\":{\"colorbar\":{\"outlinewidth\":0,\"ticks\":\"\"}}}],\"scatterternary\":[{\"type\":\"scatterternary\",\"marker\":{\"colorbar\":{\"outlinewidth\":0,\"ticks\":\"\"}}}],\"scattercarpet\":[{\"type\":\"scattercarpet\",\"marker\":{\"colorbar\":{\"outlinewidth\":0,\"ticks\":\"\"}}}],\"carpet\":[{\"aaxis\":{\"endlinecolor\":\"#2a3f5f\",\"gridcolor\":\"white\",\"linecolor\":\"white\",\"minorgridcolor\":\"white\",\"startlinecolor\":\"#2a3f5f\"},\"baxis\":{\"endlinecolor\":\"#2a3f5f\",\"gridcolor\":\"white\",\"linecolor\":\"white\",\"minorgridcolor\":\"white\",\"startlinecolor\":\"#2a3f5f\"},\"type\":\"carpet\"}],\"table\":[{\"cells\":{\"fill\":{\"color\":\"#EBF0F8\"},\"line\":{\"color\":\"white\"}},\"header\":{\"fill\":{\"color\":\"#C8D4E3\"},\"line\":{\"color\":\"white\"}},\"type\":\"table\"}],\"barpolar\":[{\"marker\":{\"line\":{\"color\":\"#E5ECF6\",\"width\":0.5},\"pattern\":{\"fillmode\":\"overlay\",\"size\":10,\"solidity\":0.2}},\"type\":\"barpolar\"}],\"pie\":[{\"automargin\":true,\"type\":\"pie\"}]},\"layout\":{\"autotypenumbers\":\"strict\",\"colorway\":[\"#636efa\",\"#EF553B\",\"#00cc96\",\"#ab63fa\",\"#FFA15A\",\"#19d3f3\",\"#FF6692\",\"#B6E880\",\"#FF97FF\",\"#FECB52\"],\"font\":{\"color\":\"#2a3f5f\"},\"hovermode\":\"closest\",\"hoverlabel\":{\"align\":\"left\"},\"paper_bgcolor\":\"white\",\"plot_bgcolor\":\"#E5ECF6\",\"polar\":{\"bgcolor\":\"#E5ECF6\",\"angularaxis\":{\"gridcolor\":\"white\",\"linecolor\":\"white\",\"ticks\":\"\"},\"radialaxis\":{\"gridcolor\":\"white\",\"linecolor\":\"white\",\"ticks\":\"\"}},\"ternary\":{\"bgcolor\":\"#E5ECF6\",\"aaxis\":{\"gridcolor\":\"white\",\"linecolor\":\"white\",\"ticks\":\"\"},\"baxis\":{\"gridcolor\":\"white\",\"linecolor\":\"white\",\"ticks\":\"\"},\"caxis\":{\"gridcolor\":\"white\",\"linecolor\":\"white\",\"ticks\":\"\"}},\"coloraxis\":{\"colorbar\":{\"outlinewidth\":0,\"ticks\":\"\"}},\"colorscale\":{\"sequential\":[[0.0,\"#0d0887\"],[0.1111111111111111,\"#46039f\"],[0.2222222222222222,\"#7201a8\"],[0.3333333333333333,\"#9c179e\"],[0.4444444444444444,\"#bd3786\"],[0.5555555555555556,\"#d8576b\"],[0.6666666666666666,\"#ed7953\"],[0.7777777777777778,\"#fb9f3a\"],[0.8888888888888888,\"#fdca26\"],[1.0,\"#f0f921\"]],\"sequentialminus\":[[0.0,\"#0d0887\"],[0.1111111111111111,\"#46039f\"],[0.2222222222222222,\"#7201a8\"],[0.3333333333333333,\"#9c179e\"],[0.4444444444444444,\"#bd3786\"],[0.5555555555555556,\"#d8576b\"],[0.6666666666666666,\"#ed7953\"],[0.7777777777777778,\"#fb9f3a\"],[0.8888888888888888,\"#fdca26\"],[1.0,\"#f0f921\"]],\"diverging\":[[0,\"#8e0152\"],[0.1,\"#c51b7d\"],[0.2,\"#de77ae\"],[0.3,\"#f1b6da\"],[0.4,\"#fde0ef\"],[0.5,\"#f7f7f7\"],[0.6,\"#e6f5d0\"],[0.7,\"#b8e186\"],[0.8,\"#7fbc41\"],[0.9,\"#4d9221\"],[1,\"#276419\"]]},\"xaxis\":{\"gridcolor\":\"white\",\"linecolor\":\"white\",\"ticks\":\"\",\"title\":{\"standoff\":15},\"zerolinecolor\":\"white\",\"automargin\":true,\"zerolinewidth\":2},\"yaxis\":{\"gridcolor\":\"white\",\"linecolor\":\"white\",\"ticks\":\"\",\"title\":{\"standoff\":15},\"zerolinecolor\":\"white\",\"automargin\":true,\"zerolinewidth\":2},\"scene\":{\"xaxis\":{\"backgroundcolor\":\"#E5ECF6\",\"gridcolor\":\"white\",\"linecolor\":\"white\",\"showbackground\":true,\"ticks\":\"\",\"zerolinecolor\":\"white\",\"gridwidth\":2},\"yaxis\":{\"backgroundcolor\":\"#E5ECF6\",\"gridcolor\":\"white\",\"linecolor\":\"white\",\"showbackground\":true,\"ticks\":\"\",\"zerolinecolor\":\"white\",\"gridwidth\":2},\"zaxis\":{\"backgroundcolor\":\"#E5ECF6\",\"gridcolor\":\"white\",\"linecolor\":\"white\",\"showbackground\":true,\"ticks\":\"\",\"zerolinecolor\":\"white\",\"gridwidth\":2}},\"shapedefaults\":{\"line\":{\"color\":\"#2a3f5f\"}},\"annotationdefaults\":{\"arrowcolor\":\"#2a3f5f\",\"arrowhead\":0,\"arrowwidth\":1},\"geo\":{\"bgcolor\":\"white\",\"landcolor\":\"#E5ECF6\",\"subunitcolor\":\"white\",\"showland\":true,\"showlakes\":true,\"lakecolor\":\"white\"},\"title\":{\"x\":0.05},\"mapbox\":{\"style\":\"light\"}}},\"xaxis\":{\"anchor\":\"y\",\"domain\":[0.0,1.0],\"title\":{\"text\":\"year\"},\"showline\":true,\"gridcolor\":\"rgb(217, 217, 217)\"},\"yaxis\":{\"anchor\":\"x\",\"domain\":[0.0,1.0],\"title\":{\"text\":\"lifeExp\"},\"showline\":true,\"gridcolor\":\"rgb(217, 217, 217)\"},\"legend\":{\"title\":{\"text\":\"country\"},\"tracegroupgap\":0},\"margin\":{\"t\":60},\"plot_bgcolor\":\"rgb(255, 255, 255)\"},                        {\"responsive\": true}                    )                };                            </script>        </div>"
      ],
      "text/plain": [
       "Figure({\n",
       "    'data': [{'hovertemplate': 'country=Australia<br>year=%{x}<br>lifeExp=%{y}<extra></extra>',\n",
       "              'legendgroup': 'Australia',\n",
       "              'marker': {'color': '#636efa', 'symbol': 'circle'},\n",
       "              'mode': 'markers',\n",
       "              'name': 'Australia',\n",
       "              'orientation': 'v',\n",
       "              'showlegend': True,\n",
       "              'type': 'scatter',\n",
       "              'x': array([1952, 1957, 1962, 1967, 1972, 1977, 1982, 1987, 1992, 1997, 2002, 2007]),\n",
       "              'xaxis': 'x',\n",
       "              'y': array([69.12 , 70.33 , 70.93 , 71.1  , 71.93 , 73.49 , 74.74 , 76.32 , 77.56 ,\n",
       "                          78.83 , 80.37 , 81.235]),\n",
       "              'yaxis': 'y'},\n",
       "             {'hovertemplate': 'country=New Zealand<br>year=%{x}<br>lifeExp=%{y}<extra></extra>',\n",
       "              'legendgroup': 'New Zealand',\n",
       "              'marker': {'color': '#EF553B', 'symbol': 'circle'},\n",
       "              'mode': 'markers',\n",
       "              'name': 'New Zealand',\n",
       "              'orientation': 'v',\n",
       "              'showlegend': True,\n",
       "              'type': 'scatter',\n",
       "              'x': array([1952, 1957, 1962, 1967, 1972, 1977, 1982, 1987, 1992, 1997, 2002, 2007]),\n",
       "              'xaxis': 'x',\n",
       "              'y': array([69.39 , 70.26 , 71.24 , 71.52 , 71.89 , 72.22 , 73.84 , 74.32 , 76.33 ,\n",
       "                          77.55 , 79.11 , 80.204]),\n",
       "              'yaxis': 'y'}],\n",
       "    'layout': {'legend': {'title': {'text': 'country'}, 'tracegroupgap': 0},\n",
       "               'margin': {'t': 60},\n",
       "               'plot_bgcolor': 'rgb(255, 255, 255)',\n",
       "               'template': '...',\n",
       "               'xaxis': {'anchor': 'y',\n",
       "                         'domain': [0.0, 1.0],\n",
       "                         'gridcolor': 'rgb(217, 217, 217)',\n",
       "                         'showline': True,\n",
       "                         'title': {'text': 'year'}},\n",
       "               'yaxis': {'anchor': 'x',\n",
       "                         'domain': [0.0, 1.0],\n",
       "                         'gridcolor': 'rgb(217, 217, 217)',\n",
       "                         'showline': True,\n",
       "                         'title': {'text': 'lifeExp'}}}\n",
       "})"
      ]
     },
     "execution_count": 9,
     "metadata": {},
     "output_type": "execute_result"
    }
   ],
   "source": [
    "# Scatter\n",
    "df = px.data.gapminder().query(\"continent == 'Oceania'\")\n",
    "fig2 = px.scatter(df, x='year', y='lifeExp', color='country')\n",
    "fig2.update_layout(plot_bgcolor=\"rgb(255, 255, 255)\")\n",
    "fig2.update_yaxes(showline=True, gridcolor='rgb(217, 217, 217)')\n",
    "fig2.update_xaxes(showline=True, gridcolor='rgb(217, 217, 217)')\n",
    "fig2.write_html(\"/home/niko/Downloads/plotly_test_scatter.html\")\n",
    "fig2"
   ]
  },
  {
   "cell_type": "code",
   "execution_count": 14,
   "metadata": {},
   "outputs": [
    {
     "ename": "ValueError",
     "evalue": "Mime type rendering requires nbformat>=4.2.0 but it is not installed",
     "output_type": "error",
     "traceback": [
      "\u001b[0;31m---------------------------------------------------------------------------\u001b[0m",
      "\u001b[0;31mValueError\u001b[0m                                Traceback (most recent call last)",
      "File \u001b[0;32m~/code/plugin_dev/eis_testing/eis_venv_test/lib/python3.10/site-packages/IPython/core/formatters.py:920\u001b[0m, in \u001b[0;36mIPythonDisplayFormatter.__call__\u001b[0;34m(self, obj)\u001b[0m\n\u001b[1;32m    918\u001b[0m method \u001b[39m=\u001b[39m get_real_method(obj, \u001b[39mself\u001b[39m\u001b[39m.\u001b[39mprint_method)\n\u001b[1;32m    919\u001b[0m \u001b[39mif\u001b[39;00m method \u001b[39mis\u001b[39;00m \u001b[39mnot\u001b[39;00m \u001b[39mNone\u001b[39;00m:\n\u001b[0;32m--> 920\u001b[0m     method()\n\u001b[1;32m    921\u001b[0m     \u001b[39mreturn\u001b[39;00m \u001b[39mTrue\u001b[39;00m\n",
      "File \u001b[0;32m~/code/plugin_dev/eis_testing/eis_venv_test/lib/python3.10/site-packages/plotly/basedatatypes.py:834\u001b[0m, in \u001b[0;36mBaseFigure._ipython_display_\u001b[0;34m(self)\u001b[0m\n\u001b[1;32m    831\u001b[0m \u001b[39mimport\u001b[39;00m \u001b[39mplotly\u001b[39;00m\u001b[39m.\u001b[39;00m\u001b[39mio\u001b[39;00m \u001b[39mas\u001b[39;00m \u001b[39mpio\u001b[39;00m\n\u001b[1;32m    833\u001b[0m \u001b[39mif\u001b[39;00m pio\u001b[39m.\u001b[39mrenderers\u001b[39m.\u001b[39mrender_on_display \u001b[39mand\u001b[39;00m pio\u001b[39m.\u001b[39mrenderers\u001b[39m.\u001b[39mdefault:\n\u001b[0;32m--> 834\u001b[0m     pio\u001b[39m.\u001b[39;49mshow(\u001b[39mself\u001b[39;49m)\n\u001b[1;32m    835\u001b[0m \u001b[39melse\u001b[39;00m:\n\u001b[1;32m    836\u001b[0m     \u001b[39mprint\u001b[39m(\u001b[39mrepr\u001b[39m(\u001b[39mself\u001b[39m))\n",
      "File \u001b[0;32m~/code/plugin_dev/eis_testing/eis_venv_test/lib/python3.10/site-packages/plotly/io/_renderers.py:396\u001b[0m, in \u001b[0;36mshow\u001b[0;34m(fig, renderer, validate, **kwargs)\u001b[0m\n\u001b[1;32m    391\u001b[0m         \u001b[39mraise\u001b[39;00m \u001b[39mValueError\u001b[39;00m(\n\u001b[1;32m    392\u001b[0m             \u001b[39m\"\u001b[39m\u001b[39mMime type rendering requires ipython but it is not installed\u001b[39m\u001b[39m\"\u001b[39m\n\u001b[1;32m    393\u001b[0m         )\n\u001b[1;32m    395\u001b[0m     \u001b[39mif\u001b[39;00m \u001b[39mnot\u001b[39;00m nbformat \u001b[39mor\u001b[39;00m Version(nbformat\u001b[39m.\u001b[39m__version__) \u001b[39m<\u001b[39m Version(\u001b[39m\"\u001b[39m\u001b[39m4.2.0\u001b[39m\u001b[39m\"\u001b[39m):\n\u001b[0;32m--> 396\u001b[0m         \u001b[39mraise\u001b[39;00m \u001b[39mValueError\u001b[39;00m(\n\u001b[1;32m    397\u001b[0m             \u001b[39m\"\u001b[39m\u001b[39mMime type rendering requires nbformat>=4.2.0 but it is not installed\u001b[39m\u001b[39m\"\u001b[39m\n\u001b[1;32m    398\u001b[0m         )\n\u001b[1;32m    400\u001b[0m     ipython_display\u001b[39m.\u001b[39mdisplay(bundle, raw\u001b[39m=\u001b[39m\u001b[39mTrue\u001b[39;00m)\n\u001b[1;32m    402\u001b[0m \u001b[39m# external renderers\u001b[39;00m\n",
      "\u001b[0;31mValueError\u001b[0m: Mime type rendering requires nbformat>=4.2.0 but it is not installed"
     ]
    },
    {
     "data": {
      "application/vnd.plotly.v1+json": {
       "config": {
        "plotlyServerURL": "https://plot.ly"
       },
       "data": [
        {
         "alignmentgroup": "True",
         "bingroup": "x",
         "hovertemplate": "sex=Female<br>smoker=No<br>total_bill=%{x}<br>count=%{y}<extra></extra>",
         "legendgroup": "Female, No",
         "marker": {
          "color": "#636efa",
          "pattern": {
           "shape": ""
          }
         },
         "name": "Female, No",
         "offsetgroup": "Female, No",
         "orientation": "v",
         "showlegend": true,
         "type": "histogram",
         "x": [
          16.99,
          24.59,
          35.26,
          14.83,
          10.33,
          16.97,
          20.29,
          15.77,
          19.65,
          15.06,
          20.69,
          16.93,
          10.29,
          34.81,
          26.41,
          16.45,
          17.07,
          14.73,
          10.07,
          34.83,
          22.75,
          20.92,
          7.25,
          25.71,
          17.31,
          10.65,
          12.43,
          24.08,
          13.42,
          12.48,
          29.8,
          14.52,
          11.38,
          20.27,
          11.17,
          12.26,
          18.26,
          8.51,
          10.33,
          14.15,
          13.16,
          17.47,
          27.05,
          16.43,
          8.35,
          18.64,
          11.87,
          29.85,
          25,
          13.39,
          16.21,
          15.98,
          35.83,
          18.78
         ],
         "xaxis": "x",
         "yaxis": "y"
        },
        {
         "alignmentgroup": "True",
         "boxpoints": "all",
         "customdata": [
          [
           1.01,
           "Female",
           "No",
           "Sun",
           "Dinner",
           2
          ],
          [
           3.61,
           "Female",
           "No",
           "Sun",
           "Dinner",
           4
          ],
          [
           5,
           "Female",
           "No",
           "Sun",
           "Dinner",
           4
          ],
          [
           3.02,
           "Female",
           "No",
           "Sun",
           "Dinner",
           2
          ],
          [
           1.67,
           "Female",
           "No",
           "Sun",
           "Dinner",
           3
          ],
          [
           3.5,
           "Female",
           "No",
           "Sun",
           "Dinner",
           3
          ],
          [
           2.75,
           "Female",
           "No",
           "Sat",
           "Dinner",
           2
          ],
          [
           2.23,
           "Female",
           "No",
           "Sat",
           "Dinner",
           2
          ],
          [
           3,
           "Female",
           "No",
           "Sat",
           "Dinner",
           2
          ],
          [
           3,
           "Female",
           "No",
           "Sat",
           "Dinner",
           2
          ],
          [
           2.45,
           "Female",
           "No",
           "Sat",
           "Dinner",
           4
          ],
          [
           3.07,
           "Female",
           "No",
           "Sat",
           "Dinner",
           3
          ],
          [
           2.6,
           "Female",
           "No",
           "Sun",
           "Dinner",
           2
          ],
          [
           5.2,
           "Female",
           "No",
           "Sun",
           "Dinner",
           4
          ],
          [
           1.5,
           "Female",
           "No",
           "Sat",
           "Dinner",
           2
          ],
          [
           2.47,
           "Female",
           "No",
           "Sat",
           "Dinner",
           2
          ],
          [
           3,
           "Female",
           "No",
           "Sat",
           "Dinner",
           3
          ],
          [
           2.2,
           "Female",
           "No",
           "Sat",
           "Dinner",
           2
          ],
          [
           1.83,
           "Female",
           "No",
           "Thur",
           "Lunch",
           1
          ],
          [
           5.17,
           "Female",
           "No",
           "Thur",
           "Lunch",
           4
          ],
          [
           3.25,
           "Female",
           "No",
           "Fri",
           "Dinner",
           2
          ],
          [
           4.08,
           "Female",
           "No",
           "Sat",
           "Dinner",
           2
          ],
          [
           1,
           "Female",
           "No",
           "Sat",
           "Dinner",
           1
          ],
          [
           4,
           "Female",
           "No",
           "Sun",
           "Dinner",
           3
          ],
          [
           3.5,
           "Female",
           "No",
           "Sun",
           "Dinner",
           2
          ],
          [
           1.5,
           "Female",
           "No",
           "Thur",
           "Lunch",
           2
          ],
          [
           1.8,
           "Female",
           "No",
           "Thur",
           "Lunch",
           2
          ],
          [
           2.92,
           "Female",
           "No",
           "Thur",
           "Lunch",
           4
          ],
          [
           1.68,
           "Female",
           "No",
           "Thur",
           "Lunch",
           2
          ],
          [
           2.52,
           "Female",
           "No",
           "Thur",
           "Lunch",
           2
          ],
          [
           4.2,
           "Female",
           "No",
           "Thur",
           "Lunch",
           6
          ],
          [
           2,
           "Female",
           "No",
           "Thur",
           "Lunch",
           2
          ],
          [
           2,
           "Female",
           "No",
           "Thur",
           "Lunch",
           2
          ],
          [
           2.83,
           "Female",
           "No",
           "Thur",
           "Lunch",
           2
          ],
          [
           1.5,
           "Female",
           "No",
           "Thur",
           "Lunch",
           2
          ],
          [
           2,
           "Female",
           "No",
           "Thur",
           "Lunch",
           2
          ],
          [
           3.25,
           "Female",
           "No",
           "Thur",
           "Lunch",
           2
          ],
          [
           1.25,
           "Female",
           "No",
           "Thur",
           "Lunch",
           2
          ],
          [
           2,
           "Female",
           "No",
           "Thur",
           "Lunch",
           2
          ],
          [
           2,
           "Female",
           "No",
           "Thur",
           "Lunch",
           2
          ],
          [
           2.75,
           "Female",
           "No",
           "Thur",
           "Lunch",
           2
          ],
          [
           3.5,
           "Female",
           "No",
           "Thur",
           "Lunch",
           2
          ],
          [
           5,
           "Female",
           "No",
           "Thur",
           "Lunch",
           6
          ],
          [
           2.3,
           "Female",
           "No",
           "Thur",
           "Lunch",
           2
          ],
          [
           1.5,
           "Female",
           "No",
           "Thur",
           "Lunch",
           2
          ],
          [
           1.36,
           "Female",
           "No",
           "Thur",
           "Lunch",
           3
          ],
          [
           1.63,
           "Female",
           "No",
           "Thur",
           "Lunch",
           2
          ],
          [
           5.14,
           "Female",
           "No",
           "Sun",
           "Dinner",
           5
          ],
          [
           3.75,
           "Female",
           "No",
           "Sun",
           "Dinner",
           4
          ],
          [
           2.61,
           "Female",
           "No",
           "Sun",
           "Dinner",
           2
          ],
          [
           2,
           "Female",
           "No",
           "Sun",
           "Dinner",
           3
          ],
          [
           3,
           "Female",
           "No",
           "Fri",
           "Lunch",
           3
          ],
          [
           4.67,
           "Female",
           "No",
           "Sat",
           "Dinner",
           3
          ],
          [
           3,
           "Female",
           "No",
           "Thur",
           "Dinner",
           2
          ]
         ],
         "fillcolor": "rgba(255,255,255,0)",
         "hoveron": "points",
         "hovertemplate": "sex=%{customdata[1]}<br>smoker=%{customdata[2]}<br>total_bill=%{x}<br>tip=%{customdata[0]}<br>day=%{customdata[3]}<br>time=%{customdata[4]}<br>size=%{customdata[5]}<extra></extra>",
         "jitter": 0,
         "legendgroup": "Female, No",
         "line": {
          "color": "rgba(255,255,255,0)"
         },
         "marker": {
          "color": "#636efa",
          "symbol": "line-ns-open"
         },
         "name": "Female, No",
         "offsetgroup": "Female, No",
         "showlegend": false,
         "type": "box",
         "x": [
          16.99,
          24.59,
          35.26,
          14.83,
          10.33,
          16.97,
          20.29,
          15.77,
          19.65,
          15.06,
          20.69,
          16.93,
          10.29,
          34.81,
          26.41,
          16.45,
          17.07,
          14.73,
          10.07,
          34.83,
          22.75,
          20.92,
          7.25,
          25.71,
          17.31,
          10.65,
          12.43,
          24.08,
          13.42,
          12.48,
          29.8,
          14.52,
          11.38,
          20.27,
          11.17,
          12.26,
          18.26,
          8.51,
          10.33,
          14.15,
          13.16,
          17.47,
          27.05,
          16.43,
          8.35,
          18.64,
          11.87,
          29.85,
          25,
          13.39,
          16.21,
          15.98,
          35.83,
          18.78
         ],
         "xaxis": "x2",
         "yaxis": "y2"
        },
        {
         "alignmentgroup": "True",
         "bingroup": "x",
         "hovertemplate": "sex=Female<br>smoker=Yes<br>total_bill=%{x}<br>count=%{y}<extra></extra>",
         "legendgroup": "Female, Yes",
         "marker": {
          "color": "#636efa",
          "pattern": {
           "shape": "/"
          }
         },
         "name": "Female, Yes",
         "offsetgroup": "Female, Yes",
         "orientation": "v",
         "showlegend": true,
         "type": "histogram",
         "x": [
          3.07,
          26.86,
          25.28,
          5.75,
          16.32,
          11.35,
          15.38,
          44.3,
          22.42,
          14.31,
          17.51,
          10.59,
          10.63,
          9.6,
          20.9,
          18.15,
          19.81,
          43.11,
          13,
          12.74,
          13,
          16.4,
          16.47,
          12.76,
          13.27,
          28.17,
          12.9,
          30.14,
          13.42,
          16.27,
          10.09,
          22.12,
          27.18
         ],
         "xaxis": "x",
         "yaxis": "y"
        },
        {
         "alignmentgroup": "True",
         "boxpoints": "all",
         "customdata": [
          [
           1,
           "Female",
           "Yes",
           "Sat",
           "Dinner",
           1
          ],
          [
           3.14,
           "Female",
           "Yes",
           "Sat",
           "Dinner",
           2
          ],
          [
           5,
           "Female",
           "Yes",
           "Sat",
           "Dinner",
           2
          ],
          [
           1,
           "Female",
           "Yes",
           "Fri",
           "Dinner",
           2
          ],
          [
           4.3,
           "Female",
           "Yes",
           "Fri",
           "Dinner",
           2
          ],
          [
           2.5,
           "Female",
           "Yes",
           "Fri",
           "Dinner",
           2
          ],
          [
           3,
           "Female",
           "Yes",
           "Fri",
           "Dinner",
           2
          ],
          [
           2.5,
           "Female",
           "Yes",
           "Sat",
           "Dinner",
           3
          ],
          [
           3.48,
           "Female",
           "Yes",
           "Sat",
           "Dinner",
           2
          ],
          [
           4,
           "Female",
           "Yes",
           "Sat",
           "Dinner",
           2
          ],
          [
           3,
           "Female",
           "Yes",
           "Sun",
           "Dinner",
           2
          ],
          [
           1.61,
           "Female",
           "Yes",
           "Sat",
           "Dinner",
           2
          ],
          [
           2,
           "Female",
           "Yes",
           "Sat",
           "Dinner",
           2
          ],
          [
           4,
           "Female",
           "Yes",
           "Sun",
           "Dinner",
           2
          ],
          [
           3.5,
           "Female",
           "Yes",
           "Sun",
           "Dinner",
           3
          ],
          [
           3.5,
           "Female",
           "Yes",
           "Sun",
           "Dinner",
           3
          ],
          [
           4.19,
           "Female",
           "Yes",
           "Thur",
           "Lunch",
           2
          ],
          [
           5,
           "Female",
           "Yes",
           "Thur",
           "Lunch",
           4
          ],
          [
           2,
           "Female",
           "Yes",
           "Thur",
           "Lunch",
           2
          ],
          [
           2.01,
           "Female",
           "Yes",
           "Thur",
           "Lunch",
           2
          ],
          [
           2,
           "Female",
           "Yes",
           "Thur",
           "Lunch",
           2
          ],
          [
           2.5,
           "Female",
           "Yes",
           "Thur",
           "Lunch",
           2
          ],
          [
           3.23,
           "Female",
           "Yes",
           "Thur",
           "Lunch",
           3
          ],
          [
           2.23,
           "Female",
           "Yes",
           "Sat",
           "Dinner",
           2
          ],
          [
           2.5,
           "Female",
           "Yes",
           "Sat",
           "Dinner",
           2
          ],
          [
           6.5,
           "Female",
           "Yes",
           "Sat",
           "Dinner",
           3
          ],
          [
           1.1,
           "Female",
           "Yes",
           "Sat",
           "Dinner",
           2
          ],
          [
           3.09,
           "Female",
           "Yes",
           "Sat",
           "Dinner",
           4
          ],
          [
           3.48,
           "Female",
           "Yes",
           "Fri",
           "Lunch",
           2
          ],
          [
           2.5,
           "Female",
           "Yes",
           "Fri",
           "Lunch",
           2
          ],
          [
           2,
           "Female",
           "Yes",
           "Fri",
           "Lunch",
           2
          ],
          [
           2.88,
           "Female",
           "Yes",
           "Sat",
           "Dinner",
           2
          ],
          [
           2,
           "Female",
           "Yes",
           "Sat",
           "Dinner",
           2
          ]
         ],
         "fillcolor": "rgba(255,255,255,0)",
         "hoveron": "points",
         "hovertemplate": "sex=%{customdata[1]}<br>smoker=%{customdata[2]}<br>total_bill=%{x}<br>tip=%{customdata[0]}<br>day=%{customdata[3]}<br>time=%{customdata[4]}<br>size=%{customdata[5]}<extra></extra>",
         "jitter": 0,
         "legendgroup": "Female, Yes",
         "line": {
          "color": "rgba(255,255,255,0)"
         },
         "marker": {
          "color": "#636efa",
          "symbol": "line-ns-open"
         },
         "name": "Female, Yes",
         "offsetgroup": "Female, Yes",
         "showlegend": false,
         "type": "box",
         "x": [
          3.07,
          26.86,
          25.28,
          5.75,
          16.32,
          11.35,
          15.38,
          44.3,
          22.42,
          14.31,
          17.51,
          10.59,
          10.63,
          9.6,
          20.9,
          18.15,
          19.81,
          43.11,
          13,
          12.74,
          13,
          16.4,
          16.47,
          12.76,
          13.27,
          28.17,
          12.9,
          30.14,
          13.42,
          16.27,
          10.09,
          22.12,
          27.18
         ],
         "xaxis": "x2",
         "yaxis": "y2"
        },
        {
         "alignmentgroup": "True",
         "bingroup": "x",
         "hovertemplate": "sex=Male<br>smoker=No<br>total_bill=%{x}<br>count=%{y}<extra></extra>",
         "legendgroup": "Male, No",
         "marker": {
          "color": "#EF553B",
          "pattern": {
           "shape": ""
          }
         },
         "name": "Male, No",
         "offsetgroup": "Male, No",
         "orientation": "v",
         "showlegend": true,
         "type": "histogram",
         "x": [
          10.34,
          21.01,
          23.68,
          25.29,
          8.77,
          26.88,
          15.04,
          14.78,
          10.27,
          15.42,
          18.43,
          21.58,
          16.29,
          20.65,
          17.92,
          39.42,
          19.82,
          17.81,
          13.37,
          12.69,
          21.7,
          9.55,
          18.35,
          17.78,
          24.06,
          16.31,
          18.69,
          31.27,
          16.04,
          17.46,
          13.94,
          9.68,
          30.4,
          18.29,
          22.23,
          32.4,
          28.55,
          18.04,
          12.54,
          9.94,
          25.56,
          19.49,
          48.27,
          17.59,
          20.08,
          20.23,
          12.02,
          10.51,
          27.2,
          22.76,
          17.29,
          16.66,
          15.98,
          13.03,
          18.28,
          24.71,
          21.16,
          22.49,
          12.46,
          18.24,
          14,
          38.07,
          23.95,
          29.93,
          11.69,
          14.26,
          15.95,
          8.52,
          22.82,
          19.08,
          34.3,
          41.19,
          9.78,
          7.51,
          14.07,
          13.13,
          17.26,
          24.55,
          19.77,
          48.17,
          16.49,
          21.5,
          12.66,
          13.81,
          24.52,
          20.76,
          31.71,
          20.69,
          7.56,
          48.33,
          20.45,
          13.28,
          11.61,
          10.77,
          10.07,
          29.03,
          17.82
         ],
         "xaxis": "x",
         "yaxis": "y"
        },
        {
         "alignmentgroup": "True",
         "boxpoints": "all",
         "customdata": [
          [
           1.66,
           "Male",
           "No",
           "Sun",
           "Dinner",
           3
          ],
          [
           3.5,
           "Male",
           "No",
           "Sun",
           "Dinner",
           3
          ],
          [
           3.31,
           "Male",
           "No",
           "Sun",
           "Dinner",
           2
          ],
          [
           4.71,
           "Male",
           "No",
           "Sun",
           "Dinner",
           4
          ],
          [
           2,
           "Male",
           "No",
           "Sun",
           "Dinner",
           2
          ],
          [
           3.12,
           "Male",
           "No",
           "Sun",
           "Dinner",
           4
          ],
          [
           1.96,
           "Male",
           "No",
           "Sun",
           "Dinner",
           2
          ],
          [
           3.23,
           "Male",
           "No",
           "Sun",
           "Dinner",
           2
          ],
          [
           1.71,
           "Male",
           "No",
           "Sun",
           "Dinner",
           2
          ],
          [
           1.57,
           "Male",
           "No",
           "Sun",
           "Dinner",
           2
          ],
          [
           3,
           "Male",
           "No",
           "Sun",
           "Dinner",
           4
          ],
          [
           3.92,
           "Male",
           "No",
           "Sun",
           "Dinner",
           2
          ],
          [
           3.71,
           "Male",
           "No",
           "Sun",
           "Dinner",
           3
          ],
          [
           3.35,
           "Male",
           "No",
           "Sat",
           "Dinner",
           3
          ],
          [
           4.08,
           "Male",
           "No",
           "Sat",
           "Dinner",
           2
          ],
          [
           7.58,
           "Male",
           "No",
           "Sat",
           "Dinner",
           4
          ],
          [
           3.18,
           "Male",
           "No",
           "Sat",
           "Dinner",
           2
          ],
          [
           2.34,
           "Male",
           "No",
           "Sat",
           "Dinner",
           4
          ],
          [
           2,
           "Male",
           "No",
           "Sat",
           "Dinner",
           2
          ],
          [
           2,
           "Male",
           "No",
           "Sat",
           "Dinner",
           2
          ],
          [
           4.3,
           "Male",
           "No",
           "Sat",
           "Dinner",
           2
          ],
          [
           1.45,
           "Male",
           "No",
           "Sat",
           "Dinner",
           2
          ],
          [
           2.5,
           "Male",
           "No",
           "Sat",
           "Dinner",
           4
          ],
          [
           3.27,
           "Male",
           "No",
           "Sat",
           "Dinner",
           2
          ],
          [
           3.6,
           "Male",
           "No",
           "Sat",
           "Dinner",
           3
          ],
          [
           2,
           "Male",
           "No",
           "Sat",
           "Dinner",
           3
          ],
          [
           2.31,
           "Male",
           "No",
           "Sat",
           "Dinner",
           3
          ],
          [
           5,
           "Male",
           "No",
           "Sat",
           "Dinner",
           3
          ],
          [
           2.24,
           "Male",
           "No",
           "Sat",
           "Dinner",
           3
          ],
          [
           2.54,
           "Male",
           "No",
           "Sun",
           "Dinner",
           2
          ],
          [
           3.06,
           "Male",
           "No",
           "Sun",
           "Dinner",
           2
          ],
          [
           1.32,
           "Male",
           "No",
           "Sun",
           "Dinner",
           2
          ],
          [
           5.6,
           "Male",
           "No",
           "Sun",
           "Dinner",
           4
          ],
          [
           3,
           "Male",
           "No",
           "Sun",
           "Dinner",
           2
          ],
          [
           5,
           "Male",
           "No",
           "Sun",
           "Dinner",
           2
          ],
          [
           6,
           "Male",
           "No",
           "Sun",
           "Dinner",
           4
          ],
          [
           2.05,
           "Male",
           "No",
           "Sun",
           "Dinner",
           3
          ],
          [
           3,
           "Male",
           "No",
           "Sun",
           "Dinner",
           2
          ],
          [
           2.5,
           "Male",
           "No",
           "Sun",
           "Dinner",
           2
          ],
          [
           1.56,
           "Male",
           "No",
           "Sun",
           "Dinner",
           2
          ],
          [
           4.34,
           "Male",
           "No",
           "Sun",
           "Dinner",
           4
          ],
          [
           3.51,
           "Male",
           "No",
           "Sun",
           "Dinner",
           2
          ],
          [
           6.73,
           "Male",
           "No",
           "Sat",
           "Dinner",
           4
          ],
          [
           2.64,
           "Male",
           "No",
           "Sat",
           "Dinner",
           3
          ],
          [
           3.15,
           "Male",
           "No",
           "Sat",
           "Dinner",
           3
          ],
          [
           2.01,
           "Male",
           "No",
           "Sat",
           "Dinner",
           2
          ],
          [
           1.97,
           "Male",
           "No",
           "Sat",
           "Dinner",
           2
          ],
          [
           1.25,
           "Male",
           "No",
           "Sat",
           "Dinner",
           2
          ],
          [
           4,
           "Male",
           "No",
           "Thur",
           "Lunch",
           4
          ],
          [
           3,
           "Male",
           "No",
           "Thur",
           "Lunch",
           2
          ],
          [
           2.71,
           "Male",
           "No",
           "Thur",
           "Lunch",
           2
          ],
          [
           3.4,
           "Male",
           "No",
           "Thur",
           "Lunch",
           2
          ],
          [
           2.03,
           "Male",
           "No",
           "Thur",
           "Lunch",
           2
          ],
          [
           2,
           "Male",
           "No",
           "Thur",
           "Lunch",
           2
          ],
          [
           4,
           "Male",
           "No",
           "Thur",
           "Lunch",
           2
          ],
          [
           5.85,
           "Male",
           "No",
           "Thur",
           "Lunch",
           2
          ],
          [
           3,
           "Male",
           "No",
           "Thur",
           "Lunch",
           2
          ],
          [
           3.5,
           "Male",
           "No",
           "Fri",
           "Dinner",
           2
          ],
          [
           1.5,
           "Male",
           "No",
           "Fri",
           "Dinner",
           2
          ],
          [
           3.76,
           "Male",
           "No",
           "Sat",
           "Dinner",
           2
          ],
          [
           3,
           "Male",
           "No",
           "Sat",
           "Dinner",
           2
          ],
          [
           4,
           "Male",
           "No",
           "Sun",
           "Dinner",
           3
          ],
          [
           2.55,
           "Male",
           "No",
           "Sun",
           "Dinner",
           2
          ],
          [
           5.07,
           "Male",
           "No",
           "Sun",
           "Dinner",
           4
          ],
          [
           2.31,
           "Male",
           "No",
           "Thur",
           "Lunch",
           2
          ],
          [
           2.5,
           "Male",
           "No",
           "Thur",
           "Lunch",
           2
          ],
          [
           2,
           "Male",
           "No",
           "Thur",
           "Lunch",
           2
          ],
          [
           1.48,
           "Male",
           "No",
           "Thur",
           "Lunch",
           2
          ],
          [
           2.18,
           "Male",
           "No",
           "Thur",
           "Lunch",
           3
          ],
          [
           1.5,
           "Male",
           "No",
           "Thur",
           "Lunch",
           2
          ],
          [
           6.7,
           "Male",
           "No",
           "Thur",
           "Lunch",
           6
          ],
          [
           5,
           "Male",
           "No",
           "Thur",
           "Lunch",
           5
          ],
          [
           1.73,
           "Male",
           "No",
           "Thur",
           "Lunch",
           2
          ],
          [
           2,
           "Male",
           "No",
           "Thur",
           "Lunch",
           2
          ],
          [
           2.5,
           "Male",
           "No",
           "Sun",
           "Dinner",
           2
          ],
          [
           2,
           "Male",
           "No",
           "Sun",
           "Dinner",
           2
          ],
          [
           2.74,
           "Male",
           "No",
           "Sun",
           "Dinner",
           3
          ],
          [
           2,
           "Male",
           "No",
           "Sun",
           "Dinner",
           4
          ],
          [
           2,
           "Male",
           "No",
           "Sun",
           "Dinner",
           4
          ],
          [
           5,
           "Male",
           "No",
           "Sun",
           "Dinner",
           6
          ],
          [
           2,
           "Male",
           "No",
           "Sun",
           "Dinner",
           4
          ],
          [
           3.5,
           "Male",
           "No",
           "Sun",
           "Dinner",
           4
          ],
          [
           2.5,
           "Male",
           "No",
           "Sun",
           "Dinner",
           2
          ],
          [
           2,
           "Male",
           "No",
           "Sun",
           "Dinner",
           2
          ],
          [
           3.48,
           "Male",
           "No",
           "Sun",
           "Dinner",
           3
          ],
          [
           2.24,
           "Male",
           "No",
           "Sun",
           "Dinner",
           2
          ],
          [
           4.5,
           "Male",
           "No",
           "Sun",
           "Dinner",
           4
          ],
          [
           5,
           "Male",
           "No",
           "Sun",
           "Dinner",
           5
          ],
          [
           1.44,
           "Male",
           "No",
           "Thur",
           "Lunch",
           2
          ],
          [
           9,
           "Male",
           "No",
           "Sat",
           "Dinner",
           4
          ],
          [
           3,
           "Male",
           "No",
           "Sat",
           "Dinner",
           4
          ],
          [
           2.72,
           "Male",
           "No",
           "Sat",
           "Dinner",
           2
          ],
          [
           3.39,
           "Male",
           "No",
           "Sat",
           "Dinner",
           2
          ],
          [
           1.47,
           "Male",
           "No",
           "Sat",
           "Dinner",
           2
          ],
          [
           1.25,
           "Male",
           "No",
           "Sat",
           "Dinner",
           2
          ],
          [
           5.92,
           "Male",
           "No",
           "Sat",
           "Dinner",
           3
          ],
          [
           1.75,
           "Male",
           "No",
           "Sat",
           "Dinner",
           2
          ]
         ],
         "fillcolor": "rgba(255,255,255,0)",
         "hoveron": "points",
         "hovertemplate": "sex=%{customdata[1]}<br>smoker=%{customdata[2]}<br>total_bill=%{x}<br>tip=%{customdata[0]}<br>day=%{customdata[3]}<br>time=%{customdata[4]}<br>size=%{customdata[5]}<extra></extra>",
         "jitter": 0,
         "legendgroup": "Male, No",
         "line": {
          "color": "rgba(255,255,255,0)"
         },
         "marker": {
          "color": "#EF553B",
          "symbol": "line-ns-open"
         },
         "name": "Male, No",
         "offsetgroup": "Male, No",
         "showlegend": false,
         "type": "box",
         "x": [
          10.34,
          21.01,
          23.68,
          25.29,
          8.77,
          26.88,
          15.04,
          14.78,
          10.27,
          15.42,
          18.43,
          21.58,
          16.29,
          20.65,
          17.92,
          39.42,
          19.82,
          17.81,
          13.37,
          12.69,
          21.7,
          9.55,
          18.35,
          17.78,
          24.06,
          16.31,
          18.69,
          31.27,
          16.04,
          17.46,
          13.94,
          9.68,
          30.4,
          18.29,
          22.23,
          32.4,
          28.55,
          18.04,
          12.54,
          9.94,
          25.56,
          19.49,
          48.27,
          17.59,
          20.08,
          20.23,
          12.02,
          10.51,
          27.2,
          22.76,
          17.29,
          16.66,
          15.98,
          13.03,
          18.28,
          24.71,
          21.16,
          22.49,
          12.46,
          18.24,
          14,
          38.07,
          23.95,
          29.93,
          11.69,
          14.26,
          15.95,
          8.52,
          22.82,
          19.08,
          34.3,
          41.19,
          9.78,
          7.51,
          14.07,
          13.13,
          17.26,
          24.55,
          19.77,
          48.17,
          16.49,
          21.5,
          12.66,
          13.81,
          24.52,
          20.76,
          31.71,
          20.69,
          7.56,
          48.33,
          20.45,
          13.28,
          11.61,
          10.77,
          10.07,
          29.03,
          17.82
         ],
         "xaxis": "x2",
         "yaxis": "y2"
        },
        {
         "alignmentgroup": "True",
         "bingroup": "x",
         "hovertemplate": "sex=Male<br>smoker=Yes<br>total_bill=%{x}<br>count=%{y}<extra></extra>",
         "legendgroup": "Male, Yes",
         "marker": {
          "color": "#EF553B",
          "pattern": {
           "shape": "/"
          }
         },
         "name": "Male, Yes",
         "offsetgroup": "Male, Yes",
         "orientation": "v",
         "showlegend": true,
         "type": "histogram",
         "x": [
          38.01,
          11.24,
          20.29,
          13.81,
          11.02,
          18.29,
          15.01,
          17.92,
          19.44,
          32.68,
          28.97,
          40.17,
          27.28,
          12.03,
          21.01,
          15.36,
          20.49,
          25.21,
          16,
          50.81,
          15.81,
          7.25,
          31.85,
          16.82,
          32.9,
          17.89,
          14.48,
          34.63,
          34.65,
          23.33,
          45.35,
          23.17,
          40.55,
          30.46,
          23.1,
          15.69,
          28.44,
          15.48,
          16.58,
          10.34,
          13.51,
          18.71,
          20.53,
          26.59,
          38.73,
          24.27,
          30.06,
          25.89,
          28.15,
          11.59,
          7.74,
          12.16,
          8.58,
          13.42,
          24.01,
          15.69,
          15.53,
          12.6,
          32.83,
          22.67
         ],
         "xaxis": "x",
         "yaxis": "y"
        },
        {
         "alignmentgroup": "True",
         "boxpoints": "all",
         "customdata": [
          [
           3,
           "Male",
           "Yes",
           "Sat",
           "Dinner",
           4
          ],
          [
           1.76,
           "Male",
           "Yes",
           "Sat",
           "Dinner",
           2
          ],
          [
           3.21,
           "Male",
           "Yes",
           "Sat",
           "Dinner",
           2
          ],
          [
           2,
           "Male",
           "Yes",
           "Sat",
           "Dinner",
           2
          ],
          [
           1.98,
           "Male",
           "Yes",
           "Sat",
           "Dinner",
           2
          ],
          [
           3.76,
           "Male",
           "Yes",
           "Sat",
           "Dinner",
           4
          ],
          [
           2.09,
           "Male",
           "Yes",
           "Sat",
           "Dinner",
           2
          ],
          [
           3.08,
           "Male",
           "Yes",
           "Sat",
           "Dinner",
           2
          ],
          [
           3,
           "Male",
           "Yes",
           "Thur",
           "Lunch",
           2
          ],
          [
           5,
           "Male",
           "Yes",
           "Thur",
           "Lunch",
           2
          ],
          [
           3,
           "Male",
           "Yes",
           "Fri",
           "Dinner",
           2
          ],
          [
           4.73,
           "Male",
           "Yes",
           "Fri",
           "Dinner",
           4
          ],
          [
           4,
           "Male",
           "Yes",
           "Fri",
           "Dinner",
           2
          ],
          [
           1.5,
           "Male",
           "Yes",
           "Fri",
           "Dinner",
           2
          ],
          [
           3,
           "Male",
           "Yes",
           "Fri",
           "Dinner",
           2
          ],
          [
           1.64,
           "Male",
           "Yes",
           "Sat",
           "Dinner",
           2
          ],
          [
           4.06,
           "Male",
           "Yes",
           "Sat",
           "Dinner",
           2
          ],
          [
           4.29,
           "Male",
           "Yes",
           "Sat",
           "Dinner",
           2
          ],
          [
           2,
           "Male",
           "Yes",
           "Thur",
           "Lunch",
           2
          ],
          [
           10,
           "Male",
           "Yes",
           "Sat",
           "Dinner",
           3
          ],
          [
           3.16,
           "Male",
           "Yes",
           "Sat",
           "Dinner",
           2
          ],
          [
           5.15,
           "Male",
           "Yes",
           "Sun",
           "Dinner",
           2
          ],
          [
           3.18,
           "Male",
           "Yes",
           "Sun",
           "Dinner",
           2
          ],
          [
           4,
           "Male",
           "Yes",
           "Sun",
           "Dinner",
           2
          ],
          [
           3.11,
           "Male",
           "Yes",
           "Sun",
           "Dinner",
           2
          ],
          [
           2,
           "Male",
           "Yes",
           "Sun",
           "Dinner",
           2
          ],
          [
           2,
           "Male",
           "Yes",
           "Sun",
           "Dinner",
           2
          ],
          [
           3.55,
           "Male",
           "Yes",
           "Sun",
           "Dinner",
           2
          ],
          [
           3.68,
           "Male",
           "Yes",
           "Sun",
           "Dinner",
           4
          ],
          [
           5.65,
           "Male",
           "Yes",
           "Sun",
           "Dinner",
           2
          ],
          [
           3.5,
           "Male",
           "Yes",
           "Sun",
           "Dinner",
           3
          ],
          [
           6.5,
           "Male",
           "Yes",
           "Sun",
           "Dinner",
           4
          ],
          [
           3,
           "Male",
           "Yes",
           "Sun",
           "Dinner",
           2
          ],
          [
           2,
           "Male",
           "Yes",
           "Sun",
           "Dinner",
           5
          ],
          [
           4,
           "Male",
           "Yes",
           "Sun",
           "Dinner",
           3
          ],
          [
           1.5,
           "Male",
           "Yes",
           "Sun",
           "Dinner",
           2
          ],
          [
           2.56,
           "Male",
           "Yes",
           "Thur",
           "Lunch",
           2
          ],
          [
           2.02,
           "Male",
           "Yes",
           "Thur",
           "Lunch",
           2
          ],
          [
           4,
           "Male",
           "Yes",
           "Thur",
           "Lunch",
           2
          ],
          [
           2,
           "Male",
           "Yes",
           "Thur",
           "Lunch",
           2
          ],
          [
           2,
           "Male",
           "Yes",
           "Thur",
           "Lunch",
           2
          ],
          [
           4,
           "Male",
           "Yes",
           "Thur",
           "Lunch",
           3
          ],
          [
           4,
           "Male",
           "Yes",
           "Thur",
           "Lunch",
           4
          ],
          [
           3.41,
           "Male",
           "Yes",
           "Sat",
           "Dinner",
           3
          ],
          [
           3,
           "Male",
           "Yes",
           "Sat",
           "Dinner",
           4
          ],
          [
           2.03,
           "Male",
           "Yes",
           "Sat",
           "Dinner",
           2
          ],
          [
           2,
           "Male",
           "Yes",
           "Sat",
           "Dinner",
           3
          ],
          [
           5.16,
           "Male",
           "Yes",
           "Sat",
           "Dinner",
           4
          ],
          [
           3,
           "Male",
           "Yes",
           "Sat",
           "Dinner",
           5
          ],
          [
           1.5,
           "Male",
           "Yes",
           "Sat",
           "Dinner",
           2
          ],
          [
           1.44,
           "Male",
           "Yes",
           "Sat",
           "Dinner",
           2
          ],
          [
           2.2,
           "Male",
           "Yes",
           "Fri",
           "Lunch",
           2
          ],
          [
           1.92,
           "Male",
           "Yes",
           "Fri",
           "Lunch",
           1
          ],
          [
           1.58,
           "Male",
           "Yes",
           "Fri",
           "Lunch",
           2
          ],
          [
           2,
           "Male",
           "Yes",
           "Sat",
           "Dinner",
           4
          ],
          [
           3,
           "Male",
           "Yes",
           "Sat",
           "Dinner",
           3
          ],
          [
           3,
           "Male",
           "Yes",
           "Sat",
           "Dinner",
           2
          ],
          [
           1,
           "Male",
           "Yes",
           "Sat",
           "Dinner",
           2
          ],
          [
           1.17,
           "Male",
           "Yes",
           "Sat",
           "Dinner",
           2
          ],
          [
           2,
           "Male",
           "Yes",
           "Sat",
           "Dinner",
           2
          ]
         ],
         "fillcolor": "rgba(255,255,255,0)",
         "hoveron": "points",
         "hovertemplate": "sex=%{customdata[1]}<br>smoker=%{customdata[2]}<br>total_bill=%{x}<br>tip=%{customdata[0]}<br>day=%{customdata[3]}<br>time=%{customdata[4]}<br>size=%{customdata[5]}<extra></extra>",
         "jitter": 0,
         "legendgroup": "Male, Yes",
         "line": {
          "color": "rgba(255,255,255,0)"
         },
         "marker": {
          "color": "#EF553B",
          "symbol": "line-ns-open"
         },
         "name": "Male, Yes",
         "offsetgroup": "Male, Yes",
         "showlegend": false,
         "type": "box",
         "x": [
          38.01,
          11.24,
          20.29,
          13.81,
          11.02,
          18.29,
          15.01,
          17.92,
          19.44,
          32.68,
          28.97,
          40.17,
          27.28,
          12.03,
          21.01,
          15.36,
          20.49,
          25.21,
          16,
          50.81,
          15.81,
          7.25,
          31.85,
          16.82,
          32.9,
          17.89,
          14.48,
          34.63,
          34.65,
          23.33,
          45.35,
          23.17,
          40.55,
          30.46,
          23.1,
          15.69,
          28.44,
          15.48,
          16.58,
          10.34,
          13.51,
          18.71,
          20.53,
          26.59,
          38.73,
          24.27,
          30.06,
          25.89,
          28.15,
          11.59,
          7.74,
          12.16,
          8.58,
          13.42,
          24.01,
          15.69,
          15.53,
          12.6,
          32.83,
          22.67
         ],
         "xaxis": "x2",
         "yaxis": "y2"
        }
       ],
       "layout": {
        "barmode": "relative",
        "legend": {
         "title": {
          "text": "sex, smoker"
         },
         "tracegroupgap": 0
        },
        "margin": {
         "t": 60
        },
        "template": {
         "data": {
          "bar": [
           {
            "error_x": {
             "color": "#2a3f5f"
            },
            "error_y": {
             "color": "#2a3f5f"
            },
            "marker": {
             "line": {
              "color": "#E5ECF6",
              "width": 0.5
             },
             "pattern": {
              "fillmode": "overlay",
              "size": 10,
              "solidity": 0.2
             }
            },
            "type": "bar"
           }
          ],
          "barpolar": [
           {
            "marker": {
             "line": {
              "color": "#E5ECF6",
              "width": 0.5
             },
             "pattern": {
              "fillmode": "overlay",
              "size": 10,
              "solidity": 0.2
             }
            },
            "type": "barpolar"
           }
          ],
          "carpet": [
           {
            "aaxis": {
             "endlinecolor": "#2a3f5f",
             "gridcolor": "white",
             "linecolor": "white",
             "minorgridcolor": "white",
             "startlinecolor": "#2a3f5f"
            },
            "baxis": {
             "endlinecolor": "#2a3f5f",
             "gridcolor": "white",
             "linecolor": "white",
             "minorgridcolor": "white",
             "startlinecolor": "#2a3f5f"
            },
            "type": "carpet"
           }
          ],
          "choropleth": [
           {
            "colorbar": {
             "outlinewidth": 0,
             "ticks": ""
            },
            "type": "choropleth"
           }
          ],
          "contour": [
           {
            "colorbar": {
             "outlinewidth": 0,
             "ticks": ""
            },
            "colorscale": [
             [
              0,
              "#0d0887"
             ],
             [
              0.1111111111111111,
              "#46039f"
             ],
             [
              0.2222222222222222,
              "#7201a8"
             ],
             [
              0.3333333333333333,
              "#9c179e"
             ],
             [
              0.4444444444444444,
              "#bd3786"
             ],
             [
              0.5555555555555556,
              "#d8576b"
             ],
             [
              0.6666666666666666,
              "#ed7953"
             ],
             [
              0.7777777777777778,
              "#fb9f3a"
             ],
             [
              0.8888888888888888,
              "#fdca26"
             ],
             [
              1,
              "#f0f921"
             ]
            ],
            "type": "contour"
           }
          ],
          "contourcarpet": [
           {
            "colorbar": {
             "outlinewidth": 0,
             "ticks": ""
            },
            "type": "contourcarpet"
           }
          ],
          "heatmap": [
           {
            "colorbar": {
             "outlinewidth": 0,
             "ticks": ""
            },
            "colorscale": [
             [
              0,
              "#0d0887"
             ],
             [
              0.1111111111111111,
              "#46039f"
             ],
             [
              0.2222222222222222,
              "#7201a8"
             ],
             [
              0.3333333333333333,
              "#9c179e"
             ],
             [
              0.4444444444444444,
              "#bd3786"
             ],
             [
              0.5555555555555556,
              "#d8576b"
             ],
             [
              0.6666666666666666,
              "#ed7953"
             ],
             [
              0.7777777777777778,
              "#fb9f3a"
             ],
             [
              0.8888888888888888,
              "#fdca26"
             ],
             [
              1,
              "#f0f921"
             ]
            ],
            "type": "heatmap"
           }
          ],
          "heatmapgl": [
           {
            "colorbar": {
             "outlinewidth": 0,
             "ticks": ""
            },
            "colorscale": [
             [
              0,
              "#0d0887"
             ],
             [
              0.1111111111111111,
              "#46039f"
             ],
             [
              0.2222222222222222,
              "#7201a8"
             ],
             [
              0.3333333333333333,
              "#9c179e"
             ],
             [
              0.4444444444444444,
              "#bd3786"
             ],
             [
              0.5555555555555556,
              "#d8576b"
             ],
             [
              0.6666666666666666,
              "#ed7953"
             ],
             [
              0.7777777777777778,
              "#fb9f3a"
             ],
             [
              0.8888888888888888,
              "#fdca26"
             ],
             [
              1,
              "#f0f921"
             ]
            ],
            "type": "heatmapgl"
           }
          ],
          "histogram": [
           {
            "marker": {
             "pattern": {
              "fillmode": "overlay",
              "size": 10,
              "solidity": 0.2
             }
            },
            "type": "histogram"
           }
          ],
          "histogram2d": [
           {
            "colorbar": {
             "outlinewidth": 0,
             "ticks": ""
            },
            "colorscale": [
             [
              0,
              "#0d0887"
             ],
             [
              0.1111111111111111,
              "#46039f"
             ],
             [
              0.2222222222222222,
              "#7201a8"
             ],
             [
              0.3333333333333333,
              "#9c179e"
             ],
             [
              0.4444444444444444,
              "#bd3786"
             ],
             [
              0.5555555555555556,
              "#d8576b"
             ],
             [
              0.6666666666666666,
              "#ed7953"
             ],
             [
              0.7777777777777778,
              "#fb9f3a"
             ],
             [
              0.8888888888888888,
              "#fdca26"
             ],
             [
              1,
              "#f0f921"
             ]
            ],
            "type": "histogram2d"
           }
          ],
          "histogram2dcontour": [
           {
            "colorbar": {
             "outlinewidth": 0,
             "ticks": ""
            },
            "colorscale": [
             [
              0,
              "#0d0887"
             ],
             [
              0.1111111111111111,
              "#46039f"
             ],
             [
              0.2222222222222222,
              "#7201a8"
             ],
             [
              0.3333333333333333,
              "#9c179e"
             ],
             [
              0.4444444444444444,
              "#bd3786"
             ],
             [
              0.5555555555555556,
              "#d8576b"
             ],
             [
              0.6666666666666666,
              "#ed7953"
             ],
             [
              0.7777777777777778,
              "#fb9f3a"
             ],
             [
              0.8888888888888888,
              "#fdca26"
             ],
             [
              1,
              "#f0f921"
             ]
            ],
            "type": "histogram2dcontour"
           }
          ],
          "mesh3d": [
           {
            "colorbar": {
             "outlinewidth": 0,
             "ticks": ""
            },
            "type": "mesh3d"
           }
          ],
          "parcoords": [
           {
            "line": {
             "colorbar": {
              "outlinewidth": 0,
              "ticks": ""
             }
            },
            "type": "parcoords"
           }
          ],
          "pie": [
           {
            "automargin": true,
            "type": "pie"
           }
          ],
          "scatter": [
           {
            "fillpattern": {
             "fillmode": "overlay",
             "size": 10,
             "solidity": 0.2
            },
            "type": "scatter"
           }
          ],
          "scatter3d": [
           {
            "line": {
             "colorbar": {
              "outlinewidth": 0,
              "ticks": ""
             }
            },
            "marker": {
             "colorbar": {
              "outlinewidth": 0,
              "ticks": ""
             }
            },
            "type": "scatter3d"
           }
          ],
          "scattercarpet": [
           {
            "marker": {
             "colorbar": {
              "outlinewidth": 0,
              "ticks": ""
             }
            },
            "type": "scattercarpet"
           }
          ],
          "scattergeo": [
           {
            "marker": {
             "colorbar": {
              "outlinewidth": 0,
              "ticks": ""
             }
            },
            "type": "scattergeo"
           }
          ],
          "scattergl": [
           {
            "marker": {
             "colorbar": {
              "outlinewidth": 0,
              "ticks": ""
             }
            },
            "type": "scattergl"
           }
          ],
          "scattermapbox": [
           {
            "marker": {
             "colorbar": {
              "outlinewidth": 0,
              "ticks": ""
             }
            },
            "type": "scattermapbox"
           }
          ],
          "scatterpolar": [
           {
            "marker": {
             "colorbar": {
              "outlinewidth": 0,
              "ticks": ""
             }
            },
            "type": "scatterpolar"
           }
          ],
          "scatterpolargl": [
           {
            "marker": {
             "colorbar": {
              "outlinewidth": 0,
              "ticks": ""
             }
            },
            "type": "scatterpolargl"
           }
          ],
          "scatterternary": [
           {
            "marker": {
             "colorbar": {
              "outlinewidth": 0,
              "ticks": ""
             }
            },
            "type": "scatterternary"
           }
          ],
          "surface": [
           {
            "colorbar": {
             "outlinewidth": 0,
             "ticks": ""
            },
            "colorscale": [
             [
              0,
              "#0d0887"
             ],
             [
              0.1111111111111111,
              "#46039f"
             ],
             [
              0.2222222222222222,
              "#7201a8"
             ],
             [
              0.3333333333333333,
              "#9c179e"
             ],
             [
              0.4444444444444444,
              "#bd3786"
             ],
             [
              0.5555555555555556,
              "#d8576b"
             ],
             [
              0.6666666666666666,
              "#ed7953"
             ],
             [
              0.7777777777777778,
              "#fb9f3a"
             ],
             [
              0.8888888888888888,
              "#fdca26"
             ],
             [
              1,
              "#f0f921"
             ]
            ],
            "type": "surface"
           }
          ],
          "table": [
           {
            "cells": {
             "fill": {
              "color": "#EBF0F8"
             },
             "line": {
              "color": "white"
             }
            },
            "header": {
             "fill": {
              "color": "#C8D4E3"
             },
             "line": {
              "color": "white"
             }
            },
            "type": "table"
           }
          ]
         },
         "layout": {
          "annotationdefaults": {
           "arrowcolor": "#2a3f5f",
           "arrowhead": 0,
           "arrowwidth": 1
          },
          "autotypenumbers": "strict",
          "coloraxis": {
           "colorbar": {
            "outlinewidth": 0,
            "ticks": ""
           }
          },
          "colorscale": {
           "diverging": [
            [
             0,
             "#8e0152"
            ],
            [
             0.1,
             "#c51b7d"
            ],
            [
             0.2,
             "#de77ae"
            ],
            [
             0.3,
             "#f1b6da"
            ],
            [
             0.4,
             "#fde0ef"
            ],
            [
             0.5,
             "#f7f7f7"
            ],
            [
             0.6,
             "#e6f5d0"
            ],
            [
             0.7,
             "#b8e186"
            ],
            [
             0.8,
             "#7fbc41"
            ],
            [
             0.9,
             "#4d9221"
            ],
            [
             1,
             "#276419"
            ]
           ],
           "sequential": [
            [
             0,
             "#0d0887"
            ],
            [
             0.1111111111111111,
             "#46039f"
            ],
            [
             0.2222222222222222,
             "#7201a8"
            ],
            [
             0.3333333333333333,
             "#9c179e"
            ],
            [
             0.4444444444444444,
             "#bd3786"
            ],
            [
             0.5555555555555556,
             "#d8576b"
            ],
            [
             0.6666666666666666,
             "#ed7953"
            ],
            [
             0.7777777777777778,
             "#fb9f3a"
            ],
            [
             0.8888888888888888,
             "#fdca26"
            ],
            [
             1,
             "#f0f921"
            ]
           ],
           "sequentialminus": [
            [
             0,
             "#0d0887"
            ],
            [
             0.1111111111111111,
             "#46039f"
            ],
            [
             0.2222222222222222,
             "#7201a8"
            ],
            [
             0.3333333333333333,
             "#9c179e"
            ],
            [
             0.4444444444444444,
             "#bd3786"
            ],
            [
             0.5555555555555556,
             "#d8576b"
            ],
            [
             0.6666666666666666,
             "#ed7953"
            ],
            [
             0.7777777777777778,
             "#fb9f3a"
            ],
            [
             0.8888888888888888,
             "#fdca26"
            ],
            [
             1,
             "#f0f921"
            ]
           ]
          },
          "colorway": [
           "#636efa",
           "#EF553B",
           "#00cc96",
           "#ab63fa",
           "#FFA15A",
           "#19d3f3",
           "#FF6692",
           "#B6E880",
           "#FF97FF",
           "#FECB52"
          ],
          "font": {
           "color": "#2a3f5f"
          },
          "geo": {
           "bgcolor": "white",
           "lakecolor": "white",
           "landcolor": "#E5ECF6",
           "showlakes": true,
           "showland": true,
           "subunitcolor": "white"
          },
          "hoverlabel": {
           "align": "left"
          },
          "hovermode": "closest",
          "mapbox": {
           "style": "light"
          },
          "paper_bgcolor": "white",
          "plot_bgcolor": "#E5ECF6",
          "polar": {
           "angularaxis": {
            "gridcolor": "white",
            "linecolor": "white",
            "ticks": ""
           },
           "bgcolor": "#E5ECF6",
           "radialaxis": {
            "gridcolor": "white",
            "linecolor": "white",
            "ticks": ""
           }
          },
          "scene": {
           "xaxis": {
            "backgroundcolor": "#E5ECF6",
            "gridcolor": "white",
            "gridwidth": 2,
            "linecolor": "white",
            "showbackground": true,
            "ticks": "",
            "zerolinecolor": "white"
           },
           "yaxis": {
            "backgroundcolor": "#E5ECF6",
            "gridcolor": "white",
            "gridwidth": 2,
            "linecolor": "white",
            "showbackground": true,
            "ticks": "",
            "zerolinecolor": "white"
           },
           "zaxis": {
            "backgroundcolor": "#E5ECF6",
            "gridcolor": "white",
            "gridwidth": 2,
            "linecolor": "white",
            "showbackground": true,
            "ticks": "",
            "zerolinecolor": "white"
           }
          },
          "shapedefaults": {
           "line": {
            "color": "#2a3f5f"
           }
          },
          "ternary": {
           "aaxis": {
            "gridcolor": "white",
            "linecolor": "white",
            "ticks": ""
           },
           "baxis": {
            "gridcolor": "white",
            "linecolor": "white",
            "ticks": ""
           },
           "bgcolor": "#E5ECF6",
           "caxis": {
            "gridcolor": "white",
            "linecolor": "white",
            "ticks": ""
           }
          },
          "title": {
           "x": 0.05
          },
          "xaxis": {
           "automargin": true,
           "gridcolor": "white",
           "linecolor": "white",
           "ticks": "",
           "title": {
            "standoff": 15
           },
           "zerolinecolor": "white",
           "zerolinewidth": 2
          },
          "yaxis": {
           "automargin": true,
           "gridcolor": "white",
           "linecolor": "white",
           "ticks": "",
           "title": {
            "standoff": 15
           },
           "zerolinecolor": "white",
           "zerolinewidth": 2
          }
         }
        },
        "xaxis": {
         "anchor": "y",
         "domain": [
          0,
          1
         ],
         "title": {
          "text": "total_bill"
         }
        },
        "xaxis2": {
         "anchor": "y2",
         "domain": [
          0,
          1
         ],
         "matches": "x",
         "showgrid": true,
         "showticklabels": false
        },
        "yaxis": {
         "anchor": "x",
         "domain": [
          0,
          0.7326
         ],
         "title": {
          "text": "count"
         }
        },
        "yaxis2": {
         "anchor": "x2",
         "domain": [
          0.7426,
          1
         ],
         "matches": "y2",
         "showgrid": false,
         "showline": false,
         "showticklabels": false,
         "ticks": ""
        }
       }
      },
      "text/html": [
       "<div>                        <script type=\"text/javascript\">window.PlotlyConfig = {MathJaxConfig: 'local'};</script>\n",
       "        <script src=\"https://cdn.plot.ly/plotly-2.18.2.min.js\"></script>                <div id=\"01a5aeed-a450-485f-86a4-23f570260131\" class=\"plotly-graph-div\" style=\"height:100%; width:100%;\"></div>            <script type=\"text/javascript\">                                    window.PLOTLYENV=window.PLOTLYENV || {};                                    if (document.getElementById(\"01a5aeed-a450-485f-86a4-23f570260131\")) {                    Plotly.newPlot(                        \"01a5aeed-a450-485f-86a4-23f570260131\",                        [{\"alignmentgroup\":\"True\",\"bingroup\":\"x\",\"hovertemplate\":\"sex=Female<br>smoker=No<br>total_bill=%{x}<br>count=%{y}<extra></extra>\",\"legendgroup\":\"Female, No\",\"marker\":{\"color\":\"#636efa\",\"pattern\":{\"shape\":\"\"}},\"name\":\"Female, No\",\"offsetgroup\":\"Female, No\",\"orientation\":\"v\",\"showlegend\":true,\"x\":[16.99,24.59,35.26,14.83,10.33,16.97,20.29,15.77,19.65,15.06,20.69,16.93,10.29,34.81,26.41,16.45,17.07,14.73,10.07,34.83,22.75,20.92,7.25,25.71,17.31,10.65,12.43,24.08,13.42,12.48,29.8,14.52,11.38,20.27,11.17,12.26,18.26,8.51,10.33,14.15,13.16,17.47,27.05,16.43,8.35,18.64,11.87,29.85,25.0,13.39,16.21,15.98,35.83,18.78],\"xaxis\":\"x\",\"yaxis\":\"y\",\"type\":\"histogram\"},{\"alignmentgroup\":\"True\",\"boxpoints\":\"all\",\"customdata\":[[1.01,\"Female\",\"No\",\"Sun\",\"Dinner\",2],[3.61,\"Female\",\"No\",\"Sun\",\"Dinner\",4],[5.0,\"Female\",\"No\",\"Sun\",\"Dinner\",4],[3.02,\"Female\",\"No\",\"Sun\",\"Dinner\",2],[1.67,\"Female\",\"No\",\"Sun\",\"Dinner\",3],[3.5,\"Female\",\"No\",\"Sun\",\"Dinner\",3],[2.75,\"Female\",\"No\",\"Sat\",\"Dinner\",2],[2.23,\"Female\",\"No\",\"Sat\",\"Dinner\",2],[3.0,\"Female\",\"No\",\"Sat\",\"Dinner\",2],[3.0,\"Female\",\"No\",\"Sat\",\"Dinner\",2],[2.45,\"Female\",\"No\",\"Sat\",\"Dinner\",4],[3.07,\"Female\",\"No\",\"Sat\",\"Dinner\",3],[2.6,\"Female\",\"No\",\"Sun\",\"Dinner\",2],[5.2,\"Female\",\"No\",\"Sun\",\"Dinner\",4],[1.5,\"Female\",\"No\",\"Sat\",\"Dinner\",2],[2.47,\"Female\",\"No\",\"Sat\",\"Dinner\",2],[3.0,\"Female\",\"No\",\"Sat\",\"Dinner\",3],[2.2,\"Female\",\"No\",\"Sat\",\"Dinner\",2],[1.83,\"Female\",\"No\",\"Thur\",\"Lunch\",1],[5.17,\"Female\",\"No\",\"Thur\",\"Lunch\",4],[3.25,\"Female\",\"No\",\"Fri\",\"Dinner\",2],[4.08,\"Female\",\"No\",\"Sat\",\"Dinner\",2],[1.0,\"Female\",\"No\",\"Sat\",\"Dinner\",1],[4.0,\"Female\",\"No\",\"Sun\",\"Dinner\",3],[3.5,\"Female\",\"No\",\"Sun\",\"Dinner\",2],[1.5,\"Female\",\"No\",\"Thur\",\"Lunch\",2],[1.8,\"Female\",\"No\",\"Thur\",\"Lunch\",2],[2.92,\"Female\",\"No\",\"Thur\",\"Lunch\",4],[1.68,\"Female\",\"No\",\"Thur\",\"Lunch\",2],[2.52,\"Female\",\"No\",\"Thur\",\"Lunch\",2],[4.2,\"Female\",\"No\",\"Thur\",\"Lunch\",6],[2.0,\"Female\",\"No\",\"Thur\",\"Lunch\",2],[2.0,\"Female\",\"No\",\"Thur\",\"Lunch\",2],[2.83,\"Female\",\"No\",\"Thur\",\"Lunch\",2],[1.5,\"Female\",\"No\",\"Thur\",\"Lunch\",2],[2.0,\"Female\",\"No\",\"Thur\",\"Lunch\",2],[3.25,\"Female\",\"No\",\"Thur\",\"Lunch\",2],[1.25,\"Female\",\"No\",\"Thur\",\"Lunch\",2],[2.0,\"Female\",\"No\",\"Thur\",\"Lunch\",2],[2.0,\"Female\",\"No\",\"Thur\",\"Lunch\",2],[2.75,\"Female\",\"No\",\"Thur\",\"Lunch\",2],[3.5,\"Female\",\"No\",\"Thur\",\"Lunch\",2],[5.0,\"Female\",\"No\",\"Thur\",\"Lunch\",6],[2.3,\"Female\",\"No\",\"Thur\",\"Lunch\",2],[1.5,\"Female\",\"No\",\"Thur\",\"Lunch\",2],[1.36,\"Female\",\"No\",\"Thur\",\"Lunch\",3],[1.63,\"Female\",\"No\",\"Thur\",\"Lunch\",2],[5.14,\"Female\",\"No\",\"Sun\",\"Dinner\",5],[3.75,\"Female\",\"No\",\"Sun\",\"Dinner\",4],[2.61,\"Female\",\"No\",\"Sun\",\"Dinner\",2],[2.0,\"Female\",\"No\",\"Sun\",\"Dinner\",3],[3.0,\"Female\",\"No\",\"Fri\",\"Lunch\",3],[4.67,\"Female\",\"No\",\"Sat\",\"Dinner\",3],[3.0,\"Female\",\"No\",\"Thur\",\"Dinner\",2]],\"fillcolor\":\"rgba(255,255,255,0)\",\"hoveron\":\"points\",\"hovertemplate\":\"sex=%{customdata[1]}<br>smoker=%{customdata[2]}<br>total_bill=%{x}<br>tip=%{customdata[0]}<br>day=%{customdata[3]}<br>time=%{customdata[4]}<br>size=%{customdata[5]}<extra></extra>\",\"jitter\":0,\"legendgroup\":\"Female, No\",\"line\":{\"color\":\"rgba(255,255,255,0)\"},\"marker\":{\"color\":\"#636efa\",\"symbol\":\"line-ns-open\"},\"name\":\"Female, No\",\"offsetgroup\":\"Female, No\",\"showlegend\":false,\"x\":[16.99,24.59,35.26,14.83,10.33,16.97,20.29,15.77,19.65,15.06,20.69,16.93,10.29,34.81,26.41,16.45,17.07,14.73,10.07,34.83,22.75,20.92,7.25,25.71,17.31,10.65,12.43,24.08,13.42,12.48,29.8,14.52,11.38,20.27,11.17,12.26,18.26,8.51,10.33,14.15,13.16,17.47,27.05,16.43,8.35,18.64,11.87,29.85,25.0,13.39,16.21,15.98,35.83,18.78],\"xaxis\":\"x2\",\"yaxis\":\"y2\",\"type\":\"box\"},{\"alignmentgroup\":\"True\",\"bingroup\":\"x\",\"hovertemplate\":\"sex=Female<br>smoker=Yes<br>total_bill=%{x}<br>count=%{y}<extra></extra>\",\"legendgroup\":\"Female, Yes\",\"marker\":{\"color\":\"#636efa\",\"pattern\":{\"shape\":\"/\"}},\"name\":\"Female, Yes\",\"offsetgroup\":\"Female, Yes\",\"orientation\":\"v\",\"showlegend\":true,\"x\":[3.07,26.86,25.28,5.75,16.32,11.35,15.38,44.3,22.42,14.31,17.51,10.59,10.63,9.6,20.9,18.15,19.81,43.11,13.0,12.74,13.0,16.4,16.47,12.76,13.27,28.17,12.9,30.14,13.42,16.27,10.09,22.12,27.18],\"xaxis\":\"x\",\"yaxis\":\"y\",\"type\":\"histogram\"},{\"alignmentgroup\":\"True\",\"boxpoints\":\"all\",\"customdata\":[[1.0,\"Female\",\"Yes\",\"Sat\",\"Dinner\",1],[3.14,\"Female\",\"Yes\",\"Sat\",\"Dinner\",2],[5.0,\"Female\",\"Yes\",\"Sat\",\"Dinner\",2],[1.0,\"Female\",\"Yes\",\"Fri\",\"Dinner\",2],[4.3,\"Female\",\"Yes\",\"Fri\",\"Dinner\",2],[2.5,\"Female\",\"Yes\",\"Fri\",\"Dinner\",2],[3.0,\"Female\",\"Yes\",\"Fri\",\"Dinner\",2],[2.5,\"Female\",\"Yes\",\"Sat\",\"Dinner\",3],[3.48,\"Female\",\"Yes\",\"Sat\",\"Dinner\",2],[4.0,\"Female\",\"Yes\",\"Sat\",\"Dinner\",2],[3.0,\"Female\",\"Yes\",\"Sun\",\"Dinner\",2],[1.61,\"Female\",\"Yes\",\"Sat\",\"Dinner\",2],[2.0,\"Female\",\"Yes\",\"Sat\",\"Dinner\",2],[4.0,\"Female\",\"Yes\",\"Sun\",\"Dinner\",2],[3.5,\"Female\",\"Yes\",\"Sun\",\"Dinner\",3],[3.5,\"Female\",\"Yes\",\"Sun\",\"Dinner\",3],[4.19,\"Female\",\"Yes\",\"Thur\",\"Lunch\",2],[5.0,\"Female\",\"Yes\",\"Thur\",\"Lunch\",4],[2.0,\"Female\",\"Yes\",\"Thur\",\"Lunch\",2],[2.01,\"Female\",\"Yes\",\"Thur\",\"Lunch\",2],[2.0,\"Female\",\"Yes\",\"Thur\",\"Lunch\",2],[2.5,\"Female\",\"Yes\",\"Thur\",\"Lunch\",2],[3.23,\"Female\",\"Yes\",\"Thur\",\"Lunch\",3],[2.23,\"Female\",\"Yes\",\"Sat\",\"Dinner\",2],[2.5,\"Female\",\"Yes\",\"Sat\",\"Dinner\",2],[6.5,\"Female\",\"Yes\",\"Sat\",\"Dinner\",3],[1.1,\"Female\",\"Yes\",\"Sat\",\"Dinner\",2],[3.09,\"Female\",\"Yes\",\"Sat\",\"Dinner\",4],[3.48,\"Female\",\"Yes\",\"Fri\",\"Lunch\",2],[2.5,\"Female\",\"Yes\",\"Fri\",\"Lunch\",2],[2.0,\"Female\",\"Yes\",\"Fri\",\"Lunch\",2],[2.88,\"Female\",\"Yes\",\"Sat\",\"Dinner\",2],[2.0,\"Female\",\"Yes\",\"Sat\",\"Dinner\",2]],\"fillcolor\":\"rgba(255,255,255,0)\",\"hoveron\":\"points\",\"hovertemplate\":\"sex=%{customdata[1]}<br>smoker=%{customdata[2]}<br>total_bill=%{x}<br>tip=%{customdata[0]}<br>day=%{customdata[3]}<br>time=%{customdata[4]}<br>size=%{customdata[5]}<extra></extra>\",\"jitter\":0,\"legendgroup\":\"Female, Yes\",\"line\":{\"color\":\"rgba(255,255,255,0)\"},\"marker\":{\"color\":\"#636efa\",\"symbol\":\"line-ns-open\"},\"name\":\"Female, Yes\",\"offsetgroup\":\"Female, Yes\",\"showlegend\":false,\"x\":[3.07,26.86,25.28,5.75,16.32,11.35,15.38,44.3,22.42,14.31,17.51,10.59,10.63,9.6,20.9,18.15,19.81,43.11,13.0,12.74,13.0,16.4,16.47,12.76,13.27,28.17,12.9,30.14,13.42,16.27,10.09,22.12,27.18],\"xaxis\":\"x2\",\"yaxis\":\"y2\",\"type\":\"box\"},{\"alignmentgroup\":\"True\",\"bingroup\":\"x\",\"hovertemplate\":\"sex=Male<br>smoker=No<br>total_bill=%{x}<br>count=%{y}<extra></extra>\",\"legendgroup\":\"Male, No\",\"marker\":{\"color\":\"#EF553B\",\"pattern\":{\"shape\":\"\"}},\"name\":\"Male, No\",\"offsetgroup\":\"Male, No\",\"orientation\":\"v\",\"showlegend\":true,\"x\":[10.34,21.01,23.68,25.29,8.77,26.88,15.04,14.78,10.27,15.42,18.43,21.58,16.29,20.65,17.92,39.42,19.82,17.81,13.37,12.69,21.7,9.55,18.35,17.78,24.06,16.31,18.69,31.27,16.04,17.46,13.94,9.68,30.4,18.29,22.23,32.4,28.55,18.04,12.54,9.94,25.56,19.49,48.27,17.59,20.08,20.23,12.02,10.51,27.2,22.76,17.29,16.66,15.98,13.03,18.28,24.71,21.16,22.49,12.46,18.24,14.0,38.07,23.95,29.93,11.69,14.26,15.95,8.52,22.82,19.08,34.3,41.19,9.78,7.51,14.07,13.13,17.26,24.55,19.77,48.17,16.49,21.5,12.66,13.81,24.52,20.76,31.71,20.69,7.56,48.33,20.45,13.28,11.61,10.77,10.07,29.03,17.82],\"xaxis\":\"x\",\"yaxis\":\"y\",\"type\":\"histogram\"},{\"alignmentgroup\":\"True\",\"boxpoints\":\"all\",\"customdata\":[[1.66,\"Male\",\"No\",\"Sun\",\"Dinner\",3],[3.5,\"Male\",\"No\",\"Sun\",\"Dinner\",3],[3.31,\"Male\",\"No\",\"Sun\",\"Dinner\",2],[4.71,\"Male\",\"No\",\"Sun\",\"Dinner\",4],[2.0,\"Male\",\"No\",\"Sun\",\"Dinner\",2],[3.12,\"Male\",\"No\",\"Sun\",\"Dinner\",4],[1.96,\"Male\",\"No\",\"Sun\",\"Dinner\",2],[3.23,\"Male\",\"No\",\"Sun\",\"Dinner\",2],[1.71,\"Male\",\"No\",\"Sun\",\"Dinner\",2],[1.57,\"Male\",\"No\",\"Sun\",\"Dinner\",2],[3.0,\"Male\",\"No\",\"Sun\",\"Dinner\",4],[3.92,\"Male\",\"No\",\"Sun\",\"Dinner\",2],[3.71,\"Male\",\"No\",\"Sun\",\"Dinner\",3],[3.35,\"Male\",\"No\",\"Sat\",\"Dinner\",3],[4.08,\"Male\",\"No\",\"Sat\",\"Dinner\",2],[7.58,\"Male\",\"No\",\"Sat\",\"Dinner\",4],[3.18,\"Male\",\"No\",\"Sat\",\"Dinner\",2],[2.34,\"Male\",\"No\",\"Sat\",\"Dinner\",4],[2.0,\"Male\",\"No\",\"Sat\",\"Dinner\",2],[2.0,\"Male\",\"No\",\"Sat\",\"Dinner\",2],[4.3,\"Male\",\"No\",\"Sat\",\"Dinner\",2],[1.45,\"Male\",\"No\",\"Sat\",\"Dinner\",2],[2.5,\"Male\",\"No\",\"Sat\",\"Dinner\",4],[3.27,\"Male\",\"No\",\"Sat\",\"Dinner\",2],[3.6,\"Male\",\"No\",\"Sat\",\"Dinner\",3],[2.0,\"Male\",\"No\",\"Sat\",\"Dinner\",3],[2.31,\"Male\",\"No\",\"Sat\",\"Dinner\",3],[5.0,\"Male\",\"No\",\"Sat\",\"Dinner\",3],[2.24,\"Male\",\"No\",\"Sat\",\"Dinner\",3],[2.54,\"Male\",\"No\",\"Sun\",\"Dinner\",2],[3.06,\"Male\",\"No\",\"Sun\",\"Dinner\",2],[1.32,\"Male\",\"No\",\"Sun\",\"Dinner\",2],[5.6,\"Male\",\"No\",\"Sun\",\"Dinner\",4],[3.0,\"Male\",\"No\",\"Sun\",\"Dinner\",2],[5.0,\"Male\",\"No\",\"Sun\",\"Dinner\",2],[6.0,\"Male\",\"No\",\"Sun\",\"Dinner\",4],[2.05,\"Male\",\"No\",\"Sun\",\"Dinner\",3],[3.0,\"Male\",\"No\",\"Sun\",\"Dinner\",2],[2.5,\"Male\",\"No\",\"Sun\",\"Dinner\",2],[1.56,\"Male\",\"No\",\"Sun\",\"Dinner\",2],[4.34,\"Male\",\"No\",\"Sun\",\"Dinner\",4],[3.51,\"Male\",\"No\",\"Sun\",\"Dinner\",2],[6.73,\"Male\",\"No\",\"Sat\",\"Dinner\",4],[2.64,\"Male\",\"No\",\"Sat\",\"Dinner\",3],[3.15,\"Male\",\"No\",\"Sat\",\"Dinner\",3],[2.01,\"Male\",\"No\",\"Sat\",\"Dinner\",2],[1.97,\"Male\",\"No\",\"Sat\",\"Dinner\",2],[1.25,\"Male\",\"No\",\"Sat\",\"Dinner\",2],[4.0,\"Male\",\"No\",\"Thur\",\"Lunch\",4],[3.0,\"Male\",\"No\",\"Thur\",\"Lunch\",2],[2.71,\"Male\",\"No\",\"Thur\",\"Lunch\",2],[3.4,\"Male\",\"No\",\"Thur\",\"Lunch\",2],[2.03,\"Male\",\"No\",\"Thur\",\"Lunch\",2],[2.0,\"Male\",\"No\",\"Thur\",\"Lunch\",2],[4.0,\"Male\",\"No\",\"Thur\",\"Lunch\",2],[5.85,\"Male\",\"No\",\"Thur\",\"Lunch\",2],[3.0,\"Male\",\"No\",\"Thur\",\"Lunch\",2],[3.5,\"Male\",\"No\",\"Fri\",\"Dinner\",2],[1.5,\"Male\",\"No\",\"Fri\",\"Dinner\",2],[3.76,\"Male\",\"No\",\"Sat\",\"Dinner\",2],[3.0,\"Male\",\"No\",\"Sat\",\"Dinner\",2],[4.0,\"Male\",\"No\",\"Sun\",\"Dinner\",3],[2.55,\"Male\",\"No\",\"Sun\",\"Dinner\",2],[5.07,\"Male\",\"No\",\"Sun\",\"Dinner\",4],[2.31,\"Male\",\"No\",\"Thur\",\"Lunch\",2],[2.5,\"Male\",\"No\",\"Thur\",\"Lunch\",2],[2.0,\"Male\",\"No\",\"Thur\",\"Lunch\",2],[1.48,\"Male\",\"No\",\"Thur\",\"Lunch\",2],[2.18,\"Male\",\"No\",\"Thur\",\"Lunch\",3],[1.5,\"Male\",\"No\",\"Thur\",\"Lunch\",2],[6.7,\"Male\",\"No\",\"Thur\",\"Lunch\",6],[5.0,\"Male\",\"No\",\"Thur\",\"Lunch\",5],[1.73,\"Male\",\"No\",\"Thur\",\"Lunch\",2],[2.0,\"Male\",\"No\",\"Thur\",\"Lunch\",2],[2.5,\"Male\",\"No\",\"Sun\",\"Dinner\",2],[2.0,\"Male\",\"No\",\"Sun\",\"Dinner\",2],[2.74,\"Male\",\"No\",\"Sun\",\"Dinner\",3],[2.0,\"Male\",\"No\",\"Sun\",\"Dinner\",4],[2.0,\"Male\",\"No\",\"Sun\",\"Dinner\",4],[5.0,\"Male\",\"No\",\"Sun\",\"Dinner\",6],[2.0,\"Male\",\"No\",\"Sun\",\"Dinner\",4],[3.5,\"Male\",\"No\",\"Sun\",\"Dinner\",4],[2.5,\"Male\",\"No\",\"Sun\",\"Dinner\",2],[2.0,\"Male\",\"No\",\"Sun\",\"Dinner\",2],[3.48,\"Male\",\"No\",\"Sun\",\"Dinner\",3],[2.24,\"Male\",\"No\",\"Sun\",\"Dinner\",2],[4.5,\"Male\",\"No\",\"Sun\",\"Dinner\",4],[5.0,\"Male\",\"No\",\"Sun\",\"Dinner\",5],[1.44,\"Male\",\"No\",\"Thur\",\"Lunch\",2],[9.0,\"Male\",\"No\",\"Sat\",\"Dinner\",4],[3.0,\"Male\",\"No\",\"Sat\",\"Dinner\",4],[2.72,\"Male\",\"No\",\"Sat\",\"Dinner\",2],[3.39,\"Male\",\"No\",\"Sat\",\"Dinner\",2],[1.47,\"Male\",\"No\",\"Sat\",\"Dinner\",2],[1.25,\"Male\",\"No\",\"Sat\",\"Dinner\",2],[5.92,\"Male\",\"No\",\"Sat\",\"Dinner\",3],[1.75,\"Male\",\"No\",\"Sat\",\"Dinner\",2]],\"fillcolor\":\"rgba(255,255,255,0)\",\"hoveron\":\"points\",\"hovertemplate\":\"sex=%{customdata[1]}<br>smoker=%{customdata[2]}<br>total_bill=%{x}<br>tip=%{customdata[0]}<br>day=%{customdata[3]}<br>time=%{customdata[4]}<br>size=%{customdata[5]}<extra></extra>\",\"jitter\":0,\"legendgroup\":\"Male, No\",\"line\":{\"color\":\"rgba(255,255,255,0)\"},\"marker\":{\"color\":\"#EF553B\",\"symbol\":\"line-ns-open\"},\"name\":\"Male, No\",\"offsetgroup\":\"Male, No\",\"showlegend\":false,\"x\":[10.34,21.01,23.68,25.29,8.77,26.88,15.04,14.78,10.27,15.42,18.43,21.58,16.29,20.65,17.92,39.42,19.82,17.81,13.37,12.69,21.7,9.55,18.35,17.78,24.06,16.31,18.69,31.27,16.04,17.46,13.94,9.68,30.4,18.29,22.23,32.4,28.55,18.04,12.54,9.94,25.56,19.49,48.27,17.59,20.08,20.23,12.02,10.51,27.2,22.76,17.29,16.66,15.98,13.03,18.28,24.71,21.16,22.49,12.46,18.24,14.0,38.07,23.95,29.93,11.69,14.26,15.95,8.52,22.82,19.08,34.3,41.19,9.78,7.51,14.07,13.13,17.26,24.55,19.77,48.17,16.49,21.5,12.66,13.81,24.52,20.76,31.71,20.69,7.56,48.33,20.45,13.28,11.61,10.77,10.07,29.03,17.82],\"xaxis\":\"x2\",\"yaxis\":\"y2\",\"type\":\"box\"},{\"alignmentgroup\":\"True\",\"bingroup\":\"x\",\"hovertemplate\":\"sex=Male<br>smoker=Yes<br>total_bill=%{x}<br>count=%{y}<extra></extra>\",\"legendgroup\":\"Male, Yes\",\"marker\":{\"color\":\"#EF553B\",\"pattern\":{\"shape\":\"/\"}},\"name\":\"Male, Yes\",\"offsetgroup\":\"Male, Yes\",\"orientation\":\"v\",\"showlegend\":true,\"x\":[38.01,11.24,20.29,13.81,11.02,18.29,15.01,17.92,19.44,32.68,28.97,40.17,27.28,12.03,21.01,15.36,20.49,25.21,16.0,50.81,15.81,7.25,31.85,16.82,32.9,17.89,14.48,34.63,34.65,23.33,45.35,23.17,40.55,30.46,23.1,15.69,28.44,15.48,16.58,10.34,13.51,18.71,20.53,26.59,38.73,24.27,30.06,25.89,28.15,11.59,7.74,12.16,8.58,13.42,24.01,15.69,15.53,12.6,32.83,22.67],\"xaxis\":\"x\",\"yaxis\":\"y\",\"type\":\"histogram\"},{\"alignmentgroup\":\"True\",\"boxpoints\":\"all\",\"customdata\":[[3.0,\"Male\",\"Yes\",\"Sat\",\"Dinner\",4],[1.76,\"Male\",\"Yes\",\"Sat\",\"Dinner\",2],[3.21,\"Male\",\"Yes\",\"Sat\",\"Dinner\",2],[2.0,\"Male\",\"Yes\",\"Sat\",\"Dinner\",2],[1.98,\"Male\",\"Yes\",\"Sat\",\"Dinner\",2],[3.76,\"Male\",\"Yes\",\"Sat\",\"Dinner\",4],[2.09,\"Male\",\"Yes\",\"Sat\",\"Dinner\",2],[3.08,\"Male\",\"Yes\",\"Sat\",\"Dinner\",2],[3.0,\"Male\",\"Yes\",\"Thur\",\"Lunch\",2],[5.0,\"Male\",\"Yes\",\"Thur\",\"Lunch\",2],[3.0,\"Male\",\"Yes\",\"Fri\",\"Dinner\",2],[4.73,\"Male\",\"Yes\",\"Fri\",\"Dinner\",4],[4.0,\"Male\",\"Yes\",\"Fri\",\"Dinner\",2],[1.5,\"Male\",\"Yes\",\"Fri\",\"Dinner\",2],[3.0,\"Male\",\"Yes\",\"Fri\",\"Dinner\",2],[1.64,\"Male\",\"Yes\",\"Sat\",\"Dinner\",2],[4.06,\"Male\",\"Yes\",\"Sat\",\"Dinner\",2],[4.29,\"Male\",\"Yes\",\"Sat\",\"Dinner\",2],[2.0,\"Male\",\"Yes\",\"Thur\",\"Lunch\",2],[10.0,\"Male\",\"Yes\",\"Sat\",\"Dinner\",3],[3.16,\"Male\",\"Yes\",\"Sat\",\"Dinner\",2],[5.15,\"Male\",\"Yes\",\"Sun\",\"Dinner\",2],[3.18,\"Male\",\"Yes\",\"Sun\",\"Dinner\",2],[4.0,\"Male\",\"Yes\",\"Sun\",\"Dinner\",2],[3.11,\"Male\",\"Yes\",\"Sun\",\"Dinner\",2],[2.0,\"Male\",\"Yes\",\"Sun\",\"Dinner\",2],[2.0,\"Male\",\"Yes\",\"Sun\",\"Dinner\",2],[3.55,\"Male\",\"Yes\",\"Sun\",\"Dinner\",2],[3.68,\"Male\",\"Yes\",\"Sun\",\"Dinner\",4],[5.65,\"Male\",\"Yes\",\"Sun\",\"Dinner\",2],[3.5,\"Male\",\"Yes\",\"Sun\",\"Dinner\",3],[6.5,\"Male\",\"Yes\",\"Sun\",\"Dinner\",4],[3.0,\"Male\",\"Yes\",\"Sun\",\"Dinner\",2],[2.0,\"Male\",\"Yes\",\"Sun\",\"Dinner\",5],[4.0,\"Male\",\"Yes\",\"Sun\",\"Dinner\",3],[1.5,\"Male\",\"Yes\",\"Sun\",\"Dinner\",2],[2.56,\"Male\",\"Yes\",\"Thur\",\"Lunch\",2],[2.02,\"Male\",\"Yes\",\"Thur\",\"Lunch\",2],[4.0,\"Male\",\"Yes\",\"Thur\",\"Lunch\",2],[2.0,\"Male\",\"Yes\",\"Thur\",\"Lunch\",2],[2.0,\"Male\",\"Yes\",\"Thur\",\"Lunch\",2],[4.0,\"Male\",\"Yes\",\"Thur\",\"Lunch\",3],[4.0,\"Male\",\"Yes\",\"Thur\",\"Lunch\",4],[3.41,\"Male\",\"Yes\",\"Sat\",\"Dinner\",3],[3.0,\"Male\",\"Yes\",\"Sat\",\"Dinner\",4],[2.03,\"Male\",\"Yes\",\"Sat\",\"Dinner\",2],[2.0,\"Male\",\"Yes\",\"Sat\",\"Dinner\",3],[5.16,\"Male\",\"Yes\",\"Sat\",\"Dinner\",4],[3.0,\"Male\",\"Yes\",\"Sat\",\"Dinner\",5],[1.5,\"Male\",\"Yes\",\"Sat\",\"Dinner\",2],[1.44,\"Male\",\"Yes\",\"Sat\",\"Dinner\",2],[2.2,\"Male\",\"Yes\",\"Fri\",\"Lunch\",2],[1.92,\"Male\",\"Yes\",\"Fri\",\"Lunch\",1],[1.58,\"Male\",\"Yes\",\"Fri\",\"Lunch\",2],[2.0,\"Male\",\"Yes\",\"Sat\",\"Dinner\",4],[3.0,\"Male\",\"Yes\",\"Sat\",\"Dinner\",3],[3.0,\"Male\",\"Yes\",\"Sat\",\"Dinner\",2],[1.0,\"Male\",\"Yes\",\"Sat\",\"Dinner\",2],[1.17,\"Male\",\"Yes\",\"Sat\",\"Dinner\",2],[2.0,\"Male\",\"Yes\",\"Sat\",\"Dinner\",2]],\"fillcolor\":\"rgba(255,255,255,0)\",\"hoveron\":\"points\",\"hovertemplate\":\"sex=%{customdata[1]}<br>smoker=%{customdata[2]}<br>total_bill=%{x}<br>tip=%{customdata[0]}<br>day=%{customdata[3]}<br>time=%{customdata[4]}<br>size=%{customdata[5]}<extra></extra>\",\"jitter\":0,\"legendgroup\":\"Male, Yes\",\"line\":{\"color\":\"rgba(255,255,255,0)\"},\"marker\":{\"color\":\"#EF553B\",\"symbol\":\"line-ns-open\"},\"name\":\"Male, Yes\",\"offsetgroup\":\"Male, Yes\",\"showlegend\":false,\"x\":[38.01,11.24,20.29,13.81,11.02,18.29,15.01,17.92,19.44,32.68,28.97,40.17,27.28,12.03,21.01,15.36,20.49,25.21,16.0,50.81,15.81,7.25,31.85,16.82,32.9,17.89,14.48,34.63,34.65,23.33,45.35,23.17,40.55,30.46,23.1,15.69,28.44,15.48,16.58,10.34,13.51,18.71,20.53,26.59,38.73,24.27,30.06,25.89,28.15,11.59,7.74,12.16,8.58,13.42,24.01,15.69,15.53,12.6,32.83,22.67],\"xaxis\":\"x2\",\"yaxis\":\"y2\",\"type\":\"box\"}],                        {\"template\":{\"data\":{\"histogram2dcontour\":[{\"type\":\"histogram2dcontour\",\"colorbar\":{\"outlinewidth\":0,\"ticks\":\"\"},\"colorscale\":[[0.0,\"#0d0887\"],[0.1111111111111111,\"#46039f\"],[0.2222222222222222,\"#7201a8\"],[0.3333333333333333,\"#9c179e\"],[0.4444444444444444,\"#bd3786\"],[0.5555555555555556,\"#d8576b\"],[0.6666666666666666,\"#ed7953\"],[0.7777777777777778,\"#fb9f3a\"],[0.8888888888888888,\"#fdca26\"],[1.0,\"#f0f921\"]]}],\"choropleth\":[{\"type\":\"choropleth\",\"colorbar\":{\"outlinewidth\":0,\"ticks\":\"\"}}],\"histogram2d\":[{\"type\":\"histogram2d\",\"colorbar\":{\"outlinewidth\":0,\"ticks\":\"\"},\"colorscale\":[[0.0,\"#0d0887\"],[0.1111111111111111,\"#46039f\"],[0.2222222222222222,\"#7201a8\"],[0.3333333333333333,\"#9c179e\"],[0.4444444444444444,\"#bd3786\"],[0.5555555555555556,\"#d8576b\"],[0.6666666666666666,\"#ed7953\"],[0.7777777777777778,\"#fb9f3a\"],[0.8888888888888888,\"#fdca26\"],[1.0,\"#f0f921\"]]}],\"heatmap\":[{\"type\":\"heatmap\",\"colorbar\":{\"outlinewidth\":0,\"ticks\":\"\"},\"colorscale\":[[0.0,\"#0d0887\"],[0.1111111111111111,\"#46039f\"],[0.2222222222222222,\"#7201a8\"],[0.3333333333333333,\"#9c179e\"],[0.4444444444444444,\"#bd3786\"],[0.5555555555555556,\"#d8576b\"],[0.6666666666666666,\"#ed7953\"],[0.7777777777777778,\"#fb9f3a\"],[0.8888888888888888,\"#fdca26\"],[1.0,\"#f0f921\"]]}],\"heatmapgl\":[{\"type\":\"heatmapgl\",\"colorbar\":{\"outlinewidth\":0,\"ticks\":\"\"},\"colorscale\":[[0.0,\"#0d0887\"],[0.1111111111111111,\"#46039f\"],[0.2222222222222222,\"#7201a8\"],[0.3333333333333333,\"#9c179e\"],[0.4444444444444444,\"#bd3786\"],[0.5555555555555556,\"#d8576b\"],[0.6666666666666666,\"#ed7953\"],[0.7777777777777778,\"#fb9f3a\"],[0.8888888888888888,\"#fdca26\"],[1.0,\"#f0f921\"]]}],\"contourcarpet\":[{\"type\":\"contourcarpet\",\"colorbar\":{\"outlinewidth\":0,\"ticks\":\"\"}}],\"contour\":[{\"type\":\"contour\",\"colorbar\":{\"outlinewidth\":0,\"ticks\":\"\"},\"colorscale\":[[0.0,\"#0d0887\"],[0.1111111111111111,\"#46039f\"],[0.2222222222222222,\"#7201a8\"],[0.3333333333333333,\"#9c179e\"],[0.4444444444444444,\"#bd3786\"],[0.5555555555555556,\"#d8576b\"],[0.6666666666666666,\"#ed7953\"],[0.7777777777777778,\"#fb9f3a\"],[0.8888888888888888,\"#fdca26\"],[1.0,\"#f0f921\"]]}],\"surface\":[{\"type\":\"surface\",\"colorbar\":{\"outlinewidth\":0,\"ticks\":\"\"},\"colorscale\":[[0.0,\"#0d0887\"],[0.1111111111111111,\"#46039f\"],[0.2222222222222222,\"#7201a8\"],[0.3333333333333333,\"#9c179e\"],[0.4444444444444444,\"#bd3786\"],[0.5555555555555556,\"#d8576b\"],[0.6666666666666666,\"#ed7953\"],[0.7777777777777778,\"#fb9f3a\"],[0.8888888888888888,\"#fdca26\"],[1.0,\"#f0f921\"]]}],\"mesh3d\":[{\"type\":\"mesh3d\",\"colorbar\":{\"outlinewidth\":0,\"ticks\":\"\"}}],\"scatter\":[{\"fillpattern\":{\"fillmode\":\"overlay\",\"size\":10,\"solidity\":0.2},\"type\":\"scatter\"}],\"parcoords\":[{\"type\":\"parcoords\",\"line\":{\"colorbar\":{\"outlinewidth\":0,\"ticks\":\"\"}}}],\"scatterpolargl\":[{\"type\":\"scatterpolargl\",\"marker\":{\"colorbar\":{\"outlinewidth\":0,\"ticks\":\"\"}}}],\"bar\":[{\"error_x\":{\"color\":\"#2a3f5f\"},\"error_y\":{\"color\":\"#2a3f5f\"},\"marker\":{\"line\":{\"color\":\"#E5ECF6\",\"width\":0.5},\"pattern\":{\"fillmode\":\"overlay\",\"size\":10,\"solidity\":0.2}},\"type\":\"bar\"}],\"scattergeo\":[{\"type\":\"scattergeo\",\"marker\":{\"colorbar\":{\"outlinewidth\":0,\"ticks\":\"\"}}}],\"scatterpolar\":[{\"type\":\"scatterpolar\",\"marker\":{\"colorbar\":{\"outlinewidth\":0,\"ticks\":\"\"}}}],\"histogram\":[{\"marker\":{\"pattern\":{\"fillmode\":\"overlay\",\"size\":10,\"solidity\":0.2}},\"type\":\"histogram\"}],\"scattergl\":[{\"type\":\"scattergl\",\"marker\":{\"colorbar\":{\"outlinewidth\":0,\"ticks\":\"\"}}}],\"scatter3d\":[{\"type\":\"scatter3d\",\"line\":{\"colorbar\":{\"outlinewidth\":0,\"ticks\":\"\"}},\"marker\":{\"colorbar\":{\"outlinewidth\":0,\"ticks\":\"\"}}}],\"scattermapbox\":[{\"type\":\"scattermapbox\",\"marker\":{\"colorbar\":{\"outlinewidth\":0,\"ticks\":\"\"}}}],\"scatterternary\":[{\"type\":\"scatterternary\",\"marker\":{\"colorbar\":{\"outlinewidth\":0,\"ticks\":\"\"}}}],\"scattercarpet\":[{\"type\":\"scattercarpet\",\"marker\":{\"colorbar\":{\"outlinewidth\":0,\"ticks\":\"\"}}}],\"carpet\":[{\"aaxis\":{\"endlinecolor\":\"#2a3f5f\",\"gridcolor\":\"white\",\"linecolor\":\"white\",\"minorgridcolor\":\"white\",\"startlinecolor\":\"#2a3f5f\"},\"baxis\":{\"endlinecolor\":\"#2a3f5f\",\"gridcolor\":\"white\",\"linecolor\":\"white\",\"minorgridcolor\":\"white\",\"startlinecolor\":\"#2a3f5f\"},\"type\":\"carpet\"}],\"table\":[{\"cells\":{\"fill\":{\"color\":\"#EBF0F8\"},\"line\":{\"color\":\"white\"}},\"header\":{\"fill\":{\"color\":\"#C8D4E3\"},\"line\":{\"color\":\"white\"}},\"type\":\"table\"}],\"barpolar\":[{\"marker\":{\"line\":{\"color\":\"#E5ECF6\",\"width\":0.5},\"pattern\":{\"fillmode\":\"overlay\",\"size\":10,\"solidity\":0.2}},\"type\":\"barpolar\"}],\"pie\":[{\"automargin\":true,\"type\":\"pie\"}]},\"layout\":{\"autotypenumbers\":\"strict\",\"colorway\":[\"#636efa\",\"#EF553B\",\"#00cc96\",\"#ab63fa\",\"#FFA15A\",\"#19d3f3\",\"#FF6692\",\"#B6E880\",\"#FF97FF\",\"#FECB52\"],\"font\":{\"color\":\"#2a3f5f\"},\"hovermode\":\"closest\",\"hoverlabel\":{\"align\":\"left\"},\"paper_bgcolor\":\"white\",\"plot_bgcolor\":\"#E5ECF6\",\"polar\":{\"bgcolor\":\"#E5ECF6\",\"angularaxis\":{\"gridcolor\":\"white\",\"linecolor\":\"white\",\"ticks\":\"\"},\"radialaxis\":{\"gridcolor\":\"white\",\"linecolor\":\"white\",\"ticks\":\"\"}},\"ternary\":{\"bgcolor\":\"#E5ECF6\",\"aaxis\":{\"gridcolor\":\"white\",\"linecolor\":\"white\",\"ticks\":\"\"},\"baxis\":{\"gridcolor\":\"white\",\"linecolor\":\"white\",\"ticks\":\"\"},\"caxis\":{\"gridcolor\":\"white\",\"linecolor\":\"white\",\"ticks\":\"\"}},\"coloraxis\":{\"colorbar\":{\"outlinewidth\":0,\"ticks\":\"\"}},\"colorscale\":{\"sequential\":[[0.0,\"#0d0887\"],[0.1111111111111111,\"#46039f\"],[0.2222222222222222,\"#7201a8\"],[0.3333333333333333,\"#9c179e\"],[0.4444444444444444,\"#bd3786\"],[0.5555555555555556,\"#d8576b\"],[0.6666666666666666,\"#ed7953\"],[0.7777777777777778,\"#fb9f3a\"],[0.8888888888888888,\"#fdca26\"],[1.0,\"#f0f921\"]],\"sequentialminus\":[[0.0,\"#0d0887\"],[0.1111111111111111,\"#46039f\"],[0.2222222222222222,\"#7201a8\"],[0.3333333333333333,\"#9c179e\"],[0.4444444444444444,\"#bd3786\"],[0.5555555555555556,\"#d8576b\"],[0.6666666666666666,\"#ed7953\"],[0.7777777777777778,\"#fb9f3a\"],[0.8888888888888888,\"#fdca26\"],[1.0,\"#f0f921\"]],\"diverging\":[[0,\"#8e0152\"],[0.1,\"#c51b7d\"],[0.2,\"#de77ae\"],[0.3,\"#f1b6da\"],[0.4,\"#fde0ef\"],[0.5,\"#f7f7f7\"],[0.6,\"#e6f5d0\"],[0.7,\"#b8e186\"],[0.8,\"#7fbc41\"],[0.9,\"#4d9221\"],[1,\"#276419\"]]},\"xaxis\":{\"gridcolor\":\"white\",\"linecolor\":\"white\",\"ticks\":\"\",\"title\":{\"standoff\":15},\"zerolinecolor\":\"white\",\"automargin\":true,\"zerolinewidth\":2},\"yaxis\":{\"gridcolor\":\"white\",\"linecolor\":\"white\",\"ticks\":\"\",\"title\":{\"standoff\":15},\"zerolinecolor\":\"white\",\"automargin\":true,\"zerolinewidth\":2},\"scene\":{\"xaxis\":{\"backgroundcolor\":\"#E5ECF6\",\"gridcolor\":\"white\",\"linecolor\":\"white\",\"showbackground\":true,\"ticks\":\"\",\"zerolinecolor\":\"white\",\"gridwidth\":2},\"yaxis\":{\"backgroundcolor\":\"#E5ECF6\",\"gridcolor\":\"white\",\"linecolor\":\"white\",\"showbackground\":true,\"ticks\":\"\",\"zerolinecolor\":\"white\",\"gridwidth\":2},\"zaxis\":{\"backgroundcolor\":\"#E5ECF6\",\"gridcolor\":\"white\",\"linecolor\":\"white\",\"showbackground\":true,\"ticks\":\"\",\"zerolinecolor\":\"white\",\"gridwidth\":2}},\"shapedefaults\":{\"line\":{\"color\":\"#2a3f5f\"}},\"annotationdefaults\":{\"arrowcolor\":\"#2a3f5f\",\"arrowhead\":0,\"arrowwidth\":1},\"geo\":{\"bgcolor\":\"white\",\"landcolor\":\"#E5ECF6\",\"subunitcolor\":\"white\",\"showland\":true,\"showlakes\":true,\"lakecolor\":\"white\"},\"title\":{\"x\":0.05},\"mapbox\":{\"style\":\"light\"}}},\"xaxis\":{\"anchor\":\"y\",\"domain\":[0.0,1.0],\"title\":{\"text\":\"total_bill\"}},\"yaxis\":{\"anchor\":\"x\",\"domain\":[0.0,0.7326],\"title\":{\"text\":\"count\"}},\"xaxis2\":{\"anchor\":\"y2\",\"domain\":[0.0,1.0],\"matches\":\"x\",\"showticklabels\":false,\"showgrid\":true},\"yaxis2\":{\"anchor\":\"x2\",\"domain\":[0.7426,1.0],\"matches\":\"y2\",\"showticklabels\":false,\"showline\":false,\"ticks\":\"\",\"showgrid\":false},\"legend\":{\"title\":{\"text\":\"sex, smoker\"},\"tracegroupgap\":0},\"margin\":{\"t\":60},\"barmode\":\"relative\"},                        {\"responsive\": true}                    )                };                            </script>        </div>"
      ],
      "text/plain": [
       "Figure({\n",
       "    'data': [{'alignmentgroup': 'True',\n",
       "              'bingroup': 'x',\n",
       "              'hovertemplate': 'sex=Female<br>smoker=No<br>total_bill=%{x}<br>count=%{y}<extra></extra>',\n",
       "              'legendgroup': 'Female, No',\n",
       "              'marker': {'color': '#636efa', 'pattern': {'shape': ''}},\n",
       "              'name': 'Female, No',\n",
       "              'offsetgroup': 'Female, No',\n",
       "              'orientation': 'v',\n",
       "              'showlegend': True,\n",
       "              'type': 'histogram',\n",
       "              'x': array([16.99, 24.59, 35.26, 14.83, 10.33, 16.97, 20.29, 15.77, 19.65, 15.06,\n",
       "                          20.69, 16.93, 10.29, 34.81, 26.41, 16.45, 17.07, 14.73, 10.07, 34.83,\n",
       "                          22.75, 20.92,  7.25, 25.71, 17.31, 10.65, 12.43, 24.08, 13.42, 12.48,\n",
       "                          29.8 , 14.52, 11.38, 20.27, 11.17, 12.26, 18.26,  8.51, 10.33, 14.15,\n",
       "                          13.16, 17.47, 27.05, 16.43,  8.35, 18.64, 11.87, 29.85, 25.  , 13.39,\n",
       "                          16.21, 15.98, 35.83, 18.78]),\n",
       "              'xaxis': 'x',\n",
       "              'yaxis': 'y'},\n",
       "             {'alignmentgroup': 'True',\n",
       "              'boxpoints': 'all',\n",
       "              'customdata': array([[1.01, 'Female', 'No', 'Sun', 'Dinner', 2],\n",
       "                                   [3.61, 'Female', 'No', 'Sun', 'Dinner', 4],\n",
       "                                   [5.0, 'Female', 'No', 'Sun', 'Dinner', 4],\n",
       "                                   ...,\n",
       "                                   [3.0, 'Female', 'No', 'Fri', 'Lunch', 3],\n",
       "                                   [4.67, 'Female', 'No', 'Sat', 'Dinner', 3],\n",
       "                                   [3.0, 'Female', 'No', 'Thur', 'Dinner', 2]], dtype=object),\n",
       "              'fillcolor': 'rgba(255,255,255,0)',\n",
       "              'hoveron': 'points',\n",
       "              'hovertemplate': ('sex=%{customdata[1]}<br>smoker' ... '{customdata[5]}<extra></extra>'),\n",
       "              'jitter': 0,\n",
       "              'legendgroup': 'Female, No',\n",
       "              'line': {'color': 'rgba(255,255,255,0)'},\n",
       "              'marker': {'color': '#636efa', 'symbol': 'line-ns-open'},\n",
       "              'name': 'Female, No',\n",
       "              'offsetgroup': 'Female, No',\n",
       "              'showlegend': False,\n",
       "              'type': 'box',\n",
       "              'x': array([16.99, 24.59, 35.26, 14.83, 10.33, 16.97, 20.29, 15.77, 19.65, 15.06,\n",
       "                          20.69, 16.93, 10.29, 34.81, 26.41, 16.45, 17.07, 14.73, 10.07, 34.83,\n",
       "                          22.75, 20.92,  7.25, 25.71, 17.31, 10.65, 12.43, 24.08, 13.42, 12.48,\n",
       "                          29.8 , 14.52, 11.38, 20.27, 11.17, 12.26, 18.26,  8.51, 10.33, 14.15,\n",
       "                          13.16, 17.47, 27.05, 16.43,  8.35, 18.64, 11.87, 29.85, 25.  , 13.39,\n",
       "                          16.21, 15.98, 35.83, 18.78]),\n",
       "              'xaxis': 'x2',\n",
       "              'yaxis': 'y2'},\n",
       "             {'alignmentgroup': 'True',\n",
       "              'bingroup': 'x',\n",
       "              'hovertemplate': 'sex=Female<br>smoker=Yes<br>total_bill=%{x}<br>count=%{y}<extra></extra>',\n",
       "              'legendgroup': 'Female, Yes',\n",
       "              'marker': {'color': '#636efa', 'pattern': {'shape': '/'}},\n",
       "              'name': 'Female, Yes',\n",
       "              'offsetgroup': 'Female, Yes',\n",
       "              'orientation': 'v',\n",
       "              'showlegend': True,\n",
       "              'type': 'histogram',\n",
       "              'x': array([ 3.07, 26.86, 25.28,  5.75, 16.32, 11.35, 15.38, 44.3 , 22.42, 14.31,\n",
       "                          17.51, 10.59, 10.63,  9.6 , 20.9 , 18.15, 19.81, 43.11, 13.  , 12.74,\n",
       "                          13.  , 16.4 , 16.47, 12.76, 13.27, 28.17, 12.9 , 30.14, 13.42, 16.27,\n",
       "                          10.09, 22.12, 27.18]),\n",
       "              'xaxis': 'x',\n",
       "              'yaxis': 'y'},\n",
       "             {'alignmentgroup': 'True',\n",
       "              'boxpoints': 'all',\n",
       "              'customdata': array([[1.0, 'Female', 'Yes', 'Sat', 'Dinner', 1],\n",
       "                                   [3.14, 'Female', 'Yes', 'Sat', 'Dinner', 2],\n",
       "                                   [5.0, 'Female', 'Yes', 'Sat', 'Dinner', 2],\n",
       "                                   [1.0, 'Female', 'Yes', 'Fri', 'Dinner', 2],\n",
       "                                   [4.3, 'Female', 'Yes', 'Fri', 'Dinner', 2],\n",
       "                                   [2.5, 'Female', 'Yes', 'Fri', 'Dinner', 2],\n",
       "                                   [3.0, 'Female', 'Yes', 'Fri', 'Dinner', 2],\n",
       "                                   [2.5, 'Female', 'Yes', 'Sat', 'Dinner', 3],\n",
       "                                   [3.48, 'Female', 'Yes', 'Sat', 'Dinner', 2],\n",
       "                                   [4.0, 'Female', 'Yes', 'Sat', 'Dinner', 2],\n",
       "                                   [3.0, 'Female', 'Yes', 'Sun', 'Dinner', 2],\n",
       "                                   [1.61, 'Female', 'Yes', 'Sat', 'Dinner', 2],\n",
       "                                   [2.0, 'Female', 'Yes', 'Sat', 'Dinner', 2],\n",
       "                                   [4.0, 'Female', 'Yes', 'Sun', 'Dinner', 2],\n",
       "                                   [3.5, 'Female', 'Yes', 'Sun', 'Dinner', 3],\n",
       "                                   [3.5, 'Female', 'Yes', 'Sun', 'Dinner', 3],\n",
       "                                   [4.19, 'Female', 'Yes', 'Thur', 'Lunch', 2],\n",
       "                                   [5.0, 'Female', 'Yes', 'Thur', 'Lunch', 4],\n",
       "                                   [2.0, 'Female', 'Yes', 'Thur', 'Lunch', 2],\n",
       "                                   [2.01, 'Female', 'Yes', 'Thur', 'Lunch', 2],\n",
       "                                   [2.0, 'Female', 'Yes', 'Thur', 'Lunch', 2],\n",
       "                                   [2.5, 'Female', 'Yes', 'Thur', 'Lunch', 2],\n",
       "                                   [3.23, 'Female', 'Yes', 'Thur', 'Lunch', 3],\n",
       "                                   [2.23, 'Female', 'Yes', 'Sat', 'Dinner', 2],\n",
       "                                   [2.5, 'Female', 'Yes', 'Sat', 'Dinner', 2],\n",
       "                                   [6.5, 'Female', 'Yes', 'Sat', 'Dinner', 3],\n",
       "                                   [1.1, 'Female', 'Yes', 'Sat', 'Dinner', 2],\n",
       "                                   [3.09, 'Female', 'Yes', 'Sat', 'Dinner', 4],\n",
       "                                   [3.48, 'Female', 'Yes', 'Fri', 'Lunch', 2],\n",
       "                                   [2.5, 'Female', 'Yes', 'Fri', 'Lunch', 2],\n",
       "                                   [2.0, 'Female', 'Yes', 'Fri', 'Lunch', 2],\n",
       "                                   [2.88, 'Female', 'Yes', 'Sat', 'Dinner', 2],\n",
       "                                   [2.0, 'Female', 'Yes', 'Sat', 'Dinner', 2]], dtype=object),\n",
       "              'fillcolor': 'rgba(255,255,255,0)',\n",
       "              'hoveron': 'points',\n",
       "              'hovertemplate': ('sex=%{customdata[1]}<br>smoker' ... '{customdata[5]}<extra></extra>'),\n",
       "              'jitter': 0,\n",
       "              'legendgroup': 'Female, Yes',\n",
       "              'line': {'color': 'rgba(255,255,255,0)'},\n",
       "              'marker': {'color': '#636efa', 'symbol': 'line-ns-open'},\n",
       "              'name': 'Female, Yes',\n",
       "              'offsetgroup': 'Female, Yes',\n",
       "              'showlegend': False,\n",
       "              'type': 'box',\n",
       "              'x': array([ 3.07, 26.86, 25.28,  5.75, 16.32, 11.35, 15.38, 44.3 , 22.42, 14.31,\n",
       "                          17.51, 10.59, 10.63,  9.6 , 20.9 , 18.15, 19.81, 43.11, 13.  , 12.74,\n",
       "                          13.  , 16.4 , 16.47, 12.76, 13.27, 28.17, 12.9 , 30.14, 13.42, 16.27,\n",
       "                          10.09, 22.12, 27.18]),\n",
       "              'xaxis': 'x2',\n",
       "              'yaxis': 'y2'},\n",
       "             {'alignmentgroup': 'True',\n",
       "              'bingroup': 'x',\n",
       "              'hovertemplate': 'sex=Male<br>smoker=No<br>total_bill=%{x}<br>count=%{y}<extra></extra>',\n",
       "              'legendgroup': 'Male, No',\n",
       "              'marker': {'color': '#EF553B', 'pattern': {'shape': ''}},\n",
       "              'name': 'Male, No',\n",
       "              'offsetgroup': 'Male, No',\n",
       "              'orientation': 'v',\n",
       "              'showlegend': True,\n",
       "              'type': 'histogram',\n",
       "              'x': array([10.34, 21.01, 23.68, 25.29,  8.77, 26.88, 15.04, 14.78, 10.27, 15.42,\n",
       "                          18.43, 21.58, 16.29, 20.65, 17.92, 39.42, 19.82, 17.81, 13.37, 12.69,\n",
       "                          21.7 ,  9.55, 18.35, 17.78, 24.06, 16.31, 18.69, 31.27, 16.04, 17.46,\n",
       "                          13.94,  9.68, 30.4 , 18.29, 22.23, 32.4 , 28.55, 18.04, 12.54,  9.94,\n",
       "                          25.56, 19.49, 48.27, 17.59, 20.08, 20.23, 12.02, 10.51, 27.2 , 22.76,\n",
       "                          17.29, 16.66, 15.98, 13.03, 18.28, 24.71, 21.16, 22.49, 12.46, 18.24,\n",
       "                          14.  , 38.07, 23.95, 29.93, 11.69, 14.26, 15.95,  8.52, 22.82, 19.08,\n",
       "                          34.3 , 41.19,  9.78,  7.51, 14.07, 13.13, 17.26, 24.55, 19.77, 48.17,\n",
       "                          16.49, 21.5 , 12.66, 13.81, 24.52, 20.76, 31.71, 20.69,  7.56, 48.33,\n",
       "                          20.45, 13.28, 11.61, 10.77, 10.07, 29.03, 17.82]),\n",
       "              'xaxis': 'x',\n",
       "              'yaxis': 'y'},\n",
       "             {'alignmentgroup': 'True',\n",
       "              'boxpoints': 'all',\n",
       "              'customdata': array([[1.66, 'Male', 'No', 'Sun', 'Dinner', 3],\n",
       "                                   [3.5, 'Male', 'No', 'Sun', 'Dinner', 3],\n",
       "                                   [3.31, 'Male', 'No', 'Sun', 'Dinner', 2],\n",
       "                                   ...,\n",
       "                                   [1.25, 'Male', 'No', 'Sat', 'Dinner', 2],\n",
       "                                   [5.92, 'Male', 'No', 'Sat', 'Dinner', 3],\n",
       "                                   [1.75, 'Male', 'No', 'Sat', 'Dinner', 2]], dtype=object),\n",
       "              'fillcolor': 'rgba(255,255,255,0)',\n",
       "              'hoveron': 'points',\n",
       "              'hovertemplate': ('sex=%{customdata[1]}<br>smoker' ... '{customdata[5]}<extra></extra>'),\n",
       "              'jitter': 0,\n",
       "              'legendgroup': 'Male, No',\n",
       "              'line': {'color': 'rgba(255,255,255,0)'},\n",
       "              'marker': {'color': '#EF553B', 'symbol': 'line-ns-open'},\n",
       "              'name': 'Male, No',\n",
       "              'offsetgroup': 'Male, No',\n",
       "              'showlegend': False,\n",
       "              'type': 'box',\n",
       "              'x': array([10.34, 21.01, 23.68, 25.29,  8.77, 26.88, 15.04, 14.78, 10.27, 15.42,\n",
       "                          18.43, 21.58, 16.29, 20.65, 17.92, 39.42, 19.82, 17.81, 13.37, 12.69,\n",
       "                          21.7 ,  9.55, 18.35, 17.78, 24.06, 16.31, 18.69, 31.27, 16.04, 17.46,\n",
       "                          13.94,  9.68, 30.4 , 18.29, 22.23, 32.4 , 28.55, 18.04, 12.54,  9.94,\n",
       "                          25.56, 19.49, 48.27, 17.59, 20.08, 20.23, 12.02, 10.51, 27.2 , 22.76,\n",
       "                          17.29, 16.66, 15.98, 13.03, 18.28, 24.71, 21.16, 22.49, 12.46, 18.24,\n",
       "                          14.  , 38.07, 23.95, 29.93, 11.69, 14.26, 15.95,  8.52, 22.82, 19.08,\n",
       "                          34.3 , 41.19,  9.78,  7.51, 14.07, 13.13, 17.26, 24.55, 19.77, 48.17,\n",
       "                          16.49, 21.5 , 12.66, 13.81, 24.52, 20.76, 31.71, 20.69,  7.56, 48.33,\n",
       "                          20.45, 13.28, 11.61, 10.77, 10.07, 29.03, 17.82]),\n",
       "              'xaxis': 'x2',\n",
       "              'yaxis': 'y2'},\n",
       "             {'alignmentgroup': 'True',\n",
       "              'bingroup': 'x',\n",
       "              'hovertemplate': 'sex=Male<br>smoker=Yes<br>total_bill=%{x}<br>count=%{y}<extra></extra>',\n",
       "              'legendgroup': 'Male, Yes',\n",
       "              'marker': {'color': '#EF553B', 'pattern': {'shape': '/'}},\n",
       "              'name': 'Male, Yes',\n",
       "              'offsetgroup': 'Male, Yes',\n",
       "              'orientation': 'v',\n",
       "              'showlegend': True,\n",
       "              'type': 'histogram',\n",
       "              'x': array([38.01, 11.24, 20.29, 13.81, 11.02, 18.29, 15.01, 17.92, 19.44, 32.68,\n",
       "                          28.97, 40.17, 27.28, 12.03, 21.01, 15.36, 20.49, 25.21, 16.  , 50.81,\n",
       "                          15.81,  7.25, 31.85, 16.82, 32.9 , 17.89, 14.48, 34.63, 34.65, 23.33,\n",
       "                          45.35, 23.17, 40.55, 30.46, 23.1 , 15.69, 28.44, 15.48, 16.58, 10.34,\n",
       "                          13.51, 18.71, 20.53, 26.59, 38.73, 24.27, 30.06, 25.89, 28.15, 11.59,\n",
       "                           7.74, 12.16,  8.58, 13.42, 24.01, 15.69, 15.53, 12.6 , 32.83, 22.67]),\n",
       "              'xaxis': 'x',\n",
       "              'yaxis': 'y'},\n",
       "             {'alignmentgroup': 'True',\n",
       "              'boxpoints': 'all',\n",
       "              'customdata': array([[3.0, 'Male', 'Yes', 'Sat', 'Dinner', 4],\n",
       "                                   [1.76, 'Male', 'Yes', 'Sat', 'Dinner', 2],\n",
       "                                   [3.21, 'Male', 'Yes', 'Sat', 'Dinner', 2],\n",
       "                                   ...,\n",
       "                                   [1.0, 'Male', 'Yes', 'Sat', 'Dinner', 2],\n",
       "                                   [1.17, 'Male', 'Yes', 'Sat', 'Dinner', 2],\n",
       "                                   [2.0, 'Male', 'Yes', 'Sat', 'Dinner', 2]], dtype=object),\n",
       "              'fillcolor': 'rgba(255,255,255,0)',\n",
       "              'hoveron': 'points',\n",
       "              'hovertemplate': ('sex=%{customdata[1]}<br>smoker' ... '{customdata[5]}<extra></extra>'),\n",
       "              'jitter': 0,\n",
       "              'legendgroup': 'Male, Yes',\n",
       "              'line': {'color': 'rgba(255,255,255,0)'},\n",
       "              'marker': {'color': '#EF553B', 'symbol': 'line-ns-open'},\n",
       "              'name': 'Male, Yes',\n",
       "              'offsetgroup': 'Male, Yes',\n",
       "              'showlegend': False,\n",
       "              'type': 'box',\n",
       "              'x': array([38.01, 11.24, 20.29, 13.81, 11.02, 18.29, 15.01, 17.92, 19.44, 32.68,\n",
       "                          28.97, 40.17, 27.28, 12.03, 21.01, 15.36, 20.49, 25.21, 16.  , 50.81,\n",
       "                          15.81,  7.25, 31.85, 16.82, 32.9 , 17.89, 14.48, 34.63, 34.65, 23.33,\n",
       "                          45.35, 23.17, 40.55, 30.46, 23.1 , 15.69, 28.44, 15.48, 16.58, 10.34,\n",
       "                          13.51, 18.71, 20.53, 26.59, 38.73, 24.27, 30.06, 25.89, 28.15, 11.59,\n",
       "                           7.74, 12.16,  8.58, 13.42, 24.01, 15.69, 15.53, 12.6 , 32.83, 22.67]),\n",
       "              'xaxis': 'x2',\n",
       "              'yaxis': 'y2'}],\n",
       "    'layout': {'barmode': 'relative',\n",
       "               'legend': {'title': {'text': 'sex, smoker'}, 'tracegroupgap': 0},\n",
       "               'margin': {'t': 60},\n",
       "               'template': '...',\n",
       "               'xaxis': {'anchor': 'y', 'domain': [0.0, 1.0], 'title': {'text': 'total_bill'}},\n",
       "               'xaxis2': {'anchor': 'y2', 'domain': [0.0, 1.0], 'matches': 'x', 'showgrid': True, 'showticklabels': False},\n",
       "               'yaxis': {'anchor': 'x', 'domain': [0.0, 0.7326], 'title': {'text': 'count'}},\n",
       "               'yaxis2': {'anchor': 'x2',\n",
       "                          'domain': [0.7426, 1.0],\n",
       "                          'matches': 'y2',\n",
       "                          'showgrid': False,\n",
       "                          'showline': False,\n",
       "                          'showticklabels': False,\n",
       "                          'ticks': ''}}\n",
       "})"
      ]
     },
     "execution_count": 14,
     "metadata": {},
     "output_type": "execute_result"
    }
   ],
   "source": [
    "df = px.data.tips()\n",
    "fig3 = px.histogram(df, x=\"total_bill\", color=\"sex\", marginal=\"rug\", pattern_shape=\"smoker\", # can be `box`, `violin`\n",
    "                         hover_data=df.columns)\n",
    "fig3.write_html(\"/home/niko/Downloads/plotly_test_histogram.html\")\n",
    "fig3"
   ]
  },
  {
   "cell_type": "code",
   "execution_count": 16,
   "metadata": {},
   "outputs": [
    {
     "ename": "ValueError",
     "evalue": "Mime type rendering requires nbformat>=4.2.0 but it is not installed",
     "output_type": "error",
     "traceback": [
      "\u001b[0;31m---------------------------------------------------------------------------\u001b[0m",
      "\u001b[0;31mValueError\u001b[0m                                Traceback (most recent call last)",
      "File \u001b[0;32m~/code/plugin_dev/eis_testing/eis_venv_test/lib/python3.10/site-packages/IPython/core/formatters.py:920\u001b[0m, in \u001b[0;36mIPythonDisplayFormatter.__call__\u001b[0;34m(self, obj)\u001b[0m\n\u001b[1;32m    918\u001b[0m method \u001b[39m=\u001b[39m get_real_method(obj, \u001b[39mself\u001b[39m\u001b[39m.\u001b[39mprint_method)\n\u001b[1;32m    919\u001b[0m \u001b[39mif\u001b[39;00m method \u001b[39mis\u001b[39;00m \u001b[39mnot\u001b[39;00m \u001b[39mNone\u001b[39;00m:\n\u001b[0;32m--> 920\u001b[0m     method()\n\u001b[1;32m    921\u001b[0m     \u001b[39mreturn\u001b[39;00m \u001b[39mTrue\u001b[39;00m\n",
      "File \u001b[0;32m~/code/plugin_dev/eis_testing/eis_venv_test/lib/python3.10/site-packages/plotly/basedatatypes.py:834\u001b[0m, in \u001b[0;36mBaseFigure._ipython_display_\u001b[0;34m(self)\u001b[0m\n\u001b[1;32m    831\u001b[0m \u001b[39mimport\u001b[39;00m \u001b[39mplotly\u001b[39;00m\u001b[39m.\u001b[39;00m\u001b[39mio\u001b[39;00m \u001b[39mas\u001b[39;00m \u001b[39mpio\u001b[39;00m\n\u001b[1;32m    833\u001b[0m \u001b[39mif\u001b[39;00m pio\u001b[39m.\u001b[39mrenderers\u001b[39m.\u001b[39mrender_on_display \u001b[39mand\u001b[39;00m pio\u001b[39m.\u001b[39mrenderers\u001b[39m.\u001b[39mdefault:\n\u001b[0;32m--> 834\u001b[0m     pio\u001b[39m.\u001b[39;49mshow(\u001b[39mself\u001b[39;49m)\n\u001b[1;32m    835\u001b[0m \u001b[39melse\u001b[39;00m:\n\u001b[1;32m    836\u001b[0m     \u001b[39mprint\u001b[39m(\u001b[39mrepr\u001b[39m(\u001b[39mself\u001b[39m))\n",
      "File \u001b[0;32m~/code/plugin_dev/eis_testing/eis_venv_test/lib/python3.10/site-packages/plotly/io/_renderers.py:396\u001b[0m, in \u001b[0;36mshow\u001b[0;34m(fig, renderer, validate, **kwargs)\u001b[0m\n\u001b[1;32m    391\u001b[0m         \u001b[39mraise\u001b[39;00m \u001b[39mValueError\u001b[39;00m(\n\u001b[1;32m    392\u001b[0m             \u001b[39m\"\u001b[39m\u001b[39mMime type rendering requires ipython but it is not installed\u001b[39m\u001b[39m\"\u001b[39m\n\u001b[1;32m    393\u001b[0m         )\n\u001b[1;32m    395\u001b[0m     \u001b[39mif\u001b[39;00m \u001b[39mnot\u001b[39;00m nbformat \u001b[39mor\u001b[39;00m Version(nbformat\u001b[39m.\u001b[39m__version__) \u001b[39m<\u001b[39m Version(\u001b[39m\"\u001b[39m\u001b[39m4.2.0\u001b[39m\u001b[39m\"\u001b[39m):\n\u001b[0;32m--> 396\u001b[0m         \u001b[39mraise\u001b[39;00m \u001b[39mValueError\u001b[39;00m(\n\u001b[1;32m    397\u001b[0m             \u001b[39m\"\u001b[39m\u001b[39mMime type rendering requires nbformat>=4.2.0 but it is not installed\u001b[39m\u001b[39m\"\u001b[39m\n\u001b[1;32m    398\u001b[0m         )\n\u001b[1;32m    400\u001b[0m     ipython_display\u001b[39m.\u001b[39mdisplay(bundle, raw\u001b[39m=\u001b[39m\u001b[39mTrue\u001b[39;00m)\n\u001b[1;32m    402\u001b[0m \u001b[39m# external renderers\u001b[39;00m\n",
      "\u001b[0;31mValueError\u001b[0m: Mime type rendering requires nbformat>=4.2.0 but it is not installed"
     ]
    },
    {
     "data": {
      "application/vnd.plotly.v1+json": {
       "config": {
        "plotlyServerURL": "https://plot.ly"
       },
       "data": [
        {
         "hovertemplate": "color=setosa<br>PC 1=%{x}<br>PC 2=%{y}<br>PC 3=%{z}<extra></extra>",
         "legendgroup": "setosa",
         "marker": {
          "color": "#636efa",
          "symbol": "circle"
         },
         "mode": "markers",
         "name": "setosa",
         "scene": "scene",
         "showlegend": true,
         "type": "scatter3d",
         "x": [
          -2.6842071251039537,
          -2.715390615634132,
          -2.8898195396179167,
          -2.7464371973087345,
          -2.7285929818313144,
          -2.2798973610095974,
          -2.8208906821806305,
          -2.626481993323819,
          -2.887958565335635,
          -2.6738446867191215,
          -2.5065267893389036,
          -2.613142718271056,
          -2.787433975997098,
          -3.2252004462749815,
          -2.643543216941146,
          -2.383869323799375,
          -2.6225262031258083,
          -2.648322732479127,
          -2.1990779614307634,
          -2.587346188917738,
          -2.310531701313133,
          -2.5432349073036953,
          -3.2158576949001056,
          -2.303128537663883,
          -2.3561710866838976,
          -2.507917226837881,
          -2.469055997545123,
          -2.562390946836751,
          -2.639821268376582,
          -2.632847908030758,
          -2.5884620513033916,
          -2.4100773371215958,
          -2.6476366733969003,
          -2.5971594770759183,
          -2.6738446867191215,
          -2.8669998469325346,
          -2.6252284646804207,
          -2.6738446867191215,
          -2.981842664853909,
          -2.590323025585674,
          -2.770138910746324,
          -2.852211081566392,
          -2.9982964428323515,
          -2.4055141012847012,
          -2.2088329541767053,
          -2.7156651907474547,
          -2.5375733710135067,
          -2.840321296827009,
          -2.5426857570770487,
          -2.7039123148636506
         ],
         "y": [
          0.32660731476438964,
          -0.16955684755602587,
          -0.13734560960502756,
          -0.3111243157519917,
          0.33392456356845474,
          0.7477827132251333,
          -0.08210451102468086,
          0.1704053489602899,
          -0.5707980263315916,
          -0.10669170375273844,
          0.6519350136725719,
          0.02152063196025797,
          -0.2277401888711062,
          -0.5032799094854257,
          1.1861948994134492,
          1.344754344559862,
          0.818089674596595,
          0.3191366677508846,
          0.8792440880917366,
          0.520473638805968,
          0.397867821588892,
          0.44003175465981514,
          0.1416155716255837,
          0.10552267842998231,
          -0.031209589068338355,
          -0.1390563399131739,
          0.13788731459041773,
          0.3746845627501062,
          0.31929006596032183,
          -0.19007583063362404,
          -0.19739307943769077,
          0.41808000824761615,
          0.8199826325595069,
          1.1000219280072683,
          -0.10669170375273844,
          0.07719309572358732,
          0.6068000084215863,
          -0.10669170375273844,
          -0.4802500488560765,
          0.23605933728887285,
          0.2710594197651672,
          -0.9328653674695442,
          -0.33430757459077715,
          0.19591725769606083,
          0.4426960304210028,
          -0.24268148289811287,
          0.5103675454766058,
          -0.22057633827647652,
          0.5862810253439883,
          0.1150108521705057
         ],
         "z": [
          -0.021511837001963446,
          -0.20352142500549103,
          0.024709240998957018,
          0.037671975285301126,
          0.09622969977460934,
          0.17432561901640287,
          0.26425108519069607,
          -0.01580151026431509,
          0.02733540611450722,
          -0.1915332997356447,
          -0.06927499581393104,
          0.10765035324990462,
          -0.20032778809538934,
          0.06841362917233033,
          -0.14450570400963547,
          0.2837306639397769,
          0.14531598882161798,
          0.03339425407069799,
          -0.11452146479835291,
          0.21957208800082503,
          -0.23369560709796952,
          0.21483637027967545,
          0.29961898151087124,
          0.04568004127448711,
          0.12940757589599333,
          -0.24711633789085988,
          0.10126307942970224,
          -0.07235915743602828,
          -0.13925337377853475,
          0.04646646364504572,
          -0.07127507313152608,
          -0.13838824005004088,
          0.23058560425417263,
          0.16358191262366262,
          -0.1915332997356447,
          -0.15684235049802417,
          -0.2611631564817057,
          -0.1915332997356447,
          0.07972480735962136,
          -0.07390123824707663,
          0.08424157450476334,
          -0.3409614911071517,
          0.19900842494724194,
          0.2707170703688336,
          0.30348780926827046,
          -0.09051560595006831,
          0.1719184044768607,
          0.09006137653041515,
          -0.011175267831169093,
          -0.08269572660682166
         ]
        },
        {
         "hovertemplate": "color=versicolor<br>PC 1=%{x}<br>PC 2=%{y}<br>PC 3=%{z}<extra></extra>",
         "legendgroup": "versicolor",
         "marker": {
          "color": "#EF553B",
          "symbol": "circle"
         },
         "mode": "markers",
         "name": "versicolor",
         "scene": "scene",
         "showlegend": true,
         "type": "scatter3d",
         "x": [
          1.2847945878450717,
          0.9324107529829181,
          1.4640613227790755,
          0.180967206347699,
          1.0871344872070015,
          0.6404367495231456,
          1.0952237099384785,
          -0.7514671406482271,
          1.0432977807062813,
          -0.010190070727853029,
          -0.5110861958950906,
          0.5110980606834775,
          0.26233575615318044,
          0.9840445451694313,
          -0.17486400196569601,
          0.9275729420326999,
          0.6595927890562006,
          0.23454058625983573,
          0.9423617073988421,
          0.043246400328704686,
          1.1162407237538159,
          0.35678656783046153,
          1.2964688502855342,
          0.9205026489090097,
          0.7140082136428335,
          0.8996408632837766,
          1.3310414188547204,
          1.5573962720707026,
          0.8124555489980021,
          -0.30733475566340435,
          -0.07034288894927149,
          -0.19188449210314557,
          0.13499495045137352,
          1.3787369827755829,
          0.5872748535799112,
          0.8072054966767165,
          1.22042896624468,
          0.8128677903690701,
          0.2451951616903461,
          0.1645134283692558,
          0.4630309888714245,
          0.8901604456511567,
          0.22887904996964778,
          -0.7070812839208606,
          0.3555330391870635,
          0.33112694733272285,
          0.37523822894676584,
          0.6416902781665432,
          -0.9084633331234951,
          0.29780790740693397
         ],
         "y": [
          0.68543918613292,
          0.31919808983364867,
          0.504189832972453,
          -0.8256039435761132,
          0.07539038928876754,
          -0.41732348297002564,
          0.28389121093848024,
          -1.001107512974394,
          0.22895690877700686,
          -0.7205748667019015,
          -1.2624919538621402,
          -0.10228410504597023,
          -0.5478932980253365,
          -0.12436042022227792,
          -0.25181557108017055,
          0.468236205043117,
          -0.3519762910603165,
          -0.3319218293621202,
          -0.5418222581500138,
          -0.5814894466123586,
          -0.08421401387837357,
          -0.06682382794136613,
          -0.3275615197949439,
          -0.18239036332792094,
          0.15037915314843728,
          0.329610979581884,
          0.24466952060228933,
          0.2673925848127648,
          -0.16233157487863328,
          -0.3650866127661601,
          -0.7025379317307258,
          -0.677490544374357,
          -0.3117096427033961,
          -0.42120513821462835,
          -0.48328426771748256,
          0.19505396377111137,
          0.4080353370010174,
          -0.37067899831890944,
          -0.266728035661848,
          -0.6796614693108136,
          -0.6695265465361224,
          -0.0338124427467627,
          -0.40225762017891126,
          -1.0084247617784607,
          -0.5032184874026622,
          -0.21118014066262666,
          -0.2916220248087797,
          0.019071176491270814,
          -0.7515687251694854,
          -0.3470165215985638
         ],
         "z": [
          -0.4061295530769632,
          -0.01712990920512526,
          -0.338260727717959,
          -0.1770828563933648,
          -0.30654446481443176,
          0.04118876935364428,
          0.17002253374149978,
          0.015672194238160176,
          -0.41481456614870404,
          0.2834372462541257,
          -0.2664899538224497,
          0.13232789047497376,
          -0.6919415783189647,
          -0.06215742761353885,
          0.09365863819195044,
          -0.3132294005685773,
          0.32838429706934796,
          -0.2702806708356938,
          -0.49734854117770444,
          -0.2329635564825229,
          0.45984422657275337,
          -0.2274721803208833,
          -0.3475132125842503,
          -0.23161141855267012,
          -0.32037233282926975,
          -0.3147714813796257,
          -0.5212449247379848,
          -0.16463849085222856,
          0.036343576344490675,
          -0.3153371969389201,
          -0.24175804484226796,
          -0.3039165434636248,
          -0.1749733037877652,
          0.01548049512170827,
          0.4445837530348709,
          0.38945871138620247,
          -0.236566086849828,
          -0.612871050060673,
          0.18956248472924198,
          -0.057799238805744134,
          -0.024053890889809415,
          -0.009768026368424818,
          -0.22736270503287928,
          -0.10206934253841168,
          0.017889465896507525,
          0.08380907322251567,
          0.0790733555013659,
          -0.2041728768637463,
          -0.007736584506980621,
          0.012179139158859303
         ]
        },
        {
         "hovertemplate": "color=virginica<br>PC 1=%{x}<br>PC 2=%{y}<br>PC 3=%{z}<extra></extra>",
         "legendgroup": "virginica",
         "marker": {
          "color": "#00cc96",
          "symbol": "circle"
         },
         "mode": "markers",
         "name": "virginica",
         "scene": "scene",
         "showlegend": true,
         "type": "scatter3d",
         "x": [
          2.531726980439559,
          1.4140722251737574,
          2.6164846082840443,
          1.9708149459064823,
          2.349757983950943,
          3.396879920678139,
          0.5193832450849364,
          2.9320050969913014,
          2.3196727938740533,
          2.918134233644252,
          1.6619349470194873,
          1.8023404526607338,
          2.1653788629533977,
          1.3445942175098244,
          1.5852672993086439,
          1.904743578213913,
          1.9492487818644983,
          3.488765379656386,
          3.79468686120997,
          1.298329824567816,
          2.4281672590208485,
          1.1980973722749628,
          3.499265484298957,
          1.3876682501815558,
          2.2758536493056942,
          2.6141938306983343,
          1.2576251829251366,
          1.2906696477376016,
          2.1228539805083133,
          2.387564402369028,
          2.8409609252853842,
          3.232342898295876,
          2.1587383731331347,
          1.443102604375975,
          1.7796401068985706,
          3.0765216210206625,
          2.144986856709304,
          1.9048629251371323,
          1.1688534694704036,
          2.107653731173269,
          2.314303394629549,
          1.9224508848357527,
          1.4140722251737574,
          2.5633227123408098,
          2.4193912198049805,
          1.9440170488777377,
          1.5256636313138727,
          1.7640459355269833,
          1.9016290752882332,
          1.3896661333194167
         ],
         "y": [
          -0.011842236640300617,
          -0.5749250559123048,
          0.3419352869872947,
          -0.18112569470491377,
          -0.04188254965484198,
          0.5471680462301525,
          -1.1913516890506533,
          0.35237700618085976,
          -0.24554817060691017,
          0.7803806293720317,
          0.24203840103752228,
          -0.2161546066265363,
          0.21528028337300711,
          -0.7764154251768249,
          -0.5393070538471721,
          0.11881899098269835,
          0.04073025942776772,
          1.1715445442635644,
          0.2532655709725347,
          -0.7610139365215077,
          0.37678197125415236,
          -0.6055789617645946,
          0.4567734669640745,
          -0.20403098657015478,
          0.33338652575664196,
          0.5583669502788222,
          -0.1791369974232228,
          -0.11642525182937256,
          -0.21085488454948997,
          0.46251925072626043,
          0.37274259104902135,
          1.3705240359763333,
          -0.2183255315629933,
          -0.14380128908272616,
          -0.5014647947060156,
          0.6857644422460565,
          0.1389066088773143,
          0.04804750823183445,
          -0.16450249981508994,
          0.3714822491771057,
          0.18260885079369835,
          0.4092711761786955,
          -0.5749250559123048,
          0.27597450223983794,
          0.30350393770262857,
          0.1874152220460138,
          -0.3750208481918227,
          0.07851918642935736,
          0.1158767482479654,
          -0.28288670917226916
         ],
         "z": [
          0.7584586515284955,
          0.2963982243052133,
          -0.11214137055436672,
          0.10653914864984594,
          0.2841106808661675,
          -0.3518731576273015,
          0.546685531124949,
          -0.42369127833689707,
          -0.3499221833590494,
          0.4217389336137674,
          0.24281526346759325,
          -0.037695328493964675,
          0.03314818319913331,
          0.2828680182243184,
          0.6305704884623259,
          0.48013807976572864,
          0.042729093929436614,
          0.1293200833617754,
          -0.5169707159938948,
          -0.34488704746869986,
          0.2186490700467053,
          0.5126407650398149,
          -0.5769101867216484,
          -0.06351132177864807,
          0.2846781526607179,
          -0.20842334661879353,
          0.04697780744922717,
          0.23161356056830612,
          0.1535158850912552,
          -0.45202396144912754,
          -0.5010315391382014,
          -0.11844877739515784,
          0.20842197616391578,
          -0.15408297110542718,
          -0.17581118605670343,
          -0.3364227412082237,
          0.7341847390548603,
          0.16047063070600842,
          0.28246088100237127,
          0.027437856461485364,
          0.3228604007423827,
          0.11549281596071742,
          0.2963982243052133,
          0.29125361312685977,
          0.5043025169513599,
          0.1793028706811269,
          -0.12063644074491199,
          0.13078405342866892,
          0.7228735608675687,
          0.3623178316312214
         ]
        }
       ],
       "layout": {
        "legend": {
         "title": {
          "text": "color"
         },
         "tracegroupgap": 0
        },
        "scene": {
         "domain": {
          "x": [
           0,
           1
          ],
          "y": [
           0,
           1
          ]
         },
         "xaxis": {
          "title": {
           "text": "PC 1"
          }
         },
         "yaxis": {
          "title": {
           "text": "PC 2"
          }
         },
         "zaxis": {
          "title": {
           "text": "PC 3"
          }
         }
        },
        "template": {
         "data": {
          "bar": [
           {
            "error_x": {
             "color": "#2a3f5f"
            },
            "error_y": {
             "color": "#2a3f5f"
            },
            "marker": {
             "line": {
              "color": "#E5ECF6",
              "width": 0.5
             },
             "pattern": {
              "fillmode": "overlay",
              "size": 10,
              "solidity": 0.2
             }
            },
            "type": "bar"
           }
          ],
          "barpolar": [
           {
            "marker": {
             "line": {
              "color": "#E5ECF6",
              "width": 0.5
             },
             "pattern": {
              "fillmode": "overlay",
              "size": 10,
              "solidity": 0.2
             }
            },
            "type": "barpolar"
           }
          ],
          "carpet": [
           {
            "aaxis": {
             "endlinecolor": "#2a3f5f",
             "gridcolor": "white",
             "linecolor": "white",
             "minorgridcolor": "white",
             "startlinecolor": "#2a3f5f"
            },
            "baxis": {
             "endlinecolor": "#2a3f5f",
             "gridcolor": "white",
             "linecolor": "white",
             "minorgridcolor": "white",
             "startlinecolor": "#2a3f5f"
            },
            "type": "carpet"
           }
          ],
          "choropleth": [
           {
            "colorbar": {
             "outlinewidth": 0,
             "ticks": ""
            },
            "type": "choropleth"
           }
          ],
          "contour": [
           {
            "colorbar": {
             "outlinewidth": 0,
             "ticks": ""
            },
            "colorscale": [
             [
              0,
              "#0d0887"
             ],
             [
              0.1111111111111111,
              "#46039f"
             ],
             [
              0.2222222222222222,
              "#7201a8"
             ],
             [
              0.3333333333333333,
              "#9c179e"
             ],
             [
              0.4444444444444444,
              "#bd3786"
             ],
             [
              0.5555555555555556,
              "#d8576b"
             ],
             [
              0.6666666666666666,
              "#ed7953"
             ],
             [
              0.7777777777777778,
              "#fb9f3a"
             ],
             [
              0.8888888888888888,
              "#fdca26"
             ],
             [
              1,
              "#f0f921"
             ]
            ],
            "type": "contour"
           }
          ],
          "contourcarpet": [
           {
            "colorbar": {
             "outlinewidth": 0,
             "ticks": ""
            },
            "type": "contourcarpet"
           }
          ],
          "heatmap": [
           {
            "colorbar": {
             "outlinewidth": 0,
             "ticks": ""
            },
            "colorscale": [
             [
              0,
              "#0d0887"
             ],
             [
              0.1111111111111111,
              "#46039f"
             ],
             [
              0.2222222222222222,
              "#7201a8"
             ],
             [
              0.3333333333333333,
              "#9c179e"
             ],
             [
              0.4444444444444444,
              "#bd3786"
             ],
             [
              0.5555555555555556,
              "#d8576b"
             ],
             [
              0.6666666666666666,
              "#ed7953"
             ],
             [
              0.7777777777777778,
              "#fb9f3a"
             ],
             [
              0.8888888888888888,
              "#fdca26"
             ],
             [
              1,
              "#f0f921"
             ]
            ],
            "type": "heatmap"
           }
          ],
          "heatmapgl": [
           {
            "colorbar": {
             "outlinewidth": 0,
             "ticks": ""
            },
            "colorscale": [
             [
              0,
              "#0d0887"
             ],
             [
              0.1111111111111111,
              "#46039f"
             ],
             [
              0.2222222222222222,
              "#7201a8"
             ],
             [
              0.3333333333333333,
              "#9c179e"
             ],
             [
              0.4444444444444444,
              "#bd3786"
             ],
             [
              0.5555555555555556,
              "#d8576b"
             ],
             [
              0.6666666666666666,
              "#ed7953"
             ],
             [
              0.7777777777777778,
              "#fb9f3a"
             ],
             [
              0.8888888888888888,
              "#fdca26"
             ],
             [
              1,
              "#f0f921"
             ]
            ],
            "type": "heatmapgl"
           }
          ],
          "histogram": [
           {
            "marker": {
             "pattern": {
              "fillmode": "overlay",
              "size": 10,
              "solidity": 0.2
             }
            },
            "type": "histogram"
           }
          ],
          "histogram2d": [
           {
            "colorbar": {
             "outlinewidth": 0,
             "ticks": ""
            },
            "colorscale": [
             [
              0,
              "#0d0887"
             ],
             [
              0.1111111111111111,
              "#46039f"
             ],
             [
              0.2222222222222222,
              "#7201a8"
             ],
             [
              0.3333333333333333,
              "#9c179e"
             ],
             [
              0.4444444444444444,
              "#bd3786"
             ],
             [
              0.5555555555555556,
              "#d8576b"
             ],
             [
              0.6666666666666666,
              "#ed7953"
             ],
             [
              0.7777777777777778,
              "#fb9f3a"
             ],
             [
              0.8888888888888888,
              "#fdca26"
             ],
             [
              1,
              "#f0f921"
             ]
            ],
            "type": "histogram2d"
           }
          ],
          "histogram2dcontour": [
           {
            "colorbar": {
             "outlinewidth": 0,
             "ticks": ""
            },
            "colorscale": [
             [
              0,
              "#0d0887"
             ],
             [
              0.1111111111111111,
              "#46039f"
             ],
             [
              0.2222222222222222,
              "#7201a8"
             ],
             [
              0.3333333333333333,
              "#9c179e"
             ],
             [
              0.4444444444444444,
              "#bd3786"
             ],
             [
              0.5555555555555556,
              "#d8576b"
             ],
             [
              0.6666666666666666,
              "#ed7953"
             ],
             [
              0.7777777777777778,
              "#fb9f3a"
             ],
             [
              0.8888888888888888,
              "#fdca26"
             ],
             [
              1,
              "#f0f921"
             ]
            ],
            "type": "histogram2dcontour"
           }
          ],
          "mesh3d": [
           {
            "colorbar": {
             "outlinewidth": 0,
             "ticks": ""
            },
            "type": "mesh3d"
           }
          ],
          "parcoords": [
           {
            "line": {
             "colorbar": {
              "outlinewidth": 0,
              "ticks": ""
             }
            },
            "type": "parcoords"
           }
          ],
          "pie": [
           {
            "automargin": true,
            "type": "pie"
           }
          ],
          "scatter": [
           {
            "fillpattern": {
             "fillmode": "overlay",
             "size": 10,
             "solidity": 0.2
            },
            "type": "scatter"
           }
          ],
          "scatter3d": [
           {
            "line": {
             "colorbar": {
              "outlinewidth": 0,
              "ticks": ""
             }
            },
            "marker": {
             "colorbar": {
              "outlinewidth": 0,
              "ticks": ""
             }
            },
            "type": "scatter3d"
           }
          ],
          "scattercarpet": [
           {
            "marker": {
             "colorbar": {
              "outlinewidth": 0,
              "ticks": ""
             }
            },
            "type": "scattercarpet"
           }
          ],
          "scattergeo": [
           {
            "marker": {
             "colorbar": {
              "outlinewidth": 0,
              "ticks": ""
             }
            },
            "type": "scattergeo"
           }
          ],
          "scattergl": [
           {
            "marker": {
             "colorbar": {
              "outlinewidth": 0,
              "ticks": ""
             }
            },
            "type": "scattergl"
           }
          ],
          "scattermapbox": [
           {
            "marker": {
             "colorbar": {
              "outlinewidth": 0,
              "ticks": ""
             }
            },
            "type": "scattermapbox"
           }
          ],
          "scatterpolar": [
           {
            "marker": {
             "colorbar": {
              "outlinewidth": 0,
              "ticks": ""
             }
            },
            "type": "scatterpolar"
           }
          ],
          "scatterpolargl": [
           {
            "marker": {
             "colorbar": {
              "outlinewidth": 0,
              "ticks": ""
             }
            },
            "type": "scatterpolargl"
           }
          ],
          "scatterternary": [
           {
            "marker": {
             "colorbar": {
              "outlinewidth": 0,
              "ticks": ""
             }
            },
            "type": "scatterternary"
           }
          ],
          "surface": [
           {
            "colorbar": {
             "outlinewidth": 0,
             "ticks": ""
            },
            "colorscale": [
             [
              0,
              "#0d0887"
             ],
             [
              0.1111111111111111,
              "#46039f"
             ],
             [
              0.2222222222222222,
              "#7201a8"
             ],
             [
              0.3333333333333333,
              "#9c179e"
             ],
             [
              0.4444444444444444,
              "#bd3786"
             ],
             [
              0.5555555555555556,
              "#d8576b"
             ],
             [
              0.6666666666666666,
              "#ed7953"
             ],
             [
              0.7777777777777778,
              "#fb9f3a"
             ],
             [
              0.8888888888888888,
              "#fdca26"
             ],
             [
              1,
              "#f0f921"
             ]
            ],
            "type": "surface"
           }
          ],
          "table": [
           {
            "cells": {
             "fill": {
              "color": "#EBF0F8"
             },
             "line": {
              "color": "white"
             }
            },
            "header": {
             "fill": {
              "color": "#C8D4E3"
             },
             "line": {
              "color": "white"
             }
            },
            "type": "table"
           }
          ]
         },
         "layout": {
          "annotationdefaults": {
           "arrowcolor": "#2a3f5f",
           "arrowhead": 0,
           "arrowwidth": 1
          },
          "autotypenumbers": "strict",
          "coloraxis": {
           "colorbar": {
            "outlinewidth": 0,
            "ticks": ""
           }
          },
          "colorscale": {
           "diverging": [
            [
             0,
             "#8e0152"
            ],
            [
             0.1,
             "#c51b7d"
            ],
            [
             0.2,
             "#de77ae"
            ],
            [
             0.3,
             "#f1b6da"
            ],
            [
             0.4,
             "#fde0ef"
            ],
            [
             0.5,
             "#f7f7f7"
            ],
            [
             0.6,
             "#e6f5d0"
            ],
            [
             0.7,
             "#b8e186"
            ],
            [
             0.8,
             "#7fbc41"
            ],
            [
             0.9,
             "#4d9221"
            ],
            [
             1,
             "#276419"
            ]
           ],
           "sequential": [
            [
             0,
             "#0d0887"
            ],
            [
             0.1111111111111111,
             "#46039f"
            ],
            [
             0.2222222222222222,
             "#7201a8"
            ],
            [
             0.3333333333333333,
             "#9c179e"
            ],
            [
             0.4444444444444444,
             "#bd3786"
            ],
            [
             0.5555555555555556,
             "#d8576b"
            ],
            [
             0.6666666666666666,
             "#ed7953"
            ],
            [
             0.7777777777777778,
             "#fb9f3a"
            ],
            [
             0.8888888888888888,
             "#fdca26"
            ],
            [
             1,
             "#f0f921"
            ]
           ],
           "sequentialminus": [
            [
             0,
             "#0d0887"
            ],
            [
             0.1111111111111111,
             "#46039f"
            ],
            [
             0.2222222222222222,
             "#7201a8"
            ],
            [
             0.3333333333333333,
             "#9c179e"
            ],
            [
             0.4444444444444444,
             "#bd3786"
            ],
            [
             0.5555555555555556,
             "#d8576b"
            ],
            [
             0.6666666666666666,
             "#ed7953"
            ],
            [
             0.7777777777777778,
             "#fb9f3a"
            ],
            [
             0.8888888888888888,
             "#fdca26"
            ],
            [
             1,
             "#f0f921"
            ]
           ]
          },
          "colorway": [
           "#636efa",
           "#EF553B",
           "#00cc96",
           "#ab63fa",
           "#FFA15A",
           "#19d3f3",
           "#FF6692",
           "#B6E880",
           "#FF97FF",
           "#FECB52"
          ],
          "font": {
           "color": "#2a3f5f"
          },
          "geo": {
           "bgcolor": "white",
           "lakecolor": "white",
           "landcolor": "#E5ECF6",
           "showlakes": true,
           "showland": true,
           "subunitcolor": "white"
          },
          "hoverlabel": {
           "align": "left"
          },
          "hovermode": "closest",
          "mapbox": {
           "style": "light"
          },
          "paper_bgcolor": "white",
          "plot_bgcolor": "#E5ECF6",
          "polar": {
           "angularaxis": {
            "gridcolor": "white",
            "linecolor": "white",
            "ticks": ""
           },
           "bgcolor": "#E5ECF6",
           "radialaxis": {
            "gridcolor": "white",
            "linecolor": "white",
            "ticks": ""
           }
          },
          "scene": {
           "xaxis": {
            "backgroundcolor": "#E5ECF6",
            "gridcolor": "white",
            "gridwidth": 2,
            "linecolor": "white",
            "showbackground": true,
            "ticks": "",
            "zerolinecolor": "white"
           },
           "yaxis": {
            "backgroundcolor": "#E5ECF6",
            "gridcolor": "white",
            "gridwidth": 2,
            "linecolor": "white",
            "showbackground": true,
            "ticks": "",
            "zerolinecolor": "white"
           },
           "zaxis": {
            "backgroundcolor": "#E5ECF6",
            "gridcolor": "white",
            "gridwidth": 2,
            "linecolor": "white",
            "showbackground": true,
            "ticks": "",
            "zerolinecolor": "white"
           }
          },
          "shapedefaults": {
           "line": {
            "color": "#2a3f5f"
           }
          },
          "ternary": {
           "aaxis": {
            "gridcolor": "white",
            "linecolor": "white",
            "ticks": ""
           },
           "baxis": {
            "gridcolor": "white",
            "linecolor": "white",
            "ticks": ""
           },
           "bgcolor": "#E5ECF6",
           "caxis": {
            "gridcolor": "white",
            "linecolor": "white",
            "ticks": ""
           }
          },
          "title": {
           "x": 0.05
          },
          "xaxis": {
           "automargin": true,
           "gridcolor": "white",
           "linecolor": "white",
           "ticks": "",
           "title": {
            "standoff": 15
           },
           "zerolinecolor": "white",
           "zerolinewidth": 2
          },
          "yaxis": {
           "automargin": true,
           "gridcolor": "white",
           "linecolor": "white",
           "ticks": "",
           "title": {
            "standoff": 15
           },
           "zerolinecolor": "white",
           "zerolinewidth": 2
          }
         }
        },
        "title": {
         "text": "Total Explained Variance: 99.48%"
        }
       }
      },
      "text/html": [
       "<div>                        <script type=\"text/javascript\">window.PlotlyConfig = {MathJaxConfig: 'local'};</script>\n",
       "        <script src=\"https://cdn.plot.ly/plotly-2.18.2.min.js\"></script>                <div id=\"58728b2f-aa73-48b2-89e1-c762b8425e66\" class=\"plotly-graph-div\" style=\"height:100%; width:100%;\"></div>            <script type=\"text/javascript\">                                    window.PLOTLYENV=window.PLOTLYENV || {};                                    if (document.getElementById(\"58728b2f-aa73-48b2-89e1-c762b8425e66\")) {                    Plotly.newPlot(                        \"58728b2f-aa73-48b2-89e1-c762b8425e66\",                        [{\"hovertemplate\":\"color=setosa<br>PC 1=%{x}<br>PC 2=%{y}<br>PC 3=%{z}<extra></extra>\",\"legendgroup\":\"setosa\",\"marker\":{\"color\":\"#636efa\",\"symbol\":\"circle\"},\"mode\":\"markers\",\"name\":\"setosa\",\"scene\":\"scene\",\"showlegend\":true,\"x\":[-2.6842071251039537,-2.715390615634132,-2.8898195396179167,-2.7464371973087345,-2.7285929818313144,-2.2798973610095974,-2.8208906821806305,-2.626481993323819,-2.887958565335635,-2.6738446867191215,-2.5065267893389036,-2.613142718271056,-2.787433975997098,-3.2252004462749815,-2.643543216941146,-2.383869323799375,-2.6225262031258083,-2.648322732479127,-2.1990779614307634,-2.587346188917738,-2.310531701313133,-2.5432349073036953,-3.2158576949001056,-2.303128537663883,-2.3561710866838976,-2.507917226837881,-2.469055997545123,-2.562390946836751,-2.639821268376582,-2.632847908030758,-2.5884620513033916,-2.4100773371215958,-2.6476366733969003,-2.5971594770759183,-2.6738446867191215,-2.8669998469325346,-2.6252284646804207,-2.6738446867191215,-2.981842664853909,-2.590323025585674,-2.770138910746324,-2.852211081566392,-2.9982964428323515,-2.4055141012847012,-2.2088329541767053,-2.7156651907474547,-2.5375733710135067,-2.840321296827009,-2.5426857570770487,-2.7039123148636506],\"y\":[0.32660731476438964,-0.16955684755602587,-0.13734560960502756,-0.3111243157519917,0.33392456356845474,0.7477827132251333,-0.08210451102468086,0.1704053489602899,-0.5707980263315916,-0.10669170375273844,0.6519350136725719,0.02152063196025797,-0.2277401888711062,-0.5032799094854257,1.1861948994134492,1.344754344559862,0.818089674596595,0.3191366677508846,0.8792440880917366,0.520473638805968,0.397867821588892,0.44003175465981514,0.1416155716255837,0.10552267842998231,-0.031209589068338355,-0.1390563399131739,0.13788731459041773,0.3746845627501062,0.31929006596032183,-0.19007583063362404,-0.19739307943769077,0.41808000824761615,0.8199826325595069,1.1000219280072683,-0.10669170375273844,0.07719309572358732,0.6068000084215863,-0.10669170375273844,-0.4802500488560765,0.23605933728887285,0.2710594197651672,-0.9328653674695442,-0.33430757459077715,0.19591725769606083,0.4426960304210028,-0.24268148289811287,0.5103675454766058,-0.22057633827647652,0.5862810253439883,0.1150108521705057],\"z\":[-0.021511837001963446,-0.20352142500549103,0.024709240998957018,0.037671975285301126,0.09622969977460934,0.17432561901640287,0.26425108519069607,-0.01580151026431509,0.02733540611450722,-0.1915332997356447,-0.06927499581393104,0.10765035324990462,-0.20032778809538934,0.06841362917233033,-0.14450570400963547,0.2837306639397769,0.14531598882161798,0.03339425407069799,-0.11452146479835291,0.21957208800082503,-0.23369560709796952,0.21483637027967545,0.29961898151087124,0.04568004127448711,0.12940757589599333,-0.24711633789085988,0.10126307942970224,-0.07235915743602828,-0.13925337377853475,0.04646646364504572,-0.07127507313152608,-0.13838824005004088,0.23058560425417263,0.16358191262366262,-0.1915332997356447,-0.15684235049802417,-0.2611631564817057,-0.1915332997356447,0.07972480735962136,-0.07390123824707663,0.08424157450476334,-0.3409614911071517,0.19900842494724194,0.2707170703688336,0.30348780926827046,-0.09051560595006831,0.1719184044768607,0.09006137653041515,-0.011175267831169093,-0.08269572660682166],\"type\":\"scatter3d\"},{\"hovertemplate\":\"color=versicolor<br>PC 1=%{x}<br>PC 2=%{y}<br>PC 3=%{z}<extra></extra>\",\"legendgroup\":\"versicolor\",\"marker\":{\"color\":\"#EF553B\",\"symbol\":\"circle\"},\"mode\":\"markers\",\"name\":\"versicolor\",\"scene\":\"scene\",\"showlegend\":true,\"x\":[1.2847945878450717,0.9324107529829181,1.4640613227790755,0.180967206347699,1.0871344872070015,0.6404367495231456,1.0952237099384785,-0.7514671406482271,1.0432977807062813,-0.010190070727853029,-0.5110861958950906,0.5110980606834775,0.26233575615318044,0.9840445451694313,-0.17486400196569601,0.9275729420326999,0.6595927890562006,0.23454058625983573,0.9423617073988421,0.043246400328704686,1.1162407237538159,0.35678656783046153,1.2964688502855342,0.9205026489090097,0.7140082136428335,0.8996408632837766,1.3310414188547204,1.5573962720707026,0.8124555489980021,-0.30733475566340435,-0.07034288894927149,-0.19188449210314557,0.13499495045137352,1.3787369827755829,0.5872748535799112,0.8072054966767165,1.22042896624468,0.8128677903690701,0.2451951616903461,0.1645134283692558,0.4630309888714245,0.8901604456511567,0.22887904996964778,-0.7070812839208606,0.3555330391870635,0.33112694733272285,0.37523822894676584,0.6416902781665432,-0.9084633331234951,0.29780790740693397],\"y\":[0.68543918613292,0.31919808983364867,0.504189832972453,-0.8256039435761132,0.07539038928876754,-0.41732348297002564,0.28389121093848024,-1.001107512974394,0.22895690877700686,-0.7205748667019015,-1.2624919538621402,-0.10228410504597023,-0.5478932980253365,-0.12436042022227792,-0.25181557108017055,0.468236205043117,-0.3519762910603165,-0.3319218293621202,-0.5418222581500138,-0.5814894466123586,-0.08421401387837357,-0.06682382794136613,-0.3275615197949439,-0.18239036332792094,0.15037915314843728,0.329610979581884,0.24466952060228933,0.2673925848127648,-0.16233157487863328,-0.3650866127661601,-0.7025379317307258,-0.677490544374357,-0.3117096427033961,-0.42120513821462835,-0.48328426771748256,0.19505396377111137,0.4080353370010174,-0.37067899831890944,-0.266728035661848,-0.6796614693108136,-0.6695265465361224,-0.0338124427467627,-0.40225762017891126,-1.0084247617784607,-0.5032184874026622,-0.21118014066262666,-0.2916220248087797,0.019071176491270814,-0.7515687251694854,-0.3470165215985638],\"z\":[-0.4061295530769632,-0.01712990920512526,-0.338260727717959,-0.1770828563933648,-0.30654446481443176,0.04118876935364428,0.17002253374149978,0.015672194238160176,-0.41481456614870404,0.2834372462541257,-0.2664899538224497,0.13232789047497376,-0.6919415783189647,-0.06215742761353885,0.09365863819195044,-0.3132294005685773,0.32838429706934796,-0.2702806708356938,-0.49734854117770444,-0.2329635564825229,0.45984422657275337,-0.2274721803208833,-0.3475132125842503,-0.23161141855267012,-0.32037233282926975,-0.3147714813796257,-0.5212449247379848,-0.16463849085222856,0.036343576344490675,-0.3153371969389201,-0.24175804484226796,-0.3039165434636248,-0.1749733037877652,0.01548049512170827,0.4445837530348709,0.38945871138620247,-0.236566086849828,-0.612871050060673,0.18956248472924198,-0.057799238805744134,-0.024053890889809415,-0.009768026368424818,-0.22736270503287928,-0.10206934253841168,0.017889465896507525,0.08380907322251567,0.0790733555013659,-0.2041728768637463,-0.007736584506980621,0.012179139158859303],\"type\":\"scatter3d\"},{\"hovertemplate\":\"color=virginica<br>PC 1=%{x}<br>PC 2=%{y}<br>PC 3=%{z}<extra></extra>\",\"legendgroup\":\"virginica\",\"marker\":{\"color\":\"#00cc96\",\"symbol\":\"circle\"},\"mode\":\"markers\",\"name\":\"virginica\",\"scene\":\"scene\",\"showlegend\":true,\"x\":[2.531726980439559,1.4140722251737574,2.6164846082840443,1.9708149459064823,2.349757983950943,3.396879920678139,0.5193832450849364,2.9320050969913014,2.3196727938740533,2.918134233644252,1.6619349470194873,1.8023404526607338,2.1653788629533977,1.3445942175098244,1.5852672993086439,1.904743578213913,1.9492487818644983,3.488765379656386,3.79468686120997,1.298329824567816,2.4281672590208485,1.1980973722749628,3.499265484298957,1.3876682501815558,2.2758536493056942,2.6141938306983343,1.2576251829251366,1.2906696477376016,2.1228539805083133,2.387564402369028,2.8409609252853842,3.232342898295876,2.1587383731331347,1.443102604375975,1.7796401068985706,3.0765216210206625,2.144986856709304,1.9048629251371323,1.1688534694704036,2.107653731173269,2.314303394629549,1.9224508848357527,1.4140722251737574,2.5633227123408098,2.4193912198049805,1.9440170488777377,1.5256636313138727,1.7640459355269833,1.9016290752882332,1.3896661333194167],\"y\":[-0.011842236640300617,-0.5749250559123048,0.3419352869872947,-0.18112569470491377,-0.04188254965484198,0.5471680462301525,-1.1913516890506533,0.35237700618085976,-0.24554817060691017,0.7803806293720317,0.24203840103752228,-0.2161546066265363,0.21528028337300711,-0.7764154251768249,-0.5393070538471721,0.11881899098269835,0.04073025942776772,1.1715445442635644,0.2532655709725347,-0.7610139365215077,0.37678197125415236,-0.6055789617645946,0.4567734669640745,-0.20403098657015478,0.33338652575664196,0.5583669502788222,-0.1791369974232228,-0.11642525182937256,-0.21085488454948997,0.46251925072626043,0.37274259104902135,1.3705240359763333,-0.2183255315629933,-0.14380128908272616,-0.5014647947060156,0.6857644422460565,0.1389066088773143,0.04804750823183445,-0.16450249981508994,0.3714822491771057,0.18260885079369835,0.4092711761786955,-0.5749250559123048,0.27597450223983794,0.30350393770262857,0.1874152220460138,-0.3750208481918227,0.07851918642935736,0.1158767482479654,-0.28288670917226916],\"z\":[0.7584586515284955,0.2963982243052133,-0.11214137055436672,0.10653914864984594,0.2841106808661675,-0.3518731576273015,0.546685531124949,-0.42369127833689707,-0.3499221833590494,0.4217389336137674,0.24281526346759325,-0.037695328493964675,0.03314818319913331,0.2828680182243184,0.6305704884623259,0.48013807976572864,0.042729093929436614,0.1293200833617754,-0.5169707159938948,-0.34488704746869986,0.2186490700467053,0.5126407650398149,-0.5769101867216484,-0.06351132177864807,0.2846781526607179,-0.20842334661879353,0.04697780744922717,0.23161356056830612,0.1535158850912552,-0.45202396144912754,-0.5010315391382014,-0.11844877739515784,0.20842197616391578,-0.15408297110542718,-0.17581118605670343,-0.3364227412082237,0.7341847390548603,0.16047063070600842,0.28246088100237127,0.027437856461485364,0.3228604007423827,0.11549281596071742,0.2963982243052133,0.29125361312685977,0.5043025169513599,0.1793028706811269,-0.12063644074491199,0.13078405342866892,0.7228735608675687,0.3623178316312214],\"type\":\"scatter3d\"}],                        {\"template\":{\"data\":{\"histogram2dcontour\":[{\"type\":\"histogram2dcontour\",\"colorbar\":{\"outlinewidth\":0,\"ticks\":\"\"},\"colorscale\":[[0.0,\"#0d0887\"],[0.1111111111111111,\"#46039f\"],[0.2222222222222222,\"#7201a8\"],[0.3333333333333333,\"#9c179e\"],[0.4444444444444444,\"#bd3786\"],[0.5555555555555556,\"#d8576b\"],[0.6666666666666666,\"#ed7953\"],[0.7777777777777778,\"#fb9f3a\"],[0.8888888888888888,\"#fdca26\"],[1.0,\"#f0f921\"]]}],\"choropleth\":[{\"type\":\"choropleth\",\"colorbar\":{\"outlinewidth\":0,\"ticks\":\"\"}}],\"histogram2d\":[{\"type\":\"histogram2d\",\"colorbar\":{\"outlinewidth\":0,\"ticks\":\"\"},\"colorscale\":[[0.0,\"#0d0887\"],[0.1111111111111111,\"#46039f\"],[0.2222222222222222,\"#7201a8\"],[0.3333333333333333,\"#9c179e\"],[0.4444444444444444,\"#bd3786\"],[0.5555555555555556,\"#d8576b\"],[0.6666666666666666,\"#ed7953\"],[0.7777777777777778,\"#fb9f3a\"],[0.8888888888888888,\"#fdca26\"],[1.0,\"#f0f921\"]]}],\"heatmap\":[{\"type\":\"heatmap\",\"colorbar\":{\"outlinewidth\":0,\"ticks\":\"\"},\"colorscale\":[[0.0,\"#0d0887\"],[0.1111111111111111,\"#46039f\"],[0.2222222222222222,\"#7201a8\"],[0.3333333333333333,\"#9c179e\"],[0.4444444444444444,\"#bd3786\"],[0.5555555555555556,\"#d8576b\"],[0.6666666666666666,\"#ed7953\"],[0.7777777777777778,\"#fb9f3a\"],[0.8888888888888888,\"#fdca26\"],[1.0,\"#f0f921\"]]}],\"heatmapgl\":[{\"type\":\"heatmapgl\",\"colorbar\":{\"outlinewidth\":0,\"ticks\":\"\"},\"colorscale\":[[0.0,\"#0d0887\"],[0.1111111111111111,\"#46039f\"],[0.2222222222222222,\"#7201a8\"],[0.3333333333333333,\"#9c179e\"],[0.4444444444444444,\"#bd3786\"],[0.5555555555555556,\"#d8576b\"],[0.6666666666666666,\"#ed7953\"],[0.7777777777777778,\"#fb9f3a\"],[0.8888888888888888,\"#fdca26\"],[1.0,\"#f0f921\"]]}],\"contourcarpet\":[{\"type\":\"contourcarpet\",\"colorbar\":{\"outlinewidth\":0,\"ticks\":\"\"}}],\"contour\":[{\"type\":\"contour\",\"colorbar\":{\"outlinewidth\":0,\"ticks\":\"\"},\"colorscale\":[[0.0,\"#0d0887\"],[0.1111111111111111,\"#46039f\"],[0.2222222222222222,\"#7201a8\"],[0.3333333333333333,\"#9c179e\"],[0.4444444444444444,\"#bd3786\"],[0.5555555555555556,\"#d8576b\"],[0.6666666666666666,\"#ed7953\"],[0.7777777777777778,\"#fb9f3a\"],[0.8888888888888888,\"#fdca26\"],[1.0,\"#f0f921\"]]}],\"surface\":[{\"type\":\"surface\",\"colorbar\":{\"outlinewidth\":0,\"ticks\":\"\"},\"colorscale\":[[0.0,\"#0d0887\"],[0.1111111111111111,\"#46039f\"],[0.2222222222222222,\"#7201a8\"],[0.3333333333333333,\"#9c179e\"],[0.4444444444444444,\"#bd3786\"],[0.5555555555555556,\"#d8576b\"],[0.6666666666666666,\"#ed7953\"],[0.7777777777777778,\"#fb9f3a\"],[0.8888888888888888,\"#fdca26\"],[1.0,\"#f0f921\"]]}],\"mesh3d\":[{\"type\":\"mesh3d\",\"colorbar\":{\"outlinewidth\":0,\"ticks\":\"\"}}],\"scatter\":[{\"fillpattern\":{\"fillmode\":\"overlay\",\"size\":10,\"solidity\":0.2},\"type\":\"scatter\"}],\"parcoords\":[{\"type\":\"parcoords\",\"line\":{\"colorbar\":{\"outlinewidth\":0,\"ticks\":\"\"}}}],\"scatterpolargl\":[{\"type\":\"scatterpolargl\",\"marker\":{\"colorbar\":{\"outlinewidth\":0,\"ticks\":\"\"}}}],\"bar\":[{\"error_x\":{\"color\":\"#2a3f5f\"},\"error_y\":{\"color\":\"#2a3f5f\"},\"marker\":{\"line\":{\"color\":\"#E5ECF6\",\"width\":0.5},\"pattern\":{\"fillmode\":\"overlay\",\"size\":10,\"solidity\":0.2}},\"type\":\"bar\"}],\"scattergeo\":[{\"type\":\"scattergeo\",\"marker\":{\"colorbar\":{\"outlinewidth\":0,\"ticks\":\"\"}}}],\"scatterpolar\":[{\"type\":\"scatterpolar\",\"marker\":{\"colorbar\":{\"outlinewidth\":0,\"ticks\":\"\"}}}],\"histogram\":[{\"marker\":{\"pattern\":{\"fillmode\":\"overlay\",\"size\":10,\"solidity\":0.2}},\"type\":\"histogram\"}],\"scattergl\":[{\"type\":\"scattergl\",\"marker\":{\"colorbar\":{\"outlinewidth\":0,\"ticks\":\"\"}}}],\"scatter3d\":[{\"type\":\"scatter3d\",\"line\":{\"colorbar\":{\"outlinewidth\":0,\"ticks\":\"\"}},\"marker\":{\"colorbar\":{\"outlinewidth\":0,\"ticks\":\"\"}}}],\"scattermapbox\":[{\"type\":\"scattermapbox\",\"marker\":{\"colorbar\":{\"outlinewidth\":0,\"ticks\":\"\"}}}],\"scatterternary\":[{\"type\":\"scatterternary\",\"marker\":{\"colorbar\":{\"outlinewidth\":0,\"ticks\":\"\"}}}],\"scattercarpet\":[{\"type\":\"scattercarpet\",\"marker\":{\"colorbar\":{\"outlinewidth\":0,\"ticks\":\"\"}}}],\"carpet\":[{\"aaxis\":{\"endlinecolor\":\"#2a3f5f\",\"gridcolor\":\"white\",\"linecolor\":\"white\",\"minorgridcolor\":\"white\",\"startlinecolor\":\"#2a3f5f\"},\"baxis\":{\"endlinecolor\":\"#2a3f5f\",\"gridcolor\":\"white\",\"linecolor\":\"white\",\"minorgridcolor\":\"white\",\"startlinecolor\":\"#2a3f5f\"},\"type\":\"carpet\"}],\"table\":[{\"cells\":{\"fill\":{\"color\":\"#EBF0F8\"},\"line\":{\"color\":\"white\"}},\"header\":{\"fill\":{\"color\":\"#C8D4E3\"},\"line\":{\"color\":\"white\"}},\"type\":\"table\"}],\"barpolar\":[{\"marker\":{\"line\":{\"color\":\"#E5ECF6\",\"width\":0.5},\"pattern\":{\"fillmode\":\"overlay\",\"size\":10,\"solidity\":0.2}},\"type\":\"barpolar\"}],\"pie\":[{\"automargin\":true,\"type\":\"pie\"}]},\"layout\":{\"autotypenumbers\":\"strict\",\"colorway\":[\"#636efa\",\"#EF553B\",\"#00cc96\",\"#ab63fa\",\"#FFA15A\",\"#19d3f3\",\"#FF6692\",\"#B6E880\",\"#FF97FF\",\"#FECB52\"],\"font\":{\"color\":\"#2a3f5f\"},\"hovermode\":\"closest\",\"hoverlabel\":{\"align\":\"left\"},\"paper_bgcolor\":\"white\",\"plot_bgcolor\":\"#E5ECF6\",\"polar\":{\"bgcolor\":\"#E5ECF6\",\"angularaxis\":{\"gridcolor\":\"white\",\"linecolor\":\"white\",\"ticks\":\"\"},\"radialaxis\":{\"gridcolor\":\"white\",\"linecolor\":\"white\",\"ticks\":\"\"}},\"ternary\":{\"bgcolor\":\"#E5ECF6\",\"aaxis\":{\"gridcolor\":\"white\",\"linecolor\":\"white\",\"ticks\":\"\"},\"baxis\":{\"gridcolor\":\"white\",\"linecolor\":\"white\",\"ticks\":\"\"},\"caxis\":{\"gridcolor\":\"white\",\"linecolor\":\"white\",\"ticks\":\"\"}},\"coloraxis\":{\"colorbar\":{\"outlinewidth\":0,\"ticks\":\"\"}},\"colorscale\":{\"sequential\":[[0.0,\"#0d0887\"],[0.1111111111111111,\"#46039f\"],[0.2222222222222222,\"#7201a8\"],[0.3333333333333333,\"#9c179e\"],[0.4444444444444444,\"#bd3786\"],[0.5555555555555556,\"#d8576b\"],[0.6666666666666666,\"#ed7953\"],[0.7777777777777778,\"#fb9f3a\"],[0.8888888888888888,\"#fdca26\"],[1.0,\"#f0f921\"]],\"sequentialminus\":[[0.0,\"#0d0887\"],[0.1111111111111111,\"#46039f\"],[0.2222222222222222,\"#7201a8\"],[0.3333333333333333,\"#9c179e\"],[0.4444444444444444,\"#bd3786\"],[0.5555555555555556,\"#d8576b\"],[0.6666666666666666,\"#ed7953\"],[0.7777777777777778,\"#fb9f3a\"],[0.8888888888888888,\"#fdca26\"],[1.0,\"#f0f921\"]],\"diverging\":[[0,\"#8e0152\"],[0.1,\"#c51b7d\"],[0.2,\"#de77ae\"],[0.3,\"#f1b6da\"],[0.4,\"#fde0ef\"],[0.5,\"#f7f7f7\"],[0.6,\"#e6f5d0\"],[0.7,\"#b8e186\"],[0.8,\"#7fbc41\"],[0.9,\"#4d9221\"],[1,\"#276419\"]]},\"xaxis\":{\"gridcolor\":\"white\",\"linecolor\":\"white\",\"ticks\":\"\",\"title\":{\"standoff\":15},\"zerolinecolor\":\"white\",\"automargin\":true,\"zerolinewidth\":2},\"yaxis\":{\"gridcolor\":\"white\",\"linecolor\":\"white\",\"ticks\":\"\",\"title\":{\"standoff\":15},\"zerolinecolor\":\"white\",\"automargin\":true,\"zerolinewidth\":2},\"scene\":{\"xaxis\":{\"backgroundcolor\":\"#E5ECF6\",\"gridcolor\":\"white\",\"linecolor\":\"white\",\"showbackground\":true,\"ticks\":\"\",\"zerolinecolor\":\"white\",\"gridwidth\":2},\"yaxis\":{\"backgroundcolor\":\"#E5ECF6\",\"gridcolor\":\"white\",\"linecolor\":\"white\",\"showbackground\":true,\"ticks\":\"\",\"zerolinecolor\":\"white\",\"gridwidth\":2},\"zaxis\":{\"backgroundcolor\":\"#E5ECF6\",\"gridcolor\":\"white\",\"linecolor\":\"white\",\"showbackground\":true,\"ticks\":\"\",\"zerolinecolor\":\"white\",\"gridwidth\":2}},\"shapedefaults\":{\"line\":{\"color\":\"#2a3f5f\"}},\"annotationdefaults\":{\"arrowcolor\":\"#2a3f5f\",\"arrowhead\":0,\"arrowwidth\":1},\"geo\":{\"bgcolor\":\"white\",\"landcolor\":\"#E5ECF6\",\"subunitcolor\":\"white\",\"showland\":true,\"showlakes\":true,\"lakecolor\":\"white\"},\"title\":{\"x\":0.05},\"mapbox\":{\"style\":\"light\"}}},\"scene\":{\"domain\":{\"x\":[0.0,1.0],\"y\":[0.0,1.0]},\"xaxis\":{\"title\":{\"text\":\"PC 1\"}},\"yaxis\":{\"title\":{\"text\":\"PC 2\"}},\"zaxis\":{\"title\":{\"text\":\"PC 3\"}}},\"legend\":{\"title\":{\"text\":\"color\"},\"tracegroupgap\":0},\"title\":{\"text\":\"Total Explained Variance: 99.48%\"}},                        {\"responsive\": true}                    )                };                            </script>        </div>"
      ],
      "text/plain": [
       "Figure({\n",
       "    'data': [{'hovertemplate': 'color=setosa<br>PC 1=%{x}<br>PC 2=%{y}<br>PC 3=%{z}<extra></extra>',\n",
       "              'legendgroup': 'setosa',\n",
       "              'marker': {'color': '#636efa', 'symbol': 'circle'},\n",
       "              'mode': 'markers',\n",
       "              'name': 'setosa',\n",
       "              'scene': 'scene',\n",
       "              'showlegend': True,\n",
       "              'type': 'scatter3d',\n",
       "              'x': array([-2.68420713, -2.71539062, -2.88981954, -2.7464372 , -2.72859298,\n",
       "                          -2.27989736, -2.82089068, -2.62648199, -2.88795857, -2.67384469,\n",
       "                          -2.50652679, -2.61314272, -2.78743398, -3.22520045, -2.64354322,\n",
       "                          -2.38386932, -2.6225262 , -2.64832273, -2.19907796, -2.58734619,\n",
       "                          -2.3105317 , -2.54323491, -3.21585769, -2.30312854, -2.35617109,\n",
       "                          -2.50791723, -2.469056  , -2.56239095, -2.63982127, -2.63284791,\n",
       "                          -2.58846205, -2.41007734, -2.64763667, -2.59715948, -2.67384469,\n",
       "                          -2.86699985, -2.62522846, -2.67384469, -2.98184266, -2.59032303,\n",
       "                          -2.77013891, -2.85221108, -2.99829644, -2.4055141 , -2.20883295,\n",
       "                          -2.71566519, -2.53757337, -2.8403213 , -2.54268576, -2.70391231]),\n",
       "              'y': array([ 0.32660731, -0.16955685, -0.13734561, -0.31112432,  0.33392456,\n",
       "                           0.74778271, -0.08210451,  0.17040535, -0.57079803, -0.1066917 ,\n",
       "                           0.65193501,  0.02152063, -0.22774019, -0.50327991,  1.1861949 ,\n",
       "                           1.34475434,  0.81808967,  0.31913667,  0.87924409,  0.52047364,\n",
       "                           0.39786782,  0.44003175,  0.14161557,  0.10552268, -0.03120959,\n",
       "                          -0.13905634,  0.13788731,  0.37468456,  0.31929007, -0.19007583,\n",
       "                          -0.19739308,  0.41808001,  0.81998263,  1.10002193, -0.1066917 ,\n",
       "                           0.0771931 ,  0.60680001, -0.1066917 , -0.48025005,  0.23605934,\n",
       "                           0.27105942, -0.93286537, -0.33430757,  0.19591726,  0.44269603,\n",
       "                          -0.24268148,  0.51036755, -0.22057634,  0.58628103,  0.11501085]),\n",
       "              'z': array([-0.02151184, -0.20352143,  0.02470924,  0.03767198,  0.0962297 ,\n",
       "                           0.17432562,  0.26425109, -0.01580151,  0.02733541, -0.1915333 ,\n",
       "                          -0.069275  ,  0.10765035, -0.20032779,  0.06841363, -0.1445057 ,\n",
       "                           0.28373066,  0.14531599,  0.03339425, -0.11452146,  0.21957209,\n",
       "                          -0.23369561,  0.21483637,  0.29961898,  0.04568004,  0.12940758,\n",
       "                          -0.24711634,  0.10126308, -0.07235916, -0.13925337,  0.04646646,\n",
       "                          -0.07127507, -0.13838824,  0.2305856 ,  0.16358191, -0.1915333 ,\n",
       "                          -0.15684235, -0.26116316, -0.1915333 ,  0.07972481, -0.07390124,\n",
       "                           0.08424157, -0.34096149,  0.19900842,  0.27071707,  0.30348781,\n",
       "                          -0.09051561,  0.1719184 ,  0.09006138, -0.01117527, -0.08269573])},\n",
       "             {'hovertemplate': 'color=versicolor<br>PC 1=%{x}<br>PC 2=%{y}<br>PC 3=%{z}<extra></extra>',\n",
       "              'legendgroup': 'versicolor',\n",
       "              'marker': {'color': '#EF553B', 'symbol': 'circle'},\n",
       "              'mode': 'markers',\n",
       "              'name': 'versicolor',\n",
       "              'scene': 'scene',\n",
       "              'showlegend': True,\n",
       "              'type': 'scatter3d',\n",
       "              'x': array([ 1.28479459,  0.93241075,  1.46406132,  0.18096721,  1.08713449,\n",
       "                           0.64043675,  1.09522371, -0.75146714,  1.04329778, -0.01019007,\n",
       "                          -0.5110862 ,  0.51109806,  0.26233576,  0.98404455, -0.174864  ,\n",
       "                           0.92757294,  0.65959279,  0.23454059,  0.94236171,  0.0432464 ,\n",
       "                           1.11624072,  0.35678657,  1.29646885,  0.92050265,  0.71400821,\n",
       "                           0.89964086,  1.33104142,  1.55739627,  0.81245555, -0.30733476,\n",
       "                          -0.07034289, -0.19188449,  0.13499495,  1.37873698,  0.58727485,\n",
       "                           0.8072055 ,  1.22042897,  0.81286779,  0.24519516,  0.16451343,\n",
       "                           0.46303099,  0.89016045,  0.22887905, -0.70708128,  0.35553304,\n",
       "                           0.33112695,  0.37523823,  0.64169028, -0.90846333,  0.29780791]),\n",
       "              'y': array([ 0.68543919,  0.31919809,  0.50418983, -0.82560394,  0.07539039,\n",
       "                          -0.41732348,  0.28389121, -1.00110751,  0.22895691, -0.72057487,\n",
       "                          -1.26249195, -0.10228411, -0.5478933 , -0.12436042, -0.25181557,\n",
       "                           0.46823621, -0.35197629, -0.33192183, -0.54182226, -0.58148945,\n",
       "                          -0.08421401, -0.06682383, -0.32756152, -0.18239036,  0.15037915,\n",
       "                           0.32961098,  0.24466952,  0.26739258, -0.16233157, -0.36508661,\n",
       "                          -0.70253793, -0.67749054, -0.31170964, -0.42120514, -0.48328427,\n",
       "                           0.19505396,  0.40803534, -0.370679  , -0.26672804, -0.67966147,\n",
       "                          -0.66952655, -0.03381244, -0.40225762, -1.00842476, -0.50321849,\n",
       "                          -0.21118014, -0.29162202,  0.01907118, -0.75156873, -0.34701652]),\n",
       "              'z': array([-0.40612955, -0.01712991, -0.33826073, -0.17708286, -0.30654446,\n",
       "                           0.04118877,  0.17002253,  0.01567219, -0.41481457,  0.28343725,\n",
       "                          -0.26648995,  0.13232789, -0.69194158, -0.06215743,  0.09365864,\n",
       "                          -0.3132294 ,  0.3283843 , -0.27028067, -0.49734854, -0.23296356,\n",
       "                           0.45984423, -0.22747218, -0.34751321, -0.23161142, -0.32037233,\n",
       "                          -0.31477148, -0.52124492, -0.16463849,  0.03634358, -0.3153372 ,\n",
       "                          -0.24175804, -0.30391654, -0.1749733 ,  0.0154805 ,  0.44458375,\n",
       "                           0.38945871, -0.23656609, -0.61287105,  0.18956248, -0.05779924,\n",
       "                          -0.02405389, -0.00976803, -0.22736271, -0.10206934,  0.01788947,\n",
       "                           0.08380907,  0.07907336, -0.20417288, -0.00773658,  0.01217914])},\n",
       "             {'hovertemplate': 'color=virginica<br>PC 1=%{x}<br>PC 2=%{y}<br>PC 3=%{z}<extra></extra>',\n",
       "              'legendgroup': 'virginica',\n",
       "              'marker': {'color': '#00cc96', 'symbol': 'circle'},\n",
       "              'mode': 'markers',\n",
       "              'name': 'virginica',\n",
       "              'scene': 'scene',\n",
       "              'showlegend': True,\n",
       "              'type': 'scatter3d',\n",
       "              'x': array([2.53172698, 1.41407223, 2.61648461, 1.97081495, 2.34975798, 3.39687992,\n",
       "                          0.51938325, 2.9320051 , 2.31967279, 2.91813423, 1.66193495, 1.80234045,\n",
       "                          2.16537886, 1.34459422, 1.5852673 , 1.90474358, 1.94924878, 3.48876538,\n",
       "                          3.79468686, 1.29832982, 2.42816726, 1.19809737, 3.49926548, 1.38766825,\n",
       "                          2.27585365, 2.61419383, 1.25762518, 1.29066965, 2.12285398, 2.3875644 ,\n",
       "                          2.84096093, 3.2323429 , 2.15873837, 1.4431026 , 1.77964011, 3.07652162,\n",
       "                          2.14498686, 1.90486293, 1.16885347, 2.10765373, 2.31430339, 1.92245088,\n",
       "                          1.41407223, 2.56332271, 2.41939122, 1.94401705, 1.52566363, 1.76404594,\n",
       "                          1.90162908, 1.38966613]),\n",
       "              'y': array([-0.01184224, -0.57492506,  0.34193529, -0.18112569, -0.04188255,\n",
       "                           0.54716805, -1.19135169,  0.35237701, -0.24554817,  0.78038063,\n",
       "                           0.2420384 , -0.21615461,  0.21528028, -0.77641543, -0.53930705,\n",
       "                           0.11881899,  0.04073026,  1.17154454,  0.25326557, -0.76101394,\n",
       "                           0.37678197, -0.60557896,  0.45677347, -0.20403099,  0.33338653,\n",
       "                           0.55836695, -0.179137  , -0.11642525, -0.21085488,  0.46251925,\n",
       "                           0.37274259,  1.37052404, -0.21832553, -0.14380129, -0.50146479,\n",
       "                           0.68576444,  0.13890661,  0.04804751, -0.1645025 ,  0.37148225,\n",
       "                           0.18260885,  0.40927118, -0.57492506,  0.2759745 ,  0.30350394,\n",
       "                           0.18741522, -0.37502085,  0.07851919,  0.11587675, -0.28288671]),\n",
       "              'z': array([ 0.75845865,  0.29639822, -0.11214137,  0.10653915,  0.28411068,\n",
       "                          -0.35187316,  0.54668553, -0.42369128, -0.34992218,  0.42173893,\n",
       "                           0.24281526, -0.03769533,  0.03314818,  0.28286802,  0.63057049,\n",
       "                           0.48013808,  0.04272909,  0.12932008, -0.51697072, -0.34488705,\n",
       "                           0.21864907,  0.51264077, -0.57691019, -0.06351132,  0.28467815,\n",
       "                          -0.20842335,  0.04697781,  0.23161356,  0.15351589, -0.45202396,\n",
       "                          -0.50103154, -0.11844878,  0.20842198, -0.15408297, -0.17581119,\n",
       "                          -0.33642274,  0.73418474,  0.16047063,  0.28246088,  0.02743786,\n",
       "                           0.3228604 ,  0.11549282,  0.29639822,  0.29125361,  0.50430252,\n",
       "                           0.17930287, -0.12063644,  0.13078405,  0.72287356,  0.36231783])}],\n",
       "    'layout': {'legend': {'title': {'text': 'color'}, 'tracegroupgap': 0},\n",
       "               'scene': {'domain': {'x': [0.0, 1.0], 'y': [0.0, 1.0]},\n",
       "                         'xaxis': {'title': {'text': 'PC 1'}},\n",
       "                         'yaxis': {'title': {'text': 'PC 2'}},\n",
       "                         'zaxis': {'title': {'text': 'PC 3'}}},\n",
       "               'template': '...',\n",
       "               'title': {'text': 'Total Explained Variance: 99.48%'}}\n",
       "})"
      ]
     },
     "execution_count": 16,
     "metadata": {},
     "output_type": "execute_result"
    }
   ],
   "source": [
    "# 3D PCA\n",
    "from sklearn.decomposition import PCA\n",
    "\n",
    "df = px.data.iris()\n",
    "X = df[['sepal_length', 'sepal_width', 'petal_length', 'petal_width']]\n",
    "\n",
    "pca = PCA(n_components=3)\n",
    "components = pca.fit_transform(X)\n",
    "\n",
    "total_var = pca.explained_variance_ratio_.sum() * 100\n",
    "\n",
    "fig4 = px.scatter_3d(\n",
    "    components, x=0, y=1, z=2, color=df['species'],\n",
    "    title=f'Total Explained Variance: {total_var:.2f}%',\n",
    "    labels={'0': 'PC 1', '1': 'PC 2', '2': 'PC 3'}\n",
    ")\n",
    "fig4.write_html(\"/home/niko/Downloads/plotly_test_3d_pca.html\")\n",
    "fig4"
   ]
  },
  {
   "cell_type": "code",
   "execution_count": 20,
   "metadata": {},
   "outputs": [
    {
     "ename": "ValueError",
     "evalue": "Mime type rendering requires nbformat>=4.2.0 but it is not installed",
     "output_type": "error",
     "traceback": [
      "\u001b[0;31m---------------------------------------------------------------------------\u001b[0m",
      "\u001b[0;31mValueError\u001b[0m                                Traceback (most recent call last)",
      "File \u001b[0;32m~/code/plugin_dev/eis_testing/eis_venv_test/lib/python3.10/site-packages/IPython/core/formatters.py:920\u001b[0m, in \u001b[0;36mIPythonDisplayFormatter.__call__\u001b[0;34m(self, obj)\u001b[0m\n\u001b[1;32m    918\u001b[0m method \u001b[39m=\u001b[39m get_real_method(obj, \u001b[39mself\u001b[39m\u001b[39m.\u001b[39mprint_method)\n\u001b[1;32m    919\u001b[0m \u001b[39mif\u001b[39;00m method \u001b[39mis\u001b[39;00m \u001b[39mnot\u001b[39;00m \u001b[39mNone\u001b[39;00m:\n\u001b[0;32m--> 920\u001b[0m     method()\n\u001b[1;32m    921\u001b[0m     \u001b[39mreturn\u001b[39;00m \u001b[39mTrue\u001b[39;00m\n",
      "File \u001b[0;32m~/code/plugin_dev/eis_testing/eis_venv_test/lib/python3.10/site-packages/plotly/basedatatypes.py:834\u001b[0m, in \u001b[0;36mBaseFigure._ipython_display_\u001b[0;34m(self)\u001b[0m\n\u001b[1;32m    831\u001b[0m \u001b[39mimport\u001b[39;00m \u001b[39mplotly\u001b[39;00m\u001b[39m.\u001b[39;00m\u001b[39mio\u001b[39;00m \u001b[39mas\u001b[39;00m \u001b[39mpio\u001b[39;00m\n\u001b[1;32m    833\u001b[0m \u001b[39mif\u001b[39;00m pio\u001b[39m.\u001b[39mrenderers\u001b[39m.\u001b[39mrender_on_display \u001b[39mand\u001b[39;00m pio\u001b[39m.\u001b[39mrenderers\u001b[39m.\u001b[39mdefault:\n\u001b[0;32m--> 834\u001b[0m     pio\u001b[39m.\u001b[39;49mshow(\u001b[39mself\u001b[39;49m)\n\u001b[1;32m    835\u001b[0m \u001b[39melse\u001b[39;00m:\n\u001b[1;32m    836\u001b[0m     \u001b[39mprint\u001b[39m(\u001b[39mrepr\u001b[39m(\u001b[39mself\u001b[39m))\n",
      "File \u001b[0;32m~/code/plugin_dev/eis_testing/eis_venv_test/lib/python3.10/site-packages/plotly/io/_renderers.py:396\u001b[0m, in \u001b[0;36mshow\u001b[0;34m(fig, renderer, validate, **kwargs)\u001b[0m\n\u001b[1;32m    391\u001b[0m         \u001b[39mraise\u001b[39;00m \u001b[39mValueError\u001b[39;00m(\n\u001b[1;32m    392\u001b[0m             \u001b[39m\"\u001b[39m\u001b[39mMime type rendering requires ipython but it is not installed\u001b[39m\u001b[39m\"\u001b[39m\n\u001b[1;32m    393\u001b[0m         )\n\u001b[1;32m    395\u001b[0m     \u001b[39mif\u001b[39;00m \u001b[39mnot\u001b[39;00m nbformat \u001b[39mor\u001b[39;00m Version(nbformat\u001b[39m.\u001b[39m__version__) \u001b[39m<\u001b[39m Version(\u001b[39m\"\u001b[39m\u001b[39m4.2.0\u001b[39m\u001b[39m\"\u001b[39m):\n\u001b[0;32m--> 396\u001b[0m         \u001b[39mraise\u001b[39;00m \u001b[39mValueError\u001b[39;00m(\n\u001b[1;32m    397\u001b[0m             \u001b[39m\"\u001b[39m\u001b[39mMime type rendering requires nbformat>=4.2.0 but it is not installed\u001b[39m\u001b[39m\"\u001b[39m\n\u001b[1;32m    398\u001b[0m         )\n\u001b[1;32m    400\u001b[0m     ipython_display\u001b[39m.\u001b[39mdisplay(bundle, raw\u001b[39m=\u001b[39m\u001b[39mTrue\u001b[39;00m)\n\u001b[1;32m    402\u001b[0m \u001b[39m# external renderers\u001b[39;00m\n",
      "\u001b[0;31mValueError\u001b[0m: Mime type rendering requires nbformat>=4.2.0 but it is not installed"
     ]
    },
    {
     "data": {
      "application/vnd.plotly.v1+json": {
       "config": {
        "plotlyServerURL": "https://plot.ly"
       },
       "data": [
        {
         "mode": "lines",
         "name": "setosa (AUC=0.84)",
         "type": "scatter",
         "x": [
          0,
          0,
          0.01,
          0.01,
          0.03,
          0.03,
          0.04,
          0.04,
          0.06,
          0.06,
          0.07,
          0.07,
          0.08,
          0.09,
          0.09,
          0.1,
          0.1,
          0.11,
          0.11,
          0.14,
          0.14,
          0.24,
          0.24,
          0.33,
          0.33,
          0.34,
          0.34,
          0.41,
          0.41,
          0.46,
          0.46,
          0.64,
          0.64,
          0.73,
          0.73,
          0.75,
          0.75,
          0.78,
          0.78,
          0.79,
          0.79,
          1
         ],
         "y": [
          0,
          0.02,
          0.02,
          0.1,
          0.1,
          0.12,
          0.12,
          0.24,
          0.24,
          0.42,
          0.42,
          0.48,
          0.48,
          0.52,
          0.66,
          0.66,
          0.76,
          0.76,
          0.78,
          0.78,
          0.8,
          0.8,
          0.82,
          0.82,
          0.84,
          0.84,
          0.86,
          0.86,
          0.88,
          0.88,
          0.9,
          0.9,
          0.92,
          0.92,
          0.94,
          0.94,
          0.96,
          0.96,
          0.98,
          0.98,
          1,
          1
         ]
        },
        {
         "mode": "lines",
         "name": "versicolor (AUC=0.80)",
         "type": "scatter",
         "x": [
          0,
          0.01,
          0.01,
          0.02,
          0.02,
          0.03,
          0.03,
          0.04,
          0.04,
          0.06,
          0.06,
          0.08,
          0.08,
          0.1,
          0.1,
          0.13,
          0.13,
          0.17,
          0.17,
          0.18,
          0.18,
          0.2,
          0.22,
          0.22,
          0.23,
          0.23,
          0.24,
          0.24,
          0.25,
          0.25,
          0.3,
          0.3,
          0.32,
          0.32,
          0.34,
          0.34,
          0.42,
          0.42,
          0.44,
          0.44,
          0.46,
          0.48,
          0.53,
          0.53,
          0.58,
          0.58,
          0.75,
          0.75,
          0.89,
          0.89,
          0.9,
          0.9,
          0.94,
          0.94,
          1
         ],
         "y": [
          0,
          0,
          0.16,
          0.16,
          0.24,
          0.24,
          0.36,
          0.36,
          0.4,
          0.4,
          0.46,
          0.46,
          0.5,
          0.5,
          0.54,
          0.54,
          0.56,
          0.56,
          0.6,
          0.6,
          0.62,
          0.62,
          0.62,
          0.64,
          0.64,
          0.66,
          0.66,
          0.74,
          0.74,
          0.76,
          0.76,
          0.78,
          0.78,
          0.8,
          0.8,
          0.82,
          0.82,
          0.84,
          0.84,
          0.86,
          0.86,
          0.88,
          0.88,
          0.9,
          0.9,
          0.92,
          0.92,
          0.94,
          0.94,
          0.96,
          0.96,
          0.98,
          0.98,
          1,
          1
         ]
        },
        {
         "mode": "lines",
         "name": "virginica (AUC=0.87)",
         "type": "scatter",
         "x": [
          0,
          0,
          0,
          0.01,
          0.01,
          0.02,
          0.02,
          0.03,
          0.03,
          0.06,
          0.06,
          0.07,
          0.07,
          0.08,
          0.08,
          0.09,
          0.09,
          0.09,
          0.12,
          0.12,
          0.14,
          0.14,
          0.2,
          0.2,
          0.21,
          0.21,
          0.32,
          0.32,
          0.54,
          0.54,
          0.7,
          0.7,
          0.8,
          0.8,
          0.84,
          0.84,
          0.89,
          0.89,
          0.9,
          0.93,
          1
         ],
         "y": [
          0,
          0.02,
          0.04,
          0.04,
          0.36,
          0.36,
          0.38,
          0.38,
          0.4,
          0.4,
          0.54,
          0.54,
          0.58,
          0.58,
          0.6,
          0.6,
          0.64,
          0.68,
          0.68,
          0.78,
          0.78,
          0.84,
          0.84,
          0.86,
          0.86,
          0.88,
          0.88,
          0.9,
          0.9,
          0.92,
          0.92,
          0.94,
          0.94,
          0.96,
          0.96,
          0.98,
          0.98,
          1,
          1,
          1,
          1
         ]
        }
       ],
       "layout": {
        "height": 500,
        "shapes": [
         {
          "line": {
           "dash": "dash"
          },
          "type": "line",
          "x0": 0,
          "x1": 1,
          "y0": 0,
          "y1": 1
         }
        ],
        "template": {
         "data": {
          "bar": [
           {
            "error_x": {
             "color": "#2a3f5f"
            },
            "error_y": {
             "color": "#2a3f5f"
            },
            "marker": {
             "line": {
              "color": "#E5ECF6",
              "width": 0.5
             },
             "pattern": {
              "fillmode": "overlay",
              "size": 10,
              "solidity": 0.2
             }
            },
            "type": "bar"
           }
          ],
          "barpolar": [
           {
            "marker": {
             "line": {
              "color": "#E5ECF6",
              "width": 0.5
             },
             "pattern": {
              "fillmode": "overlay",
              "size": 10,
              "solidity": 0.2
             }
            },
            "type": "barpolar"
           }
          ],
          "carpet": [
           {
            "aaxis": {
             "endlinecolor": "#2a3f5f",
             "gridcolor": "white",
             "linecolor": "white",
             "minorgridcolor": "white",
             "startlinecolor": "#2a3f5f"
            },
            "baxis": {
             "endlinecolor": "#2a3f5f",
             "gridcolor": "white",
             "linecolor": "white",
             "minorgridcolor": "white",
             "startlinecolor": "#2a3f5f"
            },
            "type": "carpet"
           }
          ],
          "choropleth": [
           {
            "colorbar": {
             "outlinewidth": 0,
             "ticks": ""
            },
            "type": "choropleth"
           }
          ],
          "contour": [
           {
            "colorbar": {
             "outlinewidth": 0,
             "ticks": ""
            },
            "colorscale": [
             [
              0,
              "#0d0887"
             ],
             [
              0.1111111111111111,
              "#46039f"
             ],
             [
              0.2222222222222222,
              "#7201a8"
             ],
             [
              0.3333333333333333,
              "#9c179e"
             ],
             [
              0.4444444444444444,
              "#bd3786"
             ],
             [
              0.5555555555555556,
              "#d8576b"
             ],
             [
              0.6666666666666666,
              "#ed7953"
             ],
             [
              0.7777777777777778,
              "#fb9f3a"
             ],
             [
              0.8888888888888888,
              "#fdca26"
             ],
             [
              1,
              "#f0f921"
             ]
            ],
            "type": "contour"
           }
          ],
          "contourcarpet": [
           {
            "colorbar": {
             "outlinewidth": 0,
             "ticks": ""
            },
            "type": "contourcarpet"
           }
          ],
          "heatmap": [
           {
            "colorbar": {
             "outlinewidth": 0,
             "ticks": ""
            },
            "colorscale": [
             [
              0,
              "#0d0887"
             ],
             [
              0.1111111111111111,
              "#46039f"
             ],
             [
              0.2222222222222222,
              "#7201a8"
             ],
             [
              0.3333333333333333,
              "#9c179e"
             ],
             [
              0.4444444444444444,
              "#bd3786"
             ],
             [
              0.5555555555555556,
              "#d8576b"
             ],
             [
              0.6666666666666666,
              "#ed7953"
             ],
             [
              0.7777777777777778,
              "#fb9f3a"
             ],
             [
              0.8888888888888888,
              "#fdca26"
             ],
             [
              1,
              "#f0f921"
             ]
            ],
            "type": "heatmap"
           }
          ],
          "heatmapgl": [
           {
            "colorbar": {
             "outlinewidth": 0,
             "ticks": ""
            },
            "colorscale": [
             [
              0,
              "#0d0887"
             ],
             [
              0.1111111111111111,
              "#46039f"
             ],
             [
              0.2222222222222222,
              "#7201a8"
             ],
             [
              0.3333333333333333,
              "#9c179e"
             ],
             [
              0.4444444444444444,
              "#bd3786"
             ],
             [
              0.5555555555555556,
              "#d8576b"
             ],
             [
              0.6666666666666666,
              "#ed7953"
             ],
             [
              0.7777777777777778,
              "#fb9f3a"
             ],
             [
              0.8888888888888888,
              "#fdca26"
             ],
             [
              1,
              "#f0f921"
             ]
            ],
            "type": "heatmapgl"
           }
          ],
          "histogram": [
           {
            "marker": {
             "pattern": {
              "fillmode": "overlay",
              "size": 10,
              "solidity": 0.2
             }
            },
            "type": "histogram"
           }
          ],
          "histogram2d": [
           {
            "colorbar": {
             "outlinewidth": 0,
             "ticks": ""
            },
            "colorscale": [
             [
              0,
              "#0d0887"
             ],
             [
              0.1111111111111111,
              "#46039f"
             ],
             [
              0.2222222222222222,
              "#7201a8"
             ],
             [
              0.3333333333333333,
              "#9c179e"
             ],
             [
              0.4444444444444444,
              "#bd3786"
             ],
             [
              0.5555555555555556,
              "#d8576b"
             ],
             [
              0.6666666666666666,
              "#ed7953"
             ],
             [
              0.7777777777777778,
              "#fb9f3a"
             ],
             [
              0.8888888888888888,
              "#fdca26"
             ],
             [
              1,
              "#f0f921"
             ]
            ],
            "type": "histogram2d"
           }
          ],
          "histogram2dcontour": [
           {
            "colorbar": {
             "outlinewidth": 0,
             "ticks": ""
            },
            "colorscale": [
             [
              0,
              "#0d0887"
             ],
             [
              0.1111111111111111,
              "#46039f"
             ],
             [
              0.2222222222222222,
              "#7201a8"
             ],
             [
              0.3333333333333333,
              "#9c179e"
             ],
             [
              0.4444444444444444,
              "#bd3786"
             ],
             [
              0.5555555555555556,
              "#d8576b"
             ],
             [
              0.6666666666666666,
              "#ed7953"
             ],
             [
              0.7777777777777778,
              "#fb9f3a"
             ],
             [
              0.8888888888888888,
              "#fdca26"
             ],
             [
              1,
              "#f0f921"
             ]
            ],
            "type": "histogram2dcontour"
           }
          ],
          "mesh3d": [
           {
            "colorbar": {
             "outlinewidth": 0,
             "ticks": ""
            },
            "type": "mesh3d"
           }
          ],
          "parcoords": [
           {
            "line": {
             "colorbar": {
              "outlinewidth": 0,
              "ticks": ""
             }
            },
            "type": "parcoords"
           }
          ],
          "pie": [
           {
            "automargin": true,
            "type": "pie"
           }
          ],
          "scatter": [
           {
            "fillpattern": {
             "fillmode": "overlay",
             "size": 10,
             "solidity": 0.2
            },
            "type": "scatter"
           }
          ],
          "scatter3d": [
           {
            "line": {
             "colorbar": {
              "outlinewidth": 0,
              "ticks": ""
             }
            },
            "marker": {
             "colorbar": {
              "outlinewidth": 0,
              "ticks": ""
             }
            },
            "type": "scatter3d"
           }
          ],
          "scattercarpet": [
           {
            "marker": {
             "colorbar": {
              "outlinewidth": 0,
              "ticks": ""
             }
            },
            "type": "scattercarpet"
           }
          ],
          "scattergeo": [
           {
            "marker": {
             "colorbar": {
              "outlinewidth": 0,
              "ticks": ""
             }
            },
            "type": "scattergeo"
           }
          ],
          "scattergl": [
           {
            "marker": {
             "colorbar": {
              "outlinewidth": 0,
              "ticks": ""
             }
            },
            "type": "scattergl"
           }
          ],
          "scattermapbox": [
           {
            "marker": {
             "colorbar": {
              "outlinewidth": 0,
              "ticks": ""
             }
            },
            "type": "scattermapbox"
           }
          ],
          "scatterpolar": [
           {
            "marker": {
             "colorbar": {
              "outlinewidth": 0,
              "ticks": ""
             }
            },
            "type": "scatterpolar"
           }
          ],
          "scatterpolargl": [
           {
            "marker": {
             "colorbar": {
              "outlinewidth": 0,
              "ticks": ""
             }
            },
            "type": "scatterpolargl"
           }
          ],
          "scatterternary": [
           {
            "marker": {
             "colorbar": {
              "outlinewidth": 0,
              "ticks": ""
             }
            },
            "type": "scatterternary"
           }
          ],
          "surface": [
           {
            "colorbar": {
             "outlinewidth": 0,
             "ticks": ""
            },
            "colorscale": [
             [
              0,
              "#0d0887"
             ],
             [
              0.1111111111111111,
              "#46039f"
             ],
             [
              0.2222222222222222,
              "#7201a8"
             ],
             [
              0.3333333333333333,
              "#9c179e"
             ],
             [
              0.4444444444444444,
              "#bd3786"
             ],
             [
              0.5555555555555556,
              "#d8576b"
             ],
             [
              0.6666666666666666,
              "#ed7953"
             ],
             [
              0.7777777777777778,
              "#fb9f3a"
             ],
             [
              0.8888888888888888,
              "#fdca26"
             ],
             [
              1,
              "#f0f921"
             ]
            ],
            "type": "surface"
           }
          ],
          "table": [
           {
            "cells": {
             "fill": {
              "color": "#EBF0F8"
             },
             "line": {
              "color": "white"
             }
            },
            "header": {
             "fill": {
              "color": "#C8D4E3"
             },
             "line": {
              "color": "white"
             }
            },
            "type": "table"
           }
          ]
         },
         "layout": {
          "annotationdefaults": {
           "arrowcolor": "#2a3f5f",
           "arrowhead": 0,
           "arrowwidth": 1
          },
          "autotypenumbers": "strict",
          "coloraxis": {
           "colorbar": {
            "outlinewidth": 0,
            "ticks": ""
           }
          },
          "colorscale": {
           "diverging": [
            [
             0,
             "#8e0152"
            ],
            [
             0.1,
             "#c51b7d"
            ],
            [
             0.2,
             "#de77ae"
            ],
            [
             0.3,
             "#f1b6da"
            ],
            [
             0.4,
             "#fde0ef"
            ],
            [
             0.5,
             "#f7f7f7"
            ],
            [
             0.6,
             "#e6f5d0"
            ],
            [
             0.7,
             "#b8e186"
            ],
            [
             0.8,
             "#7fbc41"
            ],
            [
             0.9,
             "#4d9221"
            ],
            [
             1,
             "#276419"
            ]
           ],
           "sequential": [
            [
             0,
             "#0d0887"
            ],
            [
             0.1111111111111111,
             "#46039f"
            ],
            [
             0.2222222222222222,
             "#7201a8"
            ],
            [
             0.3333333333333333,
             "#9c179e"
            ],
            [
             0.4444444444444444,
             "#bd3786"
            ],
            [
             0.5555555555555556,
             "#d8576b"
            ],
            [
             0.6666666666666666,
             "#ed7953"
            ],
            [
             0.7777777777777778,
             "#fb9f3a"
            ],
            [
             0.8888888888888888,
             "#fdca26"
            ],
            [
             1,
             "#f0f921"
            ]
           ],
           "sequentialminus": [
            [
             0,
             "#0d0887"
            ],
            [
             0.1111111111111111,
             "#46039f"
            ],
            [
             0.2222222222222222,
             "#7201a8"
            ],
            [
             0.3333333333333333,
             "#9c179e"
            ],
            [
             0.4444444444444444,
             "#bd3786"
            ],
            [
             0.5555555555555556,
             "#d8576b"
            ],
            [
             0.6666666666666666,
             "#ed7953"
            ],
            [
             0.7777777777777778,
             "#fb9f3a"
            ],
            [
             0.8888888888888888,
             "#fdca26"
            ],
            [
             1,
             "#f0f921"
            ]
           ]
          },
          "colorway": [
           "#636efa",
           "#EF553B",
           "#00cc96",
           "#ab63fa",
           "#FFA15A",
           "#19d3f3",
           "#FF6692",
           "#B6E880",
           "#FF97FF",
           "#FECB52"
          ],
          "font": {
           "color": "#2a3f5f"
          },
          "geo": {
           "bgcolor": "white",
           "lakecolor": "white",
           "landcolor": "#E5ECF6",
           "showlakes": true,
           "showland": true,
           "subunitcolor": "white"
          },
          "hoverlabel": {
           "align": "left"
          },
          "hovermode": "closest",
          "mapbox": {
           "style": "light"
          },
          "paper_bgcolor": "white",
          "plot_bgcolor": "#E5ECF6",
          "polar": {
           "angularaxis": {
            "gridcolor": "white",
            "linecolor": "white",
            "ticks": ""
           },
           "bgcolor": "#E5ECF6",
           "radialaxis": {
            "gridcolor": "white",
            "linecolor": "white",
            "ticks": ""
           }
          },
          "scene": {
           "xaxis": {
            "backgroundcolor": "#E5ECF6",
            "gridcolor": "white",
            "gridwidth": 2,
            "linecolor": "white",
            "showbackground": true,
            "ticks": "",
            "zerolinecolor": "white"
           },
           "yaxis": {
            "backgroundcolor": "#E5ECF6",
            "gridcolor": "white",
            "gridwidth": 2,
            "linecolor": "white",
            "showbackground": true,
            "ticks": "",
            "zerolinecolor": "white"
           },
           "zaxis": {
            "backgroundcolor": "#E5ECF6",
            "gridcolor": "white",
            "gridwidth": 2,
            "linecolor": "white",
            "showbackground": true,
            "ticks": "",
            "zerolinecolor": "white"
           }
          },
          "shapedefaults": {
           "line": {
            "color": "#2a3f5f"
           }
          },
          "ternary": {
           "aaxis": {
            "gridcolor": "white",
            "linecolor": "white",
            "ticks": ""
           },
           "baxis": {
            "gridcolor": "white",
            "linecolor": "white",
            "ticks": ""
           },
           "bgcolor": "#E5ECF6",
           "caxis": {
            "gridcolor": "white",
            "linecolor": "white",
            "ticks": ""
           }
          },
          "title": {
           "x": 0.05
          },
          "xaxis": {
           "automargin": true,
           "gridcolor": "white",
           "linecolor": "white",
           "ticks": "",
           "title": {
            "standoff": 15
           },
           "zerolinecolor": "white",
           "zerolinewidth": 2
          },
          "yaxis": {
           "automargin": true,
           "gridcolor": "white",
           "linecolor": "white",
           "ticks": "",
           "title": {
            "standoff": 15
           },
           "zerolinecolor": "white",
           "zerolinewidth": 2
          }
         }
        },
        "width": 700,
        "xaxis": {
         "constrain": "domain",
         "title": {
          "text": "False Positive Rate"
         }
        },
        "yaxis": {
         "scaleanchor": "x",
         "scaleratio": 1,
         "title": {
          "text": "True Positive Rate"
         }
        }
       }
      },
      "text/html": [
       "<div>                        <script type=\"text/javascript\">window.PlotlyConfig = {MathJaxConfig: 'local'};</script>\n",
       "        <script src=\"https://cdn.plot.ly/plotly-2.18.2.min.js\"></script>                <div id=\"9ad46cc1-c3b2-4052-bc00-4f3037cbafc4\" class=\"plotly-graph-div\" style=\"height:500px; width:700px;\"></div>            <script type=\"text/javascript\">                                    window.PLOTLYENV=window.PLOTLYENV || {};                                    if (document.getElementById(\"9ad46cc1-c3b2-4052-bc00-4f3037cbafc4\")) {                    Plotly.newPlot(                        \"9ad46cc1-c3b2-4052-bc00-4f3037cbafc4\",                        [{\"mode\":\"lines\",\"name\":\"setosa (AUC=0.84)\",\"x\":[0.0,0.0,0.01,0.01,0.03,0.03,0.04,0.04,0.06,0.06,0.07,0.07,0.08,0.09,0.09,0.1,0.1,0.11,0.11,0.14,0.14,0.24,0.24,0.33,0.33,0.34,0.34,0.41,0.41,0.46,0.46,0.64,0.64,0.73,0.73,0.75,0.75,0.78,0.78,0.79,0.79,1.0],\"y\":[0.0,0.02,0.02,0.1,0.1,0.12,0.12,0.24,0.24,0.42,0.42,0.48,0.48,0.52,0.66,0.66,0.76,0.76,0.78,0.78,0.8,0.8,0.82,0.82,0.84,0.84,0.86,0.86,0.88,0.88,0.9,0.9,0.92,0.92,0.94,0.94,0.96,0.96,0.98,0.98,1.0,1.0],\"type\":\"scatter\"},{\"mode\":\"lines\",\"name\":\"versicolor (AUC=0.80)\",\"x\":[0.0,0.01,0.01,0.02,0.02,0.03,0.03,0.04,0.04,0.06,0.06,0.08,0.08,0.1,0.1,0.13,0.13,0.17,0.17,0.18,0.18,0.2,0.22,0.22,0.23,0.23,0.24,0.24,0.25,0.25,0.3,0.3,0.32,0.32,0.34,0.34,0.42,0.42,0.44,0.44,0.46,0.48,0.53,0.53,0.58,0.58,0.75,0.75,0.89,0.89,0.9,0.9,0.94,0.94,1.0],\"y\":[0.0,0.0,0.16,0.16,0.24,0.24,0.36,0.36,0.4,0.4,0.46,0.46,0.5,0.5,0.54,0.54,0.56,0.56,0.6,0.6,0.62,0.62,0.62,0.64,0.64,0.66,0.66,0.74,0.74,0.76,0.76,0.78,0.78,0.8,0.8,0.82,0.82,0.84,0.84,0.86,0.86,0.88,0.88,0.9,0.9,0.92,0.92,0.94,0.94,0.96,0.96,0.98,0.98,1.0,1.0],\"type\":\"scatter\"},{\"mode\":\"lines\",\"name\":\"virginica (AUC=0.87)\",\"x\":[0.0,0.0,0.0,0.01,0.01,0.02,0.02,0.03,0.03,0.06,0.06,0.07,0.07,0.08,0.08,0.09,0.09,0.09,0.12,0.12,0.14,0.14,0.2,0.2,0.21,0.21,0.32,0.32,0.54,0.54,0.7,0.7,0.8,0.8,0.84,0.84,0.89,0.89,0.9,0.93,1.0],\"y\":[0.0,0.02,0.04,0.04,0.36,0.36,0.38,0.38,0.4,0.4,0.54,0.54,0.58,0.58,0.6,0.6,0.64,0.68,0.68,0.78,0.78,0.84,0.84,0.86,0.86,0.88,0.88,0.9,0.9,0.92,0.92,0.94,0.94,0.96,0.96,0.98,0.98,1.0,1.0,1.0,1.0],\"type\":\"scatter\"}],                        {\"template\":{\"data\":{\"histogram2dcontour\":[{\"type\":\"histogram2dcontour\",\"colorbar\":{\"outlinewidth\":0,\"ticks\":\"\"},\"colorscale\":[[0.0,\"#0d0887\"],[0.1111111111111111,\"#46039f\"],[0.2222222222222222,\"#7201a8\"],[0.3333333333333333,\"#9c179e\"],[0.4444444444444444,\"#bd3786\"],[0.5555555555555556,\"#d8576b\"],[0.6666666666666666,\"#ed7953\"],[0.7777777777777778,\"#fb9f3a\"],[0.8888888888888888,\"#fdca26\"],[1.0,\"#f0f921\"]]}],\"choropleth\":[{\"type\":\"choropleth\",\"colorbar\":{\"outlinewidth\":0,\"ticks\":\"\"}}],\"histogram2d\":[{\"type\":\"histogram2d\",\"colorbar\":{\"outlinewidth\":0,\"ticks\":\"\"},\"colorscale\":[[0.0,\"#0d0887\"],[0.1111111111111111,\"#46039f\"],[0.2222222222222222,\"#7201a8\"],[0.3333333333333333,\"#9c179e\"],[0.4444444444444444,\"#bd3786\"],[0.5555555555555556,\"#d8576b\"],[0.6666666666666666,\"#ed7953\"],[0.7777777777777778,\"#fb9f3a\"],[0.8888888888888888,\"#fdca26\"],[1.0,\"#f0f921\"]]}],\"heatmap\":[{\"type\":\"heatmap\",\"colorbar\":{\"outlinewidth\":0,\"ticks\":\"\"},\"colorscale\":[[0.0,\"#0d0887\"],[0.1111111111111111,\"#46039f\"],[0.2222222222222222,\"#7201a8\"],[0.3333333333333333,\"#9c179e\"],[0.4444444444444444,\"#bd3786\"],[0.5555555555555556,\"#d8576b\"],[0.6666666666666666,\"#ed7953\"],[0.7777777777777778,\"#fb9f3a\"],[0.8888888888888888,\"#fdca26\"],[1.0,\"#f0f921\"]]}],\"heatmapgl\":[{\"type\":\"heatmapgl\",\"colorbar\":{\"outlinewidth\":0,\"ticks\":\"\"},\"colorscale\":[[0.0,\"#0d0887\"],[0.1111111111111111,\"#46039f\"],[0.2222222222222222,\"#7201a8\"],[0.3333333333333333,\"#9c179e\"],[0.4444444444444444,\"#bd3786\"],[0.5555555555555556,\"#d8576b\"],[0.6666666666666666,\"#ed7953\"],[0.7777777777777778,\"#fb9f3a\"],[0.8888888888888888,\"#fdca26\"],[1.0,\"#f0f921\"]]}],\"contourcarpet\":[{\"type\":\"contourcarpet\",\"colorbar\":{\"outlinewidth\":0,\"ticks\":\"\"}}],\"contour\":[{\"type\":\"contour\",\"colorbar\":{\"outlinewidth\":0,\"ticks\":\"\"},\"colorscale\":[[0.0,\"#0d0887\"],[0.1111111111111111,\"#46039f\"],[0.2222222222222222,\"#7201a8\"],[0.3333333333333333,\"#9c179e\"],[0.4444444444444444,\"#bd3786\"],[0.5555555555555556,\"#d8576b\"],[0.6666666666666666,\"#ed7953\"],[0.7777777777777778,\"#fb9f3a\"],[0.8888888888888888,\"#fdca26\"],[1.0,\"#f0f921\"]]}],\"surface\":[{\"type\":\"surface\",\"colorbar\":{\"outlinewidth\":0,\"ticks\":\"\"},\"colorscale\":[[0.0,\"#0d0887\"],[0.1111111111111111,\"#46039f\"],[0.2222222222222222,\"#7201a8\"],[0.3333333333333333,\"#9c179e\"],[0.4444444444444444,\"#bd3786\"],[0.5555555555555556,\"#d8576b\"],[0.6666666666666666,\"#ed7953\"],[0.7777777777777778,\"#fb9f3a\"],[0.8888888888888888,\"#fdca26\"],[1.0,\"#f0f921\"]]}],\"mesh3d\":[{\"type\":\"mesh3d\",\"colorbar\":{\"outlinewidth\":0,\"ticks\":\"\"}}],\"scatter\":[{\"fillpattern\":{\"fillmode\":\"overlay\",\"size\":10,\"solidity\":0.2},\"type\":\"scatter\"}],\"parcoords\":[{\"type\":\"parcoords\",\"line\":{\"colorbar\":{\"outlinewidth\":0,\"ticks\":\"\"}}}],\"scatterpolargl\":[{\"type\":\"scatterpolargl\",\"marker\":{\"colorbar\":{\"outlinewidth\":0,\"ticks\":\"\"}}}],\"bar\":[{\"error_x\":{\"color\":\"#2a3f5f\"},\"error_y\":{\"color\":\"#2a3f5f\"},\"marker\":{\"line\":{\"color\":\"#E5ECF6\",\"width\":0.5},\"pattern\":{\"fillmode\":\"overlay\",\"size\":10,\"solidity\":0.2}},\"type\":\"bar\"}],\"scattergeo\":[{\"type\":\"scattergeo\",\"marker\":{\"colorbar\":{\"outlinewidth\":0,\"ticks\":\"\"}}}],\"scatterpolar\":[{\"type\":\"scatterpolar\",\"marker\":{\"colorbar\":{\"outlinewidth\":0,\"ticks\":\"\"}}}],\"histogram\":[{\"marker\":{\"pattern\":{\"fillmode\":\"overlay\",\"size\":10,\"solidity\":0.2}},\"type\":\"histogram\"}],\"scattergl\":[{\"type\":\"scattergl\",\"marker\":{\"colorbar\":{\"outlinewidth\":0,\"ticks\":\"\"}}}],\"scatter3d\":[{\"type\":\"scatter3d\",\"line\":{\"colorbar\":{\"outlinewidth\":0,\"ticks\":\"\"}},\"marker\":{\"colorbar\":{\"outlinewidth\":0,\"ticks\":\"\"}}}],\"scattermapbox\":[{\"type\":\"scattermapbox\",\"marker\":{\"colorbar\":{\"outlinewidth\":0,\"ticks\":\"\"}}}],\"scatterternary\":[{\"type\":\"scatterternary\",\"marker\":{\"colorbar\":{\"outlinewidth\":0,\"ticks\":\"\"}}}],\"scattercarpet\":[{\"type\":\"scattercarpet\",\"marker\":{\"colorbar\":{\"outlinewidth\":0,\"ticks\":\"\"}}}],\"carpet\":[{\"aaxis\":{\"endlinecolor\":\"#2a3f5f\",\"gridcolor\":\"white\",\"linecolor\":\"white\",\"minorgridcolor\":\"white\",\"startlinecolor\":\"#2a3f5f\"},\"baxis\":{\"endlinecolor\":\"#2a3f5f\",\"gridcolor\":\"white\",\"linecolor\":\"white\",\"minorgridcolor\":\"white\",\"startlinecolor\":\"#2a3f5f\"},\"type\":\"carpet\"}],\"table\":[{\"cells\":{\"fill\":{\"color\":\"#EBF0F8\"},\"line\":{\"color\":\"white\"}},\"header\":{\"fill\":{\"color\":\"#C8D4E3\"},\"line\":{\"color\":\"white\"}},\"type\":\"table\"}],\"barpolar\":[{\"marker\":{\"line\":{\"color\":\"#E5ECF6\",\"width\":0.5},\"pattern\":{\"fillmode\":\"overlay\",\"size\":10,\"solidity\":0.2}},\"type\":\"barpolar\"}],\"pie\":[{\"automargin\":true,\"type\":\"pie\"}]},\"layout\":{\"autotypenumbers\":\"strict\",\"colorway\":[\"#636efa\",\"#EF553B\",\"#00cc96\",\"#ab63fa\",\"#FFA15A\",\"#19d3f3\",\"#FF6692\",\"#B6E880\",\"#FF97FF\",\"#FECB52\"],\"font\":{\"color\":\"#2a3f5f\"},\"hovermode\":\"closest\",\"hoverlabel\":{\"align\":\"left\"},\"paper_bgcolor\":\"white\",\"plot_bgcolor\":\"#E5ECF6\",\"polar\":{\"bgcolor\":\"#E5ECF6\",\"angularaxis\":{\"gridcolor\":\"white\",\"linecolor\":\"white\",\"ticks\":\"\"},\"radialaxis\":{\"gridcolor\":\"white\",\"linecolor\":\"white\",\"ticks\":\"\"}},\"ternary\":{\"bgcolor\":\"#E5ECF6\",\"aaxis\":{\"gridcolor\":\"white\",\"linecolor\":\"white\",\"ticks\":\"\"},\"baxis\":{\"gridcolor\":\"white\",\"linecolor\":\"white\",\"ticks\":\"\"},\"caxis\":{\"gridcolor\":\"white\",\"linecolor\":\"white\",\"ticks\":\"\"}},\"coloraxis\":{\"colorbar\":{\"outlinewidth\":0,\"ticks\":\"\"}},\"colorscale\":{\"sequential\":[[0.0,\"#0d0887\"],[0.1111111111111111,\"#46039f\"],[0.2222222222222222,\"#7201a8\"],[0.3333333333333333,\"#9c179e\"],[0.4444444444444444,\"#bd3786\"],[0.5555555555555556,\"#d8576b\"],[0.6666666666666666,\"#ed7953\"],[0.7777777777777778,\"#fb9f3a\"],[0.8888888888888888,\"#fdca26\"],[1.0,\"#f0f921\"]],\"sequentialminus\":[[0.0,\"#0d0887\"],[0.1111111111111111,\"#46039f\"],[0.2222222222222222,\"#7201a8\"],[0.3333333333333333,\"#9c179e\"],[0.4444444444444444,\"#bd3786\"],[0.5555555555555556,\"#d8576b\"],[0.6666666666666666,\"#ed7953\"],[0.7777777777777778,\"#fb9f3a\"],[0.8888888888888888,\"#fdca26\"],[1.0,\"#f0f921\"]],\"diverging\":[[0,\"#8e0152\"],[0.1,\"#c51b7d\"],[0.2,\"#de77ae\"],[0.3,\"#f1b6da\"],[0.4,\"#fde0ef\"],[0.5,\"#f7f7f7\"],[0.6,\"#e6f5d0\"],[0.7,\"#b8e186\"],[0.8,\"#7fbc41\"],[0.9,\"#4d9221\"],[1,\"#276419\"]]},\"xaxis\":{\"gridcolor\":\"white\",\"linecolor\":\"white\",\"ticks\":\"\",\"title\":{\"standoff\":15},\"zerolinecolor\":\"white\",\"automargin\":true,\"zerolinewidth\":2},\"yaxis\":{\"gridcolor\":\"white\",\"linecolor\":\"white\",\"ticks\":\"\",\"title\":{\"standoff\":15},\"zerolinecolor\":\"white\",\"automargin\":true,\"zerolinewidth\":2},\"scene\":{\"xaxis\":{\"backgroundcolor\":\"#E5ECF6\",\"gridcolor\":\"white\",\"linecolor\":\"white\",\"showbackground\":true,\"ticks\":\"\",\"zerolinecolor\":\"white\",\"gridwidth\":2},\"yaxis\":{\"backgroundcolor\":\"#E5ECF6\",\"gridcolor\":\"white\",\"linecolor\":\"white\",\"showbackground\":true,\"ticks\":\"\",\"zerolinecolor\":\"white\",\"gridwidth\":2},\"zaxis\":{\"backgroundcolor\":\"#E5ECF6\",\"gridcolor\":\"white\",\"linecolor\":\"white\",\"showbackground\":true,\"ticks\":\"\",\"zerolinecolor\":\"white\",\"gridwidth\":2}},\"shapedefaults\":{\"line\":{\"color\":\"#2a3f5f\"}},\"annotationdefaults\":{\"arrowcolor\":\"#2a3f5f\",\"arrowhead\":0,\"arrowwidth\":1},\"geo\":{\"bgcolor\":\"white\",\"landcolor\":\"#E5ECF6\",\"subunitcolor\":\"white\",\"showland\":true,\"showlakes\":true,\"lakecolor\":\"white\"},\"title\":{\"x\":0.05},\"mapbox\":{\"style\":\"light\"}}},\"shapes\":[{\"line\":{\"dash\":\"dash\"},\"type\":\"line\",\"x0\":0,\"x1\":1,\"y0\":0,\"y1\":1}],\"yaxis\":{\"title\":{\"text\":\"True Positive Rate\"},\"scaleanchor\":\"x\",\"scaleratio\":1},\"xaxis\":{\"title\":{\"text\":\"False Positive Rate\"},\"constrain\":\"domain\"},\"width\":700,\"height\":500},                        {\"responsive\": true}                    )                };                            </script>        </div>"
      ],
      "text/plain": [
       "Figure({\n",
       "    'data': [{'mode': 'lines',\n",
       "              'name': 'setosa (AUC=0.84)',\n",
       "              'type': 'scatter',\n",
       "              'x': array([0.  , 0.  , 0.01, 0.01, 0.03, 0.03, 0.04, 0.04, 0.06, 0.06, 0.07, 0.07,\n",
       "                          0.08, 0.09, 0.09, 0.1 , 0.1 , 0.11, 0.11, 0.14, 0.14, 0.24, 0.24, 0.33,\n",
       "                          0.33, 0.34, 0.34, 0.41, 0.41, 0.46, 0.46, 0.64, 0.64, 0.73, 0.73, 0.75,\n",
       "                          0.75, 0.78, 0.78, 0.79, 0.79, 1.  ]),\n",
       "              'y': array([0.  , 0.02, 0.02, 0.1 , 0.1 , 0.12, 0.12, 0.24, 0.24, 0.42, 0.42, 0.48,\n",
       "                          0.48, 0.52, 0.66, 0.66, 0.76, 0.76, 0.78, 0.78, 0.8 , 0.8 , 0.82, 0.82,\n",
       "                          0.84, 0.84, 0.86, 0.86, 0.88, 0.88, 0.9 , 0.9 , 0.92, 0.92, 0.94, 0.94,\n",
       "                          0.96, 0.96, 0.98, 0.98, 1.  , 1.  ])},\n",
       "             {'mode': 'lines',\n",
       "              'name': 'versicolor (AUC=0.80)',\n",
       "              'type': 'scatter',\n",
       "              'x': array([0.  , 0.01, 0.01, 0.02, 0.02, 0.03, 0.03, 0.04, 0.04, 0.06, 0.06, 0.08,\n",
       "                          0.08, 0.1 , 0.1 , 0.13, 0.13, 0.17, 0.17, 0.18, 0.18, 0.2 , 0.22, 0.22,\n",
       "                          0.23, 0.23, 0.24, 0.24, 0.25, 0.25, 0.3 , 0.3 , 0.32, 0.32, 0.34, 0.34,\n",
       "                          0.42, 0.42, 0.44, 0.44, 0.46, 0.48, 0.53, 0.53, 0.58, 0.58, 0.75, 0.75,\n",
       "                          0.89, 0.89, 0.9 , 0.9 , 0.94, 0.94, 1.  ]),\n",
       "              'y': array([0.  , 0.  , 0.16, 0.16, 0.24, 0.24, 0.36, 0.36, 0.4 , 0.4 , 0.46, 0.46,\n",
       "                          0.5 , 0.5 , 0.54, 0.54, 0.56, 0.56, 0.6 , 0.6 , 0.62, 0.62, 0.62, 0.64,\n",
       "                          0.64, 0.66, 0.66, 0.74, 0.74, 0.76, 0.76, 0.78, 0.78, 0.8 , 0.8 , 0.82,\n",
       "                          0.82, 0.84, 0.84, 0.86, 0.86, 0.88, 0.88, 0.9 , 0.9 , 0.92, 0.92, 0.94,\n",
       "                          0.94, 0.96, 0.96, 0.98, 0.98, 1.  , 1.  ])},\n",
       "             {'mode': 'lines',\n",
       "              'name': 'virginica (AUC=0.87)',\n",
       "              'type': 'scatter',\n",
       "              'x': array([0.  , 0.  , 0.  , 0.01, 0.01, 0.02, 0.02, 0.03, 0.03, 0.06, 0.06, 0.07,\n",
       "                          0.07, 0.08, 0.08, 0.09, 0.09, 0.09, 0.12, 0.12, 0.14, 0.14, 0.2 , 0.2 ,\n",
       "                          0.21, 0.21, 0.32, 0.32, 0.54, 0.54, 0.7 , 0.7 , 0.8 , 0.8 , 0.84, 0.84,\n",
       "                          0.89, 0.89, 0.9 , 0.93, 1.  ]),\n",
       "              'y': array([0.  , 0.02, 0.04, 0.04, 0.36, 0.36, 0.38, 0.38, 0.4 , 0.4 , 0.54, 0.54,\n",
       "                          0.58, 0.58, 0.6 , 0.6 , 0.64, 0.68, 0.68, 0.78, 0.78, 0.84, 0.84, 0.86,\n",
       "                          0.86, 0.88, 0.88, 0.9 , 0.9 , 0.92, 0.92, 0.94, 0.94, 0.96, 0.96, 0.98,\n",
       "                          0.98, 1.  , 1.  , 1.  , 1.  ])}],\n",
       "    'layout': {'height': 500,\n",
       "               'shapes': [{'line': {'dash': 'dash'}, 'type': 'line', 'x0': 0, 'x1': 1, 'y0': 0, 'y1': 1}],\n",
       "               'template': '...',\n",
       "               'width': 700,\n",
       "               'xaxis': {'constrain': 'domain', 'title': {'text': 'False Positive Rate'}},\n",
       "               'yaxis': {'scaleanchor': 'x', 'scaleratio': 1, 'title': {'text': 'True Positive Rate'}}}\n",
       "})"
      ]
     },
     "execution_count": 20,
     "metadata": {},
     "output_type": "execute_result"
    }
   ],
   "source": [
    "import plotly.graph_objects as go\n",
    "import plotly.express as px\n",
    "import numpy as np\n",
    "import pandas as pd\n",
    "from sklearn.linear_model import LogisticRegression\n",
    "from sklearn.metrics import roc_curve, roc_auc_score\n",
    "\n",
    "np.random.seed(0)\n",
    "\n",
    "# Artificially add noise to make task harder\n",
    "df = px.data.iris()\n",
    "samples = df.species.sample(n=50, random_state=0)\n",
    "np.random.shuffle(samples.values)\n",
    "df.loc[samples.index, 'species'] = samples.values\n",
    "\n",
    "# Define the inputs and outputs\n",
    "X = df.drop(columns=['species', 'species_id'])\n",
    "y = df['species']\n",
    "\n",
    "# Fit the model\n",
    "model = LogisticRegression(max_iter=200)\n",
    "model.fit(X, y)\n",
    "y_scores = model.predict_proba(X)\n",
    "\n",
    "# One hot encode the labels in order to plot them\n",
    "y_onehot = pd.get_dummies(y, columns=model.classes_)\n",
    "\n",
    "# Create an empty figure, and iteratively add new lines\n",
    "# every time we compute a new class\n",
    "fig = go.Figure()\n",
    "fig.add_shape(\n",
    "    type='line', line=dict(dash='dash'),\n",
    "    x0=0, x1=1, y0=0, y1=1\n",
    ")\n",
    "\n",
    "for i in range(y_scores.shape[1]):\n",
    "    y_true = y_onehot.iloc[:, i]\n",
    "    y_score = y_scores[:, i]\n",
    "\n",
    "    fpr, tpr, _ = roc_curve(y_true, y_score)\n",
    "    auc_score = roc_auc_score(y_true, y_score)\n",
    "\n",
    "    name = f\"{y_onehot.columns[i]} (AUC={auc_score:.2f})\"\n",
    "    fig.add_trace(go.Scatter(x=fpr, y=tpr, name=name, mode='lines'))\n",
    "\n",
    "fig.update_layout(\n",
    "    xaxis_title='False Positive Rate',\n",
    "    yaxis_title='True Positive Rate',\n",
    "    yaxis=dict(scaleanchor=\"x\", scaleratio=1),\n",
    "    xaxis=dict(constrain='domain'),\n",
    "    width=700, height=500\n",
    ")\n",
    "fig.write_html(\"/home/niko/Downloads/plotly_test_fpr.html\")\n",
    "fig"
   ]
  }
 ],
 "metadata": {
  "kernelspec": {
   "display_name": "eis_toolkit",
   "language": "python",
   "name": "python3"
  },
  "language_info": {
   "codemirror_mode": {
    "name": "ipython",
    "version": 3
   },
   "file_extension": ".py",
   "mimetype": "text/x-python",
   "name": "python",
   "nbconvert_exporter": "python",
   "pygments_lexer": "ipython3",
   "version": "3.10.6"
  },
  "orig_nbformat": 4
 },
 "nbformat": 4,
 "nbformat_minor": 2
}

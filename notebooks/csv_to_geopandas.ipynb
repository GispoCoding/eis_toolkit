{
 "cells": [
  {
   "cell_type": "code",
   "execution_count": 14,
   "id": "6e6ae551-3422-4804-8dbf-db3772a9bf3e",
   "metadata": {},
   "outputs": [],
   "source": [
    "from typing import List\n",
    "\n",
    "import csv as reader\n",
    "import pandas as pd\n",
    "import geopandas\n",
    "\n",
    "import sys\n",
    "sys.path.insert(0, \"..\")\n",
    "from eis_toolkit.conversions.csv_to_geodataframe import csv_to_geodataframe\n",
    "from eis_toolkit.exceptions import InvalidParameterValueException, InvalidWktFormatException\n"
   ]
  },
  {
   "cell_type": "code",
   "execution_count": 15,
   "id": "119e5879-fa34-4a85-a89e-2ab010e90449",
   "metadata": {},
   "outputs": [],
   "source": [
    "target_EPSG = 4326\n",
    "indexes = [2] #Change this value to test outputs / exceptions [2] and [5,6] prints valid outputs.\n"
   ]
  },
  {
   "cell_type": "code",
   "execution_count": 16,
   "id": "07babe17-f0cf-404f-9b5d-da463d16710b",
   "metadata": {},
   "outputs": [
    {
     "name": "stdout",
     "output_type": "stream",
     "text": [
      "   id                  name  \\\n",
      "0   1              Helsinki   \n",
      "1   2                 Espoo   \n",
      "2   3                Vantaa   \n",
      "3   4            Kauniainen   \n",
      "4   5      Paakaupunkiseutu   \n",
      "5   6               Polygon   \n",
      "6   7          Multipolygon   \n",
      "7   8        Hki_espoo_line   \n",
      "8   9  Multilinestring_test   \n",
      "\n",
      "                                                 wkt  random_number  \\\n",
      "0                        POINT (24.945831 60.192059)            124   \n",
      "1                            POINT (24.6559 60.2055)            248   \n",
      "2                            POINT (25.0378 60.2934)            496   \n",
      "3                            POINT (24.7284 60.2124)            992   \n",
      "4  MULTIPOINT ((24.945831 60.192059), (25.0378 60...           1984   \n",
      "5      POLYGON ((30 10, 40 40, 20 40, 10 20, 30 10))           3968   \n",
      "6  MULTIPOLYGON (((30 20, 45 40, 10 40, 30 20)),(...           7936   \n",
      "7  LINESTRING (24.945831 60.192059, 24.6559 60.2055)          15872   \n",
      "8  MULTILINESTRING ((24.945831 60.192059, 24.6559...          31744   \n",
      "\n",
      "          random_string        lat        lng  \\\n",
      "0               testing  24.945831  60.192059   \n",
      "1               if this  24.655900  60.205500   \n",
      "2                 works  25.037800  60.293400   \n",
      "3           with points  24.728400  60.212400   \n",
      "4       with multipoint        NaN        NaN   \n",
      "5          with polygon        NaN        NaN   \n",
      "6     with multipolygon        NaN        NaN   \n",
      "7       with linestring        NaN        NaN   \n",
      "8  with multilinestring        NaN        NaN   \n",
      "\n",
      "                                            geometry  \n",
      "0                          POINT (24.94583 60.19206)  \n",
      "1                          POINT (24.65590 60.20550)  \n",
      "2                          POINT (25.03780 60.29340)  \n",
      "3                          POINT (24.72840 60.21240)  \n",
      "4  MULTIPOINT (24.94583 60.19206, 25.03780 60.293...  \n",
      "5  POLYGON ((30.00000 10.00000, 40.00000 40.00000...  \n",
      "6  MULTIPOLYGON (((30.00000 20.00000, 45.00000 40...  \n",
      "7  LINESTRING (24.94583 60.19206, 24.65590 60.20550)  \n",
      "8  MULTILINESTRING ((24.94583 60.19206, 24.65590 ...  \n"
     ]
    }
   ],
   "source": [
    "with open(\"../tests/data/remote/test.csv\", 'r') as f:\n",
    "        has_header = reader.Sniffer().has_header(f.read(1024))\n",
    "        \n",
    "if has_header:\n",
    "    df = pd.read_csv(\"../tests/data/remote/test.csv\")\n",
    "    if len(indexes) == 1:\n",
    "        if len(df.columns) < indexes[0]:\n",
    "            raise InvalidParameterValueException\n",
    "        column_names = []\n",
    "        for row in df:\n",
    "            column_names.append(row)\n",
    "        geom_column = column_names[indexes[0]]\n",
    "        try:\n",
    "            geoms = geopandas.GeoSeries.from_wkt(df[geom_column])\n",
    "            geodataframe = geopandas.GeoDataFrame(df, crs=target_EPSG, geometry=geoms)\n",
    "            print(geodataframe)\n",
    "        except:\n",
    "            raise InvalidWktFormatException\n",
    "\n",
    "    else:\n",
    "        if len(df.columns) < indexes[0] or len(df.columns) < indexes[1]:\n",
    "            raise InvalidParameterValueException\n",
    "        column_names = []\n",
    "        for row in df:\n",
    "            column_names.append(row)\n",
    "        try:\n",
    "            geom_x = column_names[indexes[0]]\n",
    "            geom_y = column_names[indexes[1]]\n",
    "            geodataframe = geopandas.GeoDataFrame(\n",
    "                df, crs=target_EPSG, geometry=geopandas.points_from_xy(df[geom_x], df[geom_y]))\n",
    "            print(geodataframe)\n",
    "        except:\n",
    "            raise InvalidParameterValueException  # Maybe create new exception: InvalidWktFormatException?\n",
    "else:\n",
    "    df = pd.read_csv(\"../tests/data/remote/test.csv\", header=None)\n",
    "    if len(indexes) == 1:\n",
    "        if len(df.columns) < indexes[0]:\n",
    "            raise InvalidParameterValueException\n",
    "        try:\n",
    "            geoms = geopandas.GeoSeries.from_wkt(df[indexes[0]])\n",
    "            geodataframe = geopandas.GeoDataFrame(df, crs=target_EPSG, geometry=geoms)\n",
    "            print(geodataframe)\n",
    "        except:\n",
    "            raise InvalidWktFormatException\n",
    "    else:\n",
    "        if len(df.columns) < indexes[0] or len(df.columns) < indexes[1]:\n",
    "            raise InvalidParameterValueException\n",
    "        try:\n",
    "            geodataframe = geopandas.GeoDataFrame(\n",
    "                df, crs=target_EPSG, geometry=geopandas.points_from_xy(df[indexes[0]], df[indexes[1]]))\n",
    "            print(geodataframe)\n",
    "        except:\n",
    "            raise InvalidParameterValueException  # Maybe create new exception: InvalidWktFormatException?"
   ]
  }
 ],
 "metadata": {
  "kernelspec": {
   "display_name": "Python 3 (ipykernel)",
   "language": "python",
   "name": "python3"
  },
  "language_info": {
   "codemirror_mode": {
    "name": "ipython",
    "version": 3
   },
   "file_extension": ".py",
   "mimetype": "text/x-python",
   "name": "python",
   "nbconvert_exporter": "python",
   "pygments_lexer": "ipython3",
   "version": "3.10.6"
  },
  "vscode": {
   "interpreter": {
    "hash": "83305375a1a721414ffbd0538fc2653f03f657106914307de2770ca57c5c7296"
   }
  }
 },
 "nbformat": 4,
 "nbformat_minor": 5
}

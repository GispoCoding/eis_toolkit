{
 "cells": [
  {
   "cell_type": "code",
   "execution_count": 2,
   "id": "6e6ae551-3422-4804-8dbf-db3772a9bf3e",
   "metadata": {},
   "outputs": [],
   "source": [
    "from typing import List\n",
    "\n",
    "import csv as reader\n",
    "import pandas as pd\n",
    "import geopandas\n",
    "\n",
    "import sys\n",
    "sys.path.insert(0, \"..\")\n",
    "from eis_toolkit.conversions.csv_to_geopandas import csv_to_geopandas\n",
    "from eis_toolkit.exceptions import InvalidParameterValueException, InvalidWktFormatException\n"
   ]
  },
  {
   "cell_type": "code",
   "execution_count": 15,
   "id": "119e5879-fa34-4a85-a89e-2ab010e90449",
   "metadata": {},
   "outputs": [
    {
     "ename": "InvalidParameterValueException",
     "evalue": "",
     "output_type": "error",
     "traceback": [
      "\u001b[0;31m---------------------------------------------------------------------------\u001b[0m",
      "\u001b[0;31mValueError\u001b[0m                                Traceback (most recent call last)",
      "Input \u001b[0;32mIn [15]\u001b[0m, in \u001b[0;36m<cell line: 7>\u001b[0;34m()\u001b[0m\n\u001b[1;32m     31\u001b[0m geom_y \u001b[38;5;241m=\u001b[39m column_names[indexes[\u001b[38;5;241m1\u001b[39m]]\n\u001b[1;32m     32\u001b[0m geodataframe \u001b[38;5;241m=\u001b[39m geopandas\u001b[38;5;241m.\u001b[39mGeoDataFrame(\n\u001b[0;32m---> 33\u001b[0m     df, crs\u001b[38;5;241m=\u001b[39mtarget_EPSG, geometry\u001b[38;5;241m=\u001b[39m\u001b[43mgeopandas\u001b[49m\u001b[38;5;241;43m.\u001b[39;49m\u001b[43mpoints_from_xy\u001b[49m\u001b[43m(\u001b[49m\u001b[43mdf\u001b[49m\u001b[43m[\u001b[49m\u001b[43mgeom_x\u001b[49m\u001b[43m]\u001b[49m\u001b[43m,\u001b[49m\u001b[43m \u001b[49m\u001b[43mdf\u001b[49m\u001b[43m[\u001b[49m\u001b[43mgeom_y\u001b[49m\u001b[43m]\u001b[49m\u001b[43m)\u001b[49m)\n\u001b[1;32m     34\u001b[0m \u001b[38;5;28mprint\u001b[39m(geodataframe)\n",
      "File \u001b[0;32m~/.cache/pypoetry/virtualenvs/eis-toolkit-QEzTY9B6-py3.10/lib/python3.10/site-packages/geopandas/array.py:257\u001b[0m, in \u001b[0;36mpoints_from_xy\u001b[0;34m(x, y, z, crs)\u001b[0m\n\u001b[1;32m    215\u001b[0m \u001b[38;5;124;03m\"\"\"\u001b[39;00m\n\u001b[1;32m    216\u001b[0m \u001b[38;5;124;03mGenerate GeometryArray of shapely Point geometries from x, y(, z) coordinates.\u001b[39;00m\n\u001b[1;32m    217\u001b[0m \n\u001b[0;32m   (...)\u001b[0m\n\u001b[1;32m    255\u001b[0m \u001b[38;5;124;03moutput : GeometryArray\u001b[39;00m\n\u001b[1;32m    256\u001b[0m \u001b[38;5;124;03m\"\"\"\u001b[39;00m\n\u001b[0;32m--> 257\u001b[0m \u001b[38;5;28;01mreturn\u001b[39;00m GeometryArray(\u001b[43mvectorized\u001b[49m\u001b[38;5;241;43m.\u001b[39;49m\u001b[43mpoints_from_xy\u001b[49m\u001b[43m(\u001b[49m\u001b[43mx\u001b[49m\u001b[43m,\u001b[49m\u001b[43m \u001b[49m\u001b[43my\u001b[49m\u001b[43m,\u001b[49m\u001b[43m \u001b[49m\u001b[43mz\u001b[49m\u001b[43m)\u001b[49m, crs\u001b[38;5;241m=\u001b[39mcrs)\n",
      "File \u001b[0;32m~/.cache/pypoetry/virtualenvs/eis-toolkit-QEzTY9B6-py3.10/lib/python3.10/site-packages/geopandas/_vectorized.py:245\u001b[0m, in \u001b[0;36mpoints_from_xy\u001b[0;34m(x, y, z)\u001b[0m\n\u001b[1;32m    244\u001b[0m x \u001b[38;5;241m=\u001b[39m np\u001b[38;5;241m.\u001b[39masarray(x, dtype\u001b[38;5;241m=\u001b[39m\u001b[38;5;124m\"\u001b[39m\u001b[38;5;124mfloat64\u001b[39m\u001b[38;5;124m\"\u001b[39m)\n\u001b[0;32m--> 245\u001b[0m y \u001b[38;5;241m=\u001b[39m \u001b[43mnp\u001b[49m\u001b[38;5;241;43m.\u001b[39;49m\u001b[43masarray\u001b[49m\u001b[43m(\u001b[49m\u001b[43my\u001b[49m\u001b[43m,\u001b[49m\u001b[43m \u001b[49m\u001b[43mdtype\u001b[49m\u001b[38;5;241;43m=\u001b[39;49m\u001b[38;5;124;43m\"\u001b[39;49m\u001b[38;5;124;43mfloat64\u001b[39;49m\u001b[38;5;124;43m\"\u001b[39;49m\u001b[43m)\u001b[49m\n\u001b[1;32m    246\u001b[0m \u001b[38;5;28;01mif\u001b[39;00m z \u001b[38;5;129;01mis\u001b[39;00m \u001b[38;5;129;01mnot\u001b[39;00m \u001b[38;5;28;01mNone\u001b[39;00m:\n",
      "File \u001b[0;32m~/.cache/pypoetry/virtualenvs/eis-toolkit-QEzTY9B6-py3.10/lib/python3.10/site-packages/pandas/core/series.py:872\u001b[0m, in \u001b[0;36mSeries.__array__\u001b[0;34m(self, dtype)\u001b[0m\n\u001b[1;32m    826\u001b[0m \u001b[38;5;124;03m\"\"\"\u001b[39;00m\n\u001b[1;32m    827\u001b[0m \u001b[38;5;124;03mReturn the values as a NumPy array.\u001b[39;00m\n\u001b[1;32m    828\u001b[0m \n\u001b[0;32m   (...)\u001b[0m\n\u001b[1;32m    870\u001b[0m \u001b[38;5;124;03m      dtype='datetime64[ns]')\u001b[39;00m\n\u001b[1;32m    871\u001b[0m \u001b[38;5;124;03m\"\"\"\u001b[39;00m\n\u001b[0;32m--> 872\u001b[0m \u001b[38;5;28;01mreturn\u001b[39;00m \u001b[43mnp\u001b[49m\u001b[38;5;241;43m.\u001b[39;49m\u001b[43masarray\u001b[49m\u001b[43m(\u001b[49m\u001b[38;5;28;43mself\u001b[39;49m\u001b[38;5;241;43m.\u001b[39;49m\u001b[43m_values\u001b[49m\u001b[43m,\u001b[49m\u001b[43m \u001b[49m\u001b[43mdtype\u001b[49m\u001b[43m)\u001b[49m\n",
      "\u001b[0;31mValueError\u001b[0m: could not convert string to float: 'testing'",
      "\nDuring handling of the above exception, another exception occurred:\n",
      "\u001b[0;31mInvalidParameterValueException\u001b[0m            Traceback (most recent call last)",
      "Input \u001b[0;32mIn [15]\u001b[0m, in \u001b[0;36m<cell line: 7>\u001b[0;34m()\u001b[0m\n\u001b[1;32m     34\u001b[0m             \u001b[38;5;28mprint\u001b[39m(geodataframe)\n\u001b[1;32m     35\u001b[0m         \u001b[38;5;28;01mexcept\u001b[39;00m:\n\u001b[0;32m---> 36\u001b[0m             \u001b[38;5;28;01mraise\u001b[39;00m InvalidParameterValueException  \u001b[38;5;66;03m# Maybe create new exception: InvalidWktFormatException?\u001b[39;00m\n\u001b[1;32m     37\u001b[0m \u001b[38;5;28;01melse\u001b[39;00m:\n\u001b[1;32m     38\u001b[0m     df \u001b[38;5;241m=\u001b[39m pd\u001b[38;5;241m.\u001b[39mread_csv(\u001b[38;5;124m\"\u001b[39m\u001b[38;5;124m../tests/data/remote/test.csv\u001b[39m\u001b[38;5;124m\"\u001b[39m, header\u001b[38;5;241m=\u001b[39m\u001b[38;5;28;01mNone\u001b[39;00m)\n",
      "\u001b[0;31mInvalidParameterValueException\u001b[0m: "
     ]
    }
   ],
   "source": [
    "target_EPSG = 4326\n",
    "indexes = [3,4]\n",
    "\n",
    "with open(\"../tests/data/remote/test.csv\", 'r') as f:\n",
    "        has_header = reader.Sniffer().has_header(f.read(1024))\n",
    "        \n",
    "if has_header:\n",
    "    df = pd.read_csv(\"../tests/data/remote/test.csv\")\n",
    "    if len(indexes) == 1:\n",
    "        if len(df.columns) < indexes[0]:\n",
    "            raise InvalidParameterValueException\n",
    "        column_names = []\n",
    "        for row in df:\n",
    "            column_names.append(row)\n",
    "        geom_column = column_names[indexes[0]]\n",
    "        try:\n",
    "            geoms = geopandas.GeoSeries.from_wkt(df[geom_column])\n",
    "            geodataframe = geopandas.GeoDataFrame(df, crs=target_EPSG, geometry=geoms)\n",
    "            print(geodataframe)\n",
    "        except:\n",
    "            raise InvalidWktFormatException\n",
    "\n",
    "    else:\n",
    "        if len(df.columns) < indexes[0] or len(df.columns) < indexes[1]:\n",
    "            raise InvalidParameterValueException\n",
    "        column_names = []\n",
    "        for row in df:\n",
    "            column_names.append(row)\n",
    "        try:\n",
    "            geom_x = column_names[indexes[0]]\n",
    "            geom_y = column_names[indexes[1]]\n",
    "            geodataframe = geopandas.GeoDataFrame(\n",
    "                df, crs=target_EPSG, geometry=geopandas.points_from_xy(df[geom_x], df[geom_y]))\n",
    "            print(geodataframe)\n",
    "        except:\n",
    "            raise InvalidParameterValueException  # Maybe create new exception: InvalidWktFormatException?\n",
    "else:\n",
    "    df = pd.read_csv(\"../tests/data/remote/test.csv\", header=None)\n",
    "    if len(indexes) == 1:\n",
    "        if len(df.columns) < indexes[0]:\n",
    "            raise InvalidParameterValueException\n",
    "        try:\n",
    "            geoms = geopandas.GeoSeries.from_wkt(df[indexes[0]])\n",
    "            geodataframe = geopandas.GeoDataFrame(df, crs=target_EPSG, geometry=geoms)\n",
    "            print(geodataframe)\n",
    "        except:\n",
    "            raise InvalidWktFormatException\n",
    "    else:\n",
    "        if len(df.columns) < indexes[0] or len(df.columns) < indexes[1]:\n",
    "            raise InvalidParameterValueException\n",
    "        try:\n",
    "            geodataframe = geopandas.GeoDataFrame(\n",
    "                df, crs=target_EPSG, geometry=geopandas.points_from_xy(df[indexes[0]], df[indexes[1]]))\n",
    "            print(geodataframe)\n",
    "        except:\n",
    "            raise InvalidParameterValueException  # Maybe create new exception: InvalidWktFormatException?\n",
    "        "
   ]
  },
  {
   "cell_type": "code",
   "execution_count": null,
   "id": "07babe17-f0cf-404f-9b5d-da463d16710b",
   "metadata": {},
   "outputs": [],
   "source": []
  },
  {
   "cell_type": "code",
   "execution_count": null,
   "id": "9d9869a6-00a3-4a2a-8c92-72d1286dbcd7",
   "metadata": {},
   "outputs": [],
   "source": []
  }
 ],
 "metadata": {
  "kernelspec": {
   "display_name": "Python 3",
   "language": "python",
   "name": "python3"
  },
  "language_info": {
   "codemirror_mode": {
    "name": "ipython",
    "version": 3
   },
   "file_extension": ".py",
   "mimetype": "text/x-python",
   "name": "python",
   "nbconvert_exporter": "python",
   "pygments_lexer": "ipython3",
   "version": "3.11.0 (main, Oct 24 2022, 18:26:48) [MSC v.1933 64 bit (AMD64)]"
  },
  "vscode": {
   "interpreter": {
    "hash": "83305375a1a721414ffbd0538fc2653f03f657106914307de2770ca57c5c7296"
   }
  }
 },
 "nbformat": 4,
 "nbformat_minor": 5
}

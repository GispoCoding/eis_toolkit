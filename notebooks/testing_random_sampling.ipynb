{
 "cells": [
  {
   "cell_type": "code",
   "execution_count": 1,
   "metadata": {},
   "outputs": [],
   "source": [
    "import sys\n",
    "\n",
    "sys.path.insert(0, \"..\")"
   ]
  },
  {
   "cell_type": "code",
   "execution_count": 2,
   "metadata": {},
   "outputs": [],
   "source": [
    "import numpy as np\n",
    "import geopandas as gpd\n",
    "import rasterio\n",
    "from rasterio import plot\n",
    "\n",
    "import matplotlib.pyplot as plt\n",
    "import textwrap\n",
    "\n",
    "from tests.raster_processing.clip_test import raster_path as SMALL_RASTER_PATH\n",
    "from eis_toolkit.training_data_tools.points_to_raster import points_to_raster\n",
    "from eis_toolkit.training_data_tools.random_sampling import generate_negatives\n",
    "\n",
    "PATH_LABELS_GPKG = \"../tests/data/remote/interpolating/interpolation_test_data_small.gpkg\"\n",
    "RASTER_PATH = \"../tests/data/remote/small_raster.tif\""
   ]
  },
  {
   "cell_type": "code",
   "execution_count": null,
   "metadata": {},
   "outputs": [],
   "source": [
    "gdf = gpd.read_file(PATH_LABELS_GPKG)\n",
    "print(gdf)"
   ]
  },
  {
   "cell_type": "code",
   "execution_count": 3,
   "metadata": {},
   "outputs": [],
   "source": [
    "def plot_samples(template_raster_path):\n",
    "    \n",
    "    with rasterio.open(template_raster_path) as temp_raster:\n",
    "        \n",
    "        outarray,outmeta = points_to_raster(positives=gdf,\n",
    "                                            template_raster=temp_raster,\n",
    "                                            nodata_value=-999)\n",
    "        \n",
    "        sampled_negatives, outarray2, _ = generate_negatives(raster_array=outarray,\n",
    "                                                 raster_meta=outmeta,\n",
    "                                                 sample_number=10,\n",
    "                                                 random_seed=30)\n",
    "        \n",
    "        extent = [temp_raster.bounds.left, temp_raster.bounds.right,\n",
    "                  temp_raster.bounds.bottom, temp_raster.bounds.top]\n",
    "\n",
    "        fig,axes = plt.subplots(2,2,figsize=(20,15))\n",
    "        norm = plt.Normalize(vmax=np.nanmax(outarray), vmin=np.nanmin(outarray))\n",
    "        norm2 = plt.Normalize(vmax=np.nanmax(outarray2), vmin=np.nanmin(outarray2))\n",
    "\n",
    "        plot.show(temp_raster, ax=axes[0][0])\n",
    "        axes[0][0].set_title('Template Raster with positives', fontsize=15)\n",
    "        points = gdf.cx[\n",
    "                temp_raster.bounds.left : temp_raster.bounds.right,  \n",
    "                temp_raster.bounds.bottom : temp_raster.bounds.top,  \n",
    "            ]\n",
    "        points.plot(ax=axes[0][0], facecolor='w', edgecolor='w')\n",
    "\n",
    "        im1 = axes[0][1].imshow(outarray, cmap='gray', norm=norm, extent=extent)\n",
    "        axes[0][1].set_title(textwrap.fill('True positives converted to raster.', width=30), fontsize=15)\n",
    "        fig.colorbar(im1, ax=axes[0][1], orientation='vertical')\n",
    "\n",
    "        plot.show(temp_raster, ax=axes[1][0])\n",
    "        axes[1][0].set_title('Template Raster with positives and random negatives', fontsize=15)\n",
    "        sampled_negatives.plot(ax=axes[1][0], facecolor='r', edgecolor='r')\n",
    "        points.plot(ax=axes[1][0], facecolor='w', edgecolor='w')\n",
    "\n",
    "        im1 = axes[1][1].imshow(outarray2, cmap='gray', norm=norm2, extent=extent)\n",
    "        axes[1][1].set_title(textwrap.fill('True positives and sampled negatives converted to raster.', width=30), fontsize=15)\n",
    "        fig.colorbar(im1, ax=axes[1][1], orientation='vertical')\n",
    "\n",
    "        plt.tight_layout()\n",
    "        plt.show()"
   ]
  },
  {
   "cell_type": "code",
   "execution_count": 4,
   "metadata": {},
   "outputs": [
    {
     "ename": "NameError",
     "evalue": "name 'gdf' is not defined",
     "output_type": "error",
     "traceback": [
      "\u001b[1;31m---------------------------------------------------------------------------\u001b[0m",
      "\u001b[1;31mNameError\u001b[0m                                 Traceback (most recent call last)",
      "Cell \u001b[1;32mIn[4], line 1\u001b[0m\n\u001b[1;32m----> 1\u001b[0m \u001b[43mplot_samples\u001b[49m\u001b[43m(\u001b[49m\u001b[43mSMALL_RASTER_PATH\u001b[49m\u001b[43m)\u001b[49m\n",
      "Cell \u001b[1;32mIn[3], line 5\u001b[0m, in \u001b[0;36mplot_samples\u001b[1;34m(template_raster_path)\u001b[0m\n\u001b[0;32m      1\u001b[0m \u001b[38;5;28;01mdef\u001b[39;00m \u001b[38;5;21mplot_samples\u001b[39m(template_raster_path):\n\u001b[0;32m      3\u001b[0m     \u001b[38;5;28;01mwith\u001b[39;00m rasterio\u001b[38;5;241m.\u001b[39mopen(template_raster_path) \u001b[38;5;28;01mas\u001b[39;00m temp_raster:\n\u001b[1;32m----> 5\u001b[0m         outarray,outmeta \u001b[38;5;241m=\u001b[39m points_to_raster(positives\u001b[38;5;241m=\u001b[39m\u001b[43mgdf\u001b[49m,\n\u001b[0;32m      6\u001b[0m                                             template_raster\u001b[38;5;241m=\u001b[39mtemp_raster,\n\u001b[0;32m      7\u001b[0m                                             nodata_value\u001b[38;5;241m=\u001b[39m\u001b[38;5;241m-\u001b[39m\u001b[38;5;241m999\u001b[39m)\n\u001b[0;32m      9\u001b[0m         sampled_negatives, outarray2, _ \u001b[38;5;241m=\u001b[39m generate_negatives(raster_array\u001b[38;5;241m=\u001b[39moutarray,\n\u001b[0;32m     10\u001b[0m                                                  raster_meta\u001b[38;5;241m=\u001b[39moutmeta,\n\u001b[0;32m     11\u001b[0m                                                  sample_number\u001b[38;5;241m=\u001b[39m\u001b[38;5;241m10\u001b[39m,\n\u001b[0;32m     12\u001b[0m                                                  random_seed\u001b[38;5;241m=\u001b[39m\u001b[38;5;241m30\u001b[39m)\n\u001b[0;32m     14\u001b[0m         extent \u001b[38;5;241m=\u001b[39m [temp_raster\u001b[38;5;241m.\u001b[39mbounds\u001b[38;5;241m.\u001b[39mleft, temp_raster\u001b[38;5;241m.\u001b[39mbounds\u001b[38;5;241m.\u001b[39mright,\n\u001b[0;32m     15\u001b[0m                   temp_raster\u001b[38;5;241m.\u001b[39mbounds\u001b[38;5;241m.\u001b[39mbottom, temp_raster\u001b[38;5;241m.\u001b[39mbounds\u001b[38;5;241m.\u001b[39mtop]\n",
      "\u001b[1;31mNameError\u001b[0m: name 'gdf' is not defined"
     ]
    }
   ],
   "source": [
    "plot_samples(SMALL_RASTER_PATH)"
   ]
  }
 ],
 "metadata": {
  "kernelspec": {
   "display_name": "eis_toolkit_development_platform_eis_not_installed_py3.9",
   "language": "python",
   "name": "python3"
  },
  "language_info": {
   "codemirror_mode": {
    "name": "ipython",
    "version": 3
   },
   "file_extension": ".py",
   "mimetype": "text/x-python",
   "name": "python",
   "nbconvert_exporter": "python",
   "pygments_lexer": "ipython3",
   "version": "3.9.18"
  }
 },
 "nbformat": 4,
 "nbformat_minor": 2
}

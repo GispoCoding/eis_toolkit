{
 "cells": [
  {
   "cell_type": "markdown",
   "id": "c3b0d908-62d1-43f3-8971-b86b4e25ae3a",
   "metadata": {
    "tags": []
   },
   "source": [
    "# Using notebooks for developing EIS toolkit\n",
    "\n",
    "This ipynb file showcases how\n",
    "- Using and the testing eis_toolkit works in a notebook\n",
    "- Using the libraries that eis toolkit dependends on works in a notebook\n",
    "\n",
    "## General instructions\n",
    "\n",
    "### Packages\n",
    "You can use all of the eis_toolkit's dependencies in the notebooks. Do not install any packages by yourself!\n",
    "\n",
    "### Where can I find data for testing?\n",
    "Under `tests/data/` we have two directories for storing data:\n",
    "\n",
    "- `tests/data/local/` to host data that should not be pushed to remote. Git ignores everything in this directory, and there will be no trace of it's contents on the remote. Good for when you use closed data for testing, but **use this by default for storing any data**.\n",
    "- `tests/data/remote/` to host data that should be pushed to remote. Don't add anything here unless you specifically need it on the remote. Also, filesizes matter here - favour small files."
   ]
  },
  {
   "cell_type": "markdown",
   "id": "5295ffd5-668a-4981-b30a-073dffada40e",
   "metadata": {},
   "source": [
    "## Importing eis_toolkit\n",
    "Before importing the eis_toolkit into a notebook's namespace, we must modify the path where python looks for modules. This is done so you won't have to pip install the library just for simple testing."
   ]
  },
  {
   "cell_type": "code",
   "execution_count": 1,
   "id": "a573b90d-be79-4391-aa14-083a2c1ce384",
   "metadata": {},
   "outputs": [],
   "source": [
    "import sys\n",
    "sys.path.insert(0, \"..\")"
   ]
  },
  {
   "cell_type": "markdown",
   "id": "2261a1ec-ebe4-449a-9e55-429cc2aaff1c",
   "metadata": {
    "tags": []
   },
   "source": [
    "## Dummy tests\n",
    "Here are some tests for importing simple placeholder functions from eis_toolkit and using them."
   ]
  },
  {
   "cell_type": "markdown",
   "id": "ebb458bc-2eb5-4d4e-917b-b2f1959e69b2",
   "metadata": {},
   "source": [
    "### Arithmetic dummy functions"
   ]
  },
  {
   "cell_type": "code",
   "execution_count": 2,
   "id": "c8d08c53-cf4c-4703-b1d9-9062c8672685",
   "metadata": {},
   "outputs": [],
   "source": [
    "from eis_toolkit.dummy_tests.dummy import test_function\n",
    "from eis_toolkit.dummy_tests.dummy import test_function2"
   ]
  },
  {
   "cell_type": "code",
   "execution_count": 3,
   "id": "8c2612a5-13bb-4197-8fa0-0fa646a786f2",
   "metadata": {},
   "outputs": [
    {
     "data": {
      "text/plain": [
       "6"
      ]
     },
     "execution_count": 3,
     "metadata": {},
     "output_type": "execute_result"
    }
   ],
   "source": [
    "test_function(2, 4)"
   ]
  },
  {
   "cell_type": "code",
   "execution_count": 4,
   "id": "fd2d6e77-5a5c-4bdc-bb16-3c35c5eea90b",
   "metadata": {},
   "outputs": [
    {
     "data": {
      "text/plain": [
       "14"
      ]
     },
     "execution_count": 4,
     "metadata": {},
     "output_type": "execute_result"
    }
   ],
   "source": [
    "test_function2(19)"
   ]
  },
  {
   "cell_type": "markdown",
   "id": "8f95a9ff-40ca-425a-b4ad-c5d6fa6f6b08",
   "metadata": {},
   "source": [
    "These worked fine!"
   ]
  },
  {
   "cell_type": "markdown",
   "id": "ab889c1f-72eb-4133-a8e5-7d68c7b7beb1",
   "metadata": {},
   "source": [
    "Note that above we created own import command for both functions. The other option would have been to\n",
    "```\n",
    "from eis_toolkit.dummy_tests import dummy\n",
    "\n",
    "dummy.test_function(1,2)\n",
    "dummy.test_function2(25)\n",
    "```"
   ]
  },
  {
   "cell_type": "markdown",
   "id": "2c5d0034-c95b-4cb5-9c91-e40c08e4d29b",
   "metadata": {},
   "source": [
    "### Dependency tests\n",
    "Test functions that use some external libraries"
   ]
  },
  {
   "cell_type": "code",
   "execution_count": 5,
   "id": "2436a5d0-c3bc-4574-bf17-a4a717d5128e",
   "metadata": {},
   "outputs": [],
   "source": [
    "from eis_toolkit.dummy_tests import dummy_sklearn"
   ]
  },
  {
   "cell_type": "code",
   "execution_count": 6,
   "id": "2d616a1b-5c3e-47a1-8ab0-61b0dfec4dac",
   "metadata": {},
   "outputs": [],
   "source": [
    "import numpy as np\n",
    "\n",
    "x = np.array(\n",
    "    [\n",
    "        [1.0, 2.0, 3.0],\n",
    "        [2.0, 2.0, 6.0]\n",
    "    ]\n",
    ")"
   ]
  },
  {
   "cell_type": "code",
   "execution_count": 7,
   "id": "58fc95f6-7c23-441f-8dcf-d07f80fc72bd",
   "metadata": {},
   "outputs": [
    {
     "data": {
      "text/plain": [
       "array([1.5, 2. , 4.5])"
      ]
     },
     "execution_count": 7,
     "metadata": {},
     "output_type": "execute_result"
    }
   ],
   "source": [
    "dummy_sklearn.sk_mean(x)"
   ]
  },
  {
   "cell_type": "code",
   "execution_count": 8,
   "id": "c6f3125b-e4ff-4222-b271-50d675a9e487",
   "metadata": {},
   "outputs": [],
   "source": [
    "from eis_toolkit.dummy_tests.dummy_gdal import driver_cnt"
   ]
  },
  {
   "cell_type": "code",
   "execution_count": 9,
   "id": "d7d4ebbc-06f2-44a2-9303-c6d33cb3592e",
   "metadata": {},
   "outputs": [
    {
     "name": "stdout",
     "output_type": "stream",
     "text": [
      "Number of suitable drivers for geotiffs:  2\n"
     ]
    }
   ],
   "source": [
    "driver_cnt()"
   ]
  },
  {
   "cell_type": "markdown",
   "id": "85676b96-ad38-4703-8982-c80771fcd98e",
   "metadata": {},
   "source": [
    "These worked fine!"
   ]
  },
  {
   "cell_type": "markdown",
   "id": "7706521b-df0f-4bba-9cf4-0c5f6d7a44d6",
   "metadata": {},
   "source": [
    "## Test and experiment with dependent libraries in general\n",
    "\n",
    "In addition to using and testing the functionality of eis_toolkit, you can also use the notebooks to experiment with all the libraries that eis_toolkit depends on. This could come in handy for exploring new functionalities.\n",
    "\n",
    "For example, these imports work:"
   ]
  },
  {
   "cell_type": "code",
   "execution_count": 10,
   "id": "c1339bfe-d9b5-4bde-8788-598c8c8bfa0c",
   "metadata": {},
   "outputs": [],
   "source": [
    "import numpy as np\n",
    "import matplotlib.pyplot as plt"
   ]
  },
  {
   "cell_type": "markdown",
   "id": "e0b6cc83-a338-4994-a26f-aeec5a118403",
   "metadata": {},
   "source": [
    "But of course, we cannot import anything that is not a dependency of eis_toolkit:"
   ]
  },
  {
   "cell_type": "code",
   "execution_count": 11,
   "id": "acbaa675-8b96-49f1-bf26-a58432e4f6e8",
   "metadata": {},
   "outputs": [
    {
     "ename": "ModuleNotFoundError",
     "evalue": "No module named 'pygame'",
     "output_type": "error",
     "traceback": [
      "\u001b[0;31m---------------------------------------------------------------------------\u001b[0m",
      "\u001b[0;31mModuleNotFoundError\u001b[0m                       Traceback (most recent call last)",
      "Input \u001b[0;32mIn [11]\u001b[0m, in \u001b[0;36m<cell line: 2>\u001b[0;34m()\u001b[0m\n\u001b[1;32m      1\u001b[0m \u001b[38;5;66;03m# This fails\u001b[39;00m\n\u001b[0;32m----> 2\u001b[0m \u001b[38;5;28;01mimport\u001b[39;00m \u001b[38;5;21;01mpygame\u001b[39;00m\n",
      "\u001b[0;31mModuleNotFoundError\u001b[0m: No module named 'pygame'"
     ]
    }
   ],
   "source": [
    "# This fails\n",
    "import pygame"
   ]
  },
  {
   "cell_type": "markdown",
   "id": "d457a132-a39e-480d-a9a8-40dcd57534cb",
   "metadata": {},
   "source": [
    "Notebooks could be helpful for plotting, for example. Let's plot something:"
   ]
  },
  {
   "cell_type": "code",
   "execution_count": 12,
   "id": "8d59d9f0-2a07-4cb6-844f-1b3c2b5b1e16",
   "metadata": {},
   "outputs": [],
   "source": [
    "def plot_random():\n",
    "    \"\"\"generate a plot of randomness\"\"\"\n",
    "    \n",
    "    fig, ax = plt.subplots()\n",
    "    ax.plot(np.random.rand(15, 2))"
   ]
  },
  {
   "cell_type": "code",
   "execution_count": 13,
   "id": "fc1a04a6-ac06-475a-aba4-7abca3a39ab3",
   "metadata": {},
   "outputs": [
    {
     "data": {
      "image/png": "[encoded data removed]",
      "text/plain": [
       "<Figure size 432x288 with 1 Axes>"
      ]
     },
     "metadata": {
      "needs_background": "light"
     },
     "output_type": "display_data"
    }
   ],
   "source": [
    "plot_random()"
   ]
  },
  {
   "cell_type": "markdown",
   "id": "c27e4ab5-abca-4f92-96c8-c8811a83f9bf",
   "metadata": {},
   "source": [
    "You can use external data as well:"
   ]
  },
  {
   "cell_type": "code",
   "execution_count": 14,
   "id": "c0d3aee8-eeae-46e7-8559-3854ae6f4653",
   "metadata": {},
   "outputs": [],
   "source": [
    "import geopandas as gpd\n",
    "\n",
    "# Read data from the test data folder. Prefer using local data in your own notebooks.\n",
    "polygon = gpd.read_file(\"../tests/data/remote/small_area.shp\")"
   ]
  },
  {
   "cell_type": "markdown",
   "id": "23c84e76-7cee-47bc-b014-88abdcb15d8a",
   "metadata": {},
   "source": [
    "Let's do something simple with geopandas, for example reproject a geodataframe:"
   ]
  },
  {
   "cell_type": "code",
   "execution_count": 15,
   "id": "68e479c7-d42c-4895-9d1f-5c581c04db16",
   "metadata": {},
   "outputs": [
    {
     "name": "stdout",
     "output_type": "stream",
     "text": [
      "<class 'geopandas.geodataframe.GeoDataFrame'> epsg:3067\n"
     ]
    }
   ],
   "source": [
    "print(type(polygon), polygon.crs)"
   ]
  },
  {
   "cell_type": "code",
   "execution_count": 16,
   "id": "16fa406b-218a-4ea0-90f4-0e654348c5e8",
   "metadata": {},
   "outputs": [],
   "source": [
    "polygon_3035 = polygon.to_crs(3035)"
   ]
  },
  {
   "cell_type": "markdown",
   "id": "53837778-a3b2-4bf2-9b6a-6990e297352f",
   "metadata": {},
   "source": [
    "And see if it worked:"
   ]
  },
  {
   "cell_type": "code",
   "execution_count": 17,
   "id": "fa260d14-4c6f-4463-8dd7-3108554e538f",
   "metadata": {},
   "outputs": [
    {
     "name": "stdout",
     "output_type": "stream",
     "text": [
      "epsg:3035\n"
     ]
    }
   ],
   "source": [
    "print(polygon_3035.crs)"
   ]
  },
  {
   "cell_type": "code",
   "execution_count": 18,
   "id": "425290ad-ceec-4c55-9ae6-307147ed76f4",
   "metadata": {},
   "outputs": [],
   "source": [
    "def plot_side_by_side(df1, df2):\n",
    "    \"\"\"plot two (geo)dataframes side by side\"\"\"\n",
    "    \n",
    "    fig, axs = plt.subplots(figsize=(15, 10), ncols=2)\n",
    "    df1.plot(ax=axs[0])\n",
    "    df2.plot(ax=axs[1])"
   ]
  },
  {
   "cell_type": "code",
   "execution_count": 19,
   "id": "5c350ccd-ffda-4965-8bfe-e98af5da2fc5",
   "metadata": {},
   "outputs": [
    {
     "data": {
      "image/png": "[encoded data removed]",
      "text/plain": [
       "<Figure size 1080x720 with 2 Axes>"
      ]
     },
     "metadata": {
      "needs_background": "light"
     },
     "output_type": "display_data"
    }
   ],
   "source": [
    "plot_side_by_side(\n",
    "    polygon,\n",
    "    polygon_3035,\n",
    ")"
   ]
  },
  {
   "cell_type": "code",
   "execution_count": null,
   "id": "5f50699d-7084-467d-8475-0dc5de2b2f90",
   "metadata": {},
   "outputs": [],
   "source": []
  }
 ],
 "metadata": {
  "kernelspec": {
   "display_name": "Python 3 (ipykernel)",
   "language": "python",
   "name": "python3"
  },
  "language_info": {
   "codemirror_mode": {
    "name": "ipython",
    "version": 3
   },
   "file_extension": ".py",
   "mimetype": "text/x-python",
   "name": "python",
   "nbconvert_exporter": "python",
   "pygments_lexer": "ipython3",
   "version": "3.10.4"
  }
 },
 "nbformat": 4,
 "nbformat_minor": 5
}

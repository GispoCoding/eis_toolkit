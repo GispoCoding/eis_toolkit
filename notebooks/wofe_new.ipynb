{
 "cells": [
  {
   "cell_type": "code",
   "execution_count": 1,
   "metadata": {},
   "outputs": [],
   "source": [
    "import rasterio\n",
    "from matplotlib import pyplot as plt\n",
    "from rasterio.plot import show\n",
    "\n",
    "import sys\n",
    "sys.path.insert(0, \"..\")\n",
    "\n",
    "from eis_toolkit.prediction.wofe_new_new import weights_of_evidence"
   ]
  },
  {
   "cell_type": "code",
   "execution_count": 2,
   "metadata": {},
   "outputs": [
    {
     "name": "stderr",
     "output_type": "stream",
     "text": [
      "/home/niko/code/plugin_dev/eis_toolkit/notebooks/../eis_toolkit/prediction/wofe_new_new.py:73: RuntimeWarning: invalid value encountered in log\n",
      "  w_minus = np.log((1 - p_A) / (1 - p_C)) if (1 - p_A) != 0 and (1 - p_C) != 0 else 0\n",
      "/home/niko/code/plugin_dev/eis_toolkit/notebooks/../eis_toolkit/prediction/wofe_new_new.py:73: RuntimeWarning: invalid value encountered in log\n",
      "  w_minus = np.log((1 - p_A) / (1 - p_C)) if (1 - p_A) != 0 and (1 - p_C) != 0 else 0\n"
     ]
    },
    {
     "ename": "ValueError",
     "evalue": "Reclassification failed: 'Favorable' class (Class 2) doesn't exist.",
     "output_type": "error",
     "traceback": [
      "\u001b[0;31m---------------------------------------------------------------------------\u001b[0m",
      "\u001b[0;31mValueError\u001b[0m                                Traceback (most recent call last)",
      "Cell \u001b[0;32mIn[2], line 5\u001b[0m\n\u001b[1;32m      3\u001b[0m test_wgt_un_, test_gen_un_, test_rst_meta \u001b[39m=\u001b[39m weights_of_evidence(test_ev, test_dep, \u001b[39m'\u001b[39m\u001b[39munique\u001b[39m\u001b[39m'\u001b[39m, \u001b[39m2\u001b[39m, laplace_smoothing\u001b[39m=\u001b[39m\u001b[39mTrue\u001b[39;00m)\n\u001b[1;32m      4\u001b[0m test_wgt_asc_, test_gen_asc_, test_rst_meta \u001b[39m=\u001b[39m weights_of_evidence(test_ev, test_dep, \u001b[39m'\u001b[39m\u001b[39mascending\u001b[39m\u001b[39m'\u001b[39m, \u001b[39m2\u001b[39m, laplace_smoothing\u001b[39m=\u001b[39m\u001b[39mTrue\u001b[39;00m)\n\u001b[0;32m----> 5\u001b[0m test_wgt_dsc_, test_gen_dsc_, test_rst_meta \u001b[39m=\u001b[39m weights_of_evidence(test_ev, test_dep, \u001b[39m'\u001b[39;49m\u001b[39mdescending\u001b[39;49m\u001b[39m'\u001b[39;49m, \u001b[39m2\u001b[39;49m, laplace_smoothing\u001b[39m=\u001b[39;49m\u001b[39mTrue\u001b[39;49;00m)\n",
      "File \u001b[0;32m~/code/plugin_dev/eis_toolkit/notebooks/../eis_toolkit/prediction/wofe_new_new.py:228\u001b[0m, in \u001b[0;36mweights_of_evidence\u001b[0;34m(evidential_raster, deposit_raster, weights_type, studentized_contrast_threshold, laplace_smoothing, rasters_to_generate)\u001b[0m\n\u001b[1;32m    226\u001b[0m \u001b[39m# 4. If we use cumulative weights type, reclassify and calculate generalized weights\u001b[39;00m\n\u001b[1;32m    227\u001b[0m \u001b[39mif\u001b[39;00m weights_type \u001b[39m!=\u001b[39m \u001b[39m\"\u001b[39m\u001b[39munique\u001b[39m\u001b[39m\"\u001b[39m:\n\u001b[0;32m--> 228\u001b[0m     reclass_by_studentized_contrast(weights_df, studentized_contrast_threshold)\n\u001b[1;32m    229\u001b[0m     \u001b[39m# calculate_generalized_weights(weights_df)\u001b[39;00m\n\u001b[1;32m    230\u001b[0m     calculate_generalized_weights_alternative(weights_df, deposits)\n",
      "File \u001b[0;32m~/code/plugin_dev/eis_toolkit/notebooks/../eis_toolkit/prediction/wofe_new_new.py:107\u001b[0m, in \u001b[0;36mreclass_by_studentized_contrast\u001b[0;34m(df, studentized_contrast_threshold)\u001b[0m\n\u001b[1;32m    105\u001b[0m     \u001b[39mraise\u001b[39;00m \u001b[39mValueError\u001b[39;00m(\u001b[39m\"\u001b[39m\u001b[39mReclassification failed: \u001b[39m\u001b[39m'\u001b[39m\u001b[39mUnfavorable\u001b[39m\u001b[39m'\u001b[39m\u001b[39m class (Class 1) doesn\u001b[39m\u001b[39m'\u001b[39m\u001b[39mt exist.\u001b[39m\u001b[39m\"\u001b[39m)\n\u001b[1;32m    106\u001b[0m \u001b[39melif\u001b[39;00m \u001b[39m2\u001b[39m \u001b[39mnot\u001b[39;00m \u001b[39min\u001b[39;00m unique_classes:\n\u001b[0;32m--> 107\u001b[0m     \u001b[39mraise\u001b[39;00m \u001b[39mValueError\u001b[39;00m(\u001b[39m\"\u001b[39m\u001b[39mReclassification failed: \u001b[39m\u001b[39m'\u001b[39m\u001b[39mFavorable\u001b[39m\u001b[39m'\u001b[39m\u001b[39m class (Class 2) doesn\u001b[39m\u001b[39m'\u001b[39m\u001b[39mt exist.\u001b[39m\u001b[39m\"\u001b[39m)\n",
      "\u001b[0;31mValueError\u001b[0m: Reclassification failed: 'Favorable' class (Class 2) doesn't exist."
     ]
    }
   ],
   "source": [
    "with rasterio.open(\"../tests/data/remote/wofe/wofe_ev_nan.tif\") as test_ev:\n",
    "    with rasterio.open(\"../tests/data/remote/wofe/wofe_dep_nan_.tif\") as test_dep:\n",
    "        test_wgt_un_, test_gen_un_, test_rst_meta = weights_of_evidence(test_ev, test_dep, 'unique', 2, laplace_smoothing=True)\n",
    "        test_wgt_asc_, test_gen_asc_, test_rst_meta = weights_of_evidence(test_ev, test_dep, 'ascending', 2, laplace_smoothing=True)\n",
    "        test_wgt_dsc_, test_gen_dsc_, test_rst_meta = weights_of_evidence(test_ev, test_dep, 'descending', 2, laplace_smoothing=True)"
   ]
  },
  {
   "cell_type": "code",
   "execution_count": null,
   "metadata": {},
   "outputs": [
    {
     "data": {
      "text/html": [
       "<div>\n",
       "<style scoped>\n",
       "    .dataframe tbody tr th:only-of-type {\n",
       "        vertical-align: middle;\n",
       "    }\n",
       "\n",
       "    .dataframe tbody tr th {\n",
       "        vertical-align: top;\n",
       "    }\n",
       "\n",
       "    .dataframe thead th {\n",
       "        text-align: right;\n",
       "    }\n",
       "</style>\n",
       "<table border=\"1\" class=\"dataframe\">\n",
       "  <thead>\n",
       "    <tr style=\"text-align: right;\">\n",
       "      <th></th>\n",
       "      <th>Class</th>\n",
       "      <th>Count</th>\n",
       "      <th>Point Count</th>\n",
       "      <th>WPlus</th>\n",
       "      <th>S_WPlus</th>\n",
       "      <th>WMinus</th>\n",
       "      <th>S_WMinus</th>\n",
       "      <th>Contrast</th>\n",
       "      <th>S_Contrast</th>\n",
       "      <th>Studentized contrast</th>\n",
       "    </tr>\n",
       "  </thead>\n",
       "  <tbody>\n",
       "    <tr>\n",
       "      <th>0</th>\n",
       "      <td>1.0</td>\n",
       "      <td>275</td>\n",
       "      <td>9</td>\n",
       "      <td>0.822</td>\n",
       "      <td>0.339</td>\n",
       "      <td>-0.543</td>\n",
       "      <td>0.380</td>\n",
       "      <td>1.365</td>\n",
       "      <td>0.509</td>\n",
       "      <td>2.682</td>\n",
       "    </tr>\n",
       "    <tr>\n",
       "      <th>1</th>\n",
       "      <td>2.0</td>\n",
       "      <td>11</td>\n",
       "      <td>0</td>\n",
       "      <td>-7.400</td>\n",
       "      <td>100.000</td>\n",
       "      <td>0.010</td>\n",
       "      <td>0.252</td>\n",
       "      <td>-7.410</td>\n",
       "      <td>100.001</td>\n",
       "      <td>-0.074</td>\n",
       "    </tr>\n",
       "    <tr>\n",
       "      <th>2</th>\n",
       "      <td>3.0</td>\n",
       "      <td>396</td>\n",
       "      <td>5</td>\n",
       "      <td>-0.151</td>\n",
       "      <td>0.450</td>\n",
       "      <td>0.077</td>\n",
       "      <td>0.304</td>\n",
       "      <td>-0.228</td>\n",
       "      <td>0.543</td>\n",
       "      <td>-0.419</td>\n",
       "    </tr>\n",
       "    <tr>\n",
       "      <th>3</th>\n",
       "      <td>5.0</td>\n",
       "      <td>43</td>\n",
       "      <td>1</td>\n",
       "      <td>0.471</td>\n",
       "      <td>1.012</td>\n",
       "      <td>-0.025</td>\n",
       "      <td>0.260</td>\n",
       "      <td>0.495</td>\n",
       "      <td>1.045</td>\n",
       "      <td>0.474</td>\n",
       "    </tr>\n",
       "    <tr>\n",
       "      <th>4</th>\n",
       "      <td>6.0</td>\n",
       "      <td>1</td>\n",
       "      <td>0</td>\n",
       "      <td>-5.002</td>\n",
       "      <td>100.005</td>\n",
       "      <td>0.001</td>\n",
       "      <td>0.252</td>\n",
       "      <td>-5.003</td>\n",
       "      <td>100.005</td>\n",
       "      <td>-0.050</td>\n",
       "    </tr>\n",
       "    <tr>\n",
       "      <th>5</th>\n",
       "      <td>8.0</td>\n",
       "      <td>43</td>\n",
       "      <td>0</td>\n",
       "      <td>-8.763</td>\n",
       "      <td>100.000</td>\n",
       "      <td>0.041</td>\n",
       "      <td>0.252</td>\n",
       "      <td>-8.804</td>\n",
       "      <td>100.000</td>\n",
       "      <td>-0.088</td>\n",
       "    </tr>\n",
       "    <tr>\n",
       "      <th>6</th>\n",
       "      <td>10.0</td>\n",
       "      <td>2</td>\n",
       "      <td>1</td>\n",
       "      <td>4.208</td>\n",
       "      <td>1.414</td>\n",
       "      <td>-0.064</td>\n",
       "      <td>0.260</td>\n",
       "      <td>4.272</td>\n",
       "      <td>1.438</td>\n",
       "      <td>2.971</td>\n",
       "    </tr>\n",
       "    <tr>\n",
       "      <th>7</th>\n",
       "      <td>13.0</td>\n",
       "      <td>10</td>\n",
       "      <td>0</td>\n",
       "      <td>-7.305</td>\n",
       "      <td>100.000</td>\n",
       "      <td>0.009</td>\n",
       "      <td>0.252</td>\n",
       "      <td>-7.314</td>\n",
       "      <td>100.001</td>\n",
       "      <td>-0.073</td>\n",
       "    </tr>\n",
       "  </tbody>\n",
       "</table>\n",
       "</div>"
      ],
      "text/plain": [
       "   Class  Count  Point Count  WPlus  S_WPlus  WMinus  S_WMinus  Contrast  \\\n",
       "0    1.0    275            9  0.822    0.339  -0.543     0.380     1.365   \n",
       "1    2.0     11            0 -7.400  100.000   0.010     0.252    -7.410   \n",
       "2    3.0    396            5 -0.151    0.450   0.077     0.304    -0.228   \n",
       "3    5.0     43            1  0.471    1.012  -0.025     0.260     0.495   \n",
       "4    6.0      1            0 -5.002  100.005   0.001     0.252    -5.003   \n",
       "5    8.0     43            0 -8.763  100.000   0.041     0.252    -8.804   \n",
       "6   10.0      2            1  4.208    1.414  -0.064     0.260     4.272   \n",
       "7   13.0     10            0 -7.305  100.000   0.009     0.252    -7.314   \n",
       "\n",
       "   S_Contrast  Studentized contrast  \n",
       "0       0.509                 2.682  \n",
       "1     100.001                -0.074  \n",
       "2       0.543                -0.419  \n",
       "3       1.045                 0.474  \n",
       "4     100.005                -0.050  \n",
       "5     100.000                -0.088  \n",
       "6       1.438                 2.971  \n",
       "7     100.001                -0.073  "
      ]
     },
     "execution_count": 3,
     "metadata": {},
     "output_type": "execute_result"
    }
   ],
   "source": [
    "# UNIQUE\n",
    "test_wgt_un_"
   ]
  },
  {
   "cell_type": "code",
   "execution_count": null,
   "metadata": {},
   "outputs": [
    {
     "name": "stderr",
     "output_type": "stream",
     "text": [
      "/home/niko/code/plugin_dev/eis_toolkit/notebooks/../eis_toolkit/prediction/wofe_new_new.py:73: RuntimeWarning: invalid value encountered in log\n",
      "  w_minus = np.log((1 - p_A) / (1 - p_C)) if (1 - p_A) != 0 and (1 - p_C) != 0 else 0\n"
     ]
    },
    {
     "data": {
      "text/html": [
       "<div>\n",
       "<style scoped>\n",
       "    .dataframe tbody tr th:only-of-type {\n",
       "        vertical-align: middle;\n",
       "    }\n",
       "\n",
       "    .dataframe tbody tr th {\n",
       "        vertical-align: top;\n",
       "    }\n",
       "\n",
       "    .dataframe thead th {\n",
       "        text-align: right;\n",
       "    }\n",
       "</style>\n",
       "<table border=\"1\" class=\"dataframe\">\n",
       "  <thead>\n",
       "    <tr style=\"text-align: right;\">\n",
       "      <th></th>\n",
       "      <th>Class</th>\n",
       "      <th>Count</th>\n",
       "      <th>Point Count</th>\n",
       "      <th>WPlus</th>\n",
       "      <th>S_WPlus</th>\n",
       "      <th>WMinus</th>\n",
       "      <th>S_WMinus</th>\n",
       "      <th>Contrast</th>\n",
       "      <th>S_Contrast</th>\n",
       "      <th>Studentized contrast</th>\n",
       "      <th>Generalized class</th>\n",
       "      <th>Generalized WPlus</th>\n",
       "      <th>Generalized S_WPlus</th>\n",
       "    </tr>\n",
       "  </thead>\n",
       "  <tbody>\n",
       "    <tr>\n",
       "      <th>0</th>\n",
       "      <td>1.0</td>\n",
       "      <td>275</td>\n",
       "      <td>9</td>\n",
       "      <td>0.822</td>\n",
       "      <td>0.339</td>\n",
       "      <td>-0.543</td>\n",
       "      <td>0.380</td>\n",
       "      <td>1.365</td>\n",
       "      <td>0.509</td>\n",
       "      <td>2.682</td>\n",
       "      <td>2</td>\n",
       "      <td>0.8017</td>\n",
       "      <td>0.2396</td>\n",
       "    </tr>\n",
       "    <tr>\n",
       "      <th>1</th>\n",
       "      <td>2.0</td>\n",
       "      <td>286</td>\n",
       "      <td>9</td>\n",
       "      <td>0.782</td>\n",
       "      <td>0.339</td>\n",
       "      <td>-0.529</td>\n",
       "      <td>0.380</td>\n",
       "      <td>1.311</td>\n",
       "      <td>0.509</td>\n",
       "      <td>2.576</td>\n",
       "      <td>2</td>\n",
       "      <td>0.8017</td>\n",
       "      <td>0.2396</td>\n",
       "    </tr>\n",
       "    <tr>\n",
       "      <th>2</th>\n",
       "      <td>3.0</td>\n",
       "      <td>682</td>\n",
       "      <td>14</td>\n",
       "      <td>0.343</td>\n",
       "      <td>0.270</td>\n",
       "      <td>-1.110</td>\n",
       "      <td>0.709</td>\n",
       "      <td>1.453</td>\n",
       "      <td>0.759</td>\n",
       "      <td>1.915</td>\n",
       "      <td>1</td>\n",
       "      <td>0.3384</td>\n",
       "      <td>0.1059</td>\n",
       "    </tr>\n",
       "    <tr>\n",
       "      <th>3</th>\n",
       "      <td>5.0</td>\n",
       "      <td>725</td>\n",
       "      <td>15</td>\n",
       "      <td>0.351</td>\n",
       "      <td>0.261</td>\n",
       "      <td>-1.694</td>\n",
       "      <td>1.001</td>\n",
       "      <td>2.045</td>\n",
       "      <td>1.035</td>\n",
       "      <td>1.977</td>\n",
       "      <td>1</td>\n",
       "      <td>0.3384</td>\n",
       "      <td>0.1059</td>\n",
       "    </tr>\n",
       "    <tr>\n",
       "      <th>4</th>\n",
       "      <td>6.0</td>\n",
       "      <td>726</td>\n",
       "      <td>15</td>\n",
       "      <td>0.350</td>\n",
       "      <td>0.261</td>\n",
       "      <td>-1.691</td>\n",
       "      <td>1.001</td>\n",
       "      <td>2.041</td>\n",
       "      <td>1.035</td>\n",
       "      <td>1.973</td>\n",
       "      <td>1</td>\n",
       "      <td>0.3384</td>\n",
       "      <td>0.1059</td>\n",
       "    </tr>\n",
       "    <tr>\n",
       "      <th>5</th>\n",
       "      <td>8.0</td>\n",
       "      <td>769</td>\n",
       "      <td>15</td>\n",
       "      <td>0.291</td>\n",
       "      <td>0.261</td>\n",
       "      <td>-1.566</td>\n",
       "      <td>1.002</td>\n",
       "      <td>1.857</td>\n",
       "      <td>1.035</td>\n",
       "      <td>1.795</td>\n",
       "      <td>1</td>\n",
       "      <td>0.3384</td>\n",
       "      <td>0.1059</td>\n",
       "    </tr>\n",
       "    <tr>\n",
       "      <th>6</th>\n",
       "      <td>10.0</td>\n",
       "      <td>771</td>\n",
       "      <td>16</td>\n",
       "      <td>0.354</td>\n",
       "      <td>0.253</td>\n",
       "      <td>NaN</td>\n",
       "      <td>0.056</td>\n",
       "      <td>NaN</td>\n",
       "      <td>0.259</td>\n",
       "      <td>NaN</td>\n",
       "      <td>1</td>\n",
       "      <td>0.3384</td>\n",
       "      <td>0.1059</td>\n",
       "    </tr>\n",
       "    <tr>\n",
       "      <th>7</th>\n",
       "      <td>13.0</td>\n",
       "      <td>781</td>\n",
       "      <td>16</td>\n",
       "      <td>0.341</td>\n",
       "      <td>0.253</td>\n",
       "      <td>NaN</td>\n",
       "      <td>0.057</td>\n",
       "      <td>NaN</td>\n",
       "      <td>0.259</td>\n",
       "      <td>NaN</td>\n",
       "      <td>1</td>\n",
       "      <td>0.3384</td>\n",
       "      <td>0.1059</td>\n",
       "    </tr>\n",
       "  </tbody>\n",
       "</table>\n",
       "</div>"
      ],
      "text/plain": [
       "   Class  Count  Point Count  WPlus  S_WPlus  WMinus  S_WMinus  Contrast  \\\n",
       "0    1.0    275            9  0.822    0.339  -0.543     0.380     1.365   \n",
       "1    2.0    286            9  0.782    0.339  -0.529     0.380     1.311   \n",
       "2    3.0    682           14  0.343    0.270  -1.110     0.709     1.453   \n",
       "3    5.0    725           15  0.351    0.261  -1.694     1.001     2.045   \n",
       "4    6.0    726           15  0.350    0.261  -1.691     1.001     2.041   \n",
       "5    8.0    769           15  0.291    0.261  -1.566     1.002     1.857   \n",
       "6   10.0    771           16  0.354    0.253     NaN     0.056       NaN   \n",
       "7   13.0    781           16  0.341    0.253     NaN     0.057       NaN   \n",
       "\n",
       "   S_Contrast  Studentized contrast  Generalized class  Generalized WPlus  \\\n",
       "0       0.509                 2.682                  2             0.8017   \n",
       "1       0.509                 2.576                  2             0.8017   \n",
       "2       0.759                 1.915                  1             0.3384   \n",
       "3       1.035                 1.977                  1             0.3384   \n",
       "4       1.035                 1.973                  1             0.3384   \n",
       "5       1.035                 1.795                  1             0.3384   \n",
       "6       0.259                   NaN                  1             0.3384   \n",
       "7       0.259                   NaN                  1             0.3384   \n",
       "\n",
       "   Generalized S_WPlus  \n",
       "0               0.2396  \n",
       "1               0.2396  \n",
       "2               0.1059  \n",
       "3               0.1059  \n",
       "4               0.1059  \n",
       "5               0.1059  \n",
       "6               0.1059  \n",
       "7               0.1059  "
      ]
     },
     "execution_count": 4,
     "metadata": {},
     "output_type": "execute_result"
    }
   ],
   "source": [
    "# ASCENDING\n",
    "test_wgt_asc_"
   ]
  },
  {
   "cell_type": "code",
   "execution_count": null,
   "metadata": {},
   "outputs": [
    {
     "name": "stderr",
     "output_type": "stream",
     "text": [
      "/home/niko/code/plugin_dev/eis_toolkit/notebooks/../eis_toolkit/prediction/wofe_new_new.py:73: RuntimeWarning: invalid value encountered in log\n",
      "  w_minus = np.log((1 - p_A) / (1 - p_C)) if (1 - p_A) != 0 and (1 - p_C) != 0 else 0\n"
     ]
    },
    {
     "ename": "ValueError",
     "evalue": "Reclassification failed: 'Favorable' class (Class 2) doesn't exist.",
     "output_type": "error",
     "traceback": [
      "\u001b[0;31m---------------------------------------------------------------------------\u001b[0m",
      "\u001b[0;31mValueError\u001b[0m                                Traceback (most recent call last)",
      "Cell \u001b[0;32mIn[5], line 1\u001b[0m\n\u001b[0;32m----> 1\u001b[0m test_wgt_dsc_, test_gen_dsc_, test_rst_meta \u001b[39m=\u001b[39m weights_of_evidence(test_ev, test_dep, \u001b[39m'\u001b[39;49m\u001b[39mdescending\u001b[39;49m\u001b[39m'\u001b[39;49m, \u001b[39m2\u001b[39;49m, laplace_smoothing\u001b[39m=\u001b[39;49m\u001b[39mTrue\u001b[39;49;00m)\n\u001b[1;32m      2\u001b[0m test_wgt_dsc_\n",
      "File \u001b[0;32m~/code/plugin_dev/eis_toolkit/notebooks/../eis_toolkit/prediction/wofe_new_new.py:228\u001b[0m, in \u001b[0;36mweights_of_evidence\u001b[0;34m(evidential_raster, deposit_raster, weights_type, studentized_contrast_threshold, laplace_smoothing, rasters_to_generate)\u001b[0m\n\u001b[1;32m    226\u001b[0m \u001b[39m# 4. If we use cumulative weights type, reclassify and calculate generalized weights\u001b[39;00m\n\u001b[1;32m    227\u001b[0m \u001b[39mif\u001b[39;00m weights_type \u001b[39m!=\u001b[39m \u001b[39m\"\u001b[39m\u001b[39munique\u001b[39m\u001b[39m\"\u001b[39m:\n\u001b[0;32m--> 228\u001b[0m     reclass_by_studentized_contrast(weights_df, studentized_contrast_threshold)\n\u001b[1;32m    229\u001b[0m     \u001b[39m# calculate_generalized_weights(weights_df)\u001b[39;00m\n\u001b[1;32m    230\u001b[0m     calculate_generalized_weights_alternative(weights_df, deposits)\n",
      "File \u001b[0;32m~/code/plugin_dev/eis_toolkit/notebooks/../eis_toolkit/prediction/wofe_new_new.py:107\u001b[0m, in \u001b[0;36mreclass_by_studentized_contrast\u001b[0;34m(df, studentized_contrast_threshold)\u001b[0m\n\u001b[1;32m    105\u001b[0m     \u001b[39mraise\u001b[39;00m \u001b[39mValueError\u001b[39;00m(\u001b[39m\"\u001b[39m\u001b[39mReclassification failed: \u001b[39m\u001b[39m'\u001b[39m\u001b[39mUnfavorable\u001b[39m\u001b[39m'\u001b[39m\u001b[39m class (Class 1) doesn\u001b[39m\u001b[39m'\u001b[39m\u001b[39mt exist.\u001b[39m\u001b[39m\"\u001b[39m)\n\u001b[1;32m    106\u001b[0m \u001b[39melif\u001b[39;00m \u001b[39m2\u001b[39m \u001b[39mnot\u001b[39;00m \u001b[39min\u001b[39;00m unique_classes:\n\u001b[0;32m--> 107\u001b[0m     \u001b[39mraise\u001b[39;00m \u001b[39mValueError\u001b[39;00m(\u001b[39m\"\u001b[39m\u001b[39mReclassification failed: \u001b[39m\u001b[39m'\u001b[39m\u001b[39mFavorable\u001b[39m\u001b[39m'\u001b[39m\u001b[39m class (Class 2) doesn\u001b[39m\u001b[39m'\u001b[39m\u001b[39mt exist.\u001b[39m\u001b[39m\"\u001b[39m)\n",
      "\u001b[0;31mValueError\u001b[0m: Reclassification failed: 'Favorable' class (Class 2) doesn't exist."
     ]
    }
   ],
   "source": [
    "# DESCENDING\n",
    "test_wgt_dsc_"
   ]
  },
  {
   "cell_type": "code",
   "execution_count": 3,
   "metadata": {},
   "outputs": [
    {
     "data": {
      "text/plain": [
       "<Axes: title={'center': 'Generalized weights'}>"
      ]
     },
     "execution_count": 3,
     "metadata": {},
     "output_type": "execute_result"
    },
    {
     "data": {
      "image/png": "[encoded data removed]",
      "text/plain": [
       "<Figure size 1000x1000 with 2 Axes>"
      ]
     },
     "metadata": {},
     "output_type": "display_data"
    }
   ],
   "source": [
    "fig, ax = plt.subplots(figsize = (10,10))\n",
    "ax.set_title(\"Generalized weights\")\n",
    "clrbar = ax.imshow(test_gen_un_[\"WPlus\"], cmap='terrain')\n",
    "plt.colorbar(clrbar, orientation=\"horizontal\", pad = 0.05)\n",
    "show(test_gen_un_[\"WPlus\"], ax = ax, transform = test_ev.transform, cmap='terrain')"
   ]
  },
  {
   "cell_type": "code",
   "execution_count": 4,
   "metadata": {},
   "outputs": [
    {
     "data": {
      "text/plain": [
       "<Axes: title={'center': 'Generalized weights'}>"
      ]
     },
     "execution_count": 4,
     "metadata": {},
     "output_type": "execute_result"
    },
    {
     "data": {
      "image/png": "[encoded data removed]",
      "text/plain": [
       "<Figure size 1000x1000 with 2 Axes>"
      ]
     },
     "metadata": {},
     "output_type": "display_data"
    }
   ],
   "source": [
    "fig, ax = plt.subplots(figsize = (10,10))\n",
    "ax.set_title(\"Generalized weights\")\n",
    "clrbar = ax.imshow(test_gen_asc_[\"Generalized WPlus\"], cmap='viridis')\n",
    "plt.colorbar(clrbar, orientation=\"horizontal\", pad = 0.05)\n",
    "show(test_gen_asc_[\"Generalized WPlus\"], ax = ax, transform = test_ev.transform, cmap='viridis')"
   ]
  },
  {
   "cell_type": "code",
   "execution_count": null,
   "metadata": {},
   "outputs": [
    {
     "data": {
      "text/plain": [
       "<Axes: title={'center': 'Generalized weights'}>"
      ]
     },
     "execution_count": 9,
     "metadata": {},
     "output_type": "execute_result"
    },
    {
     "data": {
      "image/png": "[encoded data removed]",
      "text/plain": [
       "<Figure size 1000x1000 with 2 Axes>"
      ]
     },
     "metadata": {},
     "output_type": "display_data"
    }
   ],
   "source": [
    "fig, ax = plt.subplots(figsize = (10,10))\n",
    "ax.set_title(\"Generalized weights\")\n",
    "clrbar = ax.imshow(test_gen_dsc_[\"Generalized WPlus\"], cmap='viridis')\n",
    "plt.colorbar(clrbar, orientation=\"horizontal\", pad = 0.05)\n",
    "show(test_gen_dsc_[\"Generalized WPlus\"], ax = ax, transform = test_ev.transform, cmap='viridis')"
   ]
  }
 ],
 "metadata": {
  "kernelspec": {
   "display_name": "eis_toolkit",
   "language": "python",
   "name": "python3"
  },
  "language_info": {
   "codemirror_mode": {
    "name": "ipython",
    "version": 3
   },
   "file_extension": ".py",
   "mimetype": "text/x-python",
   "name": "python",
   "nbconvert_exporter": "python",
   "pygments_lexer": "ipython3",
   "version": "3.10.12"
  },
  "orig_nbformat": 4
 },
 "nbformat": 4,
 "nbformat_minor": 2
}

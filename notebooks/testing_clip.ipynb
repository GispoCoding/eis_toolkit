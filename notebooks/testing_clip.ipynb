{
 "cells": [
  {
   "cell_type": "markdown",
   "id": "de6b5fb9-2a80-48b7-8d02-4437d7f6d960",
   "metadata": {},
   "source": [
    "# Test file for clip function"
   ]
  },
  {
   "cell_type": "code",
   "execution_count": 19,
   "id": "73d0a0f6-5d1a-49d8-9657-a7c820ba3ca5",
   "metadata": {},
   "outputs": [],
   "source": [
    "import rasterio as rio\n",
    "import numpy as np\n",
    "from matplotlib import pyplot\n",
    "from pathlib import Path"
   ]
  },
  {
   "cell_type": "code",
   "execution_count": 20,
   "id": "efcd1286-c4d4-46f1-9f59-dca8c091514f",
   "metadata": {},
   "outputs": [],
   "source": [
    "output_path = Path('/home/pauliina/Downloads/eis_outputs/clip_result.tif')\n",
    "# Default open mode is r\n",
    "src = rio.open(output_path)\n",
    "arr = src.read(1)\n",
    "# Let's replace No data values with numpy NaN values in order to plot clipped raster so that the colour changes are visible for human eye\n",
    "arr = np.where(arr<-100, np.nan, arr)"
   ]
  },
  {
   "cell_type": "code",
   "execution_count": 22,
   "id": "74cba53e-5749-49f5-b355-921a99af90a4",
   "metadata": {},
   "outputs": [
    {
     "data": {
      "image/png": "[encoded data removed]",
      "text/plain": [
       "<Figure size 432x288 with 1 Axes>"
      ]
     },
     "metadata": {
      "needs_background": "light"
     },
     "output_type": "display_data"
    }
   ],
   "source": [
    "pyplot.imshow(arr, cmap='gray')\n",
    "pyplot.show()"
   ]
  },
  {
   "cell_type": "markdown",
   "id": "de4004eb-d9c2-4e6f-8cbd-6540efbe06c1",
   "metadata": {},
   "source": [
    "This is just to show one example on how you can visually check that your tool works as expected. Compare the image above with the result QGIS gives if you clip small_raster.tif with small_area.shp"
   ]
  },
  {
   "cell_type": "code",
   "execution_count": null,
   "id": "c3691c2e-58ef-43ff-bda5-16fe4a19e1c1",
   "metadata": {},
   "outputs": [],
   "source": []
  }
 ],
 "metadata": {
  "kernelspec": {
   "display_name": "Python 3 (ipykernel)",
   "language": "python",
   "name": "python3"
  },
  "language_info": {
   "codemirror_mode": {
    "name": "ipython",
    "version": 3
   },
   "file_extension": ".py",
   "mimetype": "text/x-python",
   "name": "python",
   "nbconvert_exporter": "python",
   "pygments_lexer": "ipython3",
   "version": "3.8.10"
  }
 },
 "nbformat": 4,
 "nbformat_minor": 5
}

{
 "cells": [
  {
   "cell_type": "markdown",
   "id": "de6b5fb9-2a80-48b7-8d02-4437d7f6d960",
   "metadata": {},
   "source": [
    "# Test file for clip function"
   ]
  },
  {
   "cell_type": "code",
   "execution_count": 1,
   "id": "73d0a0f6-5d1a-49d8-9657-a7c820ba3ca5",
   "metadata": {},
   "outputs": [],
   "source": [
    "import rasterio as rio\n",
    "from rasterio.plot import show\n",
    "import geopandas as gpd\n",
    "import numpy as np\n",
    "from matplotlib import pyplot\n",
    "from pathlib import Path\n",
    "\n",
    "try:\n",
    "    from eis_toolkit.raster_processing.clipping import clip\n",
    "except ModuleNotFoundError:\n",
    "    import sys\n",
    "    sys.path.insert(0, '..')\n",
    "    from eis_toolkit.raster_processing.clipping import clip"
   ]
  },
  {
   "cell_type": "code",
   "execution_count": 2,
   "id": "efcd1286-c4d4-46f1-9f59-dca8c091514f",
   "metadata": {},
   "outputs": [],
   "source": [
    "input_polygon = gpd.read_file(\"../tests/data/small_area.shp\")\n",
    "with rio.open(\"../tests/data/small_raster.tif\") as input_raster:\n",
    "    out_image, out_transform, out_meta = clip(\n",
    "        input_raster=input_raster,\n",
    "        input_polygon=input_polygon\n",
    "    )"
   ]
  },
  {
   "cell_type": "code",
   "execution_count": 3,
   "id": "16890051-3eb0-429a-947b-19856d6b09ef",
   "metadata": {},
   "outputs": [
    {
     "data": {
      "text/plain": [
       "3067"
      ]
     },
     "execution_count": 3,
     "metadata": {},
     "output_type": "execute_result"
    }
   ],
   "source": [
    "input_polygon.crs.to_epsg()"
   ]
  },
  {
   "cell_type": "code",
   "execution_count": 5,
   "id": "c89f6dc8-14d3-4fb1-bf05-9adc2f90f00d",
   "metadata": {},
   "outputs": [
    {
     "ename": "NameError",
     "evalue": "name 'out_image' is not defined",
     "output_type": "error",
     "traceback": [
      "\u001b[0;31m---------------------------------------------------------------------------\u001b[0m",
      "\u001b[0;31mNameError\u001b[0m                                 Traceback (most recent call last)",
      "Input \u001b[0;32mIn [5]\u001b[0m, in \u001b[0;36m<cell line: 1>\u001b[0;34m()\u001b[0m\n\u001b[1;32m      1\u001b[0m \u001b[38;5;28;01mwith\u001b[39;00m rio\u001b[38;5;241m.\u001b[39mopen(\u001b[38;5;124m\"\u001b[39m\u001b[38;5;124m../tests/o\u001b[39m\u001b[38;5;124m\"\u001b[39m, \u001b[38;5;124m'\u001b[39m\u001b[38;5;124mw\u001b[39m\u001b[38;5;124m'\u001b[39m, \u001b[38;5;241m*\u001b[39m\u001b[38;5;241m*\u001b[39mout_meta) \u001b[38;5;28;01mas\u001b[39;00m dest:\n\u001b[0;32m----> 2\u001b[0m     dest\u001b[38;5;241m.\u001b[39mwrite(\u001b[43mout_image\u001b[49m)\n",
      "\u001b[0;31mNameError\u001b[0m: name 'out_image' is not defined"
     ]
    }
   ],
   "source": [
    "with rio.open(\"../tests/o\", 'w', **out_meta) as dest:\n",
    "    dest.write(out_image)\n"
   ]
  },
  {
   "cell_type": "code",
   "execution_count": null,
   "id": "0e771ea4-eae6-4843-bacf-da88a13fddeb",
   "metadata": {},
   "outputs": [],
   "source": [
    "# Default open mode is r\n",
    "src = rio.open(output_path)\n",
    "arr = src.read(1)\n",
    "# Let's replace No data values with numpy NaN values in order to plot clipped raster so that the colour changes are visible for human eye\n",
    "arr = np.where(arr<-100, np.nan, arr)"
   ]
  },
  {
   "cell_type": "code",
   "execution_count": null,
   "id": "74cba53e-5749-49f5-b355-921a99af90a4",
   "metadata": {},
   "outputs": [],
   "source": [
    "pyplot.imshow(arr, cmap='gray')\n",
    "pyplot.show()"
   ]
  },
  {
   "cell_type": "markdown",
   "id": "de4004eb-d9c2-4e6f-8cbd-6540efbe06c1",
   "metadata": {},
   "source": [
    "This is just to show one example on how you can visually check that your tool works as expected. Compare the image above with the result QGIS gives if you clip small_raster.tif with small_area.shp"
   ]
  },
  {
   "cell_type": "code",
   "execution_count": null,
   "id": "c3691c2e-58ef-43ff-bda5-16fe4a19e1c1",
   "metadata": {},
   "outputs": [],
   "source": []
  }
 ],
 "metadata": {
  "kernelspec": {
   "display_name": "Python 3 (ipykernel)",
   "language": "python",
   "name": "python3"
  },
  "language_info": {
   "codemirror_mode": {
    "name": "ipython",
    "version": 3
   },
   "file_extension": ".py",
   "mimetype": "text/x-python",
   "name": "python",
   "nbconvert_exporter": "python",
   "pygments_lexer": "ipython3",
   "version": "3.10.4"
  }
 },
 "nbformat": 4,
 "nbformat_minor": 5
}

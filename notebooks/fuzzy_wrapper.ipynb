{
 "cells": [
  {
   "cell_type": "code",
   "execution_count": 32,
   "id": "6843ffd5-2995-4f4b-8e73-0eacb90b07c2",
   "metadata": {},
   "outputs": [
    {
     "data": {
      "text/plain": [
       "'/eis_toolkit'"
      ]
     },
     "execution_count": 32,
     "metadata": {},
     "output_type": "execute_result"
    }
   ],
   "source": [
    "import os\n",
    "os.getcwd()"
   ]
  },
  {
   "cell_type": "code",
   "execution_count": 34,
   "id": "1883e0b6-56ae-4b87-b118-a1d30c00d909",
   "metadata": {},
   "outputs": [
    {
     "name": "stdout",
     "output_type": "stream",
     "text": [
      "Number of suitable drivers for geotiffs:  2\n"
     ]
    }
   ],
   "source": [
    "from dummy_gdal import driver_cnt\n",
    "driver_cnt()"
   ]
  },
  {
   "cell_type": "code",
   "execution_count": 35,
   "id": "0f45266a-cebf-42d6-b3b4-bc940eaccda9",
   "metadata": {},
   "outputs": [
    {
     "ename": "ModuleNotFoundError",
     "evalue": "No module named 'fuzzy_overlay'",
     "output_type": "error",
     "traceback": [
      "\u001b[0;31m---------------------------------------------------------------------------\u001b[0m",
      "\u001b[0;31mModuleNotFoundError\u001b[0m                       Traceback (most recent call last)",
      "Input \u001b[0;32mIn [35]\u001b[0m, in \u001b[0;36m<cell line: 2>\u001b[0;34m()\u001b[0m\n\u001b[1;32m      1\u001b[0m \u001b[38;5;28;01mimport\u001b[39;00m \u001b[38;5;21;01mnumpy\u001b[39;00m\n\u001b[0;32m----> 2\u001b[0m \u001b[38;5;28;01mfrom\u001b[39;00m \u001b[38;5;21;01mfuzzy_overlay\u001b[39;00m \u001b[38;5;28;01mimport\u001b[39;00m fuzzy_and\n\u001b[1;32m      3\u001b[0m os\u001b[38;5;241m.\u001b[39mgetcwd()\n\u001b[1;32m      4\u001b[0m input_data \u001b[38;5;241m=\u001b[39m numpy\u001b[38;5;241m.\u001b[39marray([[\u001b[38;5;241m1\u001b[39m,\u001b[38;5;241m-\u001b[39m\u001b[38;5;241m0.5\u001b[39m,\u001b[38;5;241m0.2\u001b[39m],[\u001b[38;5;241m0.9\u001b[39m,\u001b[38;5;241m0.55\u001b[39m,\u001b[38;5;241m0.15\u001b[39m],[\u001b[38;5;241m0.98\u001b[39m,\u001b[38;5;241m0.45\u001b[39m,\u001b[38;5;241m0.3\u001b[39m]])\n",
      "\u001b[0;31mModuleNotFoundError\u001b[0m: No module named 'fuzzy_overlay'"
     ]
    }
   ],
   "source": [
    "import numpy\n",
    "from fuzzy_overlay import fuzzy_and\n",
    "os.getcwd()\n",
    "input_data = numpy.array([[1,-0.5,0.2],[0.9,0.55,0.15],[0.98,0.45,0.3]])\n",
    "fuzzy_and(input_data)"
   ]
  },
  {
   "cell_type": "code",
   "execution_count": null,
   "id": "44dac89c-0627-49d2-936e-04a5dc7e2b32",
   "metadata": {},
   "outputs": [],
   "source": []
  }
 ],
 "metadata": {
  "kernelspec": {
   "display_name": "Python 3 (ipykernel)",
   "language": "python",
   "name": "python3"
  },
  "language_info": {
   "codemirror_mode": {
    "name": "ipython",
    "version": 3
   },
   "file_extension": ".py",
   "mimetype": "text/x-python",
   "name": "python",
   "nbconvert_exporter": "python",
   "pygments_lexer": "ipython3",
   "version": "3.10.6"
  }
 },
 "nbformat": 4,
 "nbformat_minor": 5
}

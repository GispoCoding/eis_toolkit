{
  "cells": [
    {
      "cell_type": "markdown",
      "metadata": {},
      "source": [
        "# Data and preparation"
      ]
    },
    {
      "cell_type": "code",
      "execution_count": 1,
      "metadata": {},
      "outputs": [],
      "source": [
        "# Modules\n",
        "import numpy as np\n",
        "import rasterio\n",
        "import sys\n",
        "\n",
        "sys.path.insert(0, \"..\")\n",
        "from eis_toolkit.checks.parameter import check_numeric_value_sign\n",
        "from eis_toolkit.exceptions import NumericValueSignException, InvalidParameterValueException, InvalidInputDataException\n",
        "from eis_toolkit.transformations import binarize, logarithmic, winsorize\n",
        "\n",
        "# Supress scientific notation\n",
        "np.set_printoptions(suppress=True)\n"
      ]
    },
    {
      "cell_type": "code",
      "execution_count": 2,
      "metadata": {},
      "outputs": [],
      "source": [
        "# Raster data\n",
        "image_small = rasterio.open(\"/eis_toolkit/tests/data/remote/small_raster.tif\")                                    # single band raster (rect without wholes or no-data)\n",
        "image_small_nan = rasterio.open(\"/eis_toolkit/tests/data/local/data/small_raster_nan.tif\")                        # small_raster with no-data (-999) below 5\n",
        "image_small_empty_meta = rasterio.open(\"/eis_toolkit/tests/data/local/data/small_raster_nan_empty_meta.tif\")      # small_raster with no-data (empty) below 5 (exported without specific no-data value)\n",
        "image_small_mb4 = rasterio.open(\"/eis_toolkit/tests/data/local/data/multiband.tif\")                               # multiband raster with 4 bands\n",
        "\n",
        "# Large raster data sets, 25 MPx [-9.99, +9.99]\n",
        "image_25mpx_mb3 = rasterio.open(\"/eis_toolkit/tests/data/local/data/large_raster_3b.tif\")\n",
        "image_25mpx_mb12 = rasterio.open(\"/eis_toolkit/tests/data/local/data/large_raster_12b.tif\")\n",
        "\n",
        "test_image = image_small_mb4"
      ]
    },
    {
      "cell_type": "markdown",
      "metadata": {},
      "source": [
        "# General issues\n",
        "## Raster data\n",
        "- Testing on raster **with** nan-value in meta data\n",
        "- Testing on raster **without** nan-values in meta data\n",
        "- Testing **multi-band**-support\n",
        "\n",
        "## DataFrames\n",
        "- Core functions will be the same as for raster data, so that only the \"branching\" needs to be tested"
      ]
    },
    {
      "attachments": {},
      "cell_type": "markdown",
      "metadata": {},
      "source": [
        "# Binarize\n",
        "- selection: bands can be **None** or a list of **int**, **float**, **None** values\n",
        "- thresholds: a list of **int** or **float** values\n",
        "- nodata: either **None** or a list of **int** and **float**\n",
        "- method: kind of output of the transformed data, either overwriting the existing ones (\"**replace**\") or extraction of selected bands (\"**extract**\")\n",
        "\n"
      ]
    },
    {
      "attachments": {},
      "cell_type": "markdown",
      "metadata": {},
      "source": [
        "## Tests"
      ]
    },
    {
      "attachments": {},
      "cell_type": "markdown",
      "metadata": {},
      "source": [
        "### Method <code>replace</code> and selection <code>None</code> (all bands)"
      ]
    },
    {
      "cell_type": "code",
      "execution_count": 3,
      "metadata": {},
      "outputs": [],
      "source": [
        "image, meta, settings = binarize.binarize(in_data=test_image, selection=None, thresholds=[2], nodata=None, method=\"replace\")\n"
      ]
    },
    {
      "attachments": {},
      "cell_type": "markdown",
      "metadata": {},
      "source": [
        "### Method <code>replace</code> and <code>single selection</code>"
      ]
    },
    {
      "cell_type": "code",
      "execution_count": 4,
      "metadata": {},
      "outputs": [],
      "source": [
        "image, meta, settings = binarize.binarize(in_data=test_image, selection=[3], thresholds=[5], nodata=None, method=\"replace\")\n"
      ]
    },
    {
      "attachments": {},
      "cell_type": "markdown",
      "metadata": {},
      "source": [
        "### Method <code>replace</code> and <code>single threshold</code>"
      ]
    },
    {
      "cell_type": "code",
      "execution_count": 5,
      "metadata": {},
      "outputs": [],
      "source": [
        "image, meta, settings = binarize.binarize(in_data=test_image, selection=[1, 3], thresholds=[2], nodata=None, method=\"replace\")\n"
      ]
    },
    {
      "attachments": {},
      "cell_type": "markdown",
      "metadata": {},
      "source": [
        "### Method <code>replace</code> and <code>unordered selection</code>"
      ]
    },
    {
      "cell_type": "code",
      "execution_count": 6,
      "metadata": {},
      "outputs": [],
      "source": [
        "image, meta, settings = binarize.binarize(in_data=test_image, selection=[1, 3, 4], thresholds=[2, 0, 1], nodata=None, method=\"replace\")\n"
      ]
    },
    {
      "cell_type": "code",
      "execution_count": 7,
      "metadata": {},
      "outputs": [],
      "source": [
        "image, meta, settings = binarize.binarize(in_data=test_image, selection=[3, 1, 4], thresholds=[5, 2, 0], nodata=[1.771, 2.749, -0.766], method=\"replace\")\n"
      ]
    },
    {
      "attachments": {},
      "cell_type": "markdown",
      "metadata": {},
      "source": [
        "### Method <code>replace</code> and <code>multi thresholds</code> and <code>NoData</code>"
      ]
    },
    {
      "cell_type": "code",
      "execution_count": 8,
      "metadata": {},
      "outputs": [],
      "source": [
        "image, meta, settings = binarize.binarize(in_data=test_image, selection=None, thresholds=[-5, -2, 2, 5], nodata=[2.749, None, None, None], method=\"replace\")\n"
      ]
    },
    {
      "cell_type": "code",
      "execution_count": 9,
      "metadata": {},
      "outputs": [],
      "source": [
        "image, meta, settings = binarize.binarize(in_data=test_image, selection=None, thresholds=[-5, -2, 2, 5], nodata=[-10], method=\"replace\")\n"
      ]
    },
    {
      "attachments": {},
      "cell_type": "markdown",
      "metadata": {},
      "source": [
        "### Method <code>extract</code> and selection <code>None</code> (all bands)"
      ]
    },
    {
      "cell_type": "code",
      "execution_count": 10,
      "metadata": {},
      "outputs": [],
      "source": [
        "# Using the same arguments, its the same as method \"replace\"\n",
        "image, meta, settings = binarize.binarize(in_data=test_image, selection=None, thresholds=[2], nodata=None, method=\"extract\")\n"
      ]
    },
    {
      "attachments": {},
      "cell_type": "markdown",
      "metadata": {},
      "source": [
        "### Method <code>extract</code> and <code>selected bands</code> (Bands 3, 1 if 4 band image)"
      ]
    },
    {
      "cell_type": "code",
      "execution_count": 11,
      "metadata": {},
      "outputs": [],
      "source": [
        "image, meta, settings = binarize.binarize(in_data=test_image, selection=[3, 1], thresholds=[5], nodata=None, method=\"extract\")\n"
      ]
    },
    {
      "cell_type": "code",
      "execution_count": 12,
      "metadata": {},
      "outputs": [],
      "source": [
        "image, meta, settings = binarize.binarize(in_data=test_image, selection=[3, 1], thresholds=[5], nodata=[-10], method=\"extract\")\n"
      ]
    },
    {
      "attachments": {},
      "cell_type": "markdown",
      "metadata": {},
      "source": [
        "### Method <code>extract</code> and <code>multi tresholds</code> (Bands 3, 2, 4 if 4 band image)\n",
        "- band 3 = index 0, threshold 5\n",
        "- band 1 = index 1, thresold 1\n",
        "- band 4 = index 3, thresold 2"
      ]
    },
    {
      "cell_type": "code",
      "execution_count": 13,
      "metadata": {},
      "outputs": [],
      "source": [
        "image, meta, settings = binarize.binarize(in_data=test_image, selection=[3, 1, 4], thresholds=[5, 1, 0], nodata=None, method=\"extract\")\n"
      ]
    },
    {
      "attachments": {},
      "cell_type": "markdown",
      "metadata": {},
      "source": [
        "### Method <code>extract</code> and <code>multi nodata</code> (Bands 3, 2, 4 if 4 band image)\n"
      ]
    },
    {
      "cell_type": "code",
      "execution_count": 14,
      "metadata": {},
      "outputs": [],
      "source": [
        "image, meta, settings = binarize.binarize(in_data=test_image, selection=[3, 1, 4], thresholds=[5, 1, 0], nodata=[1.771, 2.749, None], method=\"extract\")\n"
      ]
    },
    {
      "attachments": {},
      "cell_type": "markdown",
      "metadata": {},
      "source": [
        "### Settings"
      ]
    },
    {
      "cell_type": "code",
      "execution_count": 15,
      "metadata": {},
      "outputs": [
        {
          "data": {
            "text/plain": [
              "{'band 1': {'band_origin': 3,\n",
              "  'threshold': 5,\n",
              "  'nodata_meta': -999.999,\n",
              "  'nodata_used': 1.771},\n",
              " 'band 2': {'band_origin': 1,\n",
              "  'threshold': 1,\n",
              "  'nodata_meta': -999.999,\n",
              "  'nodata_used': 2.749},\n",
              " 'band 3': {'band_origin': 4,\n",
              "  'threshold': 0,\n",
              "  'nodata_meta': -999.999,\n",
              "  'nodata_used': -999.999}}"
            ]
          },
          "execution_count": 15,
          "metadata": {},
          "output_type": "execute_result"
        }
      ],
      "source": [
        "settings"
      ]
    },
    {
      "attachments": {},
      "cell_type": "markdown",
      "metadata": {},
      "source": [
        "# Logarithm"
      ]
    },
    {
      "attachments": {},
      "cell_type": "markdown",
      "metadata": {},
      "source": [
        "### Method <code>replace</code> and selection <code>None</code> (all bands)"
      ]
    },
    {
      "cell_type": "code",
      "execution_count": 16,
      "metadata": {},
      "outputs": [],
      "source": [
        "image, meta, settings = logarithmic.log_transform(in_data=test_image, selection=None, base=[2], nodata=None, method=\"replace\")\n"
      ]
    },
    {
      "cell_type": "markdown",
      "metadata": {},
      "source": [
        "# Winsorize"
      ]
    },
    {
      "cell_type": "markdown",
      "metadata": {},
      "source": [
        "## Test functions"
      ]
    },
    {
      "cell_type": "code",
      "execution_count": 3,
      "metadata": {},
      "outputs": [],
      "source": [
        "# Print some stats\n",
        "def trans_winsorize_basic_stats(image):\n",
        "  print(f\"number of bands: {image.shape[0]}\\n-------------------\")\n",
        "  for i in range(0, image.shape[0]):\n",
        "    print(f\"min band {i+1}: {np.min(image[i])}\")\n",
        "    print(f\"max band {i+1}: {np.max(image[i])}\")\n",
        "    print(f\"mean band {i+1}: {np.mean(image[i])}\")\n",
        "    print(f\"std band {i+1}: {np.std(image[i])}\\n\")\n",
        "  \n",
        "# Print some stats when nan values are incoorprated. Only for test arrays with np.nan-values\n",
        "def trans_winsorize_basic_stats_nan(image):\n",
        "  print(f\"number of bands: {image.shape[0]}\\n-------------------\")\n",
        "  for i in range(0, image.shape[0]):\n",
        "    print(f\"min band {i+1}: {np.nanmin(image[i])}\")\n",
        "    print(f\"max band {i+1}: {np.nanmax(image[i])}\")\n",
        "    print(f\"mean band {i+1}: {np.nanmean(image[i])}\")\n",
        "    print(f\"std band {i+1}: {np.nanstd(image[i])}\\n\")\n",
        "\n",
        "def test(function=None, raise_error=False):\n",
        "  if function is not None and raise_error==True:\n",
        "    return function"
      ]
    },
    {
      "cell_type": "markdown",
      "metadata": {},
      "source": [
        "## Exceptions"
      ]
    },
    {
      "attachments": {},
      "cell_type": "markdown",
      "metadata": {},
      "source": [
        "### Fixed values"
      ]
    },
    {
      "cell_type": "code",
      "execution_count": 4,
      "metadata": {},
      "outputs": [],
      "source": [
        "raise_error = False"
      ]
    },
    {
      "cell_type": "code",
      "execution_count": null,
      "metadata": {},
      "outputs": [],
      "source": [
        "# Exceptions (limits = None)\n",
        "image_trans, image_meta = test(winsorize.winsorize_absolute_values(in_data=image_small, limit_min=None, limit_max=None, replace_lower=3, replace_upper=6, nan_value=None, nan_value_ignore=False),\n",
        "                               raise_error=raise_error)"
      ]
    },
    {
      "cell_type": "code",
      "execution_count": null,
      "metadata": {},
      "outputs": [],
      "source": [
        "# Exceptions (limit_min > limit_max)\n",
        "image_trans, image_meta = test(winsorize.winsorize_absolute_values(in_data=image_small, limit_min=6, limit_max=3, replace_lower=3, replace_upper=6, nan_value=None, nan_value_ignore=False),\n",
        "                               raise_error=raise_error)"
      ]
    },
    {
      "cell_type": "code",
      "execution_count": null,
      "metadata": {},
      "outputs": [],
      "source": [
        "# Exceptions (bands not a list)\n",
        "image_trans, image_meta = test(winsorize.winsorize_absolute_values(in_data=image_small, bands=1, limit_min=None, limit_max=None, replace_lower=3, replace_upper=6, nan_value=None, nan_value_ignore=False),\n",
        "                               raise_error=raise_error)"
      ]
    },
    {
      "cell_type": "code",
      "execution_count": null,
      "metadata": {},
      "outputs": [],
      "source": [
        "# Exceptions (band number not int)\n",
        "image_trans, image_meta = test(winsorize.winsorize_absolute_values(in_data=image_small, bands=[1.6], limit_min=None, limit_max=None, replace_lower=3, replace_upper=6, nan_value=None, nan_value_ignore=False),\n",
        "                               raise_error=raise_error)"
      ]
    },
    {
      "cell_type": "code",
      "execution_count": null,
      "metadata": {},
      "outputs": [],
      "source": [
        "# Exceptions (wrong band number)\n",
        "image_trans, image_meta = test(winsorize.winsorize_absolute_values(in_data=image_small, bands=[1, 8], limit_min=None, limit_max=None, replace_lower=3, replace_upper=6, nan_value=None, nan_value_ignore=False),\n",
        "                               raise_error=raise_error)"
      ]
    },
    {
      "attachments": {},
      "cell_type": "markdown",
      "metadata": {},
      "source": [
        "### Percentile values"
      ]
    },
    {
      "cell_type": "code",
      "execution_count": null,
      "metadata": {},
      "outputs": [],
      "source": [
        "raise_error = False"
      ]
    },
    {
      "cell_type": "code",
      "execution_count": null,
      "metadata": {},
      "outputs": [],
      "source": [
        "# Exceptions (limits = None)\n",
        "image_trans, image_dict, image_meta = test(winsorize.winsorize_percentile_values(in_data=image_small, limit_min=None, limit_max=None), raise_error=raise_error)"
      ]
    },
    {
      "cell_type": "code",
      "execution_count": null,
      "metadata": {},
      "outputs": [],
      "source": [
        "# Exceptions (limit_min > limit_max)\n",
        "image_trans, image_dict, image_meta = test(winsorize.winsorize_percentile_values(in_data=image_small, limit_min=50, limit_max=10),raise_error=raise_error)"
      ]
    },
    {
      "cell_type": "code",
      "execution_count": 9,
      "metadata": {},
      "outputs": [],
      "source": [
        "# Exceptions (limits in wrong range: 0-100)\n",
        "image_trans, image_dict, image_meta = test(winsorize.winsorize_percentile_values(in_data=image_small, limit_min=-5, limit_max=15), raise_error=raise_error)"
      ]
    },
    {
      "cell_type": "code",
      "execution_count": null,
      "metadata": {},
      "outputs": [],
      "source": [
        "# Exceptions (limits in wrong range: 0-100)\n",
        "image_trans, image_dict, image_meta = test(winsorize.winsorize_percentile_values(in_data=image_small, limit_min=80, limit_max=40), raise_error=raise_error)"
      ]
    },
    {
      "cell_type": "code",
      "execution_count": null,
      "metadata": {},
      "outputs": [],
      "source": [
        "# Exceptions (limits = 0)\n",
        "image_trans, image_dict, image_meta = test(winsorize.winsorize_percentile_values(in_data=image_small, limit_min=None, limit_max=0), raise_error=raise_error)"
      ]
    },
    {
      "cell_type": "markdown",
      "metadata": {},
      "source": [
        "## No-Data-Values\n",
        "\n",
        "1. Ignore nan-values, so that it will be processed like a real value (will be replaced by given value)\n",
        "2. Take nan-value from input meta data (no replacement of nan-value)\n",
        "3. Overwrite meta data nodata value with user-defined value"
      ]
    },
    {
      "cell_type": "code",
      "execution_count": null,
      "metadata": {},
      "outputs": [],
      "source": [
        "# Ignore nan-value\n",
        "image_trans, image_meta = winsorize.winsorize_absolute_values_raster(in_data=image_small_nan, limit_min=4, limit_max=5, replace_lower=4, replace_upper=5, nan_value_handling=\"blob\")\n",
        "print(f\"no-data value (metadata): \", image_small_nan.nodata, \"\\n\")\n",
        "trans_winsorize_basic_stats(image_trans)\n",
        "trans_winsorize_basic_stats_nan(image_trans)\n",
        "\n",
        "# Works since stats are lower than those with nan_value_ignore=False (-999.0 was set to 4)"
      ]
    },
    {
      "cell_type": "code",
      "execution_count": 7,
      "metadata": {},
      "outputs": [
        {
          "data": {
            "text/plain": [
              "array([[[nan, nan, nan, ..., nan, nan, nan],\n",
              "        [nan, nan, nan, ..., nan, nan, nan],\n",
              "        [nan, nan, nan, ..., nan, nan, nan],\n",
              "        ...,\n",
              "        [nan, nan, nan, ...,  5.,  5.,  5.],\n",
              "        [nan, nan, nan, ...,  5.,  5.,  5.],\n",
              "        [nan, nan, nan, ...,  5.,  5.,  5.]]], dtype=float32)"
            ]
          },
          "execution_count": 7,
          "metadata": {},
          "output_type": "execute_result"
        }
      ],
      "source": [
        "image_trans"
      ]
    },
    {
      "cell_type": "code",
      "execution_count": 6,
      "metadata": {},
      "outputs": [
        {
          "name": "stdout",
          "output_type": "stream",
          "text": [
            "no-data valu (metadata):  -999.0 \n",
            "\n",
            "number of bands: 1\n",
            "-------------------\n",
            "min band 1: -999.0\n",
            "max band 1: 5.995999813079834\n",
            "mean band 1: -471.1231994628906\n",
            "std band 1: 501.486083984375\n",
            "\n"
          ]
        }
      ],
      "source": [
        "# Nan with specific value from export, read from metadata\n",
        "image_trans, image_meta = winsorize.winsorize_absolute_values(in_data=image_small_nan, limit_min=4, limit_max=6, replace_lower=4, replace_upper=5, nan_value=None)\n",
        "print(f\"no-data valu (metadata): \", image_small_nan.nodata, \"\\n\")\n",
        "trans_winsorize_basic_stats(image_trans)\n",
        "\n",
        "# Works, since the function returns an array with nodata-values on nodata-value locations"
      ]
    },
    {
      "cell_type": "code",
      "execution_count": 7,
      "metadata": {},
      "outputs": [
        {
          "name": "stdout",
          "output_type": "stream",
          "text": [
            "no-data value (metadata):  -999.0 \n",
            "\n",
            "number of bands: 1\n",
            "-------------------\n",
            "min band 1: 4.0\n",
            "max band 1: 8.760000228881836\n",
            "mean band 1: 4.684638500213623\n",
            "std band 1: 0.7096104025840759\n",
            "\n"
          ]
        }
      ],
      "source": [
        "# Nan with user-input value, overwriting the exiting metadata value\n",
        "image_trans, image_meta = winsorize.winsorize_absolute_values(in_data=image_small_nan, limit_min=4, limit_max=6, replace_lower=4, replace_upper=5, nan_value=8.76)\n",
        "print(f\"no-data value (metadata): \", image_small_nan.nodata, \"\\n\")\n",
        "trans_winsorize_basic_stats_nan(image_trans)\n",
        "\n",
        "# Works, since the function returns an array with transformed values on nodata locations from metadata value.\n",
        "# Checked without overwriting the np.nan value, so that the array contains np.nan instead of 8.76."
      ]
    },
    {
      "cell_type": "markdown",
      "metadata": {},
      "source": [
        "## Fixed values"
      ]
    },
    {
      "cell_type": "code",
      "execution_count": 8,
      "metadata": {},
      "outputs": [
        {
          "name": "stdout",
          "output_type": "stream",
          "text": [
            "number of bands: 1\n",
            "-------------------\n",
            "min band 1: 4.0\n",
            "max band 1: 5.0\n",
            "mean band 1: 4.616246118012422\n",
            "std band 1: 0.46237553972553846\n",
            "\n"
          ]
        }
      ],
      "source": [
        "# Singe-band\n",
        "image_trans, image_meta = winsorize.winsorize_absolute_values(in_data=image_small, limit_min=4, limit_max=5, replace_lower=4, replace_upper=5)\n",
        "trans_winsorize_basic_stats(image_trans)"
      ]
    },
    {
      "cell_type": "code",
      "execution_count": 9,
      "metadata": {},
      "outputs": [
        {
          "name": "stdout",
          "output_type": "stream",
          "text": [
            "number of bands: 4\n",
            "-------------------\n",
            "min band 1: 3.0\n",
            "max band 1: 6.0\n",
            "mean band 1: 3.730537267080745\n",
            "std band 1: 1.2343139946670947\n",
            "\n",
            "min band 2: 3.0\n",
            "max band 2: 6.0\n",
            "mean band 2: 3.502313664596273\n",
            "std band 2: 1.1045719208465312\n",
            "\n",
            "min band 3: 3.0\n",
            "max band 3: 6.0\n",
            "mean band 3: 3.398190605590062\n",
            "std band 3: 0.9736643749205292\n",
            "\n",
            "min band 4: 3.0\n",
            "max band 4: 5.67\n",
            "mean band 4: 3.0420566770186332\n",
            "std band 4: 0.30286958822395055\n",
            "\n"
          ]
        }
      ],
      "source": [
        "# Multi-band (all)\n",
        "image_trans, image_meta = winsorize.winsorize_absolute_values(in_data=image_mb, limit_min=5, limit_max=6, replace_lower=3, replace_upper=6)\n",
        "trans_winsorize_basic_stats(image_trans)"
      ]
    },
    {
      "cell_type": "code",
      "execution_count": 10,
      "metadata": {},
      "outputs": [
        {
          "name": "stdout",
          "output_type": "stream",
          "text": [
            "number of bands: 2\n",
            "-------------------\n",
            "min band 1: 3.0\n",
            "max band 1: 6.0\n",
            "mean band 1: 3.730537267080745\n",
            "std band 1: 1.2343139946670947\n",
            "\n",
            "min band 2: 3.0\n",
            "max band 2: 6.0\n",
            "mean band 2: 3.398190605590062\n",
            "std band 2: 0.9736643749205292\n",
            "\n"
          ]
        }
      ],
      "source": [
        "# Multi-band (selection)\n",
        "image_trans, image_meta = winsorize.winsorize_absolute_values(in_data=image_mb, bands=[1, 3], limit_min=5, limit_max=6, replace_lower=3, replace_upper=6)\n",
        "trans_winsorize_basic_stats(image_trans)"
      ]
    },
    {
      "cell_type": "markdown",
      "metadata": {},
      "source": [
        "## Percentile values"
      ]
    },
    {
      "attachments": {},
      "cell_type": "markdown",
      "metadata": {},
      "source": [
        "# Linear"
      ]
    },
    {
      "cell_type": "markdown",
      "metadata": {},
      "source": [
        "# Sigmoid"
      ]
    }
  ],
  "metadata": {
    "kernelspec": {
      "display_name": "Python 3.10.6 ('eis-toolkit-QEzTY9B6-py3.10')",
      "language": "python",
      "name": "python3"
    },
    "language_info": {
      "codemirror_mode": {
        "name": "ipython",
        "version": 3
      },
      "file_extension": ".py",
      "mimetype": "text/x-python",
      "name": "python",
      "nbconvert_exporter": "python",
      "pygments_lexer": "ipython3",
      "version": "3.10.6"
    },
    "orig_nbformat": 4,
    "vscode": {
      "interpreter": {
        "hash": "e687a3848d69dbf0c9bd2caf808aa15218d0c5189b12d461f81037b93c705be1"
      }
    }
  },
  "nbformat": 4,
  "nbformat_minor": 2
}

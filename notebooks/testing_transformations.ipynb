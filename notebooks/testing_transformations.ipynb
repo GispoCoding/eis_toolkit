{
 "cells": [
  {
   "cell_type": "markdown",
   "metadata": {},
   "source": [
    "# Data and preparation"
   ]
  },
  {
   "cell_type": "code",
   "execution_count": 1,
   "metadata": {},
   "outputs": [],
   "source": [
    "# Modules\n",
    "import numpy as np\n",
    "import rasterio\n",
    "import sys\n",
    "\n",
    "sys.path.insert(0, \"..\")\n",
    "from eis_toolkit.exceptions import NumericValueSignException, InvalidParameterValueException, InvalidInputDataException\n",
    "from eis_toolkit.transformations import binarize, logarithmic, linear, sigmoid, winsorize\n",
    "\n",
    "# Supress scientific notation\n",
    "np.set_printoptions(suppress=True)\n"
   ]
  },
  {
   "cell_type": "code",
   "execution_count": 2,
   "metadata": {},
   "outputs": [],
   "source": [
    "# Raster data\n",
    "image_small_mb4 = rasterio.open(\"/eis_toolkit/tests/data/remote/small_raster_multiband.tif\")                      # multiband raster with 4 bands\n"
   ]
  },
  {
   "cell_type": "markdown",
   "metadata": {},
   "source": [
    "# General\n",
    "## Raster data\n",
    "- Testing on raster **with** nan-value in meta data\n",
    "- Testing on raster **without** nan-values in meta data\n",
    "- Testing **multi-band**-support\n",
    "\n",
    "## DataFrames\n",
    "- Core functions will be the same as for raster data, so that only the \"branching\" needs to be tested"
   ]
  },
  {
   "cell_type": "markdown",
   "metadata": {},
   "source": [
    "## General exceptions\n",
    "Set <code>raise_exception = True</code> for **test** and **debugging** only"
   ]
  },
  {
   "cell_type": "markdown",
   "metadata": {},
   "source": [
    "### Raster data"
   ]
  },
  {
   "cell_type": "code",
   "execution_count": 3,
   "metadata": {},
   "outputs": [],
   "source": [
    "test_image = image_small_mb4"
   ]
  },
  {
   "cell_type": "code",
   "execution_count": 4,
   "metadata": {},
   "outputs": [],
   "source": [
    "raise_exception = False"
   ]
  },
  {
   "cell_type": "code",
   "execution_count": 5,
   "metadata": {},
   "outputs": [],
   "source": [
    "# Selection data type\n",
    "if raise_exception: binarize.binarize(in_data=test_image, selection=[\"e\"], thresholds=[2], nodata=None, method=\"replace\")"
   ]
  },
  {
   "cell_type": "code",
   "execution_count": 6,
   "metadata": {},
   "outputs": [],
   "source": [
    "# Selection data type\n",
    "if raise_exception: binarize.binarize(in_data=test_image, selection=[1.2], thresholds=[2], nodata=None, method=\"replace\")"
   ]
  },
  {
   "cell_type": "code",
   "execution_count": 7,
   "metadata": {},
   "outputs": [],
   "source": [
    "# Selection is zero\n",
    "if raise_exception: binarize.binarize(in_data=test_image, selection=[0], thresholds=[2], nodata=None, method=\"replace\")\n"
   ]
  },
  {
   "cell_type": "code",
   "execution_count": 8,
   "metadata": {},
   "outputs": [],
   "source": [
    "# Selection same values (not unique)\n",
    "if raise_exception: binarize.binarize(in_data=test_image, selection=[1, 1], thresholds=[2], nodata=None, method=\"replace\")\n"
   ]
  },
  {
   "cell_type": "code",
   "execution_count": 9,
   "metadata": {},
   "outputs": [],
   "source": [
    "# Selection length\n",
    "if raise_exception: binarize.binarize(in_data=test_image, selection=[1, 2, 3, 4, 5], thresholds=[2], nodata=None, method=\"replace\")"
   ]
  },
  {
   "cell_type": "code",
   "execution_count": 10,
   "metadata": {},
   "outputs": [],
   "source": [
    "# Output method\n",
    "if raise_exception: binarize.binarize(in_data=test_image, selection=[1], thresholds=[2], nodata=None, method=\"nothing\")\n"
   ]
  },
  {
   "cell_type": "code",
   "execution_count": 11,
   "metadata": {},
   "outputs": [],
   "source": [
    "# NoData length\n",
    "if raise_exception: binarize.binarize(in_data=test_image, selection=None, thresholds=[2], nodata=[1, 2], method=\"replace\")\n"
   ]
  },
  {
   "cell_type": "code",
   "execution_count": 12,
   "metadata": {},
   "outputs": [],
   "source": [
    "# NoData length\n",
    "if raise_exception: binarize.binarize(in_data=test_image, selection=[1, 2], thresholds=[2], nodata=[1, 2, 3], method=\"replace\")\n"
   ]
  },
  {
   "cell_type": "markdown",
   "metadata": {
    "jp-MarkdownHeadingCollapsed": true,
    "tags": [],
    "toc-hr-collapsed": true
   },
   "source": [
    "# Binarize\n",
    "## Info\n",
    "- sets values <code><\\= threshold</code> to **0** and <code>> threshold</code> to **1**\n",
    "- **NoData** -values will be ignored during transformation (values will be kept in the result)\n",
    "\n",
    "## Arguments\n",
    "- selection: bands can be **None** or a list of **int**, **float**, **None** values\n",
    "- thresholds: a list of **int** or **float** values\n",
    "- nodata: either **None** or a list of **int** and **float**\n",
    "- method: kind of output of the transformed data, either overwriting the existing ones (\"**replace**\") or extraction of selected bands (\"**extract**\")\n",
    "\n"
   ]
  },
  {
   "cell_type": "markdown",
   "metadata": {},
   "source": [
    "## Data"
   ]
  },
  {
   "cell_type": "code",
   "execution_count": 13,
   "metadata": {},
   "outputs": [],
   "source": [
    "test_image = image_small_mb4\n"
   ]
  },
  {
   "cell_type": "markdown",
   "metadata": {
    "tags": []
   },
   "source": [
    "## Exceptions\n",
    "Set <code>raise_exception = True</code> for **test** and **debugging** only"
   ]
  },
  {
   "cell_type": "code",
   "execution_count": 14,
   "metadata": {},
   "outputs": [],
   "source": [
    "raise_exception = False"
   ]
  },
  {
   "cell_type": "code",
   "execution_count": 15,
   "metadata": {},
   "outputs": [],
   "source": [
    "# Treshold length\n",
    "if raise_exception: binarize.binarize(in_data=test_image, selection=None, thresholds=[2, 3], nodata=None, method=\"replace\")\n"
   ]
  },
  {
   "cell_type": "code",
   "execution_count": 16,
   "metadata": {},
   "outputs": [],
   "source": [
    "# Treshold length\n",
    "if raise_exception: binarize.binarize(in_data=test_image, selection=[1], thresholds=[2, 3], nodata=None, method=\"replace\")\n"
   ]
  },
  {
   "cell_type": "code",
   "execution_count": 17,
   "metadata": {},
   "outputs": [],
   "source": [
    "# Treshold data type\n",
    "if raise_exception: binarize.binarize(in_data=test_image, selection=None, thresholds=[\"a\"], nodata=None, method=\"replace\")\n"
   ]
  },
  {
   "cell_type": "markdown",
   "metadata": {
    "tags": []
   },
   "source": [
    "## Examples"
   ]
  },
  {
   "cell_type": "markdown",
   "metadata": {},
   "source": [
    "### **Change** values **in place** \n",
    "**Overwrite existing** data for specific **bands**"
   ]
  },
  {
   "cell_type": "markdown",
   "metadata": {
    "tags": []
   },
   "source": [
    "#### **All** bands, **same** threshold, NoData **read-in**"
   ]
  },
  {
   "cell_type": "code",
   "execution_count": 18,
   "metadata": {},
   "outputs": [],
   "source": [
    "image, meta, settings = binarize.binarize(in_data=test_image, selection=None, thresholds=[2], nodata=None, method=\"replace\")\n"
   ]
  },
  {
   "cell_type": "markdown",
   "metadata": {},
   "source": [
    "#### **Single** band, **single** threshold, NoData **read-in**"
   ]
  },
  {
   "cell_type": "code",
   "execution_count": 19,
   "metadata": {},
   "outputs": [],
   "source": [
    "image, meta, settings = binarize.binarize(in_data=test_image, selection=[3], thresholds=[5], nodata=None, method=\"replace\")\n"
   ]
  },
  {
   "cell_type": "markdown",
   "metadata": {},
   "source": [
    "#### **Multi-** selection, **single** threshold, NoData **read-in**"
   ]
  },
  {
   "cell_type": "code",
   "execution_count": 20,
   "metadata": {},
   "outputs": [],
   "source": [
    "image, meta, settings = binarize.binarize(in_data=test_image, selection=[1, 3], thresholds=[2], nodata=None, method=\"replace\")\n"
   ]
  },
  {
   "cell_type": "markdown",
   "metadata": {},
   "source": [
    "#### **Multi-** selection, **multi-** treshold, NoData **read-in**"
   ]
  },
  {
   "cell_type": "code",
   "execution_count": 21,
   "metadata": {},
   "outputs": [],
   "source": [
    "image, meta, settings = binarize.binarize(in_data=test_image, selection=[1, 3, 4], thresholds=[2, 0, 1], nodata=None, method=\"replace\")\n"
   ]
  },
  {
   "cell_type": "markdown",
   "metadata": {},
   "source": [
    "#### **Multi-** selection, **multi-** treshold, **single** NoData"
   ]
  },
  {
   "cell_type": "code",
   "execution_count": 22,
   "metadata": {},
   "outputs": [],
   "source": [
    "image, meta, settings = binarize.binarize(in_data=test_image, selection=[1, 2, 3, 4], thresholds=[-5, -2, 2, 5], nodata=[-10], method=\"replace\")\n"
   ]
  },
  {
   "cell_type": "markdown",
   "metadata": {},
   "source": [
    "#### **Multi-** selection, **multi-** treshold, **multi-** NoData (**mixed**)\n",
    "NoData **specified** and **read-in**"
   ]
  },
  {
   "cell_type": "code",
   "execution_count": 23,
   "metadata": {},
   "outputs": [],
   "source": [
    "image, meta, settings = binarize.binarize(in_data=test_image, selection=[1, 2, 3, 4], thresholds=[-5, -2, 2, 5], nodata=[2.749, None, None, None], method=\"replace\")\n"
   ]
  },
  {
   "cell_type": "markdown",
   "metadata": {},
   "source": [
    "#### **Unordered multi-** selection, **multi-** threshold, **multi-** NoData\n",
    "**Unordered** band selection does **not** affect the order of the resulting output"
   ]
  },
  {
   "cell_type": "code",
   "execution_count": 24,
   "metadata": {},
   "outputs": [],
   "source": [
    "image, meta, settings = binarize.binarize(in_data=test_image, selection=[3, 1, 4], thresholds=[5, 2, 0], nodata=[1.771, 2.749, -0.766], method=\"replace\")\n"
   ]
  },
  {
   "cell_type": "markdown",
   "metadata": {},
   "source": [
    "### **Change** values and **extract** selected bands in **specified order** \n",
    "Works like the replace method, however, the result will **only contain** the transformation of the **specified** bands"
   ]
  },
  {
   "cell_type": "markdown",
   "metadata": {},
   "source": [
    "#### **Multi-** selection, **single** threshold, NoData **read-in**"
   ]
  },
  {
   "cell_type": "code",
   "execution_count": 25,
   "metadata": {},
   "outputs": [],
   "source": [
    "image, meta, settings = binarize.binarize(in_data=test_image, selection=[3, 1], thresholds=[5], nodata=None, method=\"extract\")\n"
   ]
  },
  {
   "cell_type": "markdown",
   "metadata": {},
   "source": [
    "#### **Unordered multi-** selection, **multi-** threshold, **multi-** NoData (**mixed**)\n",
    "NoData **specified** and **read-in** <br>\n",
    "**Unordered** band selection **does** affect the order of the resulting output\n",
    "\n",
    "Example:\n",
    "- in band 3 = out band 1, threshold 5, nodata 1.771\n",
    "- in band 1 = out band 2, threshold 1, nodata **read-in**\n",
    "- in band 4 = out band 3, threshold 2, nodata -0.766"
   ]
  },
  {
   "cell_type": "code",
   "execution_count": 26,
   "metadata": {},
   "outputs": [],
   "source": [
    "image, meta, settings = binarize.binarize(in_data=test_image, selection=[3, 1, 4], thresholds=[5, 1, 0], nodata=[1.771, None, -0.766], method=\"extract\")\n"
   ]
  },
  {
   "cell_type": "markdown",
   "metadata": {
    "jp-MarkdownHeadingCollapsed": true,
    "tags": [],
    "toc-hr-collapsed": true
   },
   "source": [
    "# Logarithmic\n",
    "## Info\n",
    "- transforms data into logarithmic space\n",
    "- **NoData** -values will be ignored during transformation (values will be kept in the result)\n",
    "- <code>values below or equal to 0 </code> will be handled like **NoData**\n",
    "- <code>Inf</code> -values will also be handled as **NoData**\n",
    "\n",
    "If such values occur and the method above does not suits the users needs, data have to be **cleaned in advance** to the transformation\n",
    "\n",
    "## Arguments\n",
    "- selection: bands can be **None** or a list of **int**, **float**, **None** values\n",
    "- base: a list containing either 2 or 10\n",
    "- nodata: either **None** or a list of **int** and **float**\n",
    "- method: kind of output of the transformed data, either overwriting the existing ones (\"**replace**\") or extraction of selected bands (\"**extract**\")\n"
   ]
  },
  {
   "cell_type": "markdown",
   "metadata": {},
   "source": [
    "## Data"
   ]
  },
  {
   "cell_type": "code",
   "execution_count": 28,
   "metadata": {},
   "outputs": [],
   "source": [
    "test_image = image_small_mb4"
   ]
  },
  {
   "cell_type": "markdown",
   "metadata": {
    "tags": []
   },
   "source": [
    "## Exceptions\n",
    "Set <code>raise_exception = True</code> for **test** and **debugging** only <br>\n",
    "Exceptions to test the inputs for the **selection** argument are contained in the *binarize* section"
   ]
  },
  {
   "cell_type": "code",
   "execution_count": 29,
   "metadata": {},
   "outputs": [],
   "source": [
    "raise_exception = False"
   ]
  },
  {
   "cell_type": "code",
   "execution_count": 30,
   "metadata": {},
   "outputs": [],
   "source": [
    "# Base length\n",
    "if raise_exception: logarithmic.log_transform(in_data=test_image, selection=None, base=[2, 2], nodata=None, method=\"replace\")\n"
   ]
  },
  {
   "cell_type": "code",
   "execution_count": 31,
   "metadata": {},
   "outputs": [],
   "source": [
    "# Base length\n",
    "if raise_exception: logarithmic.log_transform(in_data=test_image, selection=[1], base=[2, 2], nodata=None, method=\"replace\")\n"
   ]
  },
  {
   "cell_type": "code",
   "execution_count": 32,
   "metadata": {},
   "outputs": [],
   "source": [
    "# Base data type\n",
    "if raise_exception: logarithmic.log_transform(in_data=test_image, selection=None, base=[\"a\"], nodata=None, method=\"replace\")\n"
   ]
  },
  {
   "cell_type": "code",
   "execution_count": 33,
   "metadata": {},
   "outputs": [],
   "source": [
    "# Base value\n",
    "if raise_exception: logarithmic.log_transform(in_data=test_image, selection=None, base=[3], nodata=None, method=\"replace\")\n"
   ]
  },
  {
   "cell_type": "markdown",
   "metadata": {
    "tags": []
   },
   "source": [
    "## Examples"
   ]
  },
  {
   "cell_type": "markdown",
   "metadata": {},
   "source": [
    "### **Change** values **in place** \n",
    "**Overwrite existing** data for specific **bands**"
   ]
  },
  {
   "cell_type": "markdown",
   "metadata": {
    "tags": []
   },
   "source": [
    "#### **All** bands, **single** base, NoData **read-in**"
   ]
  },
  {
   "cell_type": "code",
   "execution_count": 34,
   "metadata": {},
   "outputs": [],
   "source": [
    "image, meta, settings = logarithmic.log_transform(in_data=test_image, selection=None, base=[2], nodata=None, method=\"replace\")\n"
   ]
  },
  {
   "cell_type": "markdown",
   "metadata": {},
   "source": [
    "#### **Single** band, **single** base, NoData **read-in**"
   ]
  },
  {
   "cell_type": "code",
   "execution_count": 35,
   "metadata": {},
   "outputs": [],
   "source": [
    "image, meta, settings = logarithmic.log_transform(in_data=test_image, selection=[3], base=[2], nodata=None, method=\"replace\")\n"
   ]
  },
  {
   "cell_type": "markdown",
   "metadata": {},
   "source": [
    "#### **Multi-** selection, **single** base, NoData **read-in**"
   ]
  },
  {
   "cell_type": "code",
   "execution_count": 36,
   "metadata": {},
   "outputs": [],
   "source": [
    "image, meta, settings = logarithmic.log_transform(in_data=test_image, selection=[1, 3], base=[2], nodata=None, method=\"replace\")\n"
   ]
  },
  {
   "cell_type": "markdown",
   "metadata": {},
   "source": [
    "#### **Multi-** selection, **multi-** base, NoData **read-in**"
   ]
  },
  {
   "cell_type": "code",
   "execution_count": 37,
   "metadata": {},
   "outputs": [],
   "source": [
    "image, meta, settings = logarithmic.log_transform(in_data=test_image, selection=[1, 3, 4], base=[2, 10, 2], nodata=None, method=\"replace\")\n"
   ]
  },
  {
   "cell_type": "markdown",
   "metadata": {},
   "source": [
    "#### **Multi-** selection, **multi-** base, **single** NoData"
   ]
  },
  {
   "cell_type": "code",
   "execution_count": 38,
   "metadata": {},
   "outputs": [],
   "source": [
    "image, meta, settings = logarithmic.log_transform(in_data=test_image, selection=[1, 2, 3, 4], base=[2, 2, 10, 10], nodata=[-10], method=\"replace\")\n"
   ]
  },
  {
   "cell_type": "markdown",
   "metadata": {},
   "source": [
    "#### **Multi-** selection, **multi-** base, **multi-** NoData (**mixed**)\n",
    "NoData **specified** and **read-in**"
   ]
  },
  {
   "cell_type": "code",
   "execution_count": 39,
   "metadata": {},
   "outputs": [],
   "source": [
    "image, meta, settings = logarithmic.log_transform(in_data=test_image, selection=[1, 2, 3, 4], base=[2, 2, 10, 10], nodata=[2.749, None, None, None], method=\"replace\")\n"
   ]
  },
  {
   "cell_type": "markdown",
   "metadata": {},
   "source": [
    "#### **Unordered multi-** selection, **multi-** base, **multi-** NoData\n",
    "**Unordered** band selection does **not** affect the order of the resulting output"
   ]
  },
  {
   "cell_type": "code",
   "execution_count": 40,
   "metadata": {},
   "outputs": [],
   "source": [
    "image, meta, settings = logarithmic.log_transform(in_data=test_image, selection=[3, 1, 4], base=[2, 2, 10], nodata=[1.771, 2.749, -0.766], method=\"replace\")\n"
   ]
  },
  {
   "cell_type": "markdown",
   "metadata": {},
   "source": [
    "### **Change** values and **extract** selected bands in **specified order** \n",
    "Works like the replace method, however, the result will **only contain** the transformation of the **specified** bands"
   ]
  },
  {
   "cell_type": "markdown",
   "metadata": {},
   "source": [
    "#### **Multi-** selection, **single** base, NoData **read-in**"
   ]
  },
  {
   "cell_type": "code",
   "execution_count": 41,
   "metadata": {},
   "outputs": [],
   "source": [
    "image, meta, settings = logarithmic.log_transform(in_data=test_image, selection=[3, 1], base=[10], nodata=None, method=\"extract\")\n"
   ]
  },
  {
   "cell_type": "markdown",
   "metadata": {},
   "source": [
    "#### **Unordered multi-** selection, **multi-** base, **multi-** NoData (**mixed**)\n",
    "NoData **specified** and **read-in** <br>\n",
    "**Unordered** band selection **does** affect the order of the resulting output\n",
    "\n",
    "Example:\n",
    "- in band 3 = out band 1, base 2, nodata 1.771\n",
    "- in band 1 = out band 2, base 2, nodata **read-in**\n",
    "- in band 4 = out band 3, base 10, nodata -0.766"
   ]
  },
  {
   "cell_type": "code",
   "execution_count": 42,
   "metadata": {},
   "outputs": [],
   "source": [
    "image, meta, settings = logarithmic.log_transform(in_data=test_image, selection=[3, 1, 4], base=[2, 2, 10], nodata=[1.771, None, -0.766], method=\"extract\")\n"
   ]
  },
  {
   "cell_type": "markdown",
   "metadata": {
    "jp-MarkdownHeadingCollapsed": true,
    "tags": [],
    "toc-hr-collapsed": true
   },
   "source": [
    "# Linear"
   ]
  },
  {
   "cell_type": "markdown",
   "metadata": {
    "jp-MarkdownHeadingCollapsed": true,
    "tags": [],
    "toc-hr-collapsed": true
   },
   "source": [
    "## Z-score normalization\n",
    "### Info\n",
    "- appies z-score normalization (transforms data based on **mean** and **standard deviation**)\n",
    "- **NoData** -values will be ignored during transformation (values will be kept in the result)\n",
    "- <code>Inf</code> -values will be handled as **NoData**\n",
    "\n",
    "If such values occur and the method above does not suits the users needs, data have to be **cleaned in advance** to the transformation\n",
    "\n",
    "### Arguments\n",
    "- selection: bands can be **None** or a list of **int**, **float**, **None** values\n",
    "- with_mean: using the **data mean** if **True**, **else** set mean to **zero** (default set to **True**)\n",
    "- with_sd: using the **data sd** if **True**, **else** set standard deviation to **1** (default set to **True**)\n",
    "- nodata: either **None** or a list of **int** and **float**\n",
    "- method: kind of output of the transformed data, either overwriting the existing ones (\"**replace**\") or extraction of selected bands (\"**extract**\")"
   ]
  },
  {
   "cell_type": "markdown",
   "metadata": {},
   "source": [
    "### Exceptions"
   ]
  },
  {
   "cell_type": "code",
   "execution_count": 44,
   "metadata": {},
   "outputs": [],
   "source": [
    "raise_exception = False"
   ]
  },
  {
   "cell_type": "code",
   "execution_count": 45,
   "metadata": {},
   "outputs": [],
   "source": [
    "# with_mean length\n",
    "if raise_exception: image, meta, settings = linear.z_score_norm(in_data=test_image, selection=None, with_mean=[True, False], with_sd=[True], nodata=None, method=\"replace\")\n"
   ]
  },
  {
   "cell_type": "code",
   "execution_count": 46,
   "metadata": {},
   "outputs": [],
   "source": [
    "# with_sd length\n",
    "if raise_exception: image, meta, settings = linear.z_score_norm(in_data=test_image, selection=None, with_mean=[True], with_sd=[True, False], nodata=None, method=\"replace\")\n"
   ]
  },
  {
   "cell_type": "code",
   "execution_count": 47,
   "metadata": {},
   "outputs": [],
   "source": [
    "# with_mean/sd length\n",
    "if raise_exception: image, meta, settings = linear.z_score_norm(in_data=test_image, selection=[1, 2, 3], with_mean=[True, False], with_sd=[True, False], nodata=None, method=\"replace\")\n"
   ]
  },
  {
   "cell_type": "code",
   "execution_count": 48,
   "metadata": {},
   "outputs": [],
   "source": [
    "# with_mean data type\n",
    "if raise_exception: image, meta, settings = linear.z_score_norm(in_data=test_image, selection=None, with_mean=[\"a\"], with_sd=[True], nodata=None, method=\"replace\")\n"
   ]
  },
  {
   "cell_type": "code",
   "execution_count": 49,
   "metadata": {},
   "outputs": [],
   "source": [
    "# with_sd data type\n",
    "if raise_exception: image, meta, settings = linear.z_score_norm(in_data=test_image, selection=None, with_mean=[True], with_sd=[1], nodata=None, method=\"replace\")\n"
   ]
  },
  {
   "cell_type": "markdown",
   "metadata": {},
   "source": [
    "### Examples"
   ]
  },
  {
   "cell_type": "markdown",
   "metadata": {},
   "source": [
    "#### **Change** values **in place** \n",
    "**Overwrite existing** data for specific **bands**"
   ]
  },
  {
   "cell_type": "markdown",
   "metadata": {
    "tags": []
   },
   "source": [
    "##### **All** bands, **single** mean/sd, NoData **read-in**"
   ]
  },
  {
   "cell_type": "code",
   "execution_count": 50,
   "metadata": {},
   "outputs": [],
   "source": [
    "image, meta, settings = linear.z_score_norm(in_data=test_image, selection=None, with_mean=[True], with_sd=[True], nodata=None, method=\"replace\")\n"
   ]
  },
  {
   "cell_type": "markdown",
   "metadata": {},
   "source": [
    "##### **Single** band, **single** mean/sd, NoData **read-in**"
   ]
  },
  {
   "cell_type": "code",
   "execution_count": 51,
   "metadata": {},
   "outputs": [],
   "source": [
    "image, meta, settings = linear.z_score_norm(in_data=test_image, selection=[1], with_mean=[True], with_sd=[True], nodata=None, method=\"replace\")\n"
   ]
  },
  {
   "cell_type": "markdown",
   "metadata": {},
   "source": [
    "##### **Multi-** selection, **single** mean/sd, NoData **read-in**"
   ]
  },
  {
   "cell_type": "code",
   "execution_count": 52,
   "metadata": {},
   "outputs": [],
   "source": [
    "image, meta, settings = linear.z_score_norm(in_data=test_image, selection=[1, 3], with_mean=[True], with_sd=[True], nodata=None, method=\"replace\")\n"
   ]
  },
  {
   "cell_type": "markdown",
   "metadata": {},
   "source": [
    "##### **Multi-** selection, **multi-** mean/sd, NoData **read-in**"
   ]
  },
  {
   "cell_type": "code",
   "execution_count": 53,
   "metadata": {},
   "outputs": [],
   "source": [
    "image, meta, settings = linear.z_score_norm(in_data=test_image, selection=[1, 3, 4], with_mean=[True, True, False], with_sd=[True, True, False], nodata=None, method=\"replace\")\n"
   ]
  },
  {
   "cell_type": "markdown",
   "metadata": {},
   "source": [
    "##### **Multi-** selection, **multi-** mean and **single** sd, NoData **read-in**"
   ]
  },
  {
   "cell_type": "code",
   "execution_count": 54,
   "metadata": {},
   "outputs": [],
   "source": [
    "image, meta, settings = linear.z_score_norm(in_data=test_image, selection=[1, 3, 4], with_mean=[True, True, False], with_sd=[True], nodata=None, method=\"replace\")\n"
   ]
  },
  {
   "cell_type": "markdown",
   "metadata": {},
   "source": [
    "##### **Multi-** selection, **single** mean and **multi-** sd, NoData **read-in**"
   ]
  },
  {
   "cell_type": "code",
   "execution_count": 55,
   "metadata": {},
   "outputs": [],
   "source": [
    "image, meta, settings = linear.z_score_norm(in_data=test_image, selection=[1, 3, 4], with_mean=[True], with_sd=[True, True, False], nodata=None, method=\"replace\")\n"
   ]
  },
  {
   "cell_type": "markdown",
   "metadata": {},
   "source": [
    "##### **Multi-** selection, **multi-** mean/sd (not symmetric), **single** NoData"
   ]
  },
  {
   "cell_type": "code",
   "execution_count": 56,
   "metadata": {},
   "outputs": [],
   "source": [
    "image, meta, settings = linear.z_score_norm(in_data=test_image, selection=[1, 2, 3, 4], with_mean=[True, False, True, False], with_sd=[False, True, False, True], nodata=[-10], method=\"replace\")\n"
   ]
  },
  {
   "cell_type": "markdown",
   "metadata": {},
   "source": [
    "##### **Multi-** selection, **multi-** mean/sd, **multi-** NoData (**mixed**)\n",
    "NoData **specified** and **read-in**"
   ]
  },
  {
   "cell_type": "code",
   "execution_count": 57,
   "metadata": {},
   "outputs": [],
   "source": [
    "image, meta, settings = linear.z_score_norm(in_data=test_image, selection=[1, 2, 3, 4], with_mean=[True, True, False, False], with_sd=[True, True, False, False], nodata=[2.749, None, None, None], method=\"replace\")\n"
   ]
  },
  {
   "cell_type": "markdown",
   "metadata": {},
   "source": [
    "##### **Unordered multi-** selection, **multi-** mean/sd, **multi-** NoData\n",
    "**Unordered** band selection does **not** affect the order of the resulting output"
   ]
  },
  {
   "cell_type": "code",
   "execution_count": 58,
   "metadata": {},
   "outputs": [],
   "source": [
    "image, meta, settings = linear.z_score_norm(in_data=test_image, selection=[3, 1, 4], with_mean=[True, True, False], with_sd=[True, True, False], nodata=[1.771, 2.749, -0.766], method=\"replace\")\n"
   ]
  },
  {
   "cell_type": "markdown",
   "metadata": {},
   "source": [
    "#### **Change** values and **extract** selected bands in **specified order** \n",
    "Works like the replace method, however, the result will **only contain** the transformation of the **specified** bands"
   ]
  },
  {
   "cell_type": "markdown",
   "metadata": {},
   "source": [
    "##### **Multi-** selection, **single** mean/sd, NoData **read-in**"
   ]
  },
  {
   "cell_type": "code",
   "execution_count": 59,
   "metadata": {},
   "outputs": [],
   "source": [
    "image, meta, settings = linear.z_score_norm(in_data=test_image, selection=[3, 1], with_mean=[True], with_sd=[True], nodata=None, method=\"extract\")\n"
   ]
  },
  {
   "cell_type": "markdown",
   "metadata": {},
   "source": [
    "##### **Unordered multi-** selection, **multi-** mean/sd, **multi-** NoData (**mixed**)\n",
    "NoData **specified** and **read-in** <br>\n",
    "**Unordered** band selection **does** affect the order of the resulting output\n",
    "\n",
    "Example:\n",
    "- in band 3 = out band 1, mean/sd True, nodata 1.771\n",
    "- in band 1 = out band 2, mean/sd True, nodata **read-in**\n",
    "- in band 4 = out band 3, mean/sd False, nodata -0.766"
   ]
  },
  {
   "cell_type": "code",
   "execution_count": 60,
   "metadata": {},
   "outputs": [],
   "source": [
    "image, meta, settings = linear.z_score_norm(in_data=test_image, selection=[3, 1, 4], with_mean=[True, True, False], with_sd=[True, True, False], nodata=[1.771, None, -0.766], method=\"extract\")\n"
   ]
  },
  {
   "cell_type": "markdown",
   "metadata": {
    "jp-MarkdownHeadingCollapsed": true,
    "tags": []
   },
   "source": [
    "## Min-max-scaling\n",
    "### Info\n",
    "- transforms data into a new specified value-range\n",
    "- **NoData** -values will be ignored during transformation (values will be kept in the result)\n",
    "- <code>Inf</code> -values will be handled as **NoData**\n",
    "\n",
    "If such values occur and the method above does not suits the users needs, data have to be **cleaned in advance** to the transformation\n",
    "\n",
    "### Arguments\n",
    "- selection: bands can be **None** or a list of **int**, **float**, **None** values\n",
    "- new_range: tuple containing the desired new minimum and maximum\n",
    "    - defaults **(0, 1)**\n",
    "    - order must be <code>(min, max)</code>\n",
    "    - <code>min < max</code> required\n",
    "- nodata: either **None** or a list of **int** and **float**\n",
    "- method: kind of output of the transformed data, either overwriting the existing ones (\"**replace**\") or extraction of selected bands (\"**extract**\")"
   ]
  },
  {
   "cell_type": "markdown",
   "metadata": {},
   "source": [
    "### Exceptions"
   ]
  },
  {
   "cell_type": "code",
   "execution_count": 62,
   "metadata": {},
   "outputs": [],
   "source": [
    "raise_exception = False"
   ]
  },
  {
   "cell_type": "code",
   "execution_count": 63,
   "metadata": {},
   "outputs": [],
   "source": [
    "# new_range length\n",
    "if raise_exception: image, meta, settings = linear.minmax_scaling(in_data=test_image, selection=None, new_range=[(0, 1), (0, 1)], nodata=None, method=\"replace\")\n"
   ]
  },
  {
   "cell_type": "code",
   "execution_count": 64,
   "metadata": {},
   "outputs": [],
   "source": [
    "# new_range data type\n",
    "if raise_exception: image, meta, settings = linear.minmax_scaling(in_data=test_image, selection=None, new_range=[(\"a\", 1)], nodata=None, method=\"replace\")\n"
   ]
  },
  {
   "cell_type": "code",
   "execution_count": 65,
   "metadata": {},
   "outputs": [],
   "source": [
    "# new_range min/max order (min > max)\n",
    "if raise_exception: image, meta, settings = linear.minmax_scaling(in_data=test_image, selection=None, new_range=[(1, 0)], nodata=None, method=\"replace\")\n"
   ]
  },
  {
   "cell_type": "code",
   "execution_count": 66,
   "metadata": {},
   "outputs": [],
   "source": [
    "# new_range min/max equal (min == max, but same exception as for min > max)\n",
    "if raise_exception: image, meta, settings = linear.minmax_scaling(in_data=test_image, selection=None, new_range=[(0, 0)], nodata=None, method=\"replace\")\n"
   ]
  },
  {
   "cell_type": "code",
   "execution_count": 67,
   "metadata": {},
   "outputs": [],
   "source": [
    "# new_range value count\n",
    "if raise_exception: image, meta, settings = linear.minmax_scaling(in_data=test_image, selection=None, new_range=[(0, 1, 1)], nodata=None, method=\"replace\")\n"
   ]
  },
  {
   "cell_type": "markdown",
   "metadata": {},
   "source": [
    "### Examples"
   ]
  },
  {
   "cell_type": "markdown",
   "metadata": {},
   "source": [
    "#### **Change** values **in place** \n",
    "**Overwrite existing** data for specific **bands**"
   ]
  },
  {
   "cell_type": "markdown",
   "metadata": {
    "tags": []
   },
   "source": [
    "##### **All** bands, **single** range, NoData **read-in**"
   ]
  },
  {
   "cell_type": "code",
   "execution_count": 68,
   "metadata": {},
   "outputs": [],
   "source": [
    "image, meta, settings = linear.minmax_scaling(in_data=test_image, selection=None, new_range=[(0, 1)], nodata=None, method=\"replace\")\n"
   ]
  },
  {
   "cell_type": "markdown",
   "metadata": {},
   "source": [
    "##### **Single** band, **single** range, NoData **read-in**"
   ]
  },
  {
   "cell_type": "code",
   "execution_count": 69,
   "metadata": {},
   "outputs": [],
   "source": [
    "image, meta, settings = linear.minmax_scaling(in_data=test_image, selection=[1], new_range=[(0, 1)], nodata=None, method=\"replace\")\n"
   ]
  },
  {
   "cell_type": "markdown",
   "metadata": {},
   "source": [
    "##### **Multi-** selection, **single** range, NoData **read-in**"
   ]
  },
  {
   "cell_type": "code",
   "execution_count": 70,
   "metadata": {},
   "outputs": [],
   "source": [
    "image, meta, settings = linear.minmax_scaling(in_data=test_image, selection=[1, 3], new_range=[(0, 1)], nodata=None, method=\"replace\")\n"
   ]
  },
  {
   "cell_type": "markdown",
   "metadata": {},
   "source": [
    "##### **Multi-** selection, **multi-** range, NoData **read-in**"
   ]
  },
  {
   "cell_type": "code",
   "execution_count": 71,
   "metadata": {},
   "outputs": [],
   "source": [
    "image, meta, settings = linear.minmax_scaling(in_data=test_image, selection=[1, 3, 4], new_range=[(0, 1), (1, 10), (10,100)], nodata=None, method=\"replace\")\n"
   ]
  },
  {
   "cell_type": "markdown",
   "metadata": {},
   "source": [
    "##### **Multi-** selection, **multi-** range, **single** NoData"
   ]
  },
  {
   "cell_type": "code",
   "execution_count": 72,
   "metadata": {},
   "outputs": [],
   "source": [
    "image, meta, settings = linear.minmax_scaling(in_data=test_image, selection=[1, 2, 3, 4], new_range=[(0, 1), (1, 10), (10,100), (100, 1000)], nodata=[-10], method=\"replace\")\n"
   ]
  },
  {
   "cell_type": "markdown",
   "metadata": {},
   "source": [
    "##### **Multi-** selection, **multi-** range, **multi-** NoData (**mixed**)\n",
    "NoData **specified** and **read-in**"
   ]
  },
  {
   "cell_type": "code",
   "execution_count": 73,
   "metadata": {},
   "outputs": [],
   "source": [
    "image, meta, settings = linear.minmax_scaling(in_data=test_image, selection=[1, 2, 3, 4], new_range=[(0, 1), (1, 10), (10,100), (100, 1000)], nodata=[2.749, None, None, None], method=\"replace\")\n"
   ]
  },
  {
   "cell_type": "markdown",
   "metadata": {},
   "source": [
    "##### **Unordered multi-** selection, **multi-** range, **multi-** NoData\n",
    "**Unordered** band selection does **not** affect the order of the resulting output"
   ]
  },
  {
   "cell_type": "code",
   "execution_count": 74,
   "metadata": {},
   "outputs": [],
   "source": [
    "image, meta, settings = linear.minmax_scaling(in_data=test_image, selection=[3, 1, 4], new_range=[(10,100), (0,1), (100, 1000)], nodata=[1.771, 2.749, -0.766], method=\"replace\")\n"
   ]
  },
  {
   "cell_type": "markdown",
   "metadata": {},
   "source": [
    "#### **Change** values and **extract** selected bands in **specified order** \n",
    "Works like the replace method, however, the result will **only contain** the transformation of the **specified** bands"
   ]
  },
  {
   "cell_type": "markdown",
   "metadata": {},
   "source": [
    "##### **Multi-** selection, **single** range, NoData **read-in**"
   ]
  },
  {
   "cell_type": "code",
   "execution_count": 75,
   "metadata": {},
   "outputs": [],
   "source": [
    "image, meta, settings = linear.minmax_scaling(in_data=test_image, selection=[3, 1], new_range=[(0, 1)], nodata=None, method=\"extract\")\n"
   ]
  },
  {
   "cell_type": "markdown",
   "metadata": {},
   "source": [
    "##### **Unordered multi-** selection, **multi-** range, **multi-** NoData (**mixed**)\n",
    "NoData **specified** and **read-in** <br>\n",
    "**Unordered** band selection **does** affect the order of the resulting output\n",
    "\n",
    "Example:\n",
    "- in band 3 = out band 1, range (10, 100), nodata 1.771\n",
    "- in band 1 = out band 2, range (0, 1), nodata **read-in**\n",
    "- in band 4 = out band 3, range (100, 1000), nodata -0.766"
   ]
  },
  {
   "cell_type": "code",
   "execution_count": 76,
   "metadata": {},
   "outputs": [],
   "source": [
    "image, meta, settings = linear.minmax_scaling(in_data=test_image, selection=[3, 1, 4], new_range=[(10, 100), (0, 1), (100, 1000)], nodata=[1.771, None, -0.766], method=\"extract\")\n"
   ]
  },
  {
   "cell_type": "markdown",
   "metadata": {
    "jp-MarkdownHeadingCollapsed": true,
    "tags": [],
    "toc-hr-collapsed": true
   },
   "source": [
    "# Sigmoid transform\n",
    "## Info\n",
    "- applies sigmoid transformation on a specified data set\n",
    "- **NoData** -values will be ignored during transformation (values will be kept in the result)\n",
    "- <code>Inf</code> -values will be handled as **NoData**\n",
    "\n",
    "If such values occur and the method above does not suits the users needs, data have to be **cleaned in advance** to the transformation\n",
    "\n",
    "## Arguments\n",
    "- selection: bands can be **None** or a list of **int**, **float**, **None** values\n",
    "- new_range: list of tuples containing the desired new minimum and maximum\n",
    "    - defaults **(0, 1)**\n",
    "    - order must be <code>(min, max)</code>\n",
    "    - <code>min < max</code> required\n",
    "- shift: tuple containing **int** or **float** -values to shift the data on the respective axis\n",
    "    - defaults **(0, 0)**\n",
    "    - must be in <code>(x, y)</code> order\n",
    "    - if only one axis needs to be shifted, use **zero** for the other: e.g. for <code>x + 2</code>, use **(2, 0)**\n",
    "    - **positive x** values will shift to the **right**, **positive y** values will shift **downwards** the y-axis\n",
    "    - **negative x** values will shift to the **left**, **negative y** values will shift **upwards** the y-axis\n",
    "- slope: list of **int** or **float** values for the slope of the resulting curve\n",
    "    - default value is **1**\n",
    "    - slope of **zero** results in a horizontal line between new_range(min, max) plus additional shift\n",
    "- nodata: either **None** or a list of **int** and **float**\n",
    "- method: kind of output of the transformed data, either overwriting the existing ones (\"**replace**\") or extraction of selected bands (\"**extract**\")"
   ]
  },
  {
   "cell_type": "markdown",
   "metadata": {},
   "source": [
    "## Visualization"
   ]
  },
  {
   "cell_type": "markdown",
   "metadata": {},
   "source": [
    "### Data"
   ]
  },
  {
   "cell_type": "code",
   "execution_count": 78,
   "metadata": {},
   "outputs": [],
   "source": [
    "import numpy as np\n",
    "import pandas as pd\n",
    "\n",
    "# small data sets\n",
    "small_array = np.random.randint(0, 10, (5, 5))\n",
    "small_df = pd.DataFrame(small_array.T)\n",
    "\n",
    "# large data sets\n",
    "large_array = np.random.randint(0, 10, (10000, 10000))\n",
    "large_df = pd.DataFrame(large_array.T)\n",
    "\n",
    "# set working data sets\n",
    "array = large_array\n",
    "df = small_df"
   ]
  },
  {
   "cell_type": "markdown",
   "metadata": {},
   "source": [
    "### Transformation"
   ]
  },
  {
   "cell_type": "code",
   "execution_count": 79,
   "metadata": {},
   "outputs": [],
   "source": [
    "def numpy_sigmoid(array, new_range=(0, 1), shift=(0, 0), slope=1):\n",
    "  scaled_sigmoid = new_range[0] + (new_range[1] - new_range[0]) * (1 / (1 + np.exp(-slope*(array-shift[0])))) - shift[1]\n",
    "  return scaled_sigmoid\n"
   ]
  },
  {
   "cell_type": "markdown",
   "metadata": {},
   "source": [
    "### Plot"
   ]
  },
  {
   "cell_type": "code",
   "execution_count": 80,
   "metadata": {},
   "outputs": [
    {
     "data": {
      "image/png": "[encoded data removed]",
      "text/plain": [
       "<Figure size 640x480 with 1 Axes>"
      ]
     },
     "metadata": {},
     "output_type": "display_data"
    }
   ],
   "source": [
    "import matplotlib.pyplot as plt\n",
    "array = np.linspace(-10, 10, 100)\n",
    "\n",
    "# Transformations\n",
    "sigmoid_default = numpy_sigmoid(array)\n",
    "sigmoid_range = numpy_sigmoid(array, new_range=(-6, -4))\n",
    "sigmoid_slope_high = numpy_sigmoid(array, slope=2)\n",
    "sigmoid_slope_low = numpy_sigmoid(array, slope=0.5)\n",
    "sigmoid_slope_neg = numpy_sigmoid(array, slope=-2)\n",
    "sigmoid_range_slope_vlow = numpy_sigmoid(array, new_range=(-6, -4), slope=0.25)\n",
    "sigmoid_shift_x = numpy_sigmoid(array, new_range=(-2, -1), shift=(2.5, 0))\n",
    "sigmoid_shift_y = numpy_sigmoid(array, new_range=(-2, -1), shift=(0, 1)) \n",
    "sigmoid_shift_x_y = numpy_sigmoid(array, new_range=(-2, -1), shift=(2.5, 1))  \n",
    "\n",
    "# Plots\n",
    "plt.plot(array, sigmoid_default, \"blue\", linestyle=\"solid\", label=\"default\")\n",
    "plt.plot(array, sigmoid_slope_high, \"red\", linestyle=\"dotted\", label=\"slope high\")\n",
    "plt.plot(array, sigmoid_slope_low, \"purple\", linestyle=\"dotted\", label=\"slope low\")\n",
    "plt.plot(array, sigmoid_slope_neg, \"darkred\", linestyle=\"dotted\", label=\"slope negative\")\n",
    "\n",
    "plt.plot(array, sigmoid_shift_x, \"darkviolet\", linestyle=\"dashdot\", label=\"shift-x\")\n",
    "plt.plot(array, sigmoid_shift_y, \"magenta\", linestyle=\"dashdot\", label=\"shift-y\")\n",
    "plt.plot(array, sigmoid_shift_x_y, \"black\", linestyle=\"dashdot\", label=\"shift-x, shift-y\")\n",
    "\n",
    "plt.plot(array, sigmoid_range, \"green\", linestyle=\"dashed\", label=\"new range\")\n",
    "plt.plot(array, sigmoid_range_slope_vlow, \"cyan\", linestyle=\"dashed\", label=\"new range, slope very low\")\n",
    "\n",
    "plt.legend(loc=\"lower right\", frameon=False, bbox_to_anchor=(1.6, 0.45))\n",
    "plt.minorticks_on()\n",
    "plt.grid(True, color=\"0.9\")\n",
    "plt.show();"
   ]
  },
  {
   "cell_type": "markdown",
   "metadata": {},
   "source": [
    "## Exceptions"
   ]
  },
  {
   "cell_type": "code",
   "execution_count": 81,
   "metadata": {},
   "outputs": [],
   "source": [
    "raise_exception = False"
   ]
  },
  {
   "cell_type": "code",
   "execution_count": 82,
   "metadata": {},
   "outputs": [],
   "source": [
    "# new_range length\n",
    "if raise_exception: image, meta, settings = sigmoid.sigmoid_transform(in_data=test_image, selection=None, new_range=[(0, 1), (0, 1)], shift=[(0, 0)], slope=[1], nodata=None, method=\"replace\")\n"
   ]
  },
  {
   "cell_type": "code",
   "execution_count": 83,
   "metadata": {},
   "outputs": [],
   "source": [
    "# new_range length\n",
    "if raise_exception: image, meta, settings = sigmoid.sigmoid_transform(in_data=test_image, selection=[1, 2], new_range=[(0, 1), (0, 1), (0, 1)], shift=[(0, 0)], slope=[1], nodata=None, method=\"replace\")\n"
   ]
  },
  {
   "cell_type": "code",
   "execution_count": 84,
   "metadata": {},
   "outputs": [],
   "source": [
    "# shift length\n",
    "if raise_exception: image, meta, settings = sigmoid.sigmoid_transform(in_data=test_image, selection=None, new_range=[(0, 1)], shift=[(0, 0), (0, 0)], slope=[1], nodata=None, method=\"replace\")\n"
   ]
  },
  {
   "cell_type": "code",
   "execution_count": 85,
   "metadata": {},
   "outputs": [],
   "source": [
    "# slope length\n",
    "if raise_exception: image, meta, settings = sigmoid.sigmoid_transform(in_data=test_image, selection=None, new_range=[(0, 1)], shift=[(0, 0)], slope=[1, 1], nodata=None, method=\"replace\")\n"
   ]
  },
  {
   "cell_type": "code",
   "execution_count": 86,
   "metadata": {},
   "outputs": [],
   "source": [
    "# new_range data type\n",
    "if raise_exception: image, meta, settings = sigmoid.sigmoid_transform(in_data=test_image, selection=None, new_range=[(\"a\", 1)], shift=[(0, 0)], slope=[1], nodata=None, method=\"replace\")\n"
   ]
  },
  {
   "cell_type": "code",
   "execution_count": 87,
   "metadata": {},
   "outputs": [],
   "source": [
    "# new_range values length\n",
    "if raise_exception: image, meta, settings = sigmoid.sigmoid_transform(in_data=test_image, selection=None, new_range=[(1, 1, 1)], shift=[(0, 0)], slope=[1], nodata=None, method=\"replace\")\n"
   ]
  },
  {
   "cell_type": "code",
   "execution_count": 88,
   "metadata": {},
   "outputs": [],
   "source": [
    "# new_range min/max order (min > max)\n",
    "if raise_exception: image, meta, settings = sigmoid.sigmoid_transform(in_data=test_image, selection=None, new_range=[(2, 1)], shift=[(0, 0)], slope=[1], nodata=None, method=\"replace\")\n"
   ]
  },
  {
   "cell_type": "code",
   "execution_count": 89,
   "metadata": {},
   "outputs": [],
   "source": [
    "# new_range min/max equal (min == max, but same exception as for min > max)\n",
    "if raise_exception: image, meta, settings = sigmoid.sigmoid_transform(in_data=test_image, selection=None, new_range=[(1, 1)], shift=[(0, 0)], slope=[1], nodata=None, method=\"replace\")\n"
   ]
  },
  {
   "cell_type": "code",
   "execution_count": 90,
   "metadata": {},
   "outputs": [],
   "source": [
    "# shift values data type\n",
    "if raise_exception: image, meta, settings = sigmoid.sigmoid_transform(in_data=test_image, selection=None, new_range=[(0, 1)], shift=[(0, \"a\")], slope=[1], nodata=None, method=\"replace\")\n"
   ]
  },
  {
   "cell_type": "code",
   "execution_count": 91,
   "metadata": {},
   "outputs": [],
   "source": [
    "# shift values length\n",
    "if raise_exception: image, meta, settings = sigmoid.sigmoid_transform(in_data=test_image, selection=None, new_range=[(0, 1)], shift=[(0, 0, 0)], slope=[1], nodata=None, method=\"replace\")\n"
   ]
  },
  {
   "cell_type": "code",
   "execution_count": 92,
   "metadata": {},
   "outputs": [],
   "source": [
    "# slope values data type\n",
    "if raise_exception: image, meta, settings = sigmoid.sigmoid_transform(in_data=test_image, selection=None, new_range=[(0, 1)], shift=[(0, 0)], slope=[\"a\"], nodata=None, method=\"replace\")\n"
   ]
  },
  {
   "cell_type": "markdown",
   "metadata": {},
   "source": [
    "## Examples"
   ]
  },
  {
   "cell_type": "markdown",
   "metadata": {},
   "source": [
    "### **Change** values **in place** \n",
    "**Overwrite existing** data for specific **bands**"
   ]
  },
  {
   "cell_type": "markdown",
   "metadata": {
    "tags": []
   },
   "source": [
    "#### **All** bands, **single** range, shift and slope, NoData **read-in**"
   ]
  },
  {
   "cell_type": "code",
   "execution_count": 93,
   "metadata": {},
   "outputs": [],
   "source": [
    "image, meta, settings = sigmoid.sigmoid_transform(in_data=test_image, selection=None, new_range=[(0, 1)], shift=[(0, 0)], slope=[1], nodata=None, method=\"replace\")\n"
   ]
  },
  {
   "cell_type": "markdown",
   "metadata": {},
   "source": [
    "#### **Single** band, **single** range, shift and slope, NoData **read-in**"
   ]
  },
  {
   "cell_type": "code",
   "execution_count": 94,
   "metadata": {},
   "outputs": [],
   "source": [
    "image, meta, settings = sigmoid.sigmoid_transform(in_data=test_image, selection=[1], new_range=[(0, 1)], shift=[(0, 0)], slope=[1], nodata=None, method=\"replace\")\n"
   ]
  },
  {
   "cell_type": "markdown",
   "metadata": {},
   "source": [
    "#### **Multi-** selection, **single** range, shift and slope, NoData **read-in**"
   ]
  },
  {
   "cell_type": "code",
   "execution_count": 95,
   "metadata": {},
   "outputs": [],
   "source": [
    "image, meta, settings = sigmoid.sigmoid_transform(in_data=test_image, selection=[1, 3], new_range=[(0, 1)], shift=[(0, 0)], slope=[1], nodata=None, method=\"replace\")\n"
   ]
  },
  {
   "cell_type": "markdown",
   "metadata": {},
   "source": [
    "#### **Multi-** selection, **multi-** range, **single** shift and slope, NoData **read-in**"
   ]
  },
  {
   "cell_type": "code",
   "execution_count": 96,
   "metadata": {},
   "outputs": [],
   "source": [
    "image, meta, settings = sigmoid.sigmoid_transform(in_data=test_image, selection=[1, 3, 4], new_range=[(0, 1), (1, 10), (10,100)], shift=[(0, 0)], slope=[1], nodata=None, method=\"replace\")\n"
   ]
  },
  {
   "cell_type": "markdown",
   "metadata": {},
   "source": [
    "#### **Multi-** selection, **single-** range and slope, **multi-** shift, NoData **read-in**"
   ]
  },
  {
   "cell_type": "code",
   "execution_count": 97,
   "metadata": {},
   "outputs": [],
   "source": [
    "image, meta, settings = sigmoid.sigmoid_transform(in_data=test_image, selection=[1, 3, 4], new_range=[(0, 1)], shift=[(0, 0), (0, 1), (-1, -1)], slope=[1], nodata=None, method=\"replace\")\n"
   ]
  },
  {
   "cell_type": "markdown",
   "metadata": {},
   "source": [
    "#### **Multi-** selection, **single-** range and shift, **multi** slope, NoData **read-in**"
   ]
  },
  {
   "cell_type": "code",
   "execution_count": 98,
   "metadata": {},
   "outputs": [],
   "source": [
    "image, meta, settings = sigmoid.sigmoid_transform(in_data=test_image, selection=[1, 3, 4], new_range=[(0, 1)], shift=[(0, 0)], slope=[1, 1, -1], nodata=None, method=\"replace\")\n"
   ]
  },
  {
   "cell_type": "markdown",
   "metadata": {},
   "source": [
    "#### **Multi-** selection, **multi-** range, **single** shift and slope, **single** NoData"
   ]
  },
  {
   "cell_type": "code",
   "execution_count": 99,
   "metadata": {},
   "outputs": [],
   "source": [
    "image, meta, settings = sigmoid.sigmoid_transform(in_data=test_image, selection=[1, 3, 4], new_range=[(0, 1), (1, 10), (10,100)], shift=[(0, 0)], slope=[1], nodata=[-10], method=\"replace\")\n"
   ]
  },
  {
   "cell_type": "markdown",
   "metadata": {},
   "source": [
    "#### **Multi-** selection, **multi-** range, shift and slope, **multi-** NoData (**mixed**)\n",
    "NoData **specified** and **read-in**"
   ]
  },
  {
   "cell_type": "code",
   "execution_count": 100,
   "metadata": {},
   "outputs": [],
   "source": [
    "image, meta, settings = sigmoid.sigmoid_transform(in_data=test_image, selection=[1, 2, 3, 4], new_range=[(0, 1), (1, 10), (10,100), (100, 1000)],\n",
    "                                                  shift=[(0, 0), (0, 1), (1, 0), (1, 1)],\n",
    "                                                  slope=[1, -1, 1, 0],\n",
    "                                                  nodata=[2.749, None, None, None], method=\"replace\")\n"
   ]
  },
  {
   "cell_type": "markdown",
   "metadata": {},
   "source": [
    "#### **Unordered multi-** selection, **multi-** range, **multi-** NoData\n",
    "**Unordered** band selection does **not** affect the order of the resulting output"
   ]
  },
  {
   "cell_type": "code",
   "execution_count": 101,
   "metadata": {},
   "outputs": [],
   "source": [
    "image, meta, settings = sigmoid.sigmoid_transform(in_data=test_image, selection=[3, 1, 4], new_range=[(10, 100), (0, 1), (100, 1000)],\n",
    "                                                  shift=[(1, 0), (0, 0), (1, 1)],\n",
    "                                                  slope=[1, 1, 0],\n",
    "                                                  nodata=[1.771, 2.749, -0.766], method=\"replace\")\n"
   ]
  },
  {
   "cell_type": "markdown",
   "metadata": {},
   "source": [
    "### **Change** values and **extract** selected bands in **specified order** \n",
    "Works like the replace method, however, the result will **only contain** the transformation of the **specified** bands"
   ]
  },
  {
   "cell_type": "markdown",
   "metadata": {},
   "source": [
    "#### **Multi-** selection, **single** range, shift and slope, NoData **read-in**"
   ]
  },
  {
   "cell_type": "code",
   "execution_count": 102,
   "metadata": {},
   "outputs": [],
   "source": [
    "image, meta, settings = sigmoid.sigmoid_transform(in_data=test_image, selection=[3, 1], new_range=[(0, 1)], shift=[(0, 0)], slope=[1], nodata=None, method=\"extract\")\n"
   ]
  },
  {
   "cell_type": "markdown",
   "metadata": {},
   "source": [
    "#### **Unordered multi-** selection, **multi-** range, **multi-** NoData (**mixed**)\n",
    "NoData **specified** and **read-in** <br>\n",
    "**Unordered** band selection **does** affect the order of the resulting output\n",
    "\n",
    "Example:\n",
    "- in band 3 = out band 1, range (10, 100), shift (1, 0), slope 1, nodata 1.771\n",
    "- in band 1 = out band 2, range (0, 1), shift (0, 0), slope 1, nodata **read-in**\n",
    "- in band 4 = out band 3, range (100, 1000), shift (1, 1), slope 0, nodata -0.766"
   ]
  },
  {
   "cell_type": "code",
   "execution_count": 103,
   "metadata": {},
   "outputs": [],
   "source": [
    "image, meta, settings = sigmoid.sigmoid_transform(in_data=test_image, selection=[3, 1, 4], new_range=[(10, 100), (0, 1), (100, 1000)],\n",
    "                                                  shift=[(1, 0), (0, 0), (1, 1),],\n",
    "                                                  slope=[1, 1, 0],\n",
    "                                                  nodata=[1.771, None, -0.766], method=\"extract\")\n"
   ]
  },
  {
   "cell_type": "markdown",
   "metadata": {
    "tags": []
   },
   "source": [
    "# Winsorize\n",
    "\n",
    "## Info\n",
    "- replaces values below/above a given threshold with new values\n",
    "- **NoData** -values will be ignored during transformation (values will be kept in the result)\n",
    "\n",
    "## Arguments\n",
    "- selection: bands can be **None** or a list of **int**, **float**, **None** values\n",
    "- replace_type: string, either **\"absolute\"** or **\"percentiles\"**\n",
    "    - required to choose whether winsorize should be executed with **absolute** thresholds or based on given **percentiles**\n",
    "    - **global** option\n",
    "- if <code>replace_type == \"absolute\"</code>\n",
    "    - limits: list of tuples containing **int**, **float** or **None** values\n",
    "       - e.g. **(100, None)**, which selects only values < 100 to be changed\n",
    "       - order must be <code>(min, max)</code>\n",
    "       - <code>min < max </code>\n",
    "    - replace_values: list of tuples containing **int**, **float** or **None** values\n",
    "        - order must be <code>(min, max)</code>\n",
    "        - <code>min < max </code>\n",
    "        - position of **NoneType** entries must match those from **limits**\n",
    "- if <code>replace_type == \"percentiles\"</code>\n",
    "     - limits: list of tuples containing **int**, **float** or **None** values\n",
    "       - e.g. **(10, 25)**, which selects the lower 10% and upper 25% values of the data set (0-10 for lower and 75-100 for upper, values between 10-75 percentiles remain unchanged)\n",
    "       - order must be <code>(lower, upper)</code>\n",
    "       - replacement values will be calculated at the border of the specified interval\n",
    "       - <code>lower + upper < 100</code>\n",
    "    - replace_position: list containing a string, either **\"inside\"** or \"**outside**\", to choose whether to take the value for replacement from **inside** or **outside** a calculated percentile interval\n",
    "      - e.g. if the lower threshold is set to 10% and the corresponding calculated value is 20, but the nearest data values are 19 and 21:\n",
    "         - if **inside**: all data <code>< 20</code> will be replaced with **19**\n",
    "         - if **outside**: all data <code>< 20</code> will be replaced with **21**\n",
    "      - e.g. if the upper threshold is set to 10% and the corresponding calculated value is 80, but the nearest data values are 79 and 81:\n",
    "         - if **inside**: all data <code>> 80</code> will be replaced with **81**\n",
    "         - if **outside**: all data <code>> 80</code> will be replaced with **79**\n",
    "      - default **outside**\n",
    "- nodata: either **None** or a list of **int** and **float**\n",
    "- method: kind of output of the transformed data, either overwriting the existing ones (\"**replace**\") or extraction of selected bands (\"**extract**\")\n",
    "- general points\n",
    "   - if both types, **absolute** and **percentiles**, are needed for different bands/selections:\n",
    "        1. apply winsorize with the specified **selection**, **absolute** settings and option **replace**\n",
    "        2. take the output from point 1 and apply **percentiles** as second step with option **replace** for the specified **selection**\n",
    "    - **None** does not mean *no value* but an object from **NoneType** class\n",
    " \n",
    "    "
   ]
  },
  {
   "cell_type": "markdown",
   "metadata": {},
   "source": [
    "## Exceptions"
   ]
  },
  {
   "cell_type": "code",
   "execution_count": 105,
   "metadata": {},
   "outputs": [],
   "source": [
    "raise_exception = False"
   ]
  },
  {
   "cell_type": "markdown",
   "metadata": {},
   "source": [
    "### Global"
   ]
  },
  {
   "cell_type": "code",
   "execution_count": 106,
   "metadata": {},
   "outputs": [],
   "source": [
    "# limits length\n",
    "if raise_exception: image, meta, settings = winsorize.winsorize(in_data=test_image, selection=None, limits=[(0, 2), (0, 2)], replace_type=\"absolute\", replace_values=[(-100, 100)], nodata=None, method=\"replace\")\n"
   ]
  },
  {
   "cell_type": "code",
   "execution_count": 107,
   "metadata": {},
   "outputs": [],
   "source": [
    "# limits values length\n",
    "if raise_exception: image, meta, settings = winsorize.winsorize(in_data=test_image, selection=None, limits=[(0, 2, 3)], replace_type=\"absolute\", replace_values=[(-100, 100)], nodata=None, method=\"replace\")\n"
   ]
  },
  {
   "cell_type": "code",
   "execution_count": 108,
   "metadata": {},
   "outputs": [],
   "source": [
    "# limits values data type\n",
    "if raise_exception: image, meta, settings = winsorize.winsorize(in_data=test_image, selection=None, limits=[(0, \"a\")], replace_type=\"absolute\", replace_values=[(-100, 100)], nodata=None, method=\"replace\")\n"
   ]
  },
  {
   "cell_type": "code",
   "execution_count": 109,
   "metadata": {},
   "outputs": [],
   "source": [
    "# limits values all NoneType\n",
    "if raise_exception: image, meta, settings = winsorize.winsorize(in_data=test_image, selection=None, limits=[(None, None)], replace_type=\"absolute\", replace_values=[(-100, 100)], nodata=None, method=\"replace\")\n"
   ]
  },
  {
   "cell_type": "markdown",
   "metadata": {},
   "source": [
    "### Absolute values"
   ]
  },
  {
   "cell_type": "code",
   "execution_count": 110,
   "metadata": {},
   "outputs": [],
   "source": [
    "# replace type\n",
    "if raise_exception: image, meta, settings = winsorize.winsorize(in_data=test_image, selection=None, limits=[(0, 2)], replace_type=\"nothing\", replace_values=[(-100, 100)], nodata=None, method=\"replace\")\n"
   ]
  },
  {
   "cell_type": "code",
   "execution_count": 111,
   "metadata": {},
   "outputs": [],
   "source": [
    "# limits values order\n",
    "if raise_exception: image, meta, settings = winsorize.winsorize(in_data=test_image, selection=None, limits=[(2, 0)], replace_type=\"absolute\", replace_values=[(-100, 100)], nodata=None, method=\"replace\")\n"
   ]
  },
  {
   "cell_type": "code",
   "execution_count": 112,
   "metadata": {},
   "outputs": [],
   "source": [
    "if raise_exception: image, meta, settings = winsorize.winsorize(in_data=test_image, selection=None, limits=[(2, 2)], replace_type=\"absolute\", replace_values=[(-100, 100)], nodata=None, method=\"replace\")\n"
   ]
  },
  {
   "cell_type": "code",
   "execution_count": 113,
   "metadata": {},
   "outputs": [],
   "source": [
    "# replace length\n",
    "if raise_exception: image, meta, settings = winsorize.winsorize(in_data=test_image, selection=None, limits=[(0, 2)], replace_type=\"absolute\", replace_values=[(-100, 100), (-100, 100)], nodata=None, method=\"replace\")\n"
   ]
  },
  {
   "cell_type": "code",
   "execution_count": 114,
   "metadata": {},
   "outputs": [],
   "source": [
    "# replace values data type\n",
    "if raise_exception: image, meta, settings = winsorize.winsorize(in_data=test_image, selection=None, limits=[(0, 2)], replace_type=\"absolute\", replace_values=[(-100, \"a\")], nodata=None, method=\"replace\")\n"
   ]
  },
  {
   "cell_type": "code",
   "execution_count": 115,
   "metadata": {},
   "outputs": [],
   "source": [
    "# replace values length\n",
    "if raise_exception: image, meta, settings = winsorize.winsorize(in_data=test_image, selection=None, limits=[(0, 2)], replace_type=\"absolute\", replace_values=[(-100, 100, 100)], nodata=None, method=\"replace\")\n"
   ]
  },
  {
   "cell_type": "code",
   "execution_count": 116,
   "metadata": {},
   "outputs": [],
   "source": [
    "# nonetype count\n",
    "if raise_exception: image, meta, settings = winsorize.winsorize(in_data=test_image, selection=None, limits=[(0, 2)], replace_type=\"absolute\", replace_values=[(None, None)], nodata=None, method=\"replace\")\n"
   ]
  },
  {
   "cell_type": "code",
   "execution_count": 117,
   "metadata": {},
   "outputs": [],
   "source": [
    "# replace nonetype position\n",
    "if raise_exception: image, meta, settings = winsorize.winsorize(in_data=test_image, selection=[1, 2], limits=[(0, 2), (0, None)], replace_type=\"absolute\", replace_values=[(-100, 100), (None, 100)], nodata=None, method=\"replace\")\n"
   ]
  },
  {
   "cell_type": "code",
   "execution_count": 118,
   "metadata": {},
   "outputs": [],
   "source": [
    "# replace nonetype\n",
    "if raise_exception: image, meta, settings = winsorize.winsorize(in_data=test_image, selection=None, limits=[(0, 2)], replace_type=\"absolute\", replace_values=None, nodata=None, method=\"replace\")\n"
   ]
  },
  {
   "cell_type": "markdown",
   "metadata": {},
   "source": [
    "### Percentile values"
   ]
  },
  {
   "cell_type": "code",
   "execution_count": 119,
   "metadata": {},
   "outputs": [],
   "source": [
    "# limits values sum\n",
    "if raise_exception: image, meta, settings = winsorize.winsorize(in_data=test_image, selection=None, limits=[(40, 80)], replace_type=\"percentiles\", replace_position=[\"outside\"], nodata=None, method=\"replace\")\n"
   ]
  },
  {
   "cell_type": "code",
   "execution_count": 120,
   "metadata": {},
   "outputs": [],
   "source": [
    "if raise_exception: image, meta, settings = winsorize.winsorize(in_data=test_image, selection=None, limits=[(50, 50)], replace_type=\"percentiles\", replace_position=[\"outside\"], nodata=None, method=\"replace\")\n"
   ]
  },
  {
   "cell_type": "code",
   "execution_count": 121,
   "metadata": {},
   "outputs": [],
   "source": [
    "# limits value lower\n",
    "if raise_exception: image, meta, settings = winsorize.winsorize(in_data=test_image, selection=None, limits=[(0, 10)], replace_type=\"percentiles\", replace_position=[\"outside\"], nodata=None, method=\"replace\")\n"
   ]
  },
  {
   "cell_type": "code",
   "execution_count": 122,
   "metadata": {},
   "outputs": [],
   "source": [
    "# limits value upper\n",
    "if raise_exception: image, meta, settings = winsorize.winsorize(in_data=test_image, selection=None, limits=[(10, 120)], replace_type=\"percentiles\", replace_position=[\"outside\"], nodata=None, method=\"replace\")\n"
   ]
  },
  {
   "cell_type": "code",
   "execution_count": 123,
   "metadata": {},
   "outputs": [],
   "source": [
    "# replace position length\n",
    "if raise_exception: image, meta, settings = winsorize.winsorize(in_data=test_image, selection=None, limits=[(10, 10)], replace_type=\"percentiles\", replace_position=[\"inside\", \"outside\"], nodata=None, method=\"replace\")\n"
   ]
  },
  {
   "cell_type": "code",
   "execution_count": 124,
   "metadata": {},
   "outputs": [],
   "source": [
    "# replace position data type\n",
    "if raise_exception: image, meta, settings = winsorize.winsorize(in_data=test_image, selection=None, limits=[(10, 10)], replace_type=\"percentiles\", replace_position=[1.2], nodata=None, method=\"replace\")\n"
   ]
  },
  {
   "cell_type": "code",
   "execution_count": 125,
   "metadata": {},
   "outputs": [],
   "source": [
    "# replace position value\n",
    "if raise_exception: image, meta, settings = winsorize.winsorize(in_data=test_image, selection=None, limits=[(10, 10)], replace_type=\"percentiles\", replace_position=[\"nothing\"], nodata=None, method=\"replace\")\n"
   ]
  },
  {
   "cell_type": "code",
   "execution_count": 126,
   "metadata": {},
   "outputs": [],
   "source": [
    "# replace position nonetype\n",
    "if raise_exception: image, meta, settings = winsorize.winsorize(in_data=test_image, selection=None, limits=[(10, 10)], replace_type=\"percentiles\", replace_position=None, nodata=None, method=\"replace\")\n"
   ]
  },
  {
   "cell_type": "markdown",
   "metadata": {},
   "source": [
    "## Examples"
   ]
  },
  {
   "cell_type": "markdown",
   "metadata": {},
   "source": [
    "### Based on absolute values"
   ]
  },
  {
   "cell_type": "markdown",
   "metadata": {},
   "source": [
    "#### **Change** values **in place** \n",
    "**Overwrite existing** data for specific **bands**"
   ]
  },
  {
   "cell_type": "markdown",
   "metadata": {
    "tags": []
   },
   "source": [
    "##### **All** bands, **single** limits and replacement, NoData **read-in**"
   ]
  },
  {
   "cell_type": "code",
   "execution_count": 127,
   "metadata": {},
   "outputs": [],
   "source": [
    "image, meta, settings = winsorize.winsorize(in_data=test_image, selection=None, limits=[(0, 2)], replace_type=\"absolute\", replace_values=[(0, 1)], nodata=None, method=\"replace\")\n"
   ]
  },
  {
   "cell_type": "markdown",
   "metadata": {},
   "source": [
    "##### **Single** band, **single** limits and replacement, NoData **read-in**"
   ]
  },
  {
   "cell_type": "code",
   "execution_count": 128,
   "metadata": {},
   "outputs": [],
   "source": [
    "image, meta, settings = winsorize.winsorize(in_data=test_image, selection=[1], limits=[(0, 2)], replace_type=\"absolute\", replace_values=[(0, 1)], nodata=None, method=\"replace\")\n"
   ]
  },
  {
   "cell_type": "markdown",
   "metadata": {},
   "source": [
    "##### **Multi-** selection, **single** limits and replacement, NoData **read-in**"
   ]
  },
  {
   "cell_type": "code",
   "execution_count": 129,
   "metadata": {},
   "outputs": [],
   "source": [
    "image, meta, settings = winsorize.winsorize(in_data=test_image, selection=[1, 3], limits=[(0, 2)], replace_type=\"absolute\", replace_values=[(0, 1)], nodata=None, method=\"replace\")\n"
   ]
  },
  {
   "cell_type": "markdown",
   "metadata": {},
   "source": [
    "##### **Multi-** selection, **multi-** limits, **single** replacement, NoData **read-in**"
   ]
  },
  {
   "cell_type": "code",
   "execution_count": 130,
   "metadata": {},
   "outputs": [],
   "source": [
    "image, meta, settings = winsorize.winsorize(in_data=test_image, selection=[1, 3, 4], limits=[(0, 2), (-1, 2), (1, 3)], replace_type=\"absolute\", replace_values=[(-1, 0)], nodata=None, method=\"replace\")\n"
   ]
  },
  {
   "cell_type": "markdown",
   "metadata": {},
   "source": [
    "##### **Multi-** selection, **single-** limits, **multi-** replacement, NoData **read-in**"
   ]
  },
  {
   "cell_type": "code",
   "execution_count": 131,
   "metadata": {},
   "outputs": [],
   "source": [
    "image, meta, settings = winsorize.winsorize(in_data=test_image, selection=[1, 3, 4], limits=[(0, 2)], replace_type=\"absolute\", replace_values=[(-1, 1), (-10, 10), (-100, 100)], nodata=None, method=\"replace\")\n"
   ]
  },
  {
   "cell_type": "markdown",
   "metadata": {},
   "source": [
    "##### **Multi-** selection, **multi-** limits and replacement, **multi-** NoData (**mixed**)\n",
    "NoData **specified** and **read-in**"
   ]
  },
  {
   "cell_type": "code",
   "execution_count": 132,
   "metadata": {},
   "outputs": [],
   "source": [
    "image, meta, settings = winsorize.winsorize(in_data=test_image, selection=[1, 2, 3, 4], limits=[(0, 2), (-1, 2), (1, 3), (2, 4)], \n",
    "                                            replace_type=\"absolute\", replace_values=[(-1, 1), (-10, 10), (-100, 100), (-1000, 1000)], \n",
    "                                            nodata=[2.749, None, None, None], method=\"replace\")\n",
    "\n"
   ]
  },
  {
   "cell_type": "markdown",
   "metadata": {},
   "source": [
    "##### **Unordered multi-** selection, **multi-** limits and replacement, **multi-** NoData\n",
    "**Unordered** band selection does **not** affect the order of the resulting output"
   ]
  },
  {
   "cell_type": "code",
   "execution_count": 133,
   "metadata": {},
   "outputs": [],
   "source": [
    "image, meta, settings = winsorize.winsorize(in_data=test_image, selection=[3, 1, 4], limits=[(1, 3), (0, 2), (2, 4)], \n",
    "                                            replace_type=\"absolute\", replace_values=[(-100, 100), (-1, 1), (-1000, 1000)], \n",
    "                                            nodata=[1.771, 2.749, -0.766], method=\"replace\")\n"
   ]
  },
  {
   "cell_type": "markdown",
   "metadata": {},
   "source": [
    "#### **Change** values and **extract** selected bands in **specified order** \n",
    "Works like the replace method, however, the result will **only contain** the transformation of the **specified** bands"
   ]
  },
  {
   "cell_type": "markdown",
   "metadata": {},
   "source": [
    "##### **Multi-** selection, **single** limits and replacement, NoData **read-in**"
   ]
  },
  {
   "cell_type": "code",
   "execution_count": 134,
   "metadata": {},
   "outputs": [],
   "source": [
    "image, meta, settings = winsorize.winsorize(in_data=test_image, selection=[3, 1], limits=[(0, 1)], replace_type=\"absolute\", replace_values=[(99, 999)], nodata=None, method=\"extract\")\n"
   ]
  },
  {
   "attachments": {},
   "cell_type": "markdown",
   "metadata": {},
   "source": [
    "##### **Unordered multi-** selection, limits and replacement, **multi-** NoData (**mixed**)\n",
    "NoData **specified** and **read-in** <br>\n",
    "**Unordered** band selection **does** affect the order of the resulting output\n",
    "\n",
    "Example:\n",
    "- in band 3 = out band 1, limits (1, 3), replace_values (-100, 100), nodata 1.771\n",
    "- in band 1 = out band 2, limits (0, 2), replace_values (-1, 1), nodata **read-in**\n",
    "- in band 4 = out band 3, limits (2, 4), replace_values (-1000, 1000), nodata 0"
   ]
  },
  {
   "cell_type": "code",
   "execution_count": 135,
   "metadata": {},
   "outputs": [],
   "source": [
    "image, meta, settings = winsorize.winsorize(in_data=test_image, selection=[3, 1, 4], limits=[(1, 3), (0, 2), (2, 4)], \n",
    "                                            replace_type=\"absolute\", replace_values=[(-100, 100), (-1, 1), (-1000, 1000)], \n",
    "                                            nodata=[1.771, None, 0], method=\"extract\")\n"
   ]
  },
  {
   "attachments": {},
   "cell_type": "markdown",
   "metadata": {},
   "source": [
    "### Based on percentile values"
   ]
  },
  {
   "cell_type": "markdown",
   "metadata": {},
   "source": [
    "#### **Change** values **in place** \n",
    "**Overwrite existing** data for specific **bands**"
   ]
  },
  {
   "cell_type": "markdown",
   "metadata": {},
   "source": [
    "##### **All** bands, **single** limits and replacement, NoData **read-in**"
   ]
  },
  {
   "cell_type": "code",
   "execution_count": 138,
   "metadata": {},
   "outputs": [],
   "source": [
    "image, meta, settings = winsorize.winsorize(in_data=test_image, selection=None, limits=[(10, 10)], \n",
    "                                            replace_type=\"percentiles\", replace_position=[\"outside\"], \n",
    "                                            nodata=None, method=\"replace\")\n"
   ]
  },
  {
   "cell_type": "markdown",
   "metadata": {},
   "source": [
    "##### **Single** band, **single** limits and replacement, NoData **read-in**"
   ]
  },
  {
   "cell_type": "code",
   "execution_count": 152,
   "metadata": {},
   "outputs": [],
   "source": [
    "image, meta, settings = winsorize.winsorize(in_data=test_image, selection=[1], limits=[(10, 5)], \n",
    "                                            replace_type=\"percentiles\", replace_position=[\"outside\"], \n",
    "                                            nodata=None, method=\"replace\")\n"
   ]
  },
  {
   "cell_type": "markdown",
   "metadata": {},
   "source": [
    "##### **Multi-** selection, **single** limits and replacement, NoData **read-in**"
   ]
  },
  {
   "cell_type": "code",
   "execution_count": 159,
   "metadata": {},
   "outputs": [],
   "source": [
    "image, meta, settings = winsorize.winsorize(in_data=test_image, selection=[1, 3], limits=[(5, 10)], \n",
    "                                            replace_type=\"percentiles\", replace_position=[\"outside\"], \n",
    "                                            nodata=None, method=\"replace\")\n"
   ]
  },
  {
   "cell_type": "markdown",
   "metadata": {},
   "source": [
    "##### **Multi-** selection, **multi-** limits, **single** replacement, NoData **read-in**"
   ]
  },
  {
   "cell_type": "code",
   "execution_count": 170,
   "metadata": {},
   "outputs": [],
   "source": [
    "image, meta, settings = winsorize.winsorize(in_data=test_image, selection=[1, 3, 4], limits=[(10, 10), (10, 5), (5, 10)],\n",
    "                                            replace_type=\"percentiles\", replace_position=[\"outside\"], \n",
    "                                            nodata=None, method=\"replace\")\n"
   ]
  },
  {
   "cell_type": "markdown",
   "metadata": {},
   "source": [
    "##### **Multi-** selection, **single-** limits, **multi-** replacement, NoData **read-in**"
   ]
  },
  {
   "cell_type": "code",
   "execution_count": 171,
   "metadata": {},
   "outputs": [],
   "source": [
    "image, meta, settings = winsorize.winsorize(in_data=test_image, selection=[1, 3, 4], limits=[(5, 5)],\n",
    "                                            replace_type=\"percentiles\", replace_position=[\"outside\", \"outside\", \"inside\"], \n",
    "                                            nodata=None, method=\"replace\")\n"
   ]
  },
  {
   "cell_type": "markdown",
   "metadata": {},
   "source": [
    "##### **Multi-** selection, **multi-** limits and replacement, **multi-** NoData (**mixed**)\n",
    "NoData **specified** and **read-in**"
   ]
  },
  {
   "cell_type": "code",
   "execution_count": 172,
   "metadata": {},
   "outputs": [],
   "source": [
    "image, meta, settings = winsorize.winsorize(in_data=test_image, selection=[1, 2, 3, 4], limits=[(10, 10), (10, 5), (5, 10), (25, 25)],\n",
    "                                            replace_type=\"percentiles\", replace_position=[\"outside\", \"outside\", \"inside\", \"inside\"], \n",
    "                                            nodata=[2.749, None, None, None], method=\"replace\")\n"
   ]
  },
  {
   "cell_type": "markdown",
   "metadata": {},
   "source": [
    "##### **Unordered multi-** selection, **multi-** limits and replacement, **multi-** NoData\n",
    "**Unordered** band selection does **not** affect the order of the resulting output"
   ]
  },
  {
   "cell_type": "code",
   "execution_count": 174,
   "metadata": {},
   "outputs": [],
   "source": [
    "image, meta, settings = winsorize.winsorize(in_data=test_image, selection=[3, 1, 4], limits=[(10, 10), (10, 5), (5, 10)],\n",
    "                                            replace_type=\"percentiles\", replace_position=[\"outside\", \"outside\", \"inside\"], \n",
    "                                            nodata=[1.771, 2.749, -0.766], method=\"replace\")\n"
   ]
  },
  {
   "cell_type": "markdown",
   "metadata": {},
   "source": [
    "#### **Change** values and **extract** selected bands in **specified order** \n",
    "Works like the replace method, however, the result will **only contain** the transformation of the **specified** bands"
   ]
  },
  {
   "cell_type": "markdown",
   "metadata": {},
   "source": [
    "##### **Multi-** selection, **single** limits and replacement, NoData **read-in**"
   ]
  },
  {
   "cell_type": "code",
   "execution_count": 175,
   "metadata": {},
   "outputs": [],
   "source": [
    "image, meta, settings = winsorize.winsorize(in_data=test_image, selection=[3, 1], limits=[(10, 10)],\n",
    "                                            replace_type=\"percentiles\", replace_position=[\"outside\"], \n",
    "                                            nodata=None, method=\"extract\")\n"
   ]
  },
  {
   "attachments": {},
   "cell_type": "markdown",
   "metadata": {},
   "source": [
    "##### **Unordered multi-** selection, limits and replacement, **multi-** NoData (**mixed**)\n",
    "NoData **specified** and **read-in** <br>\n",
    "**Unordered** band selection **does** affect the order of the resulting output\n",
    "\n",
    "Example:\n",
    "- in band 3 = out band 1, limits (1, 3), replace_values (-100, 100), nodata 1.771\n",
    "- in band 1 = out band 2, limits (0, 2), replace_values (-1, 1), nodata **read-in**\n",
    "- in band 4 = out band 3, limits (2, 4), replace_values (-1000, 1000), nodata 0"
   ]
  },
  {
   "cell_type": "code",
   "execution_count": 176,
   "metadata": {},
   "outputs": [],
   "source": [
    "image, meta, settings = winsorize.winsorize(in_data=test_image, selection=[3, 1, 4], limits=[(10, 10), (10, 5), (5, 10)],\n",
    "                                            replace_type=\"percentiles\", replace_position=[\"outside\", \"outside\", \"inside\"], \n",
    "                                            nodata=[1.771, None, 0], method=\"extract\")\n"
   ]
  }
 ],
 "metadata": {
  "kernelspec": {
   "display_name": "Python 3 (ipykernel)",
   "language": "python",
   "name": "python3"
  },
  "language_info": {
   "codemirror_mode": {
    "name": "ipython",
    "version": 3
   },
   "file_extension": ".py",
   "mimetype": "text/x-python",
   "name": "python",
   "nbconvert_exporter": "python",
   "pygments_lexer": "ipython3",
   "version": "3.10.6"
  },
  "vscode": {
   "interpreter": {
    "hash": "e687a3848d69dbf0c9bd2caf808aa15218d0c5189b12d461f81037b93c705be1"
   }
  }
 },
 "nbformat": 4,
 "nbformat_minor": 4
}

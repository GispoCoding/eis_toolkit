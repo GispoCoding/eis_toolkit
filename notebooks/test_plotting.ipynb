{
 "cells": [
  {
   "cell_type": "code",
   "execution_count": 3,
   "metadata": {},
   "outputs": [
    {
     "ename": "ModuleNotFoundError",
     "evalue": "No module named 'eis_toolkit.exploratory_analyses.plots'",
     "output_type": "error",
     "traceback": [
      "\u001b[0;31m---------------------------------------------------------------------------\u001b[0m",
      "\u001b[0;31mModuleNotFoundError\u001b[0m                       Traceback (most recent call last)",
      "Cell \u001b[0;32mIn[3], line 8\u001b[0m\n\u001b[1;32m      6\u001b[0m \u001b[39mimport\u001b[39;00m \u001b[39msys\u001b[39;00m\n\u001b[1;32m      7\u001b[0m sys\u001b[39m.\u001b[39mpath\u001b[39m.\u001b[39minsert(\u001b[39m0\u001b[39m, \u001b[39m\"\u001b[39m\u001b[39m..\u001b[39m\u001b[39m\"\u001b[39m)\n\u001b[0;32m----> 8\u001b[0m \u001b[39mfrom\u001b[39;00m \u001b[39meis_toolkit\u001b[39;00m\u001b[39m.\u001b[39;00m\u001b[39mexploratory_analyses\u001b[39;00m\u001b[39m.\u001b[39;00m\u001b[39mplots\u001b[39;00m\u001b[39m.\u001b[39;00m\u001b[39mscatterplot\u001b[39;00m \u001b[39mimport\u001b[39;00m scatterplot\n\u001b[1;32m      9\u001b[0m \u001b[39mfrom\u001b[39;00m \u001b[39meis_toolkit\u001b[39;00m\u001b[39m.\u001b[39;00m\u001b[39mexploratory_analyses\u001b[39;00m\u001b[39m.\u001b[39;00m\u001b[39mplots\u001b[39;00m\u001b[39m.\u001b[39;00m\u001b[39mlineplot\u001b[39;00m \u001b[39mimport\u001b[39;00m lineplot\n\u001b[1;32m     10\u001b[0m \u001b[39mfrom\u001b[39;00m \u001b[39meis_toolkit\u001b[39;00m\u001b[39m.\u001b[39;00m\u001b[39mexploratory_analyses\u001b[39;00m\u001b[39m.\u001b[39;00m\u001b[39mplots\u001b[39;00m\u001b[39m.\u001b[39;00m\u001b[39mhistogram\u001b[39;00m \u001b[39mimport\u001b[39;00m histogram\n",
      "\u001b[0;31mModuleNotFoundError\u001b[0m: No module named 'eis_toolkit.exploratory_analyses.plots'"
     ]
    }
   ],
   "source": [
    "import seaborn as sns\n",
    "\n",
    "from matplotlib import pyplot as plt\n",
    "from pathlib import Path\n",
    "\n",
    "import sys\n",
    "sys.path.insert(0, \"..\")\n",
    "from eis_toolkit.exploratory_analyses.plots.scatterplot import scatterplot\n",
    "from eis_toolkit.exploratory_analyses.plots.lineplot import lineplot\n",
    "from eis_toolkit.exploratory_analyses.plots.histogram import histogram"
   ]
  },
  {
   "cell_type": "code",
   "execution_count": null,
   "metadata": {},
   "outputs": [],
   "source": [
    "penguins = sns.load_dataset(\"penguins\")\n",
    "iris = sns.load_dataset(\"iris\")"
   ]
  },
  {
   "cell_type": "code",
   "execution_count": null,
   "metadata": {},
   "outputs": [],
   "source": [
    "# Test scatterplot\n",
    "lineplot(penguins)"
   ]
  }
 ],
 "metadata": {
  "kernelspec": {
   "display_name": "eis_toolkit",
   "language": "python",
   "name": "python3"
  },
  "language_info": {
   "codemirror_mode": {
    "name": "ipython",
    "version": 3
   },
   "file_extension": ".py",
   "mimetype": "text/x-python",
   "name": "python",
   "nbconvert_exporter": "python",
   "pygments_lexer": "ipython3",
   "version": "3.10.12"
  },
  "orig_nbformat": 4
 },
 "nbformat": 4,
 "nbformat_minor": 2
}

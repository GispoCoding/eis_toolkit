{
 "cells": [
  {
   "cell_type": "code",
   "execution_count": 1,
   "metadata": {},
   "outputs": [],
   "source": [
    "from collections import Counter\n",
    "\n",
    "import sys\n",
    "sys.path.insert(0, \"..\")\n",
    "import numpy as np\n",
    "\n",
    "import matplotlib.pyplot as plt\n",
    "import pandas as pd\n",
    "from imblearn.combine import SMOTETomek\n",
    "from beartype import beartype\n",
    "from beartype.typing import Tuple\n",
    "from eis_toolkit.exceptions import EmptyDataFrameException\n",
    "\n",
    "LABELS = [\"No Mineral\", \"Mineral\"]"
   ]
  },
  {
   "cell_type": "code",
   "execution_count": 2,
   "metadata": {},
   "outputs": [],
   "source": [
    "def load_data(path1: str, path2: str) -> pd.DataFrame:\n",
    "    \"\"\"\n",
    "    Load two csv files from specified paths and concatenate them by rows.\n",
    "\n",
    "    - param path1 (str): Path to the GT.\n",
    "    - param path2 (str): Path to the other data\n",
    "    Return:\n",
    "    - dataframe: A concatenated dataframe combining rows from both CSV files\n",
    "    \"\"\"\n",
    "\n",
    "    df0 = pd.read_csv(path1)  # load a dataframe from the csv file located at path1\n",
    "    df1 = pd.read_csv(path2)  # load a dataframe from the csv file located at path2\n",
    "    return pd.concat([df1, df0])  # concatenate and return the concatenated dataframe\n"
   ]
  },
  {
   "cell_type": "code",
   "execution_count": 3,
   "metadata": {},
   "outputs": [],
   "source": [
    "def drop_columns(df: pd.DataFrame, columns_to_drop: list) -> pd.DataFrame:\n",
    "    \"\"\"\n",
    "    Drop specified columns from a dataframe.\n",
    "\n",
    "    This function takes in a dataframe and a list of column names, and returns\n",
    "    a new dataframe without those columns.\n",
    "\n",
    "    Parameters:\n",
    "    - df (pandas.DataFrame): The original dataframe from which columns need to be dropped.\n",
    "    - columns_to_drop (list): A list of column names to drop from the dataframe.\n",
    "\n",
    "    Returns:\n",
    "    - dataframe: A new dataframe with specified columns removed.\n",
    "    \"\"\"\n",
    "\n",
    "    return df.drop(columns_to_drop, axis=1)"
   ]
  },
  {
   "cell_type": "code",
   "execution_count": 4,
   "metadata": {},
   "outputs": [],
   "source": [
    "def plot_data_distribution(df: pd.DataFrame) -> None:\n",
    "    \"\"\"\n",
    "    Plot the distribution of the 'class' column from a dataframe.\n",
    "\n",
    "    This function takes in a dataframe and visualizes the distribution\n",
    "    of the 'class' column in a bar chart format. It assumes there are\n",
    "    two unique values in the 'class' column and labels them using the\n",
    "    global variable LABELS.\n",
    "\n",
    "    Parameters:\n",
    "    - df (pandas.DataFrame): The dataframe containing the 'class' column\n",
    "                             whose distribution needs to be visualized.\n",
    "\n",
    "    Returns:\n",
    "    - None: Displays a bar chart of the class distribution.\n",
    "\n",
    "    \"\"\"\n",
    "\n",
    "    count_classes = pd.value_counts(df[\"class\"], sort=True)\n",
    "    count_classes.plot(kind=\"bar\", rot=0)\n",
    "    plt.title(\"Data Class Distribution\")\n",
    "    plt.xticks(range(2), LABELS)\n",
    "    plt.xlabel(\"Class\")\n",
    "    plt.ylabel(\"Frequency\")\n",
    "    plt.show()"
   ]
  },
  {
   "cell_type": "code",
   "execution_count": 5,
   "metadata": {},
   "outputs": [],
   "source": [
    "def data_info(df: pd.DataFrame) -> None:\n",
    "    \"\"\"\n",
    "    Display the shape information of 'Mineral' and 'No_mineral' classes from a dataframe.\n",
    "\n",
    "    This function takes in a dataframe and prints out the shape (number of rows and columns)\n",
    "    of entries classified as 'Mineral' (class=1) and 'No_mineral' (class=0) based on the 'class' column.\n",
    "\n",
    "    Parameters:\n",
    "    - df (pandas.DataFrame): The dataframe containing the 'class' column,\n",
    "                             which differentiates between 'Mineral' and 'No_mineral'.\n",
    "\n",
    "    Returns:\n",
    "    - None: Prints out the shape information for both classes.\n",
    "    \"\"\"\n",
    "\n",
    "    Mineral = df[df[\"class\"] == 1]\n",
    "    No_mineral = df[df[\"class\"] == 0]\n",
    "    print(f\"Mineral.shape--->{Mineral.shape}  No_mineral--->{No_mineral.shape}\")\n",
    "\n"
   ]
  },
  {
   "cell_type": "code",
   "execution_count": 6,
   "metadata": {},
   "outputs": [],
   "source": [
    "def smote_tomek(features: pd.DataFrame, target_label: pd.Series) -> Tuple[pd.DataFrame, pd.Series]:\n",
    "    \"\"\"\n",
    "    Balance the dataset using SMOTETomek resampling method.\n",
    "    This function receives features `X` and target labels `y` as inputs and balance \n",
    "    the dataset using the SMOTETomek resampling technique. After resampling, it prints\n",
    "    the shape of the original and the resampled dataset. It's particularly useful for\n",
    "    addressing class imbalance problems.\n",
    "\n",
    "    Parameters:\n",
    "        X (pandas.DataFrame or pandas.Series): The feature matrix.\n",
    "        y (pandas.Series): The target labels corresponding to the feature matrix.\n",
    "\n",
    "    Returns:\n",
    "        tuple: Resampled feature matrix and target labels (X_res, y_res).\n",
    "\n",
    " \n",
    "    \"\"\"\n",
    "    if features is None or features.empty:\n",
    "        raise EmptyDataFrameException\n",
    "    smk = SMOTETomek(random_state=42)\n",
    "    X_res, y_res = smk.fit_resample(features, target_label)\n",
    "    return X_res, y_res\n"
   ]
  },
  {
   "cell_type": "code",
   "execution_count": 7,
   "metadata": {},
   "outputs": [
    {
     "name": "stdout",
     "output_type": "stream",
     "text": [
      "X.shape--->(1843581, 20) and y.shape--->(1843581,)\n"
     ]
    },
    {
     "data": {
      "image/png": "[encoded data removed]",
      "text/plain": [
       "<Figure size 640x480 with 1 Axes>"
      ]
     },
     "metadata": {},
     "output_type": "display_data"
    },
    {
     "name": "stdout",
     "output_type": "stream",
     "text": [
      "Mineral.shape--->(17, 21)  No_mineral--->(1843564, 21)\n"
     ]
    }
   ],
   "source": [
    "# defining the paths for two csv data files\n",
    "path1 = \"/home/dipak/Desktop/Final_EIS_Data/2M_raster_points.csv\"\n",
    "path2 = \"/home/dipak/Desktop/Final_EIS_Data/17_annoted_points.csv\"\n",
    "\n",
    "data_frame = load_data(path1, path2)\n",
    "data_frame = drop_columns(data_frame, [\"E\", \"N\"])\n",
    "\n",
    "# Define data as X and class as y\n",
    "X = data_frame.drop(\"class\", axis=1)\n",
    "y = data_frame[\"class\"]\n",
    "print(f\"X.shape--->{X.shape} and y.shape--->{y.shape}\")\n",
    "\n",
    "# plotting the data_distribution\n",
    "plot_data_distribution(data_frame)\n",
    "\n",
    "# calling the data_info function\n",
    "data_info(data_frame)\n",
    "\n",
    "# calling the function balance_data to address the issue for class imbalance\n",
    "X_SMOTET_balance, y_SMOTET_balance = smote_tomek(X, y)"
   ]
  },
  {
   "cell_type": "code",
   "execution_count": null,
   "metadata": {},
   "outputs": [],
   "source": [
    "# Define data as X and class as y\n",
    "X_SMOTET_balance = data_frame.drop(\"class\", axis=1)\n",
    "y_SMOTET_balance = data_frame[\"class\"]\n",
    "print(f\"X.shape--->{X_SMOTET_balance.shape} and y.shape--->{y_SMOTET_balance.shape}\")"
   ]
  }
 ],
 "metadata": {
  "kernelspec": {
   "display_name": "maati",
   "language": "python",
   "name": "python3"
  },
  "language_info": {
   "codemirror_mode": {
    "name": "ipython",
    "version": 3
   },
   "file_extension": ".py",
   "mimetype": "text/x-python",
   "name": "python",
   "nbconvert_exporter": "python",
   "pygments_lexer": "ipython3",
   "version": "3.8.13"
  },
  "orig_nbformat": 4
 },
 "nbformat": 4,
 "nbformat_minor": 2
}

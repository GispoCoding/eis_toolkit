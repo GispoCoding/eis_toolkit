{
 "cells": [
  {
   "cell_type": "markdown",
   "metadata": {},
   "source": [
    "### Predicting with Bayesian Neural Network Classifier\n",
    "Binary Case"
   ]
  },
  {
   "cell_type": "code",
   "metadata": {
    "ExecuteTime": {
     "end_time": "2025-06-20T11:28:11.750644Z",
     "start_time": "2025-06-20T11:28:06.880497Z"
    }
   },
   "source": [
    "import rasterio\n",
    "\n",
    "from eis_toolkit.prediction.bayesian_neural_network import bayesian_neural_network_classifier_train\n",
    "from eis_toolkit.prediction.machine_learning_general import prepare_data_for_ml, reshape_predictions\n",
    "from eis_toolkit.evaluation.scoring import score_predictions\n",
    "from eis_toolkit.evaluation.classification_probability_evaluation import summarize_probability_metrics"
   ],
   "outputs": [],
   "execution_count": 1
  },
  {
   "metadata": {},
   "cell_type": "markdown",
   "source": "Load data"
  },
  {
   "metadata": {},
   "cell_type": "code",
   "outputs": [],
   "execution_count": null,
   "source": [
    "# Put in your own data to test the workflow\n",
    "train_features_paths = [\n",
    "    \"../tests/data/local/data/train_feature_1.tif\",\n",
    "    \"../tests/data/local/data/train_feature_2.tif\",\n",
    "    \"...\",\n",
    "]\n",
    "train_labels_path = \"../tests/data/local/data/train_labels.tif\"\n",
    "\n",
    "test_features_paths = [\n",
    "    \"../tests/data/local/data/test_feature_1.tif\",\n",
    "    \"../tests/data/local/data/test_feature_2.tif\",\n",
    "    \"...\",\n",
    "]\n",
    "test_labels_path = \"../tests/data/local/data/test_labels.tif\""
   ]
  },
  {
   "metadata": {},
   "cell_type": "markdown",
   "source": "Prepare data for modeling (based on **rasterized** data)"
  },
  {
   "metadata": {},
   "cell_type": "code",
   "outputs": [],
   "execution_count": null,
   "source": [
    "X_train, y_train, _, _ = prepare_data_for_ml(test_features_paths, test_labels_path)\n",
    "X_test, y_test, reference_meta, nodata_mask = prepare_data_for_ml(test_features_paths, test_labels_path)\n"
   ]
  },
  {
   "metadata": {},
   "cell_type": "markdown",
   "source": "Run Bayesian classifier"
  },
  {
   "metadata": {},
   "cell_type": "code",
   "outputs": [],
   "execution_count": null,
   "source": [
    "model = bayesian_neural_network_classifier_train(X_train, y_train)\n",
    "\n",
    "model_history = model.history()\n",
    "print(model_history.history)\n"
   ]
  },
  {
   "metadata": {},
   "cell_type": "markdown",
   "source": "Predict **with uncertainty**"
  },
  {
   "metadata": {},
   "cell_type": "code",
   "outputs": [],
   "execution_count": null,
   "source": "probabilities, uncertainties = model.predict_with_uncertainty(X_test)\n"
  },
  {
   "metadata": {},
   "cell_type": "markdown",
   "source": "Reshape into raster dimensions"
  },
  {
   "metadata": {},
   "cell_type": "code",
   "outputs": [],
   "execution_count": null,
   "source": [
    "reshaped_predictions = reshape_predictions(\n",
    "    probabilities,\n",
    "    reference_meta[\"height\"],\n",
    "    reference_meta[\"width\"],\n",
    "    nodata_mask\n",
    ")\n",
    "\n",
    "reshaped_uncertainties = reshape_predictions(\n",
    "    uncertainties,\n",
    "    reference_meta[\"height\"],\n",
    "    reference_meta[\"width\"],\n",
    "    nodata_mask\n",
    ")\n"
   ]
  },
  {
   "metadata": {},
   "cell_type": "markdown",
   "source": "Get some scores"
  },
  {
   "metadata": {},
   "cell_type": "code",
   "outputs": [],
   "execution_count": null,
   "source": [
    "metrics = score_predictions(\n",
    "    y_true=y_train,\n",
    "    y_pred=probabilities > 0.5,\n",
    "    metrics=[\"accuracy\", \"precision\", \"recall\", \"f1\"],\n",
    "    decimals=3\n",
    ")\n",
    "\n",
    "print(metrics)\n",
    "\n",
    "prob_metrics = summarize_probability_metrics(\n",
    "    y_true=y_train,\n",
    "    y_prob=probabilities,\n",
    "    decimals=3,\n",
    ")\n",
    "\n",
    "print(prob_metrics)\n"
   ]
  },
  {
   "metadata": {},
   "cell_type": "markdown",
   "source": "Save results"
  },
  {
   "metadata": {},
   "cell_type": "code",
   "outputs": [],
   "execution_count": null,
   "source": [
    "with rasterio.open(\n",
    "    \"file_path_predictions.tif\", \"w\", **reference_meta) as raster:\n",
    "    raster.write(reshaped_predictions, 1)\n",
    "    raster.close()\n",
    "\n",
    "with rasterio.open(\n",
    "    \"file_path_uncertainties.tif\", \"w\", **reference_meta) as raster:\n",
    "    raster.write(reshaped_uncertainties, 1)\n",
    "    raster.close()"
   ]
  }
 ],
 "metadata": {
  "kernelspec": {
   "display_name": "eis-toolkit-etd5gUv0-py3.10",
   "language": "python",
   "name": "python3"
  },
  "language_info": {
   "codemirror_mode": {
    "name": "ipython",
    "version": 3
   },
   "file_extension": ".py",
   "mimetype": "text/x-python",
   "name": "python",
   "nbconvert_exporter": "python",
   "pygments_lexer": "ipython3",
   "version": "3.10.12"
  }
 },
 "nbformat": 4,
 "nbformat_minor": 2
}

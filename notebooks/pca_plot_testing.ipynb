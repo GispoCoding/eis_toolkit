{
 "cells": [
  {
   "cell_type": "code",
   "execution_count": 1,
   "metadata": {},
   "outputs": [],
   "source": [
    "import plotly.express as px\n",
    "import pandas as pd\n",
    "\n",
    "import sys\n",
    "sys.path.insert(0, \"..\")\n",
    "from eis_toolkit.exploratory_analyses.pca import compute_pca\n",
    "from eis_toolkit.exploratory_analyses.plot_pca import plot_pca"
   ]
  },
  {
   "cell_type": "markdown",
   "metadata": {},
   "source": [
    "Test with Iris flower dataset"
   ]
  },
  {
   "cell_type": "code",
   "execution_count": 2,
   "metadata": {},
   "outputs": [
    {
     "data": {
      "application/vnd.plotly.v1+json": {
       "config": {
        "plotlyServerURL": "https://plot.ly"
       },
       "data": [
        {
         "diagonal": {
          "visible": false
         },
         "dimensions": [
          {
           "axis": {
            "matches": true
           },
           "label": "PC 1 (76.6%)",
           "values": [
            -2.576197512060453,
            -2.419715345583539,
            -2.6623023507134143,
            -2.605790155496764,
            -2.683087739100949,
            -2.408590305673997,
            -2.7278909404466263,
            -2.5484918678926713,
            -2.636798520307835,
            -2.5091932009524838,
            -2.4911935802885776,
            -2.6276764507653954,
            -2.539100658882456,
            -2.8954981468330763,
            -2.520314945831108,
            -2.568690007287855,
            -2.5238165098694942,
            -2.5108077657223298,
            -2.2590986910500144,
            -2.6406851949125603,
            -2.2748964979517243,
            -2.5224007884947413,
            -3.014296211139644,
            -2.1878192997400685,
            -2.5412567976187725,
            -2.3081066765249907,
            -2.388905824167562,
            -2.493395394050774,
            -2.469307285019947,
            -2.5758826975667923,
            -2.4689924705262913,
            -2.2017301073732383,
            -2.8761531008671004,
            -2.73047786477516,
            -2.5091932009524838,
            -2.5291222008798915,
            -2.389021795266124,
            -2.5091932009524838,
            -2.7184997314364105,
            -2.4944963009318717,
            -2.593609883732004,
            -2.228851797579583,
            -2.8242890515958137,
            -2.311020991571028,
            -2.460069244378945,
            -2.4083211662062207,
            -2.677268390201803,
            -2.687491366625341,
            -2.5451891472493773,
            -2.524403758861844
           ]
          },
          {
           "axis": {
            "matches": true
           },
           "label": "PC 2 (18.4%)",
           "values": [
            0.49864979988855884,
            -0.6605183611636536,
            -0.3266114923197638,
            -0.5829246931343349,
            0.6663543186052344,
            1.513045670946772,
            0.06531908481859725,
            0.24083443048453082,
            -1.1030619377107662,
            -0.4547180256962653,
            1.0645935541033975,
            0.15072357979717657,
            -0.7155377322792104,
            -0.9490767862396146,
            1.8838461719538893,
            2.715016004458477,
            1.5070369965889399,
            0.5078626613657085,
            1.4277413100297602,
            1.1498979150204074,
            0.4270648062170712,
            0.9455997481424767,
            0.47711960569377826,
            0.10377283337821859,
            0.1552300855655504,
            -0.6117075143463333,
            0.26076232202828653,
            0.545958478116424,
            0.33094528117188504,
            -0.3221049865513901,
            -0.4898095052680648,
            0.4424861919924532,
            1.8178117867697567,
            2.176453036927748,
            -0.4547180256962653,
            -0.19069413199400362,
            0.6803736698527263,
            -0.4547180256962653,
            -0.8910530779451434,
            0.2866409401229367,
            0.4605539831378447,
            -2.330610905315153,
            -0.4640310212349819,
            0.49269907333766527,
            1.165119450855388,
            -0.6971120093249126,
            1.1421872221327163,
            -0.37091583336871214,
            1.0187870444649911,
            0.025821233539992095
           ]
          },
          {
           "axis": {
            "matches": true
           },
           "label": "PC 3 (3.7%)",
           "values": [
            -0.0478628086508461,
            -0.1957363439220339,
            0.12024437850122574,
            0.1420381047666781,
            0.10929955484355018,
            0.039541127453538445,
            0.39260944505664236,
            -0.0244130869509169,
            0.19390553446994893,
            -0.18219439149201241,
            -0.19086427866851113,
            0.156198998243402,
            -0.1554326789231392,
            0.3052055089522609,
            -0.3523474840826845,
            0.09959261327928084,
            0.046165109191432005,
            0.0029675666646591455,
            -0.3507196919851476,
            0.19939654077017546,
            -0.39226123907744787,
            0.1841985929056806,
            0.4804596978390277,
            -0.0323963153677514,
            0.1512310119399818,
            -0.2901823751053767,
            0.07559166824561282,
            -0.14065284439971212,
            -0.2050251721452355,
            0.1152763921978045,
            -0.041885971296587846,
            -0.2872884975774981,
            0.2046867193647657,
            0.04979929235154984,
            -0.18219439149201241,
            -0.15150174700748975,
            -0.41074297447395325,
            -0.18219439149201241,
            0.261589853084419,
            -0.11554712726531251,
            0.09575760241352821,
            -0.2409120741744517,
            0.3936464994444123,
            0.2432807420566127,
            0.24360293434778346,
            -0.053771928292136166,
            0.14691017002020051,
            0.2097224233811477,
            -0.09973023835411447,
            -0.08878541469644013
           ]
          }
         ],
         "hovertemplate": "color=setosa<br>%{xaxis.title.text}=%{x}<br>%{yaxis.title.text}=%{y}<extra></extra>",
         "legendgroup": "setosa",
         "marker": {
          "color": "#636efa",
          "symbol": "circle"
         },
         "name": "setosa",
         "showlegend": true,
         "type": "splom"
        },
        {
         "diagonal": {
          "visible": false
         },
         "dimensions": [
          {
           "axis": {
            "matches": true
           },
           "label": "PC 1 (76.6%)",
           "values": [
            0.9501395439643634,
            0.6339427864399357,
            1.0720414855191325,
            0.3492223765894476,
            0.9283235447684153,
            0.3367729653569106,
            0.6500554078353011,
            -0.42546078161152445,
            0.7986449589732784,
            0.012240230677485718,
            -0.10227347223417008,
            0.38333461864871854,
            0.4759256324587931,
            0.6228634215562731,
            -0.029376221123460007,
            0.7546278500150442,
            0.30776757091294277,
            0.13226774918756112,
            1.0548982533153515,
            0.13784257966573416,
            0.6465538437969143,
            0.40872247795573646,
            1.0654360442325441,
            0.5449785889597395,
            0.6042341719050566,
            0.7535269431339457,
            1.0825336014104452,
            1.1765310554023443,
            0.5766444988358422,
            -0.04167246398678276,
            0.10793512173576202,
            0.013738824348770221,
            0.20543413976604757,
            0.920662871626609,
            0.1997764369913443,
            0.37756094477545227,
            0.9064372494997848,
            0.8964131164713408,
            0.06176187404121007,
            0.24343305643004415,
            0.24037485420772273,
            0.5411622104276969,
            0.28713535089462333,
            -0.3185705545710237,
            0.2492524053291892,
            0.07917424571276686,
            0.19745865213058614,
            0.4962430379834577,
            -0.39139421457813245,
            0.22154676116141309
           ]
          },
          {
           "axis": {
            "matches": true
           },
           "label": "PC 2 (18.4%)",
           "values": [
            0.8742437043120722,
            0.6056131707798689,
            0.6271433649746503,
            -1.7541812370630991,
            -0.20112226441259023,
            -0.5875022330635945,
            0.7855348881526072,
            -1.8536630310961064,
            0.039769550626598656,
            -1.0298459596703036,
            -2.658896297699107,
            -0.05494793989069679,
            -1.7662983016575948,
            -0.17854796749882493,
            -0.43331723165204145,
            0.5188066412733995,
            -0.1878609630375415,
            -0.788854010569547,
            -1.6211101320477483,
            -1.301280562258288,
            0.4087257127876591,
            -0.41178703745726014,
            -0.92876186298627,
            -0.41048471880820336,
            -0.056349974418587044,
            0.2594891032799125,
            -0.0699112597956051,
            0.3419472088865131,
            -0.21814595283899776,
            -1.0571845600997813,
            -1.5621002688412322,
            -1.572815298907839,
            -0.7734326247941651,
            -0.6269421365352619,
            -0.2794739823143533,
            0.8586220504135539,
            0.5325260085189223,
            -1.381720485598019,
            -0.21229536034967103,
            -1.327159180352938,
            -1.116852339117174,
            0.0334608922667979,
            -0.9854414845597875,
            -2.0213675498127817,
            -0.8513262768254547,
            -0.17419954359895573,
            -0.3784977104768876,
            -0.14796299369539934,
            -1.5438326277554393,
            -0.5935109074214262
           ]
          },
          {
           "axis": {
            "matches": true
           },
           "label": "PC 3 (3.7%)",
           "values": [
            -0.8709656625150182,
            -0.2700190544441941,
            -0.798341560934064,
            -0.13744837369323593,
            -0.62692238291305,
            0.002145184405588166,
            -0.0653383065032463,
            0.3344850334679454,
            -0.7536888506784518,
            0.4525534107199135,
            -0.024074290435383665,
            0.05856248707121255,
            -0.8116380243917167,
            -0.24884426922544398,
            0.17421150681024178,
            -0.6586238784484068,
            0.32699662171098104,
            -0.300884323297415,
            -0.7480342056153683,
            -0.19653052284416792,
            0.3331742867708703,
            -0.3541109996796284,
            -0.6477072581276677,
            -0.41653334303644374,
            -0.5664527837462403,
            -0.6335181613140072,
            -0.954466870040686,
            -0.5820970482887392,
            -0.10356786272659993,
            -0.2658426335561756,
            -0.16976881027529556,
            -0.2189431901563237,
            -0.1959115817974652,
            -0.19473010637793192,
            0.5092647023397724,
            0.2774041284888848,
            -0.6127614894363255,
            -0.873144677946297,
            0.2319598528178715,
            -0.005391727333242569,
            0.0031822387933589883,
            -0.18115995061097379,
            -0.2635959004119352,
            0.17732266997355303,
            0.03221888784340834,
            0.08833944175350011,
            0.07314149388900501,
            -0.3841847031174483,
            0.27404363763807243,
            0.008769166143481723
           ]
          }
         ],
         "hovertemplate": "color=versicolor<br>%{xaxis.title.text}=%{x}<br>%{yaxis.title.text}=%{y}<extra></extra>",
         "legendgroup": "versicolor",
         "marker": {
          "color": "#EF553B",
          "symbol": "circle"
         },
         "name": "versicolor",
         "showlegend": true,
         "type": "splom"
        },
        {
         "diagonal": {
          "visible": false
         },
         "dimensions": [
          {
           "axis": {
            "matches": true
           },
           "label": "PC 1 (76.6%)",
           "values": [
            2.219492451373978,
            1.615285139579615,
            2.5197754308981337,
            1.858116663130464,
            2.2323852244225804,
            2.9913991230442516,
            0.9314955581223421,
            2.5997181900805786,
            2.343290673390217,
            2.575575124830943,
            1.7941705542448212,
            1.9968716434421612,
            2.2425625258202375,
            1.7036620880674622,
            1.8893392111905016,
            1.9939573283961234,
            1.884406585923487,
            2.7164337067544313,
            3.4741724761467156,
            1.6973840374983773,
            2.3791613673956182,
            1.4621759898186835,
            3.114600814875212,
            1.7622601259477466,
            2.0874960807180836,
            2.300618989734052,
            1.6265633478583714,
            1.4955850117870433,
            2.1611761291853178,
            2.218015715119471,
            2.7143850613614497,
            2.607225694853172,
            2.2265658755234354,
            1.5708093289514409,
            1.647250524095499,
            3.032141427436914,
            1.9859818407606613,
            1.777516358882986,
            1.412782893777369,
            2.214856881652462,
            2.3606480888429644,
            2.2592167211820735,
            1.615285139579615,
            2.3827789025325674,
            2.3490550660705534,
            2.232926798389051,
            1.9622457434941412,
            1.9287664254530987,
            1.808983425363996,
            1.4452069799631928
           ]
          },
          {
           "axis": {
            "matches": true
           },
           "label": "PC 2 (18.4%)",
           "values": [
            0.87365623829104,
            -0.705239166199488,
            0.5612216158349937,
            -0.05088657982715616,
            0.2940932508922483,
            0.8007693441532296,
            -1.5719585441463493,
            0.4176936966831101,
            -0.7187003175149377,
            1.9279500786913952,
            0.6921744045219065,
            -0.42739577119013517,
            0.4177934125619438,
            -1.170357039660364,
            -0.44566383045866353,
            0.6770108164938631,
            0.25273529921527893,
            2.5653791106988875,
            0.01546396909398545,
            -1.7195349031961318,
            0.9120520390437254,
            -0.5771326328229872,
            0.41184310419378345,
            -0.4884238166635222,
            1.015524325167695,
            1.007913766341573,
            -0.32222146653630623,
            0.06049624912490689,
            -0.19095251411238381,
            0.5594616494981975,
            0.2561977022646689,
            2.634059901253028,
            -0.18173965263523492,
            -0.29954703556097323,
            -0.8198841300778053,
            0.857490733798644,
            1.0719457308111404,
            0.42043981793195373,
            0.013187570897043,
            0.675608781965973,
            0.6146386842995234,
            0.6895279991518969,
            -0.705239166199488,
            0.8692498665842348,
            1.0523757710762907,
            0.3859061201094619,
            -0.9047308433070771,
            0.2666545164012029,
            1.0139220225166696,
            -0.02811243297298909
           ]
          },
          {
           "axis": {
            "matches": true
           },
           "label": "PC 3 (3.7%)",
           "values": [
            0.9218193578890549,
            0.6912413273983066,
            -0.20700343999363524,
            0.3085174196984514,
            0.3922871726427154,
            -0.6742656096069288,
            1.287666265843714,
            -0.614414951486822,
            -0.32344402514806603,
            0.29804196916500747,
            0.4342750364130194,
            0.14112509464298356,
            0.07302266268744612,
            0.702805092102684,
            1.0114215271558107,
            0.6745882118049727,
            0.19393365768412946,
            -0.18799868460032437,
            -0.9328201783137293,
            -0.02283387495800126,
            0.2122940284950993,
            0.9936800973915433,
            -0.9499426670312937,
            0.18805274137977213,
            0.3589296816728849,
            -0.3202279553290162,
            0.3468711003086376,
            0.568405791548554,
            0.30384618215056286,
            -0.550633361451066,
            -0.7174349487967671,
            -0.4669595295566994,
            0.35467655746606447,
            0.09827794774431717,
            0.08937902952524765,
            -0.6554589221179558,
            0.9436412874914435,
            0.35109602117852173,
            0.661195827297423,
            0.04957294098751982,
            0.3810201566938695,
            0.15620167792194295,
            0.6912413273983066,
            0.30011607794054884,
            0.562251182934891,
            0.27078543993626475,
            0.10517047490080683,
            0.3005623946185526,
            0.9872569433592846,
            0.7473618813083986
           ]
          }
         ],
         "hovertemplate": "color=virginica<br>%{xaxis.title.text}=%{x}<br>%{yaxis.title.text}=%{y}<extra></extra>",
         "legendgroup": "virginica",
         "marker": {
          "color": "#00cc96",
          "symbol": "circle"
         },
         "name": "virginica",
         "showlegend": true,
         "type": "splom"
        }
       ],
       "layout": {
        "autosize": true,
        "dragmode": "select",
        "legend": {
         "title": {
          "text": "color"
         },
         "tracegroupgap": 0
        },
        "margin": {
         "t": 60
        },
        "template": {
         "data": {
          "bar": [
           {
            "error_x": {
             "color": "#2a3f5f"
            },
            "error_y": {
             "color": "#2a3f5f"
            },
            "marker": {
             "line": {
              "color": "#E5ECF6",
              "width": 0.5
             },
             "pattern": {
              "fillmode": "overlay",
              "size": 10,
              "solidity": 0.2
             }
            },
            "type": "bar"
           }
          ],
          "barpolar": [
           {
            "marker": {
             "line": {
              "color": "#E5ECF6",
              "width": 0.5
             },
             "pattern": {
              "fillmode": "overlay",
              "size": 10,
              "solidity": 0.2
             }
            },
            "type": "barpolar"
           }
          ],
          "carpet": [
           {
            "aaxis": {
             "endlinecolor": "#2a3f5f",
             "gridcolor": "white",
             "linecolor": "white",
             "minorgridcolor": "white",
             "startlinecolor": "#2a3f5f"
            },
            "baxis": {
             "endlinecolor": "#2a3f5f",
             "gridcolor": "white",
             "linecolor": "white",
             "minorgridcolor": "white",
             "startlinecolor": "#2a3f5f"
            },
            "type": "carpet"
           }
          ],
          "choropleth": [
           {
            "colorbar": {
             "outlinewidth": 0,
             "ticks": ""
            },
            "type": "choropleth"
           }
          ],
          "contour": [
           {
            "colorbar": {
             "outlinewidth": 0,
             "ticks": ""
            },
            "colorscale": [
             [
              0,
              "#0d0887"
             ],
             [
              0.1111111111111111,
              "#46039f"
             ],
             [
              0.2222222222222222,
              "#7201a8"
             ],
             [
              0.3333333333333333,
              "#9c179e"
             ],
             [
              0.4444444444444444,
              "#bd3786"
             ],
             [
              0.5555555555555556,
              "#d8576b"
             ],
             [
              0.6666666666666666,
              "#ed7953"
             ],
             [
              0.7777777777777778,
              "#fb9f3a"
             ],
             [
              0.8888888888888888,
              "#fdca26"
             ],
             [
              1,
              "#f0f921"
             ]
            ],
            "type": "contour"
           }
          ],
          "contourcarpet": [
           {
            "colorbar": {
             "outlinewidth": 0,
             "ticks": ""
            },
            "type": "contourcarpet"
           }
          ],
          "heatmap": [
           {
            "colorbar": {
             "outlinewidth": 0,
             "ticks": ""
            },
            "colorscale": [
             [
              0,
              "#0d0887"
             ],
             [
              0.1111111111111111,
              "#46039f"
             ],
             [
              0.2222222222222222,
              "#7201a8"
             ],
             [
              0.3333333333333333,
              "#9c179e"
             ],
             [
              0.4444444444444444,
              "#bd3786"
             ],
             [
              0.5555555555555556,
              "#d8576b"
             ],
             [
              0.6666666666666666,
              "#ed7953"
             ],
             [
              0.7777777777777778,
              "#fb9f3a"
             ],
             [
              0.8888888888888888,
              "#fdca26"
             ],
             [
              1,
              "#f0f921"
             ]
            ],
            "type": "heatmap"
           }
          ],
          "heatmapgl": [
           {
            "colorbar": {
             "outlinewidth": 0,
             "ticks": ""
            },
            "colorscale": [
             [
              0,
              "#0d0887"
             ],
             [
              0.1111111111111111,
              "#46039f"
             ],
             [
              0.2222222222222222,
              "#7201a8"
             ],
             [
              0.3333333333333333,
              "#9c179e"
             ],
             [
              0.4444444444444444,
              "#bd3786"
             ],
             [
              0.5555555555555556,
              "#d8576b"
             ],
             [
              0.6666666666666666,
              "#ed7953"
             ],
             [
              0.7777777777777778,
              "#fb9f3a"
             ],
             [
              0.8888888888888888,
              "#fdca26"
             ],
             [
              1,
              "#f0f921"
             ]
            ],
            "type": "heatmapgl"
           }
          ],
          "histogram": [
           {
            "marker": {
             "pattern": {
              "fillmode": "overlay",
              "size": 10,
              "solidity": 0.2
             }
            },
            "type": "histogram"
           }
          ],
          "histogram2d": [
           {
            "colorbar": {
             "outlinewidth": 0,
             "ticks": ""
            },
            "colorscale": [
             [
              0,
              "#0d0887"
             ],
             [
              0.1111111111111111,
              "#46039f"
             ],
             [
              0.2222222222222222,
              "#7201a8"
             ],
             [
              0.3333333333333333,
              "#9c179e"
             ],
             [
              0.4444444444444444,
              "#bd3786"
             ],
             [
              0.5555555555555556,
              "#d8576b"
             ],
             [
              0.6666666666666666,
              "#ed7953"
             ],
             [
              0.7777777777777778,
              "#fb9f3a"
             ],
             [
              0.8888888888888888,
              "#fdca26"
             ],
             [
              1,
              "#f0f921"
             ]
            ],
            "type": "histogram2d"
           }
          ],
          "histogram2dcontour": [
           {
            "colorbar": {
             "outlinewidth": 0,
             "ticks": ""
            },
            "colorscale": [
             [
              0,
              "#0d0887"
             ],
             [
              0.1111111111111111,
              "#46039f"
             ],
             [
              0.2222222222222222,
              "#7201a8"
             ],
             [
              0.3333333333333333,
              "#9c179e"
             ],
             [
              0.4444444444444444,
              "#bd3786"
             ],
             [
              0.5555555555555556,
              "#d8576b"
             ],
             [
              0.6666666666666666,
              "#ed7953"
             ],
             [
              0.7777777777777778,
              "#fb9f3a"
             ],
             [
              0.8888888888888888,
              "#fdca26"
             ],
             [
              1,
              "#f0f921"
             ]
            ],
            "type": "histogram2dcontour"
           }
          ],
          "mesh3d": [
           {
            "colorbar": {
             "outlinewidth": 0,
             "ticks": ""
            },
            "type": "mesh3d"
           }
          ],
          "parcoords": [
           {
            "line": {
             "colorbar": {
              "outlinewidth": 0,
              "ticks": ""
             }
            },
            "type": "parcoords"
           }
          ],
          "pie": [
           {
            "automargin": true,
            "type": "pie"
           }
          ],
          "scatter": [
           {
            "fillpattern": {
             "fillmode": "overlay",
             "size": 10,
             "solidity": 0.2
            },
            "type": "scatter"
           }
          ],
          "scatter3d": [
           {
            "line": {
             "colorbar": {
              "outlinewidth": 0,
              "ticks": ""
             }
            },
            "marker": {
             "colorbar": {
              "outlinewidth": 0,
              "ticks": ""
             }
            },
            "type": "scatter3d"
           }
          ],
          "scattercarpet": [
           {
            "marker": {
             "colorbar": {
              "outlinewidth": 0,
              "ticks": ""
             }
            },
            "type": "scattercarpet"
           }
          ],
          "scattergeo": [
           {
            "marker": {
             "colorbar": {
              "outlinewidth": 0,
              "ticks": ""
             }
            },
            "type": "scattergeo"
           }
          ],
          "scattergl": [
           {
            "marker": {
             "colorbar": {
              "outlinewidth": 0,
              "ticks": ""
             }
            },
            "type": "scattergl"
           }
          ],
          "scattermapbox": [
           {
            "marker": {
             "colorbar": {
              "outlinewidth": 0,
              "ticks": ""
             }
            },
            "type": "scattermapbox"
           }
          ],
          "scatterpolar": [
           {
            "marker": {
             "colorbar": {
              "outlinewidth": 0,
              "ticks": ""
             }
            },
            "type": "scatterpolar"
           }
          ],
          "scatterpolargl": [
           {
            "marker": {
             "colorbar": {
              "outlinewidth": 0,
              "ticks": ""
             }
            },
            "type": "scatterpolargl"
           }
          ],
          "scatterternary": [
           {
            "marker": {
             "colorbar": {
              "outlinewidth": 0,
              "ticks": ""
             }
            },
            "type": "scatterternary"
           }
          ],
          "surface": [
           {
            "colorbar": {
             "outlinewidth": 0,
             "ticks": ""
            },
            "colorscale": [
             [
              0,
              "#0d0887"
             ],
             [
              0.1111111111111111,
              "#46039f"
             ],
             [
              0.2222222222222222,
              "#7201a8"
             ],
             [
              0.3333333333333333,
              "#9c179e"
             ],
             [
              0.4444444444444444,
              "#bd3786"
             ],
             [
              0.5555555555555556,
              "#d8576b"
             ],
             [
              0.6666666666666666,
              "#ed7953"
             ],
             [
              0.7777777777777778,
              "#fb9f3a"
             ],
             [
              0.8888888888888888,
              "#fdca26"
             ],
             [
              1,
              "#f0f921"
             ]
            ],
            "type": "surface"
           }
          ],
          "table": [
           {
            "cells": {
             "fill": {
              "color": "#EBF0F8"
             },
             "line": {
              "color": "white"
             }
            },
            "header": {
             "fill": {
              "color": "#C8D4E3"
             },
             "line": {
              "color": "white"
             }
            },
            "type": "table"
           }
          ]
         },
         "layout": {
          "annotationdefaults": {
           "arrowcolor": "#2a3f5f",
           "arrowhead": 0,
           "arrowwidth": 1
          },
          "autotypenumbers": "strict",
          "coloraxis": {
           "colorbar": {
            "outlinewidth": 0,
            "ticks": ""
           }
          },
          "colorscale": {
           "diverging": [
            [
             0,
             "#8e0152"
            ],
            [
             0.1,
             "#c51b7d"
            ],
            [
             0.2,
             "#de77ae"
            ],
            [
             0.3,
             "#f1b6da"
            ],
            [
             0.4,
             "#fde0ef"
            ],
            [
             0.5,
             "#f7f7f7"
            ],
            [
             0.6,
             "#e6f5d0"
            ],
            [
             0.7,
             "#b8e186"
            ],
            [
             0.8,
             "#7fbc41"
            ],
            [
             0.9,
             "#4d9221"
            ],
            [
             1,
             "#276419"
            ]
           ],
           "sequential": [
            [
             0,
             "#0d0887"
            ],
            [
             0.1111111111111111,
             "#46039f"
            ],
            [
             0.2222222222222222,
             "#7201a8"
            ],
            [
             0.3333333333333333,
             "#9c179e"
            ],
            [
             0.4444444444444444,
             "#bd3786"
            ],
            [
             0.5555555555555556,
             "#d8576b"
            ],
            [
             0.6666666666666666,
             "#ed7953"
            ],
            [
             0.7777777777777778,
             "#fb9f3a"
            ],
            [
             0.8888888888888888,
             "#fdca26"
            ],
            [
             1,
             "#f0f921"
            ]
           ],
           "sequentialminus": [
            [
             0,
             "#0d0887"
            ],
            [
             0.1111111111111111,
             "#46039f"
            ],
            [
             0.2222222222222222,
             "#7201a8"
            ],
            [
             0.3333333333333333,
             "#9c179e"
            ],
            [
             0.4444444444444444,
             "#bd3786"
            ],
            [
             0.5555555555555556,
             "#d8576b"
            ],
            [
             0.6666666666666666,
             "#ed7953"
            ],
            [
             0.7777777777777778,
             "#fb9f3a"
            ],
            [
             0.8888888888888888,
             "#fdca26"
            ],
            [
             1,
             "#f0f921"
            ]
           ]
          },
          "colorway": [
           "#636efa",
           "#EF553B",
           "#00cc96",
           "#ab63fa",
           "#FFA15A",
           "#19d3f3",
           "#FF6692",
           "#B6E880",
           "#FF97FF",
           "#FECB52"
          ],
          "font": {
           "color": "#2a3f5f"
          },
          "geo": {
           "bgcolor": "white",
           "lakecolor": "white",
           "landcolor": "#E5ECF6",
           "showlakes": true,
           "showland": true,
           "subunitcolor": "white"
          },
          "hoverlabel": {
           "align": "left"
          },
          "hovermode": "closest",
          "mapbox": {
           "style": "light"
          },
          "paper_bgcolor": "white",
          "plot_bgcolor": "#E5ECF6",
          "polar": {
           "angularaxis": {
            "gridcolor": "white",
            "linecolor": "white",
            "ticks": ""
           },
           "bgcolor": "#E5ECF6",
           "radialaxis": {
            "gridcolor": "white",
            "linecolor": "white",
            "ticks": ""
           }
          },
          "scene": {
           "xaxis": {
            "backgroundcolor": "#E5ECF6",
            "gridcolor": "white",
            "gridwidth": 2,
            "linecolor": "white",
            "showbackground": true,
            "ticks": "",
            "zerolinecolor": "white"
           },
           "yaxis": {
            "backgroundcolor": "#E5ECF6",
            "gridcolor": "white",
            "gridwidth": 2,
            "linecolor": "white",
            "showbackground": true,
            "ticks": "",
            "zerolinecolor": "white"
           },
           "zaxis": {
            "backgroundcolor": "#E5ECF6",
            "gridcolor": "white",
            "gridwidth": 2,
            "linecolor": "white",
            "showbackground": true,
            "ticks": "",
            "zerolinecolor": "white"
           }
          },
          "shapedefaults": {
           "line": {
            "color": "#2a3f5f"
           }
          },
          "ternary": {
           "aaxis": {
            "gridcolor": "white",
            "linecolor": "white",
            "ticks": ""
           },
           "baxis": {
            "gridcolor": "white",
            "linecolor": "white",
            "ticks": ""
           },
           "bgcolor": "#E5ECF6",
           "caxis": {
            "gridcolor": "white",
            "linecolor": "white",
            "ticks": ""
           }
          },
          "title": {
           "x": 0.05
          },
          "xaxis": {
           "automargin": true,
           "gridcolor": "white",
           "linecolor": "white",
           "ticks": "",
           "title": {
            "standoff": 15
           },
           "zerolinecolor": "white",
           "zerolinewidth": 2
          },
          "yaxis": {
           "automargin": true,
           "gridcolor": "white",
           "linecolor": "white",
           "ticks": "",
           "title": {
            "standoff": 15
           },
           "zerolinecolor": "white",
           "zerolinewidth": 2
          }
         }
        },
        "xaxis": {
         "autorange": true,
         "range": [
          -3.8759001547534124,
          4.335776419760484
         ],
         "type": "linear"
        },
        "xaxis2": {
         "autorange": true,
         "range": [
          -3.3724982668734365,
          3.4286179736328064
         ],
         "type": "linear"
        },
        "xaxis3": {
         "autorange": true,
         "range": [
          -1.2521997936456613,
          1.5853991894486892
         ],
         "type": "linear"
        },
        "yaxis": {
         "autorange": true,
         "range": [
          -3.8759001547534124,
          4.335776419760484
         ],
         "type": "linear"
        },
        "yaxis2": {
         "autorange": true,
         "range": [
          -3.3724982668734365,
          3.4286179736328064
         ],
         "type": "linear"
        },
        "yaxis3": {
         "autorange": true,
         "range": [
          -1.2521997936456613,
          1.5853991894486892
         ],
         "type": "linear"
        }
       }
      },
      "image/png": "[encoded data removed]"
     },
     "metadata": {},
     "output_type": "display_data"
    }
   ],
   "source": [
    "data = px.data.iris()\n",
    "color_feat = \"species\"\n",
    "\n",
    "features = [feat for feat in data.columns if feat != color_feat]\n",
    "pca_df, explained_variances = compute_pca(data[features], 3)\n",
    "\n",
    "plot_pca(pca_df, explained_variances, data[color_feat])"
   ]
  },
  {
   "cell_type": "markdown",
   "metadata": {},
   "source": [
    "Test with a small made-up dataset"
   ]
  },
  {
   "cell_type": "code",
   "execution_count": 5,
   "metadata": {},
   "outputs": [
    {
     "data": {
      "application/vnd.plotly.v1+json": {
       "config": {
        "plotlyServerURL": "https://plot.ly"
       },
       "data": [
        {
         "diagonal": {
          "visible": false
         },
         "dimensions": [
          {
           "axis": {
            "matches": true
           },
           "label": "PC 1 (56.8%)",
           "values": [
            -1.0000672492635359
           ]
          },
          {
           "axis": {
            "matches": true
           },
           "label": "PC 2 (37.4%)",
           "values": [
            -0.8665616799724375
           ]
          },
          {
           "axis": {
            "matches": true
           },
           "label": "PC 3 (5.3%)",
           "values": [
            -0.6085006399643894
           ]
          }
         ],
         "hovertemplate": "color=silver<br>%{xaxis.title.text}=%{x}<br>%{yaxis.title.text}=%{y}<extra></extra>",
         "legendgroup": "silver",
         "marker": {
          "color": "#636efa",
          "symbol": "circle"
         },
         "name": "silver",
         "showlegend": true,
         "type": "splom"
        },
        {
         "diagonal": {
          "visible": false
         },
         "dimensions": [
          {
           "axis": {
            "matches": true
           },
           "label": "PC 1 (56.8%)",
           "values": [
            -1.6484388014778262,
            -2.1209499942325065
           ]
          },
          {
           "axis": {
            "matches": true
           },
           "label": "PC 2 (37.4%)",
           "values": [
            0.010442611413387995,
            0.9749229513572214
           ]
          },
          {
           "axis": {
            "matches": true
           },
           "label": "PC 3 (5.3%)",
           "values": [
            -0.2535043814648645,
            0.7659391244399961
           ]
          }
         ],
         "hovertemplate": "color=gold<br>%{xaxis.title.text}=%{x}<br>%{yaxis.title.text}=%{y}<extra></extra>",
         "legendgroup": "gold",
         "marker": {
          "color": "#EF553B",
          "symbol": "circle"
         },
         "name": "gold",
         "showlegend": true,
         "type": "splom"
        },
        {
         "diagonal": {
          "visible": false
         },
         "dimensions": [
          {
           "axis": {
            "matches": true
           },
           "label": "PC 1 (56.8%)",
           "values": [
            1.9537914151655909,
            0.6870607586771819
           ]
          },
          {
           "axis": {
            "matches": true
           },
           "label": "PC 2 (37.4%)",
           "values": [
            2.4786238967612775,
            -1.321179781219836
           ]
          },
          {
           "axis": {
            "matches": true
           },
           "label": "PC 3 (5.3%)",
           "values": [
            -0.3087641341891564,
            -0.23560065728664037
           ]
          }
         ],
         "hovertemplate": "color=copper<br>%{xaxis.title.text}=%{x}<br>%{yaxis.title.text}=%{y}<extra></extra>",
         "legendgroup": "copper",
         "marker": {
          "color": "#00cc96",
          "symbol": "circle"
         },
         "name": "copper",
         "showlegend": true,
         "type": "splom"
        },
        {
         "diagonal": {
          "visible": false
         },
         "dimensions": [
          {
           "axis": {
            "matches": true
           },
           "label": "PC 1 (56.8%)",
           "values": [
            2.1286038711310957
           ]
          },
          {
           "axis": {
            "matches": true
           },
           "label": "PC 2 (37.4%)",
           "values": [
            -1.2762479983396147
           ]
          },
          {
           "axis": {
            "matches": true
           },
           "label": "PC 3 (5.3%)",
           "values": [
            0.6404306884650541
           ]
          }
         ],
         "hovertemplate": "color=tin<br>%{xaxis.title.text}=%{x}<br>%{yaxis.title.text}=%{y}<extra></extra>",
         "legendgroup": "tin",
         "marker": {
          "color": "#ab63fa",
          "symbol": "circle"
         },
         "name": "tin",
         "showlegend": true,
         "type": "splom"
        }
       ],
       "layout": {
        "autosize": true,
        "dragmode": "select",
        "legend": {
         "title": {
          "text": "color"
         },
         "tracegroupgap": 0
        },
        "margin": {
         "t": 60
        },
        "template": {
         "data": {
          "bar": [
           {
            "error_x": {
             "color": "#2a3f5f"
            },
            "error_y": {
             "color": "#2a3f5f"
            },
            "marker": {
             "line": {
              "color": "#E5ECF6",
              "width": 0.5
             },
             "pattern": {
              "fillmode": "overlay",
              "size": 10,
              "solidity": 0.2
             }
            },
            "type": "bar"
           }
          ],
          "barpolar": [
           {
            "marker": {
             "line": {
              "color": "#E5ECF6",
              "width": 0.5
             },
             "pattern": {
              "fillmode": "overlay",
              "size": 10,
              "solidity": 0.2
             }
            },
            "type": "barpolar"
           }
          ],
          "carpet": [
           {
            "aaxis": {
             "endlinecolor": "#2a3f5f",
             "gridcolor": "white",
             "linecolor": "white",
             "minorgridcolor": "white",
             "startlinecolor": "#2a3f5f"
            },
            "baxis": {
             "endlinecolor": "#2a3f5f",
             "gridcolor": "white",
             "linecolor": "white",
             "minorgridcolor": "white",
             "startlinecolor": "#2a3f5f"
            },
            "type": "carpet"
           }
          ],
          "choropleth": [
           {
            "colorbar": {
             "outlinewidth": 0,
             "ticks": ""
            },
            "type": "choropleth"
           }
          ],
          "contour": [
           {
            "colorbar": {
             "outlinewidth": 0,
             "ticks": ""
            },
            "colorscale": [
             [
              0,
              "#0d0887"
             ],
             [
              0.1111111111111111,
              "#46039f"
             ],
             [
              0.2222222222222222,
              "#7201a8"
             ],
             [
              0.3333333333333333,
              "#9c179e"
             ],
             [
              0.4444444444444444,
              "#bd3786"
             ],
             [
              0.5555555555555556,
              "#d8576b"
             ],
             [
              0.6666666666666666,
              "#ed7953"
             ],
             [
              0.7777777777777778,
              "#fb9f3a"
             ],
             [
              0.8888888888888888,
              "#fdca26"
             ],
             [
              1,
              "#f0f921"
             ]
            ],
            "type": "contour"
           }
          ],
          "contourcarpet": [
           {
            "colorbar": {
             "outlinewidth": 0,
             "ticks": ""
            },
            "type": "contourcarpet"
           }
          ],
          "heatmap": [
           {
            "colorbar": {
             "outlinewidth": 0,
             "ticks": ""
            },
            "colorscale": [
             [
              0,
              "#0d0887"
             ],
             [
              0.1111111111111111,
              "#46039f"
             ],
             [
              0.2222222222222222,
              "#7201a8"
             ],
             [
              0.3333333333333333,
              "#9c179e"
             ],
             [
              0.4444444444444444,
              "#bd3786"
             ],
             [
              0.5555555555555556,
              "#d8576b"
             ],
             [
              0.6666666666666666,
              "#ed7953"
             ],
             [
              0.7777777777777778,
              "#fb9f3a"
             ],
             [
              0.8888888888888888,
              "#fdca26"
             ],
             [
              1,
              "#f0f921"
             ]
            ],
            "type": "heatmap"
           }
          ],
          "heatmapgl": [
           {
            "colorbar": {
             "outlinewidth": 0,
             "ticks": ""
            },
            "colorscale": [
             [
              0,
              "#0d0887"
             ],
             [
              0.1111111111111111,
              "#46039f"
             ],
             [
              0.2222222222222222,
              "#7201a8"
             ],
             [
              0.3333333333333333,
              "#9c179e"
             ],
             [
              0.4444444444444444,
              "#bd3786"
             ],
             [
              0.5555555555555556,
              "#d8576b"
             ],
             [
              0.6666666666666666,
              "#ed7953"
             ],
             [
              0.7777777777777778,
              "#fb9f3a"
             ],
             [
              0.8888888888888888,
              "#fdca26"
             ],
             [
              1,
              "#f0f921"
             ]
            ],
            "type": "heatmapgl"
           }
          ],
          "histogram": [
           {
            "marker": {
             "pattern": {
              "fillmode": "overlay",
              "size": 10,
              "solidity": 0.2
             }
            },
            "type": "histogram"
           }
          ],
          "histogram2d": [
           {
            "colorbar": {
             "outlinewidth": 0,
             "ticks": ""
            },
            "colorscale": [
             [
              0,
              "#0d0887"
             ],
             [
              0.1111111111111111,
              "#46039f"
             ],
             [
              0.2222222222222222,
              "#7201a8"
             ],
             [
              0.3333333333333333,
              "#9c179e"
             ],
             [
              0.4444444444444444,
              "#bd3786"
             ],
             [
              0.5555555555555556,
              "#d8576b"
             ],
             [
              0.6666666666666666,
              "#ed7953"
             ],
             [
              0.7777777777777778,
              "#fb9f3a"
             ],
             [
              0.8888888888888888,
              "#fdca26"
             ],
             [
              1,
              "#f0f921"
             ]
            ],
            "type": "histogram2d"
           }
          ],
          "histogram2dcontour": [
           {
            "colorbar": {
             "outlinewidth": 0,
             "ticks": ""
            },
            "colorscale": [
             [
              0,
              "#0d0887"
             ],
             [
              0.1111111111111111,
              "#46039f"
             ],
             [
              0.2222222222222222,
              "#7201a8"
             ],
             [
              0.3333333333333333,
              "#9c179e"
             ],
             [
              0.4444444444444444,
              "#bd3786"
             ],
             [
              0.5555555555555556,
              "#d8576b"
             ],
             [
              0.6666666666666666,
              "#ed7953"
             ],
             [
              0.7777777777777778,
              "#fb9f3a"
             ],
             [
              0.8888888888888888,
              "#fdca26"
             ],
             [
              1,
              "#f0f921"
             ]
            ],
            "type": "histogram2dcontour"
           }
          ],
          "mesh3d": [
           {
            "colorbar": {
             "outlinewidth": 0,
             "ticks": ""
            },
            "type": "mesh3d"
           }
          ],
          "parcoords": [
           {
            "line": {
             "colorbar": {
              "outlinewidth": 0,
              "ticks": ""
             }
            },
            "type": "parcoords"
           }
          ],
          "pie": [
           {
            "automargin": true,
            "type": "pie"
           }
          ],
          "scatter": [
           {
            "fillpattern": {
             "fillmode": "overlay",
             "size": 10,
             "solidity": 0.2
            },
            "type": "scatter"
           }
          ],
          "scatter3d": [
           {
            "line": {
             "colorbar": {
              "outlinewidth": 0,
              "ticks": ""
             }
            },
            "marker": {
             "colorbar": {
              "outlinewidth": 0,
              "ticks": ""
             }
            },
            "type": "scatter3d"
           }
          ],
          "scattercarpet": [
           {
            "marker": {
             "colorbar": {
              "outlinewidth": 0,
              "ticks": ""
             }
            },
            "type": "scattercarpet"
           }
          ],
          "scattergeo": [
           {
            "marker": {
             "colorbar": {
              "outlinewidth": 0,
              "ticks": ""
             }
            },
            "type": "scattergeo"
           }
          ],
          "scattergl": [
           {
            "marker": {
             "colorbar": {
              "outlinewidth": 0,
              "ticks": ""
             }
            },
            "type": "scattergl"
           }
          ],
          "scattermapbox": [
           {
            "marker": {
             "colorbar": {
              "outlinewidth": 0,
              "ticks": ""
             }
            },
            "type": "scattermapbox"
           }
          ],
          "scatterpolar": [
           {
            "marker": {
             "colorbar": {
              "outlinewidth": 0,
              "ticks": ""
             }
            },
            "type": "scatterpolar"
           }
          ],
          "scatterpolargl": [
           {
            "marker": {
             "colorbar": {
              "outlinewidth": 0,
              "ticks": ""
             }
            },
            "type": "scatterpolargl"
           }
          ],
          "scatterternary": [
           {
            "marker": {
             "colorbar": {
              "outlinewidth": 0,
              "ticks": ""
             }
            },
            "type": "scatterternary"
           }
          ],
          "surface": [
           {
            "colorbar": {
             "outlinewidth": 0,
             "ticks": ""
            },
            "colorscale": [
             [
              0,
              "#0d0887"
             ],
             [
              0.1111111111111111,
              "#46039f"
             ],
             [
              0.2222222222222222,
              "#7201a8"
             ],
             [
              0.3333333333333333,
              "#9c179e"
             ],
             [
              0.4444444444444444,
              "#bd3786"
             ],
             [
              0.5555555555555556,
              "#d8576b"
             ],
             [
              0.6666666666666666,
              "#ed7953"
             ],
             [
              0.7777777777777778,
              "#fb9f3a"
             ],
             [
              0.8888888888888888,
              "#fdca26"
             ],
             [
              1,
              "#f0f921"
             ]
            ],
            "type": "surface"
           }
          ],
          "table": [
           {
            "cells": {
             "fill": {
              "color": "#EBF0F8"
             },
             "line": {
              "color": "white"
             }
            },
            "header": {
             "fill": {
              "color": "#C8D4E3"
             },
             "line": {
              "color": "white"
             }
            },
            "type": "table"
           }
          ]
         },
         "layout": {
          "annotationdefaults": {
           "arrowcolor": "#2a3f5f",
           "arrowhead": 0,
           "arrowwidth": 1
          },
          "autotypenumbers": "strict",
          "coloraxis": {
           "colorbar": {
            "outlinewidth": 0,
            "ticks": ""
           }
          },
          "colorscale": {
           "diverging": [
            [
             0,
             "#8e0152"
            ],
            [
             0.1,
             "#c51b7d"
            ],
            [
             0.2,
             "#de77ae"
            ],
            [
             0.3,
             "#f1b6da"
            ],
            [
             0.4,
             "#fde0ef"
            ],
            [
             0.5,
             "#f7f7f7"
            ],
            [
             0.6,
             "#e6f5d0"
            ],
            [
             0.7,
             "#b8e186"
            ],
            [
             0.8,
             "#7fbc41"
            ],
            [
             0.9,
             "#4d9221"
            ],
            [
             1,
             "#276419"
            ]
           ],
           "sequential": [
            [
             0,
             "#0d0887"
            ],
            [
             0.1111111111111111,
             "#46039f"
            ],
            [
             0.2222222222222222,
             "#7201a8"
            ],
            [
             0.3333333333333333,
             "#9c179e"
            ],
            [
             0.4444444444444444,
             "#bd3786"
            ],
            [
             0.5555555555555556,
             "#d8576b"
            ],
            [
             0.6666666666666666,
             "#ed7953"
            ],
            [
             0.7777777777777778,
             "#fb9f3a"
            ],
            [
             0.8888888888888888,
             "#fdca26"
            ],
            [
             1,
             "#f0f921"
            ]
           ],
           "sequentialminus": [
            [
             0,
             "#0d0887"
            ],
            [
             0.1111111111111111,
             "#46039f"
            ],
            [
             0.2222222222222222,
             "#7201a8"
            ],
            [
             0.3333333333333333,
             "#9c179e"
            ],
            [
             0.4444444444444444,
             "#bd3786"
            ],
            [
             0.5555555555555556,
             "#d8576b"
            ],
            [
             0.6666666666666666,
             "#ed7953"
            ],
            [
             0.7777777777777778,
             "#fb9f3a"
            ],
            [
             0.8888888888888888,
             "#fdca26"
            ],
            [
             1,
             "#f0f921"
            ]
           ]
          },
          "colorway": [
           "#636efa",
           "#EF553B",
           "#00cc96",
           "#ab63fa",
           "#FFA15A",
           "#19d3f3",
           "#FF6692",
           "#B6E880",
           "#FF97FF",
           "#FECB52"
          ],
          "font": {
           "color": "#2a3f5f"
          },
          "geo": {
           "bgcolor": "white",
           "lakecolor": "white",
           "landcolor": "#E5ECF6",
           "showlakes": true,
           "showland": true,
           "subunitcolor": "white"
          },
          "hoverlabel": {
           "align": "left"
          },
          "hovermode": "closest",
          "mapbox": {
           "style": "light"
          },
          "paper_bgcolor": "white",
          "plot_bgcolor": "#E5ECF6",
          "polar": {
           "angularaxis": {
            "gridcolor": "white",
            "linecolor": "white",
            "ticks": ""
           },
           "bgcolor": "#E5ECF6",
           "radialaxis": {
            "gridcolor": "white",
            "linecolor": "white",
            "ticks": ""
           }
          },
          "scene": {
           "xaxis": {
            "backgroundcolor": "#E5ECF6",
            "gridcolor": "white",
            "gridwidth": 2,
            "linecolor": "white",
            "showbackground": true,
            "ticks": "",
            "zerolinecolor": "white"
           },
           "yaxis": {
            "backgroundcolor": "#E5ECF6",
            "gridcolor": "white",
            "gridwidth": 2,
            "linecolor": "white",
            "showbackground": true,
            "ticks": "",
            "zerolinecolor": "white"
           },
           "zaxis": {
            "backgroundcolor": "#E5ECF6",
            "gridcolor": "white",
            "gridwidth": 2,
            "linecolor": "white",
            "showbackground": true,
            "ticks": "",
            "zerolinecolor": "white"
           }
          },
          "shapedefaults": {
           "line": {
            "color": "#2a3f5f"
           }
          },
          "ternary": {
           "aaxis": {
            "gridcolor": "white",
            "linecolor": "white",
            "ticks": ""
           },
           "baxis": {
            "gridcolor": "white",
            "linecolor": "white",
            "ticks": ""
           },
           "bgcolor": "#E5ECF6",
           "caxis": {
            "gridcolor": "white",
            "linecolor": "white",
            "ticks": ""
           }
          },
          "title": {
           "x": 0.05
          },
          "xaxis": {
           "automargin": true,
           "gridcolor": "white",
           "linecolor": "white",
           "ticks": "",
           "title": {
            "standoff": 15
           },
           "zerolinecolor": "white",
           "zerolinewidth": 2
          },
          "yaxis": {
           "automargin": true,
           "gridcolor": "white",
           "linecolor": "white",
           "ticks": "",
           "title": {
            "standoff": 15
           },
           "zerolinecolor": "white",
           "zerolinewidth": 2
          }
         }
        },
        "xaxis": {
         "autorange": true,
         "range": [
          -2.6852483742448356,
          2.6929022511434244
         ],
         "type": "linear"
        },
        "xaxis2": {
         "autorange": true,
         "range": [
          -1.8257558209133973,
          2.9831999364548385
         ],
         "type": "linear"
        },
        "xaxis3": {
         "autorange": true,
         "range": [
          -0.7910125358129104,
          0.9484510202885171
         ],
         "type": "linear"
        },
        "yaxis": {
         "autorange": true,
         "range": [
          -2.6852483742448356,
          2.6929022511434244
         ],
         "type": "linear"
        },
        "yaxis2": {
         "autorange": true,
         "range": [
          -1.8257558209133973,
          2.9831999364548385
         ],
         "type": "linear"
        },
        "yaxis3": {
         "autorange": true,
         "range": [
          -0.7910125358129104,
          0.9484510202885171
         ],
         "type": "linear"
        }
       }
      },
      "image/png": "[encoded data removed]"
     },
     "metadata": {},
     "output_type": "display_data"
    }
   ],
   "source": [
    "data = pd.DataFrame(\n",
    "    {\"feat_1\": [1, 2, 3, 10, 2, 3],\n",
    "    \"feat_2\": [2, 3, 5, 2, 1, 1],\n",
    "    \"feat_3\": [1, 1, 1, 2, 2, 3],\n",
    "    \"feat_4\": [1, 2, 3, 9, 1, 2],\n",
    "    \"feat_5\": [5, 6, 6, 4, 4, 3],\n",
    "    \"mineral\": [\"silver\", \"gold\", \"gold\", \"copper\", \"copper\", \"tin\"]}\n",
    ")\n",
    "color_feat = \"mineral\"\n",
    "\n",
    "features = [feat for feat in data.columns if feat != color_feat]\n",
    "pca_df, explained_variances = compute_pca(data[features], 3)\n",
    "\n",
    "plot_pca(pca_df, explained_variances, data[color_feat])"
   ]
  }
 ],
 "metadata": {
  "kernelspec": {
   "display_name": "Python 3 (ipykernel)",
   "language": "python",
   "name": "python3"
  },
  "language_info": {
   "codemirror_mode": {
    "name": "ipython",
    "version": 3
   },
   "file_extension": ".py",
   "mimetype": "text/x-python",
   "name": "python",
   "nbconvert_exporter": "python",
   "pygments_lexer": "ipython3",
   "version": "3.10.6"
  }
 },
 "nbformat": 4,
 "nbformat_minor": 4
}

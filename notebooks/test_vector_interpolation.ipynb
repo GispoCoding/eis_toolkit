{
 "cells": [
  {
   "cell_type": "code",
   "execution_count": null,
   "metadata": {},
   "outputs": [],
   "source": [
    "from beartype import beartype\n",
    "from beartype.typing import Optional, Tuple, Union\n",
    "from scipy.spatial.distance import cdist\n",
    "import numpy as np\n",
    "import geopandas as gpd\n",
    "from rasterio import features, profiles, transform\n",
    "import geopandas as gpd\n",
    "from shapely.geometry import Point\n",
    "\n",
    "from matplotlib import pyplot as plt"
   ]
  },
  {
   "cell_type": "code",
   "execution_count": 8,
   "metadata": {},
   "outputs": [],
   "source": [
    "data = {\n",
    "        'random_number': [1, 2, 3, 4, 1984, 1984, 1984, 1984],\n",
    "        'geometry': [Point(24.945831, 60.192059), Point(24.6559, 60.2055),\n",
    "                     Point(25.0378, 60.2934), Point(24.7284, 60.2124),\n",
    "                    Point(24.945831, 60.192059), Point(24.6559, 60.2055),\n",
    "                     Point(25.0378, 60.2934), Point(24.7284, 60.2124)]\n",
    "    }\n",
    "gdf = gpd.GeoDataFrame(data)"
   ]
  },
  {
   "cell_type": "code",
   "execution_count": 9,
   "metadata": {},
   "outputs": [],
   "source": [
    "resolution=(0.08910999999999999477, -0.08585219099999973069),\n",
    "target_column='random_number',\n",
    "power=2,\n",
    "base_raster_profile = profiles.Profile(\n",
    "    dict(width=9, height=7, transform=transform.from_bounds(\n",
    "        24.4650089999999985, 60.5954013369999984, 25.2669989999999984, 59.9944360000000003,\n",
    "        width=9, height=7))\n",
    ")"
   ]
  },
  {
   "cell_type": "code",
   "execution_count": 10,
   "metadata": {},
   "outputs": [],
   "source": [
    "def interpolate_vector(\n",
    "    geodataframe: gpd.GeoDataFrame,\n",
    "    resolution: Union[float, Tuple[float, float]],\n",
    "    target_column: str,\n",
    "    power: Optional[int] = 2,\n",
    "    base_raster_profile: Optional[Union[profiles.Profile, dict]] = None,\n",
    "    target_crs: Optional[int] = None\n",
    ") -> np.ndarray:\n",
    "    \"\"\"\n",
    "    Interpolates data from a GeoDataFrame using Inverse Distance Weighting (IDW)\n",
    "        based on the given target positions.\n",
    "\n",
    "    Args:\n",
    "        geodataframe: The input vector data.\n",
    "        resolution: The resolution i.e. cell size of the output raster\n",
    "        power: The optional power parameter for IDW. Defaults to 2.\n",
    "        target_column: The target column for interpolation.\n",
    "        base_raster_profile: Base raster profile\n",
    "            to be used for determining the grid on which vectors are burned in.\n",
    "\n",
    "    Returns:\n",
    "        interpolated_values: A dictionary containing the interpolated values.\n",
    "    \"\"\"\n",
    "\n",
    "    # Transform geodataframe to target CRS if it is provided\n",
    "    if target_crs is not None:\n",
    "        geodataframe = geodataframe.to_crs(target_crs)\n",
    "\n",
    "    if geodataframe.shape[0] == 0:\n",
    "        # Empty GeoDataFrame\n",
    "        raise exceptions.EmptyDataFrameException(\"Expected geodataframe to contain geometries.\")\n",
    "\n",
    "    if target_column is None or target_column not in geodataframe.columns:\n",
    "        raise exceptions.InvalidParameterValueException(\n",
    "            f\"Expected target_column ({target_column}) to be contained in geodataframe columns.\")\n",
    "\n",
    "    interpolated_values = {}\n",
    "    values = geodataframe[target_column].values.astype(float)\n",
    "\n",
    "    target_positions, positions, width, height = _create_target_positions(geodataframe, resolution, base_raster_profile)\n",
    "    distances = cdist(positions, target_positions)\n",
    "    distances[distances == 0] = np.finfo(float).eps  # Replace zeros with a small non-zero value\n",
    "    weights = 1 / distances ** power\n",
    "    weights /= weights.sum(axis=0)\n",
    "\n",
    "    interpolated_values = np.dot(weights.T, values)\n",
    "\n",
    "    return interpolated_values\n",
    "\n",
    "\n",
    "def _create_target_positions(geodataframe, resolution, base_raster_profile):\n",
    "    if isinstance(resolution, tuple):\n",
    "        pixel_width, pixel_height = resolution\n",
    "    else:\n",
    "        pixel_width = pixel_height = resolution\n",
    "\n",
    "    if base_raster_profile is None:\n",
    "        min_x, min_y, max_x, max_y = geodataframe.total_bounds\n",
    "        width = int((max_x - min_x) / pixel_width)\n",
    "        height = int((max_y - min_y) / pixel_height)\n",
    "        out_transform = transform.from_bounds(min_x, min_y, max_x, max_y, width=width, height=height)\n",
    "        target_positions = np.array(\n",
    "            np.meshgrid(np.linspace(min_x, max_x, width), np.linspace(min_y, max_y, height))\n",
    "        ).T.reshape(-1, 2)\n",
    "    else:\n",
    "        width, height, out_transform = (\n",
    "            base_raster_profile[\"width\"],\n",
    "            base_raster_profile[\"height\"],\n",
    "            base_raster_profile[\"transform\"],\n",
    "        )\n",
    "        min_x = out_transform[2]\n",
    "        max_x = min_x + (width * out_transform[0])\n",
    "        min_y = out_transform[5] + (height * out_transform[4])\n",
    "        max_y = out_transform[5]\n",
    "        target_positions = np.array(\n",
    "            np.meshgrid(np.linspace(min_x, max_x, width), np.linspace(min_y, max_y, height))\n",
    "        ).T.reshape(-1, 2)\n",
    "\n",
    "    positions = np.array(geodataframe.geometry.apply(lambda geom: (geom.x, geom.y)).tolist())\n",
    "\n",
    "    positions = positions.reshape(-1, 2)\n",
    "    target_positions = target_positions.reshape(-1, 2)\n",
    "\n",
    "    return target_positions, positions, width, height"
   ]
  },
  {
   "cell_type": "code",
   "execution_count": 11,
   "metadata": {},
   "outputs": [
    {
     "name": "stdout",
     "output_type": "stream",
     "text": [
      "[1241.18562754 1242.62478171 1240.58715729 1232.88461531 1226.98023593\n",
      " 1231.42071651 1236.38539863 1242.83692044 1246.90910217 1246.66305195\n",
      " 1226.09054791 1198.67588904 1226.56463456 1239.61545537 1242.77065353\n",
      " 1250.99619093 1263.70546976 1263.91978288 1133.20896334 1251.63216969\n",
      " 1248.40676051 1238.57376532 1246.58053419 1266.98553209 1334.59347004\n",
      " 1422.05180876 1288.23314968 1244.79128167 1230.72507634 1231.64403746\n",
      " 1230.79255722 1215.3673155  1165.73014763 1189.41243128 1208.98566614\n",
      " 1223.51820339 1220.52191539 1215.3440771  1194.45647028 1062.48232896\n",
      " 1128.31047963 1179.00529227 1219.28422596 1217.40676509 1221.02265173\n",
      " 1235.2122488  1176.31551376 1158.65301375 1177.98559535 1216.88644716\n",
      " 1215.25082434 1215.28054454 1212.62250041 1195.56967523 1183.86914464\n",
      " 1187.34503832 1215.32948759 1213.2590158  1210.93152002 1206.72608048\n",
      " 1199.81119754 1194.8544739  1195.22960756]\n"
     ]
    }
   ],
   "source": [
    "interpolated_values = interpolate_vector(\n",
    "    geodataframe = gdf,\n",
    "    resolution=(0.08910999999999999477, -0.08585219099999973069),\n",
    "    target_column='random_number',\n",
    "    power=2,\n",
    "    base_raster_profile = profiles.Profile(\n",
    "        dict(width=9, height=7, transform=transform.from_bounds(\n",
    "            24.4650089999999985, 60.5954013369999984, 25.2669989999999984, 59.9944360000000003,\n",
    "            width=9, height=7))\n",
    "    )\n",
    ")\n",
    "print(interpolated_values)"
   ]
  },
  {
   "cell_type": "code",
   "execution_count": 31,
   "metadata": {},
   "outputs": [
    {
     "ename": "TypeError",
     "evalue": "float() argument must be a string or a real number, not 'Point'",
     "output_type": "error",
     "traceback": [
      "\u001b[0;31m---------------------------------------------------------------------------\u001b[0m",
      "\u001b[0;31mTypeError\u001b[0m                                 Traceback (most recent call last)",
      "Input \u001b[0;32mIn [31]\u001b[0m, in \u001b[0;36m<cell line: 4>\u001b[0;34m()\u001b[0m\n\u001b[1;32m      2\u001b[0m plt\u001b[38;5;241m.\u001b[39mxlabel(\u001b[38;5;124m\"\u001b[39m\u001b[38;5;124mx axis caption\u001b[39m\u001b[38;5;124m\"\u001b[39m) \n\u001b[1;32m      3\u001b[0m plt\u001b[38;5;241m.\u001b[39mylabel(\u001b[38;5;124m\"\u001b[39m\u001b[38;5;124my axis caption\u001b[39m\u001b[38;5;124m\"\u001b[39m) \n\u001b[0;32m----> 4\u001b[0m \u001b[43mplt\u001b[49m\u001b[38;5;241;43m.\u001b[39;49m\u001b[43mplot\u001b[49m\u001b[43m(\u001b[49m\u001b[43mgdf\u001b[49m\u001b[43m)\u001b[49m \n\u001b[1;32m      5\u001b[0m plt\u001b[38;5;241m.\u001b[39mshow()\n",
      "File \u001b[0;32m~/.cache/pypoetry/virtualenvs/eis-toolkit-QEzTY9B6-py3.10/lib/python3.10/site-packages/matplotlib/pyplot.py:2767\u001b[0m, in \u001b[0;36mplot\u001b[0;34m(scalex, scaley, data, *args, **kwargs)\u001b[0m\n\u001b[1;32m   2765\u001b[0m \u001b[38;5;129m@_copy_docstring_and_deprecators\u001b[39m(Axes\u001b[38;5;241m.\u001b[39mplot)\n\u001b[1;32m   2766\u001b[0m \u001b[38;5;28;01mdef\u001b[39;00m \u001b[38;5;21mplot\u001b[39m(\u001b[38;5;241m*\u001b[39margs, scalex\u001b[38;5;241m=\u001b[39m\u001b[38;5;28;01mTrue\u001b[39;00m, scaley\u001b[38;5;241m=\u001b[39m\u001b[38;5;28;01mTrue\u001b[39;00m, data\u001b[38;5;241m=\u001b[39m\u001b[38;5;28;01mNone\u001b[39;00m, \u001b[38;5;241m*\u001b[39m\u001b[38;5;241m*\u001b[39mkwargs):\n\u001b[0;32m-> 2767\u001b[0m     \u001b[38;5;28;01mreturn\u001b[39;00m \u001b[43mgca\u001b[49m\u001b[43m(\u001b[49m\u001b[43m)\u001b[49m\u001b[38;5;241;43m.\u001b[39;49m\u001b[43mplot\u001b[49m\u001b[43m(\u001b[49m\n\u001b[1;32m   2768\u001b[0m \u001b[43m        \u001b[49m\u001b[38;5;241;43m*\u001b[39;49m\u001b[43margs\u001b[49m\u001b[43m,\u001b[49m\u001b[43m \u001b[49m\u001b[43mscalex\u001b[49m\u001b[38;5;241;43m=\u001b[39;49m\u001b[43mscalex\u001b[49m\u001b[43m,\u001b[49m\u001b[43m \u001b[49m\u001b[43mscaley\u001b[49m\u001b[38;5;241;43m=\u001b[39;49m\u001b[43mscaley\u001b[49m\u001b[43m,\u001b[49m\n\u001b[1;32m   2769\u001b[0m \u001b[43m        \u001b[49m\u001b[38;5;241;43m*\u001b[39;49m\u001b[38;5;241;43m*\u001b[39;49m\u001b[43m(\u001b[49m\u001b[43m{\u001b[49m\u001b[38;5;124;43m\"\u001b[39;49m\u001b[38;5;124;43mdata\u001b[39;49m\u001b[38;5;124;43m\"\u001b[39;49m\u001b[43m:\u001b[49m\u001b[43m \u001b[49m\u001b[43mdata\u001b[49m\u001b[43m}\u001b[49m\u001b[43m \u001b[49m\u001b[38;5;28;43;01mif\u001b[39;49;00m\u001b[43m \u001b[49m\u001b[43mdata\u001b[49m\u001b[43m \u001b[49m\u001b[38;5;129;43;01mis\u001b[39;49;00m\u001b[43m \u001b[49m\u001b[38;5;129;43;01mnot\u001b[39;49;00m\u001b[43m \u001b[49m\u001b[38;5;28;43;01mNone\u001b[39;49;00m\u001b[43m \u001b[49m\u001b[38;5;28;43;01melse\u001b[39;49;00m\u001b[43m \u001b[49m\u001b[43m{\u001b[49m\u001b[43m}\u001b[49m\u001b[43m)\u001b[49m\u001b[43m,\u001b[49m\u001b[43m \u001b[49m\u001b[38;5;241;43m*\u001b[39;49m\u001b[38;5;241;43m*\u001b[39;49m\u001b[43mkwargs\u001b[49m\u001b[43m)\u001b[49m\n",
      "File \u001b[0;32m~/.cache/pypoetry/virtualenvs/eis-toolkit-QEzTY9B6-py3.10/lib/python3.10/site-packages/matplotlib/axes/_axes.py:1637\u001b[0m, in \u001b[0;36mAxes.plot\u001b[0;34m(self, scalex, scaley, data, *args, **kwargs)\u001b[0m\n\u001b[1;32m   1635\u001b[0m lines \u001b[38;5;241m=\u001b[39m [\u001b[38;5;241m*\u001b[39m\u001b[38;5;28mself\u001b[39m\u001b[38;5;241m.\u001b[39m_get_lines(\u001b[38;5;241m*\u001b[39margs, data\u001b[38;5;241m=\u001b[39mdata, \u001b[38;5;241m*\u001b[39m\u001b[38;5;241m*\u001b[39mkwargs)]\n\u001b[1;32m   1636\u001b[0m \u001b[38;5;28;01mfor\u001b[39;00m line \u001b[38;5;129;01min\u001b[39;00m lines:\n\u001b[0;32m-> 1637\u001b[0m     \u001b[38;5;28;43mself\u001b[39;49m\u001b[38;5;241;43m.\u001b[39;49m\u001b[43madd_line\u001b[49m\u001b[43m(\u001b[49m\u001b[43mline\u001b[49m\u001b[43m)\u001b[49m\n\u001b[1;32m   1638\u001b[0m \u001b[38;5;28mself\u001b[39m\u001b[38;5;241m.\u001b[39m_request_autoscale_view(scalex\u001b[38;5;241m=\u001b[39mscalex, scaley\u001b[38;5;241m=\u001b[39mscaley)\n\u001b[1;32m   1639\u001b[0m \u001b[38;5;28;01mreturn\u001b[39;00m lines\n",
      "File \u001b[0;32m~/.cache/pypoetry/virtualenvs/eis-toolkit-QEzTY9B6-py3.10/lib/python3.10/site-packages/matplotlib/axes/_base.py:2288\u001b[0m, in \u001b[0;36m_AxesBase.add_line\u001b[0;34m(self, line)\u001b[0m\n\u001b[1;32m   2285\u001b[0m \u001b[38;5;28;01mif\u001b[39;00m line\u001b[38;5;241m.\u001b[39mget_clip_path() \u001b[38;5;129;01mis\u001b[39;00m \u001b[38;5;28;01mNone\u001b[39;00m:\n\u001b[1;32m   2286\u001b[0m     line\u001b[38;5;241m.\u001b[39mset_clip_path(\u001b[38;5;28mself\u001b[39m\u001b[38;5;241m.\u001b[39mpatch)\n\u001b[0;32m-> 2288\u001b[0m \u001b[38;5;28;43mself\u001b[39;49m\u001b[38;5;241;43m.\u001b[39;49m\u001b[43m_update_line_limits\u001b[49m\u001b[43m(\u001b[49m\u001b[43mline\u001b[49m\u001b[43m)\u001b[49m\n\u001b[1;32m   2289\u001b[0m \u001b[38;5;28;01mif\u001b[39;00m \u001b[38;5;129;01mnot\u001b[39;00m line\u001b[38;5;241m.\u001b[39mget_label():\n\u001b[1;32m   2290\u001b[0m     line\u001b[38;5;241m.\u001b[39mset_label(\u001b[38;5;124mf\u001b[39m\u001b[38;5;124m'\u001b[39m\u001b[38;5;124m_child\u001b[39m\u001b[38;5;132;01m{\u001b[39;00m\u001b[38;5;28mlen\u001b[39m(\u001b[38;5;28mself\u001b[39m\u001b[38;5;241m.\u001b[39m_children)\u001b[38;5;132;01m}\u001b[39;00m\u001b[38;5;124m'\u001b[39m)\n",
      "File \u001b[0;32m~/.cache/pypoetry/virtualenvs/eis-toolkit-QEzTY9B6-py3.10/lib/python3.10/site-packages/matplotlib/axes/_base.py:2311\u001b[0m, in \u001b[0;36m_AxesBase._update_line_limits\u001b[0;34m(self, line)\u001b[0m\n\u001b[1;32m   2307\u001b[0m \u001b[38;5;28;01mdef\u001b[39;00m \u001b[38;5;21m_update_line_limits\u001b[39m(\u001b[38;5;28mself\u001b[39m, line):\n\u001b[1;32m   2308\u001b[0m     \u001b[38;5;124;03m\"\"\"\u001b[39;00m\n\u001b[1;32m   2309\u001b[0m \u001b[38;5;124;03m    Figures out the data limit of the given line, updating self.dataLim.\u001b[39;00m\n\u001b[1;32m   2310\u001b[0m \u001b[38;5;124;03m    \"\"\"\u001b[39;00m\n\u001b[0;32m-> 2311\u001b[0m     path \u001b[38;5;241m=\u001b[39m \u001b[43mline\u001b[49m\u001b[38;5;241;43m.\u001b[39;49m\u001b[43mget_path\u001b[49m\u001b[43m(\u001b[49m\u001b[43m)\u001b[49m\n\u001b[1;32m   2312\u001b[0m     \u001b[38;5;28;01mif\u001b[39;00m path\u001b[38;5;241m.\u001b[39mvertices\u001b[38;5;241m.\u001b[39msize \u001b[38;5;241m==\u001b[39m \u001b[38;5;241m0\u001b[39m:\n\u001b[1;32m   2313\u001b[0m         \u001b[38;5;28;01mreturn\u001b[39;00m\n",
      "File \u001b[0;32m~/.cache/pypoetry/virtualenvs/eis-toolkit-QEzTY9B6-py3.10/lib/python3.10/site-packages/matplotlib/lines.py:999\u001b[0m, in \u001b[0;36mLine2D.get_path\u001b[0;34m(self)\u001b[0m\n\u001b[1;32m    997\u001b[0m \u001b[38;5;124;03m\"\"\"Return the `~matplotlib.path.Path` associated with this line.\"\"\"\u001b[39;00m\n\u001b[1;32m    998\u001b[0m \u001b[38;5;28;01mif\u001b[39;00m \u001b[38;5;28mself\u001b[39m\u001b[38;5;241m.\u001b[39m_invalidy \u001b[38;5;129;01mor\u001b[39;00m \u001b[38;5;28mself\u001b[39m\u001b[38;5;241m.\u001b[39m_invalidx:\n\u001b[0;32m--> 999\u001b[0m     \u001b[38;5;28;43mself\u001b[39;49m\u001b[38;5;241;43m.\u001b[39;49m\u001b[43mrecache\u001b[49m\u001b[43m(\u001b[49m\u001b[43m)\u001b[49m\n\u001b[1;32m   1000\u001b[0m \u001b[38;5;28;01mreturn\u001b[39;00m \u001b[38;5;28mself\u001b[39m\u001b[38;5;241m.\u001b[39m_path\n",
      "File \u001b[0;32m~/.cache/pypoetry/virtualenvs/eis-toolkit-QEzTY9B6-py3.10/lib/python3.10/site-packages/matplotlib/lines.py:657\u001b[0m, in \u001b[0;36mLine2D.recache\u001b[0;34m(self, always)\u001b[0m\n\u001b[1;32m    655\u001b[0m \u001b[38;5;28;01mif\u001b[39;00m always \u001b[38;5;129;01mor\u001b[39;00m \u001b[38;5;28mself\u001b[39m\u001b[38;5;241m.\u001b[39m_invalidy:\n\u001b[1;32m    656\u001b[0m     yconv \u001b[38;5;241m=\u001b[39m \u001b[38;5;28mself\u001b[39m\u001b[38;5;241m.\u001b[39mconvert_yunits(\u001b[38;5;28mself\u001b[39m\u001b[38;5;241m.\u001b[39m_yorig)\n\u001b[0;32m--> 657\u001b[0m     y \u001b[38;5;241m=\u001b[39m \u001b[43m_to_unmasked_float_array\u001b[49m\u001b[43m(\u001b[49m\u001b[43myconv\u001b[49m\u001b[43m)\u001b[49m\u001b[38;5;241m.\u001b[39mravel()\n\u001b[1;32m    658\u001b[0m \u001b[38;5;28;01melse\u001b[39;00m:\n\u001b[1;32m    659\u001b[0m     y \u001b[38;5;241m=\u001b[39m \u001b[38;5;28mself\u001b[39m\u001b[38;5;241m.\u001b[39m_y\n",
      "File \u001b[0;32m~/.cache/pypoetry/virtualenvs/eis-toolkit-QEzTY9B6-py3.10/lib/python3.10/site-packages/matplotlib/cbook/__init__.py:1298\u001b[0m, in \u001b[0;36m_to_unmasked_float_array\u001b[0;34m(x)\u001b[0m\n\u001b[1;32m   1296\u001b[0m     \u001b[38;5;28;01mreturn\u001b[39;00m np\u001b[38;5;241m.\u001b[39mma\u001b[38;5;241m.\u001b[39masarray(x, \u001b[38;5;28mfloat\u001b[39m)\u001b[38;5;241m.\u001b[39mfilled(np\u001b[38;5;241m.\u001b[39mnan)\n\u001b[1;32m   1297\u001b[0m \u001b[38;5;28;01melse\u001b[39;00m:\n\u001b[0;32m-> 1298\u001b[0m     \u001b[38;5;28;01mreturn\u001b[39;00m \u001b[43mnp\u001b[49m\u001b[38;5;241;43m.\u001b[39;49m\u001b[43masarray\u001b[49m\u001b[43m(\u001b[49m\u001b[43mx\u001b[49m\u001b[43m,\u001b[49m\u001b[43m \u001b[49m\u001b[38;5;28;43mfloat\u001b[39;49m\u001b[43m)\u001b[49m\n",
      "\u001b[0;31mTypeError\u001b[0m: float() argument must be a string or a real number, not 'Point'"
     ]
    },
    {
     "data": {
      "image/png": "[encoded data removed]",
      "text/plain": [
       "<Figure size 640x480 with 1 Axes>"
      ]
     },
     "metadata": {},
     "output_type": "display_data"
    }
   ],
   "source": [
    "plt.title(\"Interpolated values\") \n",
    "plt.xlabel(\"x axis caption\") \n",
    "plt.ylabel(\"y axis caption\") \n",
    "plt.plot(gdf) \n",
    "plt.show()"
   ]
  }
 ],
 "metadata": {
  "kernelspec": {
   "display_name": "Python 3 (ipykernel)",
   "language": "python",
   "name": "python3"
  },
  "language_info": {
   "codemirror_mode": {
    "name": "ipython",
    "version": 3
   },
   "file_extension": ".py",
   "mimetype": "text/x-python",
   "name": "python",
   "nbconvert_exporter": "python",
   "pygments_lexer": "ipython3",
   "version": "3.10.6"
  }
 },
 "nbformat": 4,
 "nbformat_minor": 4
}

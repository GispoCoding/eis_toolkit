{
 "cells": [
  {
   "cell_type": "code",
   "execution_count": 2,
   "metadata": {
    "tags": []
   },
   "outputs": [],
   "source": [
    "import sys\n",
    "sys.path.insert(0, \"..\")\n",
    "from eis_toolkit.exploratory_analyses.local_morans_i import local_morans_i\n",
    "\n",
    "import numpy as np\n",
    "import geopandas as gpd\n",
    "from shapely.geometry import Point"
   ]
  },
  {
   "cell_type": "code",
   "execution_count": 3,
   "metadata": {
    "tags": []
   },
   "outputs": [
    {
     "name": "stderr",
     "output_type": "stream",
     "text": [
      "/root/.cache/pypoetry/virtualenvs/eis-toolkit-QEzTY9B6-py3.10/lib/python3.10/site-packages/pandas/core/dtypes/cast.py:126: ShapelyDeprecationWarning: The array interface is deprecated and will no longer work in Shapely 2.0. Convert the '.coords' to a numpy array instead.\n",
      "  arr = construct_1d_object_array_from_listlike(values)\n"
     ]
    },
    {
     "name": "stdout",
     "output_type": "stream",
     "text": [
      "count                               100\n",
      "unique                              100\n",
      "top       POINT (0 -0.0096714011021593)\n",
      "freq                                  1\n",
      "Name: geometry, dtype: object\n",
      "count    100.000000\n",
      "mean      49.500000\n",
      "std       29.011492\n",
      "min        0.000000\n",
      "25%       24.750000\n",
      "50%       49.500000\n",
      "75%       74.250000\n",
      "max       99.000000\n",
      "Name: value, dtype: float64\n",
      "count    100.000000\n",
      "mean       0.986301\n",
      "std        0.883907\n",
      "min        0.000693\n",
      "25%        0.175743\n",
      "50%        0.742475\n",
      "75%        1.641089\n",
      "max        2.793564\n",
      "Name: value_local_moran_I, dtype: float64\n",
      "count    100.000000\n",
      "mean       0.136720\n",
      "std        0.152247\n",
      "min        0.001000\n",
      "25%        0.008250\n",
      "50%        0.072500\n",
      "75%        0.239250\n",
      "max        0.489000\n",
      "Name: value_p_value, dtype: float64\n"
     ]
    }
   ],
   "source": [
    "n_points = 100\n",
    "\n",
    "data = {\n",
    "    'geometry': [Point(i, i + np.random.uniform(-0.01, 0.01)) for i in range(100)],\n",
    "    'value': list(range(100))\n",
    "}\n",
    "\n",
    "gdf_test = gpd.GeoDataFrame(data)\n",
    "\n",
    "print(gdf_test['geometry'].describe())\n",
    "print(gdf_test['value'].describe())\n",
    "\n",
    "gdf_test = local_morans_i(gdf_test, 'value', 'knn', 3, 999)\n",
    "\n",
    "print(gdf_test['value_local_moran_I'].describe())\n",
    "\n",
    "print(gdf_test['value_p_value'].describe())"
   ]
  },
  {
   "cell_type": "code",
   "execution_count": null,
   "metadata": {},
   "outputs": [],
   "source": []
  }
 ],
 "metadata": {
  "kernelspec": {
   "display_name": "Python 3 (ipykernel)",
   "language": "python",
   "name": "python3"
  },
  "language_info": {
   "codemirror_mode": {
    "name": "ipython",
    "version": 3
   },
   "file_extension": ".py",
   "mimetype": "text/x-python",
   "name": "python",
   "nbconvert_exporter": "python",
   "pygments_lexer": "ipython3",
   "version": "3.10.12"
  }
 },
 "nbformat": 4,
 "nbformat_minor": 4
}

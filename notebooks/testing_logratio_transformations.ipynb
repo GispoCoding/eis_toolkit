{
 "cells": [
  {
   "cell_type": "markdown",
   "id": "f89936cb-350d-41d9-ad05-08c389746a66",
   "metadata": {},
   "source": [
    "# Testing logratio transformations"
   ]
  },
  {
   "cell_type": "code",
   "execution_count": 1,
   "id": "a856b2ac-91fa-4c0d-b247-946123ca107d",
   "metadata": {
    "tags": []
   },
   "outputs": [
    {
     "name": "stderr",
     "output_type": "stream",
     "text": [
      "/root/.cache/pypoetry/virtualenvs/eis-toolkit-QEzTY9B6-py3.10/lib/python3.10/site-packages/beartype/_util/hint/pep/utilpeptest.py:347: BeartypeDecorHintPep585DeprecationWarning: PEP 484 type hint typing.Sequence[str] deprecated by PEP 585. This hint is scheduled for removal in the first Python version released after October 5th, 2025. To resolve this, import this hint from \"beartype.typing\" rather than \"typing\". For further commentary and alternatives, see also:\n",
      "    https://beartype.readthedocs.io/en/latest/api_roar/#pep-585-deprecations\n",
      "  warn(\n"
     ]
    }
   ],
   "source": [
    "%matplotlib inline\n",
    "import geopandas as gpd\n",
    "import pandas as pd\n",
    "import numpy as np\n",
    "import sys\n",
    "\n",
    "sys.path.insert(0, \"..\")\n",
    "from eis_toolkit.transformations.coda.alr import alr_transform, inverse_alr\n",
    "from eis_toolkit.transformations.coda.clr import clr_transform, inverse_clr\n",
    "from eis_toolkit.transformations.coda.ilr import single_ilr_transform\n",
    "from eis_toolkit.transformations.coda.pairwise import pairwise_logratio, single_pairwise_logratio\n",
    "from eis_toolkit.transformations.coda.plr import plr_transform, single_plr_transform\n",
    "\n",
    "GEOCHEMICAL_DATA = \"../tests/data/local/coda/IOCG_CLB_Till_Geochem_reg_511p.shp\""
   ]
  },
  {
   "cell_type": "code",
   "execution_count": 2,
   "id": "8bc45d44-2ff6-4b8b-bf36-0c59d8ac7735",
   "metadata": {
    "tags": []
   },
   "outputs": [],
   "source": [
    "# Change option to display all columns (the geochemical data in question has a lot of columns)\n",
    "\n",
    "pd.set_option('display.max_columns', None)"
   ]
  },
  {
   "cell_type": "markdown",
   "id": "8e90ee6b-9391-4fa7-840f-a9a72f283ef2",
   "metadata": {},
   "source": [
    "## Testing with a simple, single-row composition"
   ]
  },
  {
   "cell_type": "code",
   "execution_count": 3,
   "id": "c7c4afd8-6178-4bf3-8ec4-fdbb3402e9f8",
   "metadata": {
    "tags": []
   },
   "outputs": [],
   "source": [
    "# A simple example composition consisiting of the parts a, b and c.\n",
    "# Components are expressed in percentages, and the parts sum to 100%.\n",
    "# The example is from Pawlowsky-Glahn & Egozcue 2006.\n",
    "\n",
    "c_arr = np.array([80, 15, 5])\n",
    "C = pd.DataFrame(c_arr[None], columns=[\"a\", \"b\", \"c\"])"
   ]
  },
  {
   "cell_type": "code",
   "execution_count": 4,
   "id": "d4b87352-5d2a-4331-a73a-1c86eae8c73c",
   "metadata": {
    "tags": []
   },
   "outputs": [],
   "source": [
    "pair_a_b = single_pairwise_logratio(float(C.iloc[0, 0]), float(C.iloc[0, 1]))\n",
    "pair_a_c = single_pairwise_logratio(float(C.iloc[0, 0]), float(C.iloc[0, 2]))\n",
    "pair_b_c = single_pairwise_logratio(float(C.iloc[0, 1]), float(C.iloc[0, 2]))\n",
    "\n",
    "C_alr = alr_transform(C)\n",
    "C_clr = clr_transform(C)\n",
    "C_plr = plr_transform(C)\n",
    "\n",
    "C_clr_inv = inverse_clr(C_clr, scale=100.0)\n",
    "C_alr_inv = inverse_alr(C_alr, \"c\", scale=100)\n",
    "\n",
    "C_ilr_ab = single_ilr_transform(C, [\"a\"], [\"b\"])\n",
    "C_ilr_ab_c = single_ilr_transform(C, [\"a\", \"b\"], [\"c\"])"
   ]
  },
  {
   "cell_type": "code",
   "execution_count": 5,
   "id": "1567a34c-a516-4558-9463-a373e6eddbb2",
   "metadata": {
    "tags": []
   },
   "outputs": [
    {
     "data": {
      "text/plain": [
       "1.6739764335716716"
      ]
     },
     "execution_count": 5,
     "metadata": {},
     "output_type": "execute_result"
    }
   ],
   "source": [
    "# Expected result: 1.67\n",
    "pair_a_b"
   ]
  },
  {
   "cell_type": "code",
   "execution_count": 6,
   "id": "92393d96-dd09-4f30-8782-2bd3f700d215",
   "metadata": {
    "tags": []
   },
   "outputs": [
    {
     "data": {
      "text/plain": [
       "2.772588722239781"
      ]
     },
     "execution_count": 6,
     "metadata": {},
     "output_type": "execute_result"
    }
   ],
   "source": [
    "# Expected result: 2.77\n",
    "pair_a_c"
   ]
  },
  {
   "cell_type": "code",
   "execution_count": 7,
   "id": "37135443-1d24-46a4-9fe9-25e2c5360c61",
   "metadata": {
    "tags": []
   },
   "outputs": [
    {
     "data": {
      "text/plain": [
       "1.0986122886681098"
      ]
     },
     "execution_count": 7,
     "metadata": {},
     "output_type": "execute_result"
    }
   ],
   "source": [
    "# Expected result: 1.10\n",
    "pair_b_c"
   ]
  },
  {
   "cell_type": "code",
   "execution_count": 8,
   "id": "45b66dfd-364d-4d58-a05a-f10b73e04716",
   "metadata": {
    "tags": []
   },
   "outputs": [
    {
     "data": {
      "text/html": [
       "<div>\n",
       "<style scoped>\n",
       "    .dataframe tbody tr th:only-of-type {\n",
       "        vertical-align: middle;\n",
       "    }\n",
       "\n",
       "    .dataframe tbody tr th {\n",
       "        vertical-align: top;\n",
       "    }\n",
       "\n",
       "    .dataframe thead th {\n",
       "        text-align: right;\n",
       "    }\n",
       "</style>\n",
       "<table border=\"1\" class=\"dataframe\">\n",
       "  <thead>\n",
       "    <tr style=\"text-align: right;\">\n",
       "      <th></th>\n",
       "      <th>V1</th>\n",
       "      <th>V2</th>\n",
       "    </tr>\n",
       "  </thead>\n",
       "  <tbody>\n",
       "    <tr>\n",
       "      <th>0</th>\n",
       "      <td>2.772589</td>\n",
       "      <td>1.098612</td>\n",
       "    </tr>\n",
       "  </tbody>\n",
       "</table>\n",
       "</div>"
      ],
      "text/plain": [
       "         V1        V2\n",
       "0  2.772589  1.098612"
      ]
     },
     "execution_count": 8,
     "metadata": {},
     "output_type": "execute_result"
    }
   ],
   "source": [
    "# Expected result: [2.77, 1.10]\n",
    "C_alr"
   ]
  },
  {
   "cell_type": "code",
   "execution_count": 9,
   "id": "c601161f-2357-4cf5-ae34-7c1521159c51",
   "metadata": {
    "tags": []
   },
   "outputs": [
    {
     "data": {
      "text/html": [
       "<div>\n",
       "<style scoped>\n",
       "    .dataframe tbody tr th:only-of-type {\n",
       "        vertical-align: middle;\n",
       "    }\n",
       "\n",
       "    .dataframe tbody tr th {\n",
       "        vertical-align: top;\n",
       "    }\n",
       "\n",
       "    .dataframe thead th {\n",
       "        text-align: right;\n",
       "    }\n",
       "</style>\n",
       "<table border=\"1\" class=\"dataframe\">\n",
       "  <thead>\n",
       "    <tr style=\"text-align: right;\">\n",
       "      <th></th>\n",
       "      <th>V1</th>\n",
       "      <th>V2</th>\n",
       "      <th>c</th>\n",
       "    </tr>\n",
       "  </thead>\n",
       "  <tbody>\n",
       "    <tr>\n",
       "      <th>0</th>\n",
       "      <td>80.0</td>\n",
       "      <td>15.0</td>\n",
       "      <td>5.0</td>\n",
       "    </tr>\n",
       "  </tbody>\n",
       "</table>\n",
       "</div>"
      ],
      "text/plain": [
       "     V1    V2    c\n",
       "0  80.0  15.0  5.0"
      ]
     },
     "execution_count": 9,
     "metadata": {},
     "output_type": "execute_result"
    }
   ],
   "source": [
    "C_alr_inv"
   ]
  },
  {
   "cell_type": "code",
   "execution_count": 10,
   "id": "d66606ee-ad2a-4f84-847b-e37b020b1f1a",
   "metadata": {
    "tags": []
   },
   "outputs": [
    {
     "data": {
      "text/html": [
       "<div>\n",
       "<style scoped>\n",
       "    .dataframe tbody tr th:only-of-type {\n",
       "        vertical-align: middle;\n",
       "    }\n",
       "\n",
       "    .dataframe tbody tr th {\n",
       "        vertical-align: top;\n",
       "    }\n",
       "\n",
       "    .dataframe thead th {\n",
       "        text-align: right;\n",
       "    }\n",
       "</style>\n",
       "<table border=\"1\" class=\"dataframe\">\n",
       "  <thead>\n",
       "    <tr style=\"text-align: right;\">\n",
       "      <th></th>\n",
       "      <th>V1</th>\n",
       "      <th>V2</th>\n",
       "      <th>V3</th>\n",
       "    </tr>\n",
       "  </thead>\n",
       "  <tbody>\n",
       "    <tr>\n",
       "      <th>0</th>\n",
       "      <td>1.482188</td>\n",
       "      <td>-0.191788</td>\n",
       "      <td>-1.2904</td>\n",
       "    </tr>\n",
       "  </tbody>\n",
       "</table>\n",
       "</div>"
      ],
      "text/plain": [
       "         V1        V2      V3\n",
       "0  1.482188 -0.191788 -1.2904"
      ]
     },
     "execution_count": 10,
     "metadata": {},
     "output_type": "execute_result"
    }
   ],
   "source": [
    "# Expected result: [1.48, -0.19, -1.29]\n",
    "C_clr"
   ]
  },
  {
   "cell_type": "code",
   "execution_count": 11,
   "id": "e845dba3-71f4-4465-aac6-5f2a8a0df54e",
   "metadata": {
    "tags": []
   },
   "outputs": [
    {
     "data": {
      "text/html": [
       "<div>\n",
       "<style scoped>\n",
       "    .dataframe tbody tr th:only-of-type {\n",
       "        vertical-align: middle;\n",
       "    }\n",
       "\n",
       "    .dataframe tbody tr th {\n",
       "        vertical-align: top;\n",
       "    }\n",
       "\n",
       "    .dataframe thead th {\n",
       "        text-align: right;\n",
       "    }\n",
       "</style>\n",
       "<table border=\"1\" class=\"dataframe\">\n",
       "  <thead>\n",
       "    <tr style=\"text-align: right;\">\n",
       "      <th></th>\n",
       "      <th>V1</th>\n",
       "      <th>V2</th>\n",
       "    </tr>\n",
       "  </thead>\n",
       "  <tbody>\n",
       "    <tr>\n",
       "      <th>0</th>\n",
       "      <td>1.815303</td>\n",
       "      <td>0.776836</td>\n",
       "    </tr>\n",
       "  </tbody>\n",
       "</table>\n",
       "</div>"
      ],
      "text/plain": [
       "         V1        V2\n",
       "0  1.815303  0.776836"
      ]
     },
     "execution_count": 11,
     "metadata": {},
     "output_type": "execute_result"
    }
   ],
   "source": [
    "# Expected result: [1.82, 0.78]\n",
    "C_plr"
   ]
  },
  {
   "cell_type": "code",
   "execution_count": 12,
   "id": "3475fa7b-8892-42e8-8f6f-44ef48511071",
   "metadata": {
    "tags": []
   },
   "outputs": [
    {
     "data": {
      "text/html": [
       "<div>\n",
       "<style scoped>\n",
       "    .dataframe tbody tr th:only-of-type {\n",
       "        vertical-align: middle;\n",
       "    }\n",
       "\n",
       "    .dataframe tbody tr th {\n",
       "        vertical-align: top;\n",
       "    }\n",
       "\n",
       "    .dataframe thead th {\n",
       "        text-align: right;\n",
       "    }\n",
       "</style>\n",
       "<table border=\"1\" class=\"dataframe\">\n",
       "  <thead>\n",
       "    <tr style=\"text-align: right;\">\n",
       "      <th></th>\n",
       "      <th>V1</th>\n",
       "      <th>V2</th>\n",
       "      <th>V3</th>\n",
       "    </tr>\n",
       "  </thead>\n",
       "  <tbody>\n",
       "    <tr>\n",
       "      <th>0</th>\n",
       "      <td>80.0</td>\n",
       "      <td>15.0</td>\n",
       "      <td>5.0</td>\n",
       "    </tr>\n",
       "  </tbody>\n",
       "</table>\n",
       "</div>"
      ],
      "text/plain": [
       "     V1    V2   V3\n",
       "0  80.0  15.0  5.0"
      ]
     },
     "execution_count": 12,
     "metadata": {},
     "output_type": "execute_result"
    }
   ],
   "source": [
    "# Renormalized to 100%, CLR inverse should show the original data: [80, 15, 5]\n",
    "C_clr_inv"
   ]
  },
  {
   "cell_type": "code",
   "execution_count": 13,
   "id": "6a8ea8c1-a737-4639-91d9-7924110709d9",
   "metadata": {
    "tags": []
   },
   "outputs": [
    {
     "data": {
      "text/plain": [
       "0    1.18368\n",
       "dtype: float64"
      ]
     },
     "execution_count": 13,
     "metadata": {},
     "output_type": "execute_result"
    }
   ],
   "source": [
    "# Expected result: 1.18\n",
    "C_ilr_ab"
   ]
  },
  {
   "cell_type": "code",
   "execution_count": 14,
   "id": "bce3dfea-4738-48a9-a283-e1ba28f7bc66",
   "metadata": {
    "tags": []
   },
   "outputs": [
    {
     "data": {
      "text/plain": [
       "0    1.580411\n",
       "dtype: float64"
      ]
     },
     "execution_count": 14,
     "metadata": {},
     "output_type": "execute_result"
    }
   ],
   "source": [
    "# Expected result: 1.58\n",
    "C_ilr_ab_c"
   ]
  },
  {
   "cell_type": "code",
   "execution_count": 15,
   "id": "8c6a6490-0a2a-45ab-8bf4-966c46fa54e3",
   "metadata": {
    "tags": []
   },
   "outputs": [
    {
     "data": {
      "text/html": [
       "<div>\n",
       "<style scoped>\n",
       "    .dataframe tbody tr th:only-of-type {\n",
       "        vertical-align: middle;\n",
       "    }\n",
       "\n",
       "    .dataframe tbody tr th {\n",
       "        vertical-align: top;\n",
       "    }\n",
       "\n",
       "    .dataframe thead th {\n",
       "        text-align: right;\n",
       "    }\n",
       "</style>\n",
       "<table border=\"1\" class=\"dataframe\">\n",
       "  <thead>\n",
       "    <tr style=\"text-align: right;\">\n",
       "      <th></th>\n",
       "      <th>V1</th>\n",
       "      <th>V2</th>\n",
       "      <th>V3</th>\n",
       "    </tr>\n",
       "  </thead>\n",
       "  <tbody>\n",
       "    <tr>\n",
       "      <th>0</th>\n",
       "      <td>2.564949</td>\n",
       "      <td>0.875469</td>\n",
       "      <td>1.280934</td>\n",
       "    </tr>\n",
       "    <tr>\n",
       "      <th>1</th>\n",
       "      <td>2.351375</td>\n",
       "      <td>0.980829</td>\n",
       "      <td>0.916291</td>\n",
       "    </tr>\n",
       "  </tbody>\n",
       "</table>\n",
       "</div>"
      ],
      "text/plain": [
       "         V1        V2        V3\n",
       "0  2.564949  0.875469  1.280934\n",
       "1  2.351375  0.980829  0.916291"
      ]
     },
     "execution_count": 15,
     "metadata": {},
     "output_type": "execute_result"
    }
   ],
   "source": [
    "sample_array = np.array([[65, 12, 18, 5], [63, 16, 15, 6]])\n",
    "SAMPLE_DATAFRAME = pd.DataFrame(sample_array, columns=[\"a\", \"b\", \"c\", \"d\"])\n",
    "sample_alr = alr_transform(SAMPLE_DATAFRAME)\n",
    "sample_alr"
   ]
  },
  {
   "cell_type": "code",
   "execution_count": 16,
   "id": "f338fa5f-15d3-4dc6-9b1f-bb78373d3a68",
   "metadata": {
    "tags": []
   },
   "outputs": [],
   "source": [
    "sample_alr_inv = inverse_alr(sample_alr, \"d\", 100)"
   ]
  },
  {
   "cell_type": "code",
   "execution_count": 17,
   "id": "7228c144-1c4f-402f-ae4a-4fec04625191",
   "metadata": {
    "tags": []
   },
   "outputs": [
    {
     "data": {
      "text/html": [
       "<div>\n",
       "<style scoped>\n",
       "    .dataframe tbody tr th:only-of-type {\n",
       "        vertical-align: middle;\n",
       "    }\n",
       "\n",
       "    .dataframe tbody tr th {\n",
       "        vertical-align: top;\n",
       "    }\n",
       "\n",
       "    .dataframe thead th {\n",
       "        text-align: right;\n",
       "    }\n",
       "</style>\n",
       "<table border=\"1\" class=\"dataframe\">\n",
       "  <thead>\n",
       "    <tr style=\"text-align: right;\">\n",
       "      <th></th>\n",
       "      <th>V1</th>\n",
       "      <th>V2</th>\n",
       "      <th>V3</th>\n",
       "      <th>d</th>\n",
       "    </tr>\n",
       "  </thead>\n",
       "  <tbody>\n",
       "    <tr>\n",
       "      <th>0</th>\n",
       "      <td>65.0</td>\n",
       "      <td>12.0</td>\n",
       "      <td>18.0</td>\n",
       "      <td>5.0</td>\n",
       "    </tr>\n",
       "    <tr>\n",
       "      <th>1</th>\n",
       "      <td>63.0</td>\n",
       "      <td>16.0</td>\n",
       "      <td>15.0</td>\n",
       "      <td>6.0</td>\n",
       "    </tr>\n",
       "  </tbody>\n",
       "</table>\n",
       "</div>"
      ],
      "text/plain": [
       "     V1    V2    V3    d\n",
       "0  65.0  12.0  18.0  5.0\n",
       "1  63.0  16.0  15.0  6.0"
      ]
     },
     "execution_count": 17,
     "metadata": {},
     "output_type": "execute_result"
    }
   ],
   "source": [
    "sample_alr_inv"
   ]
  },
  {
   "cell_type": "markdown",
   "id": "83fc2fbe-e035-4055-83cb-d79b893015b3",
   "metadata": {},
   "source": [
    "## Testing with example data"
   ]
  },
  {
   "cell_type": "code",
   "execution_count": 18,
   "id": "f49926c2-f1dd-47e8-a484-f78ce6821904",
   "metadata": {
    "tags": []
   },
   "outputs": [],
   "source": [
    "# Define some constants\n",
    "\n",
    "ppm = 1e-6\n",
    "million = 1e6"
   ]
  },
  {
   "cell_type": "code",
   "execution_count": 19,
   "id": "81a98117-b981-47ea-a7bb-ba06c0dacb13",
   "metadata": {
    "tags": []
   },
   "outputs": [],
   "source": [
    "# Names of all the columns that contain concentration data\n",
    "\n",
    "elements = ['Al_ppm_511', 'Ba_ppm_511', 'Ca_ppm_511', 'Co_ppm_511', 'Cr_ppm_511', 'Cu_ppm_511', 'Fe_ppm_511', 'K_ppm_511P', 'La_ppm_511', 'Li_ppm_511', 'Mg_ppm_511', 'Mn_ppm_511', 'Ni_ppm_511', 'P_ppm_511P', 'Sc_ppm_511', 'Sr_ppm_511', 'Th_ppm_511', 'Ti_ppm_511', 'V_ppm_511P', 'Y_ppm_511P', 'Zn_ppm_511', 'Zr_ppm_511']"
   ]
  },
  {
   "cell_type": "code",
   "execution_count": 20,
   "id": "c0204220-7bf2-4235-b92a-0e139180050e",
   "metadata": {
    "tags": []
   },
   "outputs": [],
   "source": [
    "# A subcomposition (selected at random)\n",
    "\n",
    "elements_to_analyze = ['Al_ppm_511', 'Ca_ppm_511', 'Fe_ppm_511', 'Mg_ppm_511']"
   ]
  },
  {
   "cell_type": "code",
   "execution_count": 21,
   "id": "e1bda63b-ab9b-4060-90d5-7520952f2e3a",
   "metadata": {
    "tags": []
   },
   "outputs": [
    {
     "data": {
      "text/html": [
       "<div>\n",
       "<style scoped>\n",
       "    .dataframe tbody tr th:only-of-type {\n",
       "        vertical-align: middle;\n",
       "    }\n",
       "\n",
       "    .dataframe tbody tr th {\n",
       "        vertical-align: top;\n",
       "    }\n",
       "\n",
       "    .dataframe thead th {\n",
       "        text-align: right;\n",
       "    }\n",
       "</style>\n",
       "<table border=\"1\" class=\"dataframe\">\n",
       "  <thead>\n",
       "    <tr style=\"text-align: right;\">\n",
       "      <th></th>\n",
       "      <th>Al_ppm_511</th>\n",
       "      <th>Ca_ppm_511</th>\n",
       "      <th>Fe_ppm_511</th>\n",
       "      <th>Mg_ppm_511</th>\n",
       "      <th>residual</th>\n",
       "    </tr>\n",
       "  </thead>\n",
       "  <tbody>\n",
       "    <tr>\n",
       "      <th>0</th>\n",
       "      <td>27600.0</td>\n",
       "      <td>40200.0</td>\n",
       "      <td>83200.0</td>\n",
       "      <td>17200.0</td>\n",
       "      <td>831800.0</td>\n",
       "    </tr>\n",
       "    <tr>\n",
       "      <th>1</th>\n",
       "      <td>14100.0</td>\n",
       "      <td>5000.0</td>\n",
       "      <td>28300.0</td>\n",
       "      <td>7520.0</td>\n",
       "      <td>945080.0</td>\n",
       "    </tr>\n",
       "    <tr>\n",
       "      <th>2</th>\n",
       "      <td>7880.0</td>\n",
       "      <td>3070.0</td>\n",
       "      <td>14500.0</td>\n",
       "      <td>4540.0</td>\n",
       "      <td>970010.0</td>\n",
       "    </tr>\n",
       "    <tr>\n",
       "      <th>3</th>\n",
       "      <td>7300.0</td>\n",
       "      <td>3290.0</td>\n",
       "      <td>14600.0</td>\n",
       "      <td>3240.0</td>\n",
       "      <td>971570.0</td>\n",
       "    </tr>\n",
       "    <tr>\n",
       "      <th>4</th>\n",
       "      <td>12500.0</td>\n",
       "      <td>3600.0</td>\n",
       "      <td>31500.0</td>\n",
       "      <td>8020.0</td>\n",
       "      <td>944380.0</td>\n",
       "    </tr>\n",
       "  </tbody>\n",
       "</table>\n",
       "</div>"
      ],
      "text/plain": [
       "   Al_ppm_511  Ca_ppm_511  Fe_ppm_511  Mg_ppm_511  residual\n",
       "0     27600.0     40200.0     83200.0     17200.0  831800.0\n",
       "1     14100.0      5000.0     28300.0      7520.0  945080.0\n",
       "2      7880.0      3070.0     14500.0      4540.0  970010.0\n",
       "3      7300.0      3290.0     14600.0      3240.0  971570.0\n",
       "4     12500.0      3600.0     31500.0      8020.0  944380.0"
      ]
     },
     "execution_count": 21,
     "metadata": {},
     "output_type": "execute_result"
    }
   ],
   "source": [
    "# Read the vector file into a dataframe\n",
    "\n",
    "df = gpd.read_file(GEOCHEMICAL_DATA, include_fields=elements_to_analyze)\n",
    "df = pd.DataFrame(df.drop(columns='geometry'))\n",
    "\n",
    "# Add a column for the residual\n",
    "\n",
    "df[\"residual\"] = million - np.sum(df, axis=1)\n",
    "df.head()"
   ]
  },
  {
   "cell_type": "code",
   "execution_count": 24,
   "id": "75728aa4-5b2e-46b6-9511-1250bf4b13ae",
   "metadata": {
    "tags": []
   },
   "outputs": [],
   "source": [
    "pair_Al_Ca = pairwise_logratio(df, \"Al_ppm_511\", \"Ca_ppm_511\")\n",
    "pair_Fe_Mg = pairwise_logratio(df, \"Fe_ppm_511\", \"Mg_ppm_511\")\n",
    "pair_Mg_Al = pairwise_logratio(df, \"Mg_ppm_511\", \"Al_ppm_511\")\n",
    "pair_Mg_res = pairwise_logratio(df, \"Mg_ppm_511\", \"residual\")\n",
    "\n",
    "df_alr = alr_transform(df)\n",
    "df_alr_Mg = alr_transform(df, \"Mg_ppm_511\")\n",
    "df_clr = clr_transform(df)\n",
    "df_plr = plr_transform(df)\n",
    "\n",
    "df_clr_inv = inverse_clr(df_clr, scale=million)\n",
    "df_alr_inv = inverse_alr(df_alr, \"c\", scale=million)\n",
    "\n",
    "df_ilr_Al_Ca = single_ilr_transform(df, [\"Al_ppm_511\"], [\"Ca_ppm_511\"])\n",
    "df_ilr_AlCa_FeMg = single_ilr_transform(df, [\"Al_ppm_511\", \"Ca_ppm_511\"], [\"Fe_ppm_511\", \"Mg_ppm_511\"])"
   ]
  },
  {
   "cell_type": "code",
   "execution_count": 25,
   "id": "e136d05d-671d-420f-95b9-5f350bc7a94c",
   "metadata": {
    "tags": []
   },
   "outputs": [
    {
     "data": {
      "text/plain": [
       "0   -0.376051\n",
       "1    1.036737\n",
       "2    0.942650\n",
       "3    0.796987\n",
       "4    1.244795\n",
       "dtype: float64"
      ]
     },
     "execution_count": 25,
     "metadata": {},
     "output_type": "execute_result"
    }
   ],
   "source": [
    "pair_Al_Ca.head()"
   ]
  },
  {
   "cell_type": "code",
   "execution_count": 26,
   "id": "ad352680-433a-4026-b7b5-560b682dfb96",
   "metadata": {
    "tags": []
   },
   "outputs": [
    {
     "data": {
      "text/html": [
       "<div>\n",
       "<style scoped>\n",
       "    .dataframe tbody tr th:only-of-type {\n",
       "        vertical-align: middle;\n",
       "    }\n",
       "\n",
       "    .dataframe tbody tr th {\n",
       "        vertical-align: top;\n",
       "    }\n",
       "\n",
       "    .dataframe thead th {\n",
       "        text-align: right;\n",
       "    }\n",
       "</style>\n",
       "<table border=\"1\" class=\"dataframe\">\n",
       "  <thead>\n",
       "    <tr style=\"text-align: right;\">\n",
       "      <th></th>\n",
       "      <th>V1</th>\n",
       "      <th>V2</th>\n",
       "      <th>V3</th>\n",
       "      <th>V4</th>\n",
       "    </tr>\n",
       "  </thead>\n",
       "  <tbody>\n",
       "    <tr>\n",
       "      <th>0</th>\n",
       "      <td>0.472906</td>\n",
       "      <td>0.848958</td>\n",
       "      <td>1.576338</td>\n",
       "      <td>3.878683</td>\n",
       "    </tr>\n",
       "    <tr>\n",
       "      <th>1</th>\n",
       "      <td>0.628609</td>\n",
       "      <td>-0.408128</td>\n",
       "      <td>1.325296</td>\n",
       "      <td>4.833703</td>\n",
       "    </tr>\n",
       "    <tr>\n",
       "      <th>2</th>\n",
       "      <td>0.551401</td>\n",
       "      <td>-0.391249</td>\n",
       "      <td>1.161222</td>\n",
       "      <td>5.364379</td>\n",
       "    </tr>\n",
       "    <tr>\n",
       "      <th>3</th>\n",
       "      <td>0.812301</td>\n",
       "      <td>0.015314</td>\n",
       "      <td>1.505448</td>\n",
       "      <td>5.703340</td>\n",
       "    </tr>\n",
       "    <tr>\n",
       "      <th>4</th>\n",
       "      <td>0.443790</td>\n",
       "      <td>-0.801005</td>\n",
       "      <td>1.368049</td>\n",
       "      <td>4.768590</td>\n",
       "    </tr>\n",
       "  </tbody>\n",
       "</table>\n",
       "</div>"
      ],
      "text/plain": [
       "         V1        V2        V3        V4\n",
       "0  0.472906  0.848958  1.576338  3.878683\n",
       "1  0.628609 -0.408128  1.325296  4.833703\n",
       "2  0.551401 -0.391249  1.161222  5.364379\n",
       "3  0.812301  0.015314  1.505448  5.703340\n",
       "4  0.443790 -0.801005  1.368049  4.768590"
      ]
     },
     "execution_count": 26,
     "metadata": {},
     "output_type": "execute_result"
    }
   ],
   "source": [
    "df_alr_Mg.head()"
   ]
  },
  {
   "cell_type": "code",
   "execution_count": null,
   "id": "8b6a1929-51ef-4b7a-8621-f46bbe337e31",
   "metadata": {},
   "outputs": [],
   "source": []
  }
 ],
 "metadata": {
  "kernelspec": {
   "display_name": "Python 3 (ipykernel)",
   "language": "python",
   "name": "python3"
  },
  "language_info": {
   "codemirror_mode": {
    "name": "ipython",
    "version": 3
   },
   "file_extension": ".py",
   "mimetype": "text/x-python",
   "name": "python",
   "nbconvert_exporter": "python",
   "pygments_lexer": "ipython3",
   "version": "3.10.12"
  }
 },
 "nbformat": 4,
 "nbformat_minor": 5
}

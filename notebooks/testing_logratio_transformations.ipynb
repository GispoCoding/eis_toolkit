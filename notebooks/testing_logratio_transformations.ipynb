{
 "cells": [
  {
   "cell_type": "markdown",
   "id": "f89936cb-350d-41d9-ad05-08c389746a66",
   "metadata": {},
   "source": [
    "# Testing logratio transformations"
   ]
  },
  {
   "cell_type": "code",
   "execution_count": null,
   "id": "a856b2ac-91fa-4c0d-b247-946123ca107d",
   "metadata": {},
   "outputs": [],
   "source": []
  }
 ],
 "metadata": {
  "kernelspec": {
   "display_name": "Python 3 (ipykernel)",
   "language": "python",
   "name": "python3"
  },
  "language_info": {
   "codemirror_mode": {
    "name": "ipython",
    "version": 3
   },
   "file_extension": ".py",
   "mimetype": "text/x-python",
   "name": "python",
   "nbconvert_exporter": "python",
   "pygments_lexer": "ipython3",
   "version": "3.10.12"
  }
 },
 "nbformat": 4,
 "nbformat_minor": 5
}

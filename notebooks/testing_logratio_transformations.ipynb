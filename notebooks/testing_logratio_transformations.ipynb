{
 "cells": [
  {
   "cell_type": "markdown",
   "id": "f89936cb-350d-41d9-ad05-08c389746a66",
   "metadata": {},
   "source": [
    "# Testing logratio transformations"
   ]
  },
  {
   "cell_type": "code",
   "execution_count": 3,
   "id": "a856b2ac-91fa-4c0d-b247-946123ca107d",
   "metadata": {
    "tags": []
   },
   "outputs": [],
   "source": [
    "%matplotlib inline\n",
    "import geopandas as gpd\n",
    "import pandas as pd\n",
    "import numpy as np\n",
    "import sys\n",
    "\n",
    "sys.path.insert(0, \"..\")\n",
    "from eis_toolkit.transformations.coda.alr import alr_transform, _alr_transform\n",
    "from eis_toolkit.transformations.coda.clr import clr_transform, inverse_clr\n",
    "from eis_toolkit.transformations.coda.ilr import single_ilr_transform\n",
    "from eis_toolkit.transformations.coda.pairwise import single_pairwise_logratio\n",
    "from eis_toolkit.transformations.coda.plr import plr_transform, single_plr_transform\n",
    "\n",
    "GEOCHEMICAL_DATA = \"../tests/data/local/coda/IOCG_CLB_Till_Geochem_reg_511p.shp\""
   ]
  },
  {
   "cell_type": "code",
   "execution_count": 4,
   "id": "8bc45d44-2ff6-4b8b-bf36-0c59d8ac7735",
   "metadata": {
    "tags": []
   },
   "outputs": [],
   "source": [
    "# Change option to display all columns (the geochemical data in question has a lot of columns)\n",
    "\n",
    "pd.set_option('display.max_columns', None)"
   ]
  },
  {
   "cell_type": "markdown",
   "id": "8e90ee6b-9391-4fa7-840f-a9a72f283ef2",
   "metadata": {},
   "source": [
    "## Testing with a simple, single-row composition"
   ]
  },
  {
   "cell_type": "code",
   "execution_count": 5,
   "id": "c7c4afd8-6178-4bf3-8ec4-fdbb3402e9f8",
   "metadata": {
    "tags": []
   },
   "outputs": [],
   "source": [
    "# A simple example composition consisiting of the parts a, b and c.\n",
    "# Components are expressed in percentages, and the parts sum to 100%.\n",
    "# The example is from Pawlowsky-Glahn & Egozcue 2006.\n",
    "\n",
    "c_arr = np.array([80, 15, 5])\n",
    "C = pd.DataFrame(c_arr[None], columns=[\"a\", \"b\", \"c\"])"
   ]
  },
  {
   "cell_type": "code",
   "execution_count": 7,
   "id": "d4b87352-5d2a-4331-a73a-1c86eae8c73c",
   "metadata": {
    "tags": []
   },
   "outputs": [],
   "source": [
    "pair_a_b = single_pairwise_logratio(float(C.iloc[0, 0]), float(C.iloc[0, 1]))\n",
    "pair_a_c = single_pairwise_logratio(float(C.iloc[0, 0]), float(C.iloc[0, 2]))\n",
    "pair_b_c = single_pairwise_logratio(float(C.iloc[0, 1]), float(C.iloc[0, 2]))\n",
    "\n",
    "C_alr = alr_transform(C)\n",
    "C_clr = clr_transform(C)\n",
    "C_plr = plr_transform(C)\n",
    "\n",
    "C_clr_inv, _ = inverse_clr(C_clr)\n",
    "\n",
    "C_ilr_ab = single_ilr_transform(C, [\"a\"], [\"b\"])\n",
    "C_ilr_ab_c = single_ilr_transform(C, [\"a\", \"b\"], [\"c\"])"
   ]
  },
  {
   "cell_type": "code",
   "execution_count": 9,
   "id": "1567a34c-a516-4558-9463-a373e6eddbb2",
   "metadata": {
    "tags": []
   },
   "outputs": [
    {
     "data": {
      "text/plain": [
       "1.6739764335716716"
      ]
     },
     "execution_count": 9,
     "metadata": {},
     "output_type": "execute_result"
    }
   ],
   "source": [
    "# Expected result: 1.67\n",
    "pair_a_b"
   ]
  },
  {
   "cell_type": "code",
   "execution_count": 10,
   "id": "92393d96-dd09-4f30-8782-2bd3f700d215",
   "metadata": {
    "tags": []
   },
   "outputs": [
    {
     "data": {
      "text/plain": [
       "2.772588722239781"
      ]
     },
     "execution_count": 10,
     "metadata": {},
     "output_type": "execute_result"
    }
   ],
   "source": [
    "# Expected result: 2.77\n",
    "pair_a_c"
   ]
  },
  {
   "cell_type": "code",
   "execution_count": 11,
   "id": "37135443-1d24-46a4-9fe9-25e2c5360c61",
   "metadata": {
    "tags": []
   },
   "outputs": [
    {
     "data": {
      "text/plain": [
       "1.0986122886681098"
      ]
     },
     "execution_count": 11,
     "metadata": {},
     "output_type": "execute_result"
    }
   ],
   "source": [
    "# Expected result: 1.10\n",
    "pair_b_c"
   ]
  },
  {
   "cell_type": "code",
   "execution_count": 12,
   "id": "45b66dfd-364d-4d58-a05a-f10b73e04716",
   "metadata": {
    "tags": []
   },
   "outputs": [
    {
     "data": {
      "text/html": [
       "<div>\n",
       "<style scoped>\n",
       "    .dataframe tbody tr th:only-of-type {\n",
       "        vertical-align: middle;\n",
       "    }\n",
       "\n",
       "    .dataframe tbody tr th {\n",
       "        vertical-align: top;\n",
       "    }\n",
       "\n",
       "    .dataframe thead th {\n",
       "        text-align: right;\n",
       "    }\n",
       "</style>\n",
       "<table border=\"1\" class=\"dataframe\">\n",
       "  <thead>\n",
       "    <tr style=\"text-align: right;\">\n",
       "      <th></th>\n",
       "      <th>a</th>\n",
       "      <th>b</th>\n",
       "    </tr>\n",
       "  </thead>\n",
       "  <tbody>\n",
       "    <tr>\n",
       "      <th>0</th>\n",
       "      <td>2.772589</td>\n",
       "      <td>1.098612</td>\n",
       "    </tr>\n",
       "  </tbody>\n",
       "</table>\n",
       "</div>"
      ],
      "text/plain": [
       "          a         b\n",
       "0  2.772589  1.098612"
      ]
     },
     "execution_count": 12,
     "metadata": {},
     "output_type": "execute_result"
    }
   ],
   "source": [
    "# Expected result: [2.77, 1.10]\n",
    "C_alr"
   ]
  },
  {
   "cell_type": "code",
   "execution_count": 13,
   "id": "d66606ee-ad2a-4f84-847b-e37b020b1f1a",
   "metadata": {
    "tags": []
   },
   "outputs": [
    {
     "data": {
      "text/html": [
       "<div>\n",
       "<style scoped>\n",
       "    .dataframe tbody tr th:only-of-type {\n",
       "        vertical-align: middle;\n",
       "    }\n",
       "\n",
       "    .dataframe tbody tr th {\n",
       "        vertical-align: top;\n",
       "    }\n",
       "\n",
       "    .dataframe thead th {\n",
       "        text-align: right;\n",
       "    }\n",
       "</style>\n",
       "<table border=\"1\" class=\"dataframe\">\n",
       "  <thead>\n",
       "    <tr style=\"text-align: right;\">\n",
       "      <th></th>\n",
       "      <th>a</th>\n",
       "      <th>b</th>\n",
       "      <th>c</th>\n",
       "    </tr>\n",
       "  </thead>\n",
       "  <tbody>\n",
       "    <tr>\n",
       "      <th>0</th>\n",
       "      <td>1.482188</td>\n",
       "      <td>-0.191788</td>\n",
       "      <td>-1.2904</td>\n",
       "    </tr>\n",
       "  </tbody>\n",
       "</table>\n",
       "</div>"
      ],
      "text/plain": [
       "          a         b       c\n",
       "0  1.482188 -0.191788 -1.2904"
      ]
     },
     "execution_count": 13,
     "metadata": {},
     "output_type": "execute_result"
    }
   ],
   "source": [
    "# Expected result: [1.48, -0.19, -1.29]\n",
    "C_clr"
   ]
  },
  {
   "cell_type": "code",
   "execution_count": 14,
   "id": "e845dba3-71f4-4465-aac6-5f2a8a0df54e",
   "metadata": {
    "tags": []
   },
   "outputs": [
    {
     "data": {
      "text/html": [
       "<div>\n",
       "<style scoped>\n",
       "    .dataframe tbody tr th:only-of-type {\n",
       "        vertical-align: middle;\n",
       "    }\n",
       "\n",
       "    .dataframe tbody tr th {\n",
       "        vertical-align: top;\n",
       "    }\n",
       "\n",
       "    .dataframe thead th {\n",
       "        text-align: right;\n",
       "    }\n",
       "</style>\n",
       "<table border=\"1\" class=\"dataframe\">\n",
       "  <thead>\n",
       "    <tr style=\"text-align: right;\">\n",
       "      <th></th>\n",
       "      <th>a</th>\n",
       "      <th>b</th>\n",
       "    </tr>\n",
       "  </thead>\n",
       "  <tbody>\n",
       "    <tr>\n",
       "      <th>0</th>\n",
       "      <td>1.815303</td>\n",
       "      <td>0.776836</td>\n",
       "    </tr>\n",
       "  </tbody>\n",
       "</table>\n",
       "</div>"
      ],
      "text/plain": [
       "          a         b\n",
       "0  1.815303  0.776836"
      ]
     },
     "execution_count": 14,
     "metadata": {},
     "output_type": "execute_result"
    }
   ],
   "source": [
    "# Expected result: [1.82, 0.78]\n",
    "C_plr"
   ]
  },
  {
   "cell_type": "code",
   "execution_count": 15,
   "id": "3475fa7b-8892-42e8-8f6f-44ef48511071",
   "metadata": {
    "tags": []
   },
   "outputs": [
    {
     "data": {
      "text/html": [
       "<div>\n",
       "<style scoped>\n",
       "    .dataframe tbody tr th:only-of-type {\n",
       "        vertical-align: middle;\n",
       "    }\n",
       "\n",
       "    .dataframe tbody tr th {\n",
       "        vertical-align: top;\n",
       "    }\n",
       "\n",
       "    .dataframe thead th {\n",
       "        text-align: right;\n",
       "    }\n",
       "</style>\n",
       "<table border=\"1\" class=\"dataframe\">\n",
       "  <thead>\n",
       "    <tr style=\"text-align: right;\">\n",
       "      <th></th>\n",
       "      <th>a</th>\n",
       "      <th>b</th>\n",
       "      <th>c</th>\n",
       "    </tr>\n",
       "  </thead>\n",
       "  <tbody>\n",
       "    <tr>\n",
       "      <th>0</th>\n",
       "      <td>80.0</td>\n",
       "      <td>15.0</td>\n",
       "      <td>5.0</td>\n",
       "    </tr>\n",
       "  </tbody>\n",
       "</table>\n",
       "</div>"
      ],
      "text/plain": [
       "      a     b    c\n",
       "0  80.0  15.0  5.0"
      ]
     },
     "execution_count": 15,
     "metadata": {},
     "output_type": "execute_result"
    }
   ],
   "source": [
    "# Renormalized to 100%, CLR inverse should show the original data: [80, 15, 5]\n",
    "C_clr_inv * 100"
   ]
  },
  {
   "cell_type": "code",
   "execution_count": 16,
   "id": "6a8ea8c1-a737-4639-91d9-7924110709d9",
   "metadata": {
    "tags": []
   },
   "outputs": [
    {
     "data": {
      "text/plain": [
       "0    1.18368\n",
       "dtype: float64"
      ]
     },
     "execution_count": 16,
     "metadata": {},
     "output_type": "execute_result"
    }
   ],
   "source": [
    "# Expected result: 1.18\n",
    "C_ilr_ab"
   ]
  },
  {
   "cell_type": "code",
   "execution_count": 17,
   "id": "bce3dfea-4738-48a9-a283-e1ba28f7bc66",
   "metadata": {
    "tags": []
   },
   "outputs": [
    {
     "data": {
      "text/plain": [
       "0    1.580411\n",
       "dtype: float64"
      ]
     },
     "execution_count": 17,
     "metadata": {},
     "output_type": "execute_result"
    }
   ],
   "source": [
    "# Expected result: 1.58\n",
    "C_ilr_ab_c"
   ]
  },
  {
   "cell_type": "markdown",
   "id": "83fc2fbe-e035-4055-83cb-d79b893015b3",
   "metadata": {},
   "source": [
    "### Testing with example data"
   ]
  },
  {
   "cell_type": "code",
   "execution_count": 18,
   "id": "f49926c2-f1dd-47e8-a484-f78ce6821904",
   "metadata": {
    "tags": []
   },
   "outputs": [],
   "source": [
    "# Define some constants\n",
    "\n",
    "ppm = 1e-6\n",
    "million = 1e6"
   ]
  },
  {
   "cell_type": "code",
   "execution_count": 19,
   "id": "81a98117-b981-47ea-a7bb-ba06c0dacb13",
   "metadata": {
    "tags": []
   },
   "outputs": [],
   "source": [
    "# Names of all the columns that contain concentration data\n",
    "\n",
    "elements = ['Al_ppm_511', 'Ba_ppm_511', 'Ca_ppm_511', 'Co_ppm_511', 'Cr_ppm_511', 'Cu_ppm_511', 'Fe_ppm_511', 'K_ppm_511P', 'La_ppm_511', 'Li_ppm_511', 'Mg_ppm_511', 'Mn_ppm_511', 'Ni_ppm_511', 'P_ppm_511P', 'Sc_ppm_511', 'Sr_ppm_511', 'Th_ppm_511', 'Ti_ppm_511', 'V_ppm_511P', 'Y_ppm_511P', 'Zn_ppm_511', 'Zr_ppm_511']"
   ]
  },
  {
   "cell_type": "code",
   "execution_count": 20,
   "id": "c0204220-7bf2-4235-b92a-0e139180050e",
   "metadata": {
    "tags": []
   },
   "outputs": [],
   "source": [
    "# A subcomposition (selected at random)\n",
    "\n",
    "elements_to_analyze = ['Al_ppm_511', 'Ca_ppm_511', 'Fe_ppm_511', 'Mg_ppm_511']"
   ]
  },
  {
   "cell_type": "code",
   "execution_count": 21,
   "id": "3d779063-38fc-4d3c-835a-99f0fc654e89",
   "metadata": {
    "tags": []
   },
   "outputs": [
    {
     "data": {
      "text/html": [
       "<div>\n",
       "<style scoped>\n",
       "    .dataframe tbody tr th:only-of-type {\n",
       "        vertical-align: middle;\n",
       "    }\n",
       "\n",
       "    .dataframe tbody tr th {\n",
       "        vertical-align: top;\n",
       "    }\n",
       "\n",
       "    .dataframe thead th {\n",
       "        text-align: right;\n",
       "    }\n",
       "</style>\n",
       "<table border=\"1\" class=\"dataframe\">\n",
       "  <thead>\n",
       "    <tr style=\"text-align: right;\">\n",
       "      <th></th>\n",
       "      <th>OBJECTID</th>\n",
       "      <th>Year</th>\n",
       "      <th>Observatio</th>\n",
       "      <th>Northing</th>\n",
       "      <th>Easting</th>\n",
       "      <th>Northing_k</th>\n",
       "      <th>Easting_kk</th>\n",
       "      <th>Map_sheet_</th>\n",
       "      <th>Map_sheet1</th>\n",
       "      <th>Material</th>\n",
       "      <th>Soil_horiz</th>\n",
       "      <th>Sampler</th>\n",
       "      <th>Parallel_s</th>\n",
       "      <th>Combined_s</th>\n",
       "      <th>Fraction</th>\n",
       "      <th>Second_ana</th>\n",
       "      <th>Analysis_d</th>\n",
       "      <th>Al_ppm_511</th>\n",
       "      <th>Al_511P_T</th>\n",
       "      <th>Ba_ppm_511</th>\n",
       "      <th>Ba_511P_T</th>\n",
       "      <th>Ca_ppm_511</th>\n",
       "      <th>Ca_511P_T</th>\n",
       "      <th>Co_ppm_511</th>\n",
       "      <th>Co_511P_T</th>\n",
       "      <th>Cr_ppm_511</th>\n",
       "      <th>Cr_511P_T</th>\n",
       "      <th>Cu_ppm_511</th>\n",
       "      <th>Cu_511P_T</th>\n",
       "      <th>Fe_ppm_511</th>\n",
       "      <th>Fe_511P_T</th>\n",
       "      <th>K_ppm_511P</th>\n",
       "      <th>K_511P_T</th>\n",
       "      <th>La_ppm_511</th>\n",
       "      <th>La_511P_T</th>\n",
       "      <th>Li_ppm_511</th>\n",
       "      <th>Li_511P_T</th>\n",
       "      <th>Mg_ppm_511</th>\n",
       "      <th>Mg_511P_T</th>\n",
       "      <th>Mn_ppm_511</th>\n",
       "      <th>Mn_511P_T</th>\n",
       "      <th>Ni_ppm_511</th>\n",
       "      <th>Ni_511P_T</th>\n",
       "      <th>P_ppm_511P</th>\n",
       "      <th>P_511P_T</th>\n",
       "      <th>Sc_ppm_511</th>\n",
       "      <th>Sc_511P_T</th>\n",
       "      <th>Sr_ppm_511</th>\n",
       "      <th>Sr_511P_T</th>\n",
       "      <th>Th_ppm_511</th>\n",
       "      <th>Th_511P_T</th>\n",
       "      <th>Ti_ppm_511</th>\n",
       "      <th>Ti_511P_T</th>\n",
       "      <th>V_ppm_511P</th>\n",
       "      <th>V_511P_T</th>\n",
       "      <th>Y_ppm_511P</th>\n",
       "      <th>Y_511P_T</th>\n",
       "      <th>Zn_ppm_511</th>\n",
       "      <th>Zn_511P_T</th>\n",
       "      <th>Zr_ppm_511</th>\n",
       "      <th>Zr_511P_T</th>\n",
       "      <th>geometry</th>\n",
       "    </tr>\n",
       "  </thead>\n",
       "  <tbody>\n",
       "    <tr>\n",
       "      <th>0</th>\n",
       "      <td>2259</td>\n",
       "      <td>81</td>\n",
       "      <td>49114</td>\n",
       "      <td>7526963</td>\n",
       "      <td>404203</td>\n",
       "      <td>7530108</td>\n",
       "      <td>3404337</td>\n",
       "      <td>2741</td>\n",
       "      <td>10</td>\n",
       "      <td>till</td>\n",
       "      <td>C</td>\n",
       "      <td>percussion drilling/Cobra</td>\n",
       "      <td>None</td>\n",
       "      <td>Y</td>\n",
       "      <td>sieved, &lt;0.06 mm (fine)</td>\n",
       "      <td>None</td>\n",
       "      <td>1986-07-01</td>\n",
       "      <td>27600.0</td>\n",
       "      <td>None</td>\n",
       "      <td>20.6</td>\n",
       "      <td>None</td>\n",
       "      <td>40200.0</td>\n",
       "      <td>None</td>\n",
       "      <td>69.70</td>\n",
       "      <td>None</td>\n",
       "      <td>73.4</td>\n",
       "      <td>None</td>\n",
       "      <td>100.0</td>\n",
       "      <td>None</td>\n",
       "      <td>83200.0</td>\n",
       "      <td>None</td>\n",
       "      <td>664.0</td>\n",
       "      <td>None</td>\n",
       "      <td>11.3</td>\n",
       "      <td>None</td>\n",
       "      <td>14.30</td>\n",
       "      <td>None</td>\n",
       "      <td>17200.0</td>\n",
       "      <td>None</td>\n",
       "      <td>2250.0</td>\n",
       "      <td>None</td>\n",
       "      <td>61.4</td>\n",
       "      <td>None</td>\n",
       "      <td>735.0</td>\n",
       "      <td>None</td>\n",
       "      <td>24.30</td>\n",
       "      <td>None</td>\n",
       "      <td>22.60</td>\n",
       "      <td>None</td>\n",
       "      <td>2.97</td>\n",
       "      <td>None</td>\n",
       "      <td>2590.0</td>\n",
       "      <td>None</td>\n",
       "      <td>354.0</td>\n",
       "      <td>None</td>\n",
       "      <td>12.20</td>\n",
       "      <td>None</td>\n",
       "      <td>86.7</td>\n",
       "      <td>None</td>\n",
       "      <td>0.0</td>\n",
       "      <td>&lt;</td>\n",
       "      <td>POINT (404203.131 7526963.173)</td>\n",
       "    </tr>\n",
       "    <tr>\n",
       "      <th>1</th>\n",
       "      <td>3328</td>\n",
       "      <td>81</td>\n",
       "      <td>49282</td>\n",
       "      <td>7530498</td>\n",
       "      <td>406827</td>\n",
       "      <td>7533644</td>\n",
       "      <td>3406962</td>\n",
       "      <td>2741</td>\n",
       "      <td>11</td>\n",
       "      <td>till</td>\n",
       "      <td>C</td>\n",
       "      <td>percussion drilling/Cobra</td>\n",
       "      <td>None</td>\n",
       "      <td>Y</td>\n",
       "      <td>sieved, &lt;0.06 mm (fine)</td>\n",
       "      <td>None</td>\n",
       "      <td>1986-07-24</td>\n",
       "      <td>14100.0</td>\n",
       "      <td>None</td>\n",
       "      <td>22.6</td>\n",
       "      <td>None</td>\n",
       "      <td>5000.0</td>\n",
       "      <td>None</td>\n",
       "      <td>20.50</td>\n",
       "      <td>None</td>\n",
       "      <td>41.0</td>\n",
       "      <td>None</td>\n",
       "      <td>60.8</td>\n",
       "      <td>None</td>\n",
       "      <td>28300.0</td>\n",
       "      <td>None</td>\n",
       "      <td>405.0</td>\n",
       "      <td>None</td>\n",
       "      <td>10.8</td>\n",
       "      <td>None</td>\n",
       "      <td>8.16</td>\n",
       "      <td>None</td>\n",
       "      <td>7520.0</td>\n",
       "      <td>None</td>\n",
       "      <td>370.0</td>\n",
       "      <td>None</td>\n",
       "      <td>34.2</td>\n",
       "      <td>None</td>\n",
       "      <td>566.0</td>\n",
       "      <td>None</td>\n",
       "      <td>5.70</td>\n",
       "      <td>None</td>\n",
       "      <td>12.00</td>\n",
       "      <td>None</td>\n",
       "      <td>1.74</td>\n",
       "      <td>None</td>\n",
       "      <td>2640.0</td>\n",
       "      <td>None</td>\n",
       "      <td>76.9</td>\n",
       "      <td>None</td>\n",
       "      <td>9.00</td>\n",
       "      <td>None</td>\n",
       "      <td>58.5</td>\n",
       "      <td>None</td>\n",
       "      <td>0.0</td>\n",
       "      <td>&lt;</td>\n",
       "      <td>POINT (406827.101 7530497.757)</td>\n",
       "    </tr>\n",
       "    <tr>\n",
       "      <th>2</th>\n",
       "      <td>3507</td>\n",
       "      <td>81</td>\n",
       "      <td>49269</td>\n",
       "      <td>7536878</td>\n",
       "      <td>406536</td>\n",
       "      <td>7540027</td>\n",
       "      <td>3406671</td>\n",
       "      <td>2741</td>\n",
       "      <td>11</td>\n",
       "      <td>till</td>\n",
       "      <td>C</td>\n",
       "      <td>percussion drilling/Cobra</td>\n",
       "      <td>None</td>\n",
       "      <td>Y</td>\n",
       "      <td>sieved, &lt;0.06 mm (fine)</td>\n",
       "      <td>None</td>\n",
       "      <td>1986-06-24</td>\n",
       "      <td>7880.0</td>\n",
       "      <td>None</td>\n",
       "      <td>22.9</td>\n",
       "      <td>None</td>\n",
       "      <td>3070.0</td>\n",
       "      <td>None</td>\n",
       "      <td>6.94</td>\n",
       "      <td>None</td>\n",
       "      <td>33.0</td>\n",
       "      <td>None</td>\n",
       "      <td>24.7</td>\n",
       "      <td>None</td>\n",
       "      <td>14500.0</td>\n",
       "      <td>None</td>\n",
       "      <td>710.0</td>\n",
       "      <td>None</td>\n",
       "      <td>11.7</td>\n",
       "      <td>None</td>\n",
       "      <td>7.58</td>\n",
       "      <td>None</td>\n",
       "      <td>4540.0</td>\n",
       "      <td>None</td>\n",
       "      <td>152.0</td>\n",
       "      <td>None</td>\n",
       "      <td>17.9</td>\n",
       "      <td>None</td>\n",
       "      <td>458.0</td>\n",
       "      <td>None</td>\n",
       "      <td>3.12</td>\n",
       "      <td>None</td>\n",
       "      <td>8.36</td>\n",
       "      <td>None</td>\n",
       "      <td>5.44</td>\n",
       "      <td>None</td>\n",
       "      <td>1470.0</td>\n",
       "      <td>None</td>\n",
       "      <td>46.3</td>\n",
       "      <td>None</td>\n",
       "      <td>6.90</td>\n",
       "      <td>None</td>\n",
       "      <td>28.7</td>\n",
       "      <td>None</td>\n",
       "      <td>12.3</td>\n",
       "      <td>None</td>\n",
       "      <td>POINT (406536.240 7536878.222)</td>\n",
       "    </tr>\n",
       "    <tr>\n",
       "      <th>3</th>\n",
       "      <td>4936</td>\n",
       "      <td>81</td>\n",
       "      <td>49245</td>\n",
       "      <td>7524138</td>\n",
       "      <td>401544</td>\n",
       "      <td>7527282</td>\n",
       "      <td>3401677</td>\n",
       "      <td>2741</td>\n",
       "      <td>07</td>\n",
       "      <td>till</td>\n",
       "      <td>C</td>\n",
       "      <td>percussion drilling/Cobra</td>\n",
       "      <td>None</td>\n",
       "      <td>Y</td>\n",
       "      <td>sieved, &lt;0.06 mm (fine)</td>\n",
       "      <td>None</td>\n",
       "      <td>1986-06-12</td>\n",
       "      <td>7300.0</td>\n",
       "      <td>None</td>\n",
       "      <td>25.1</td>\n",
       "      <td>None</td>\n",
       "      <td>3290.0</td>\n",
       "      <td>None</td>\n",
       "      <td>8.38</td>\n",
       "      <td>None</td>\n",
       "      <td>25.0</td>\n",
       "      <td>None</td>\n",
       "      <td>28.4</td>\n",
       "      <td>None</td>\n",
       "      <td>14600.0</td>\n",
       "      <td>None</td>\n",
       "      <td>836.0</td>\n",
       "      <td>None</td>\n",
       "      <td>10.6</td>\n",
       "      <td>None</td>\n",
       "      <td>5.62</td>\n",
       "      <td>None</td>\n",
       "      <td>3240.0</td>\n",
       "      <td>None</td>\n",
       "      <td>156.0</td>\n",
       "      <td>None</td>\n",
       "      <td>13.8</td>\n",
       "      <td>None</td>\n",
       "      <td>744.0</td>\n",
       "      <td>None</td>\n",
       "      <td>2.28</td>\n",
       "      <td>None</td>\n",
       "      <td>6.90</td>\n",
       "      <td>None</td>\n",
       "      <td>4.42</td>\n",
       "      <td>None</td>\n",
       "      <td>1050.0</td>\n",
       "      <td>None</td>\n",
       "      <td>42.2</td>\n",
       "      <td>None</td>\n",
       "      <td>5.03</td>\n",
       "      <td>None</td>\n",
       "      <td>16.7</td>\n",
       "      <td>None</td>\n",
       "      <td>7.9</td>\n",
       "      <td>None</td>\n",
       "      <td>POINT (401544.178 7524138.307)</td>\n",
       "    </tr>\n",
       "    <tr>\n",
       "      <th>4</th>\n",
       "      <td>4937</td>\n",
       "      <td>81</td>\n",
       "      <td>49283</td>\n",
       "      <td>7530830</td>\n",
       "      <td>405584</td>\n",
       "      <td>7533976</td>\n",
       "      <td>3405718</td>\n",
       "      <td>2741</td>\n",
       "      <td>11</td>\n",
       "      <td>till</td>\n",
       "      <td>C</td>\n",
       "      <td>percussion drilling/Cobra</td>\n",
       "      <td>None</td>\n",
       "      <td>Y</td>\n",
       "      <td>sieved, &lt;0.06 mm (fine)</td>\n",
       "      <td>None</td>\n",
       "      <td>1986-07-10</td>\n",
       "      <td>12500.0</td>\n",
       "      <td>None</td>\n",
       "      <td>25.1</td>\n",
       "      <td>None</td>\n",
       "      <td>3600.0</td>\n",
       "      <td>None</td>\n",
       "      <td>29.30</td>\n",
       "      <td>None</td>\n",
       "      <td>38.9</td>\n",
       "      <td>None</td>\n",
       "      <td>88.7</td>\n",
       "      <td>None</td>\n",
       "      <td>31500.0</td>\n",
       "      <td>None</td>\n",
       "      <td>1260.0</td>\n",
       "      <td>None</td>\n",
       "      <td>10.9</td>\n",
       "      <td>None</td>\n",
       "      <td>6.66</td>\n",
       "      <td>None</td>\n",
       "      <td>8020.0</td>\n",
       "      <td>None</td>\n",
       "      <td>392.0</td>\n",
       "      <td>None</td>\n",
       "      <td>36.4</td>\n",
       "      <td>None</td>\n",
       "      <td>592.0</td>\n",
       "      <td>None</td>\n",
       "      <td>4.17</td>\n",
       "      <td>None</td>\n",
       "      <td>8.25</td>\n",
       "      <td>None</td>\n",
       "      <td>2.58</td>\n",
       "      <td>None</td>\n",
       "      <td>1530.0</td>\n",
       "      <td>None</td>\n",
       "      <td>69.7</td>\n",
       "      <td>None</td>\n",
       "      <td>7.74</td>\n",
       "      <td>None</td>\n",
       "      <td>60.6</td>\n",
       "      <td>None</td>\n",
       "      <td>0.0</td>\n",
       "      <td>&lt;</td>\n",
       "      <td>POINT (405583.597 7530829.630)</td>\n",
       "    </tr>\n",
       "  </tbody>\n",
       "</table>\n",
       "</div>"
      ],
      "text/plain": [
       "   OBJECTID Year Observatio  Northing  Easting  Northing_k  Easting_kk  \\\n",
       "0      2259   81      49114   7526963   404203     7530108     3404337   \n",
       "1      3328   81      49282   7530498   406827     7533644     3406962   \n",
       "2      3507   81      49269   7536878   406536     7540027     3406671   \n",
       "3      4936   81      49245   7524138   401544     7527282     3401677   \n",
       "4      4937   81      49283   7530830   405584     7533976     3405718   \n",
       "\n",
       "  Map_sheet_ Map_sheet1 Material Soil_horiz                    Sampler  \\\n",
       "0       2741         10     till          C  percussion drilling/Cobra   \n",
       "1       2741         11     till          C  percussion drilling/Cobra   \n",
       "2       2741         11     till          C  percussion drilling/Cobra   \n",
       "3       2741         07     till          C  percussion drilling/Cobra   \n",
       "4       2741         11     till          C  percussion drilling/Cobra   \n",
       "\n",
       "  Parallel_s Combined_s                 Fraction Second_ana  Analysis_d  \\\n",
       "0       None          Y  sieved, <0.06 mm (fine)       None  1986-07-01   \n",
       "1       None          Y  sieved, <0.06 mm (fine)       None  1986-07-24   \n",
       "2       None          Y  sieved, <0.06 mm (fine)       None  1986-06-24   \n",
       "3       None          Y  sieved, <0.06 mm (fine)       None  1986-06-12   \n",
       "4       None          Y  sieved, <0.06 mm (fine)       None  1986-07-10   \n",
       "\n",
       "   Al_ppm_511 Al_511P_T  Ba_ppm_511 Ba_511P_T  Ca_ppm_511 Ca_511P_T  \\\n",
       "0     27600.0      None        20.6      None     40200.0      None   \n",
       "1     14100.0      None        22.6      None      5000.0      None   \n",
       "2      7880.0      None        22.9      None      3070.0      None   \n",
       "3      7300.0      None        25.1      None      3290.0      None   \n",
       "4     12500.0      None        25.1      None      3600.0      None   \n",
       "\n",
       "   Co_ppm_511 Co_511P_T  Cr_ppm_511 Cr_511P_T  Cu_ppm_511 Cu_511P_T  \\\n",
       "0       69.70      None        73.4      None       100.0      None   \n",
       "1       20.50      None        41.0      None        60.8      None   \n",
       "2        6.94      None        33.0      None        24.7      None   \n",
       "3        8.38      None        25.0      None        28.4      None   \n",
       "4       29.30      None        38.9      None        88.7      None   \n",
       "\n",
       "   Fe_ppm_511 Fe_511P_T  K_ppm_511P K_511P_T  La_ppm_511 La_511P_T  \\\n",
       "0     83200.0      None       664.0     None        11.3      None   \n",
       "1     28300.0      None       405.0     None        10.8      None   \n",
       "2     14500.0      None       710.0     None        11.7      None   \n",
       "3     14600.0      None       836.0     None        10.6      None   \n",
       "4     31500.0      None      1260.0     None        10.9      None   \n",
       "\n",
       "   Li_ppm_511 Li_511P_T  Mg_ppm_511 Mg_511P_T  Mn_ppm_511 Mn_511P_T  \\\n",
       "0       14.30      None     17200.0      None      2250.0      None   \n",
       "1        8.16      None      7520.0      None       370.0      None   \n",
       "2        7.58      None      4540.0      None       152.0      None   \n",
       "3        5.62      None      3240.0      None       156.0      None   \n",
       "4        6.66      None      8020.0      None       392.0      None   \n",
       "\n",
       "   Ni_ppm_511 Ni_511P_T  P_ppm_511P P_511P_T  Sc_ppm_511 Sc_511P_T  \\\n",
       "0        61.4      None       735.0     None       24.30      None   \n",
       "1        34.2      None       566.0     None        5.70      None   \n",
       "2        17.9      None       458.0     None        3.12      None   \n",
       "3        13.8      None       744.0     None        2.28      None   \n",
       "4        36.4      None       592.0     None        4.17      None   \n",
       "\n",
       "   Sr_ppm_511 Sr_511P_T  Th_ppm_511 Th_511P_T  Ti_ppm_511 Ti_511P_T  \\\n",
       "0       22.60      None        2.97      None      2590.0      None   \n",
       "1       12.00      None        1.74      None      2640.0      None   \n",
       "2        8.36      None        5.44      None      1470.0      None   \n",
       "3        6.90      None        4.42      None      1050.0      None   \n",
       "4        8.25      None        2.58      None      1530.0      None   \n",
       "\n",
       "   V_ppm_511P V_511P_T  Y_ppm_511P Y_511P_T  Zn_ppm_511 Zn_511P_T  Zr_ppm_511  \\\n",
       "0       354.0     None       12.20     None        86.7      None         0.0   \n",
       "1        76.9     None        9.00     None        58.5      None         0.0   \n",
       "2        46.3     None        6.90     None        28.7      None        12.3   \n",
       "3        42.2     None        5.03     None        16.7      None         7.9   \n",
       "4        69.7     None        7.74     None        60.6      None         0.0   \n",
       "\n",
       "  Zr_511P_T                        geometry  \n",
       "0         <  POINT (404203.131 7526963.173)  \n",
       "1         <  POINT (406827.101 7530497.757)  \n",
       "2      None  POINT (406536.240 7536878.222)  \n",
       "3      None  POINT (401544.178 7524138.307)  \n",
       "4         <  POINT (405583.597 7530829.630)  "
      ]
     },
     "execution_count": 21,
     "metadata": {},
     "output_type": "execute_result"
    }
   ],
   "source": [
    "df_all = gpd.read_file(GEOCHEMICAL_DATA)\n",
    "#df_all = pd.DataFrame(df.drop(columns='geometry'))\n",
    "df_all.head()"
   ]
  },
  {
   "cell_type": "code",
   "execution_count": 22,
   "id": "c8b94909-47ab-40e8-b941-e3b684a54dc2",
   "metadata": {
    "tags": []
   },
   "outputs": [
    {
     "data": {
      "text/plain": [
       "False"
      ]
     },
     "execution_count": 22,
     "metadata": {},
     "output_type": "execute_result"
    }
   ],
   "source": [
    "# (Testing)\n",
    "# A function for checking if zeros should be considered to be rounded\n",
    "\n",
    "def contains_values_below_detection_limit(series):\n",
    "    return \"<\" in series.values\n",
    "\n",
    "contains_values_below_detection_limit(df_all[\"Zr_511P_T\"])\n",
    "contains_values_below_detection_limit(df_all[\"Y_511P_T\"])"
   ]
  },
  {
   "cell_type": "code",
   "execution_count": 23,
   "id": "e1bda63b-ab9b-4060-90d5-7520952f2e3a",
   "metadata": {
    "tags": []
   },
   "outputs": [
    {
     "name": "stdout",
     "output_type": "stream",
     "text": [
      "60591619.90400001\n"
     ]
    },
    {
     "data": {
      "text/html": [
       "<div>\n",
       "<style scoped>\n",
       "    .dataframe tbody tr th:only-of-type {\n",
       "        vertical-align: middle;\n",
       "    }\n",
       "\n",
       "    .dataframe tbody tr th {\n",
       "        vertical-align: top;\n",
       "    }\n",
       "\n",
       "    .dataframe thead th {\n",
       "        text-align: right;\n",
       "    }\n",
       "</style>\n",
       "<table border=\"1\" class=\"dataframe\">\n",
       "  <thead>\n",
       "    <tr style=\"text-align: right;\">\n",
       "      <th></th>\n",
       "      <th>Al_ppm_511</th>\n",
       "      <th>Ba_ppm_511</th>\n",
       "      <th>Ca_ppm_511</th>\n",
       "      <th>Co_ppm_511</th>\n",
       "      <th>Cr_ppm_511</th>\n",
       "      <th>Cu_ppm_511</th>\n",
       "      <th>Fe_ppm_511</th>\n",
       "      <th>K_ppm_511P</th>\n",
       "      <th>La_ppm_511</th>\n",
       "      <th>Li_ppm_511</th>\n",
       "      <th>Mg_ppm_511</th>\n",
       "      <th>Mn_ppm_511</th>\n",
       "      <th>Ni_ppm_511</th>\n",
       "      <th>P_ppm_511P</th>\n",
       "      <th>Sc_ppm_511</th>\n",
       "      <th>Sr_ppm_511</th>\n",
       "      <th>Th_ppm_511</th>\n",
       "      <th>Ti_ppm_511</th>\n",
       "      <th>V_ppm_511P</th>\n",
       "      <th>Y_ppm_511P</th>\n",
       "      <th>Zn_ppm_511</th>\n",
       "      <th>Zr_ppm_511</th>\n",
       "      <th>sum</th>\n",
       "    </tr>\n",
       "  </thead>\n",
       "  <tbody>\n",
       "    <tr>\n",
       "      <th>0</th>\n",
       "      <td>27600.0</td>\n",
       "      <td>20.6</td>\n",
       "      <td>40200.0</td>\n",
       "      <td>69.70</td>\n",
       "      <td>73.4</td>\n",
       "      <td>100.0</td>\n",
       "      <td>83200.0</td>\n",
       "      <td>664.0</td>\n",
       "      <td>11.3</td>\n",
       "      <td>14.30</td>\n",
       "      <td>17200.0</td>\n",
       "      <td>2250.0</td>\n",
       "      <td>61.4</td>\n",
       "      <td>735.0</td>\n",
       "      <td>24.30</td>\n",
       "      <td>22.60</td>\n",
       "      <td>2.97</td>\n",
       "      <td>2590.0</td>\n",
       "      <td>354.0</td>\n",
       "      <td>12.20</td>\n",
       "      <td>86.7</td>\n",
       "      <td>0.0</td>\n",
       "      <td>6.059162e+07</td>\n",
       "    </tr>\n",
       "    <tr>\n",
       "      <th>1</th>\n",
       "      <td>14100.0</td>\n",
       "      <td>22.6</td>\n",
       "      <td>5000.0</td>\n",
       "      <td>20.50</td>\n",
       "      <td>41.0</td>\n",
       "      <td>60.8</td>\n",
       "      <td>28300.0</td>\n",
       "      <td>405.0</td>\n",
       "      <td>10.8</td>\n",
       "      <td>8.16</td>\n",
       "      <td>7520.0</td>\n",
       "      <td>370.0</td>\n",
       "      <td>34.2</td>\n",
       "      <td>566.0</td>\n",
       "      <td>5.70</td>\n",
       "      <td>12.00</td>\n",
       "      <td>1.74</td>\n",
       "      <td>2640.0</td>\n",
       "      <td>76.9</td>\n",
       "      <td>9.00</td>\n",
       "      <td>58.5</td>\n",
       "      <td>0.0</td>\n",
       "      <td>6.059162e+07</td>\n",
       "    </tr>\n",
       "    <tr>\n",
       "      <th>2</th>\n",
       "      <td>7880.0</td>\n",
       "      <td>22.9</td>\n",
       "      <td>3070.0</td>\n",
       "      <td>6.94</td>\n",
       "      <td>33.0</td>\n",
       "      <td>24.7</td>\n",
       "      <td>14500.0</td>\n",
       "      <td>710.0</td>\n",
       "      <td>11.7</td>\n",
       "      <td>7.58</td>\n",
       "      <td>4540.0</td>\n",
       "      <td>152.0</td>\n",
       "      <td>17.9</td>\n",
       "      <td>458.0</td>\n",
       "      <td>3.12</td>\n",
       "      <td>8.36</td>\n",
       "      <td>5.44</td>\n",
       "      <td>1470.0</td>\n",
       "      <td>46.3</td>\n",
       "      <td>6.90</td>\n",
       "      <td>28.7</td>\n",
       "      <td>12.3</td>\n",
       "      <td>6.059162e+07</td>\n",
       "    </tr>\n",
       "    <tr>\n",
       "      <th>3</th>\n",
       "      <td>7300.0</td>\n",
       "      <td>25.1</td>\n",
       "      <td>3290.0</td>\n",
       "      <td>8.38</td>\n",
       "      <td>25.0</td>\n",
       "      <td>28.4</td>\n",
       "      <td>14600.0</td>\n",
       "      <td>836.0</td>\n",
       "      <td>10.6</td>\n",
       "      <td>5.62</td>\n",
       "      <td>3240.0</td>\n",
       "      <td>156.0</td>\n",
       "      <td>13.8</td>\n",
       "      <td>744.0</td>\n",
       "      <td>2.28</td>\n",
       "      <td>6.90</td>\n",
       "      <td>4.42</td>\n",
       "      <td>1050.0</td>\n",
       "      <td>42.2</td>\n",
       "      <td>5.03</td>\n",
       "      <td>16.7</td>\n",
       "      <td>7.9</td>\n",
       "      <td>6.059162e+07</td>\n",
       "    </tr>\n",
       "    <tr>\n",
       "      <th>4</th>\n",
       "      <td>12500.0</td>\n",
       "      <td>25.1</td>\n",
       "      <td>3600.0</td>\n",
       "      <td>29.30</td>\n",
       "      <td>38.9</td>\n",
       "      <td>88.7</td>\n",
       "      <td>31500.0</td>\n",
       "      <td>1260.0</td>\n",
       "      <td>10.9</td>\n",
       "      <td>6.66</td>\n",
       "      <td>8020.0</td>\n",
       "      <td>392.0</td>\n",
       "      <td>36.4</td>\n",
       "      <td>592.0</td>\n",
       "      <td>4.17</td>\n",
       "      <td>8.25</td>\n",
       "      <td>2.58</td>\n",
       "      <td>1530.0</td>\n",
       "      <td>69.7</td>\n",
       "      <td>7.74</td>\n",
       "      <td>60.6</td>\n",
       "      <td>0.0</td>\n",
       "      <td>6.059162e+07</td>\n",
       "    </tr>\n",
       "  </tbody>\n",
       "</table>\n",
       "</div>"
      ],
      "text/plain": [
       "   Al_ppm_511  Ba_ppm_511  Ca_ppm_511  Co_ppm_511  Cr_ppm_511  Cu_ppm_511  \\\n",
       "0     27600.0        20.6     40200.0       69.70        73.4       100.0   \n",
       "1     14100.0        22.6      5000.0       20.50        41.0        60.8   \n",
       "2      7880.0        22.9      3070.0        6.94        33.0        24.7   \n",
       "3      7300.0        25.1      3290.0        8.38        25.0        28.4   \n",
       "4     12500.0        25.1      3600.0       29.30        38.9        88.7   \n",
       "\n",
       "   Fe_ppm_511  K_ppm_511P  La_ppm_511  Li_ppm_511  Mg_ppm_511  Mn_ppm_511  \\\n",
       "0     83200.0       664.0        11.3       14.30     17200.0      2250.0   \n",
       "1     28300.0       405.0        10.8        8.16      7520.0       370.0   \n",
       "2     14500.0       710.0        11.7        7.58      4540.0       152.0   \n",
       "3     14600.0       836.0        10.6        5.62      3240.0       156.0   \n",
       "4     31500.0      1260.0        10.9        6.66      8020.0       392.0   \n",
       "\n",
       "   Ni_ppm_511  P_ppm_511P  Sc_ppm_511  Sr_ppm_511  Th_ppm_511  Ti_ppm_511  \\\n",
       "0        61.4       735.0       24.30       22.60        2.97      2590.0   \n",
       "1        34.2       566.0        5.70       12.00        1.74      2640.0   \n",
       "2        17.9       458.0        3.12        8.36        5.44      1470.0   \n",
       "3        13.8       744.0        2.28        6.90        4.42      1050.0   \n",
       "4        36.4       592.0        4.17        8.25        2.58      1530.0   \n",
       "\n",
       "   V_ppm_511P  Y_ppm_511P  Zn_ppm_511  Zr_ppm_511           sum  \n",
       "0       354.0       12.20        86.7         0.0  6.059162e+07  \n",
       "1        76.9        9.00        58.5         0.0  6.059162e+07  \n",
       "2        46.3        6.90        28.7        12.3  6.059162e+07  \n",
       "3        42.2        5.03        16.7         7.9  6.059162e+07  \n",
       "4        69.7        7.74        60.6         0.0  6.059162e+07  "
      ]
     },
     "execution_count": 23,
     "metadata": {},
     "output_type": "execute_result"
    }
   ],
   "source": [
    "# Read the vector file into a dataframe\n",
    "\n",
    "df = gpd.read_file(GEOCHEMICAL_DATA, include_fields=elements)\n",
    "df = pd.DataFrame(df.drop(columns='geometry'))\n",
    "\n",
    "# TODO: add a column for the residual\n",
    "\n",
    "df[\"sum\"] = np.nansum(df)\n",
    "print(df[\"sum\"][0])\n",
    "\n",
    "#df.dropna()\n",
    "df.head()\n",
    "\n",
    "#df.iloc[0,:]"
   ]
  },
  {
   "cell_type": "code",
   "execution_count": 24,
   "id": "633c68ea-238d-4ada-b384-2ce873892195",
   "metadata": {
    "tags": []
   },
   "outputs": [
    {
     "data": {
      "text/plain": [
       "True"
      ]
     },
     "execution_count": 24,
     "metadata": {},
     "output_type": "execute_result"
    }
   ],
   "source": [
    "# Check if the sum of each composition is the same\n",
    "\n",
    "def all_values_same(series):\n",
    "    arr = series.to_numpy()\n",
    "    return (arr[0] == arr).all()\n",
    "\n",
    "all_values_same(df[\"sum\"])"
   ]
  },
  {
   "cell_type": "code",
   "execution_count": 25,
   "id": "b01a1e8c-078e-43f4-a67a-119675c12b3d",
   "metadata": {
    "tags": []
   },
   "outputs": [
    {
     "data": {
      "text/plain": [
       "Al_ppm_511    1.379913e+04\n",
       "Ba_ppm_511    7.498031e+01\n",
       "Ca_ppm_511    3.700737e+03\n",
       "Co_ppm_511    1.226708e+01\n",
       "Cr_ppm_511    5.402185e+01\n",
       "Cu_ppm_511    4.358362e+01\n",
       "Fe_ppm_511    2.484711e+04\n",
       "K_ppm_511P    2.198773e+03\n",
       "La_ppm_511    2.629311e+01\n",
       "Li_ppm_511    1.198001e+01\n",
       "Mg_ppm_511    6.560192e+03\n",
       "Mn_ppm_511    2.628523e+02\n",
       "Ni_ppm_511    3.002676e+01\n",
       "P_ppm_511P    8.609685e+02\n",
       "Sc_ppm_511    3.952198e+00\n",
       "Sr_ppm_511    1.316853e+01\n",
       "Th_ppm_511    1.011247e+01\n",
       "Ti_ppm_511    1.859682e+03\n",
       "V_ppm_511P    6.610621e+01\n",
       "Y_ppm_511P    1.099033e+01\n",
       "Zn_ppm_511    2.998996e+01\n",
       "Zr_ppm_511    1.194834e+01\n",
       "sum           6.059162e+07\n",
       "Name: mean, dtype: float64"
      ]
     },
     "execution_count": 25,
     "metadata": {},
     "output_type": "execute_result"
    }
   ],
   "source": [
    "df.describe().loc[\"mean\",:]"
   ]
  },
  {
   "cell_type": "code",
   "execution_count": 26,
   "id": "75728aa4-5b2e-46b6-9511-1250bf4b13ae",
   "metadata": {
    "tags": []
   },
   "outputs": [
    {
     "data": {
      "text/plain": [
       "60646108.77082014"
      ]
     },
     "execution_count": 26,
     "metadata": {},
     "output_type": "execute_result"
    }
   ],
   "source": [
    "np.sum(df.describe().loc[\"mean\",:])"
   ]
  }
 ],
 "metadata": {
  "kernelspec": {
   "display_name": "Python 3 (ipykernel)",
   "language": "python",
   "name": "python3"
  },
  "language_info": {
   "codemirror_mode": {
    "name": "ipython",
    "version": 3
   },
   "file_extension": ".py",
   "mimetype": "text/x-python",
   "name": "python",
   "nbconvert_exporter": "python",
   "pygments_lexer": "ipython3",
   "version": "3.10.12"
  }
 },
 "nbformat": 4,
 "nbformat_minor": 5
}

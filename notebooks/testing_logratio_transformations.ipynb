{
 "cells": [
  {
   "cell_type": "markdown",
   "id": "f89936cb-350d-41d9-ad05-08c389746a66",
   "metadata": {},
   "source": [
    "# Testing logratio transformations"
   ]
  },
  {
   "cell_type": "code",
   "execution_count": 1,
   "id": "a856b2ac-91fa-4c0d-b247-946123ca107d",
   "metadata": {
    "tags": []
   },
   "outputs": [],
   "source": [
    "%matplotlib inline\n",
    "import geopandas as gpd\n",
    "import pandas as pd\n",
    "import numpy as np\n",
    "import sys\n",
    "\n",
    "sys.path.insert(0, \"..\")\n",
    "from eis_toolkit.transformations.coda.alr import _replace_zeros_with_nan_inplace, _ALR_transform\n",
    "\n",
    "GEOCHEMICAL_DATA = \"../tests/data/local/coda/IOCG_CLB_Till_Geochem_reg_511p.shp\""
   ]
  },
  {
   "cell_type": "code",
   "execution_count": 2,
   "id": "81a98117-b981-47ea-a7bb-ba06c0dacb13",
   "metadata": {
    "tags": []
   },
   "outputs": [],
   "source": [
    "elements = ['Al_ppm_511', 'Ba_ppm_511', 'Ca_ppm_511', 'Co_ppm_511', 'Cr_ppm_511', 'Cu_ppm_511', 'Fe_ppm_511', 'K_ppm_511P', 'La_ppm_511', 'Li_ppm_511', 'Mg_ppm_511', 'Mn_ppm_511', 'Ni_ppm_511', 'P_ppm_511P', 'Sc_ppm_511', 'Sr_ppm_511', 'Th_ppm_511', 'Ti_ppm_511', 'V_ppm_511P', 'Y_ppm_511P', 'Zn_ppm_511', 'Zr_ppm_511']"
   ]
  },
  {
   "cell_type": "code",
   "execution_count": 3,
   "id": "c0204220-7bf2-4235-b92a-0e139180050e",
   "metadata": {},
   "outputs": [],
   "source": [
    "elements_to_analyze = ['Al_ppm_511', 'Ca_ppm_511', 'Fe_ppm_511', 'Mg_ppm_511']"
   ]
  },
  {
   "cell_type": "code",
   "execution_count": 18,
   "id": "e1bda63b-ab9b-4060-90d5-7520952f2e3a",
   "metadata": {
    "tags": []
   },
   "outputs": [
    {
     "data": {
      "text/html": [
       "<div>\n",
       "<style scoped>\n",
       "    .dataframe tbody tr th:only-of-type {\n",
       "        vertical-align: middle;\n",
       "    }\n",
       "\n",
       "    .dataframe tbody tr th {\n",
       "        vertical-align: top;\n",
       "    }\n",
       "\n",
       "    .dataframe thead th {\n",
       "        text-align: right;\n",
       "    }\n",
       "</style>\n",
       "<table border=\"1\" class=\"dataframe\">\n",
       "  <thead>\n",
       "    <tr style=\"text-align: right;\">\n",
       "      <th></th>\n",
       "      <th>Al_ppm_511</th>\n",
       "      <th>Ca_ppm_511</th>\n",
       "      <th>Fe_ppm_511</th>\n",
       "      <th>Mg_ppm_511</th>\n",
       "    </tr>\n",
       "  </thead>\n",
       "  <tbody>\n",
       "    <tr>\n",
       "      <th>0</th>\n",
       "      <td>0.02760</td>\n",
       "      <td>0.04020</td>\n",
       "      <td>0.0832</td>\n",
       "      <td>0.01720</td>\n",
       "    </tr>\n",
       "    <tr>\n",
       "      <th>1</th>\n",
       "      <td>0.01410</td>\n",
       "      <td>0.00500</td>\n",
       "      <td>0.0283</td>\n",
       "      <td>0.00752</td>\n",
       "    </tr>\n",
       "    <tr>\n",
       "      <th>2</th>\n",
       "      <td>0.00788</td>\n",
       "      <td>0.00307</td>\n",
       "      <td>0.0145</td>\n",
       "      <td>0.00454</td>\n",
       "    </tr>\n",
       "    <tr>\n",
       "      <th>3</th>\n",
       "      <td>0.00730</td>\n",
       "      <td>0.00329</td>\n",
       "      <td>0.0146</td>\n",
       "      <td>0.00324</td>\n",
       "    </tr>\n",
       "    <tr>\n",
       "      <th>4</th>\n",
       "      <td>0.01250</td>\n",
       "      <td>0.00360</td>\n",
       "      <td>0.0315</td>\n",
       "      <td>0.00802</td>\n",
       "    </tr>\n",
       "    <tr>\n",
       "      <th>...</th>\n",
       "      <td>...</td>\n",
       "      <td>...</td>\n",
       "      <td>...</td>\n",
       "      <td>...</td>\n",
       "    </tr>\n",
       "    <tr>\n",
       "      <th>1107</th>\n",
       "      <td>0.01860</td>\n",
       "      <td>0.01160</td>\n",
       "      <td>0.0393</td>\n",
       "      <td>0.00879</td>\n",
       "    </tr>\n",
       "    <tr>\n",
       "      <th>1108</th>\n",
       "      <td>0.03340</td>\n",
       "      <td>0.00239</td>\n",
       "      <td>0.0694</td>\n",
       "      <td>0.01850</td>\n",
       "    </tr>\n",
       "    <tr>\n",
       "      <th>1109</th>\n",
       "      <td>0.03830</td>\n",
       "      <td>0.00407</td>\n",
       "      <td>0.0776</td>\n",
       "      <td>0.02740</td>\n",
       "    </tr>\n",
       "    <tr>\n",
       "      <th>1110</th>\n",
       "      <td>0.03260</td>\n",
       "      <td>0.00863</td>\n",
       "      <td>0.0693</td>\n",
       "      <td>0.01870</td>\n",
       "    </tr>\n",
       "    <tr>\n",
       "      <th>1111</th>\n",
       "      <td>0.01780</td>\n",
       "      <td>0.00350</td>\n",
       "      <td>0.0279</td>\n",
       "      <td>0.00735</td>\n",
       "    </tr>\n",
       "  </tbody>\n",
       "</table>\n",
       "<p>1112 rows × 4 columns</p>\n",
       "</div>"
      ],
      "text/plain": [
       "      Al_ppm_511  Ca_ppm_511  Fe_ppm_511  Mg_ppm_511\n",
       "0        0.02760     0.04020      0.0832     0.01720\n",
       "1        0.01410     0.00500      0.0283     0.00752\n",
       "2        0.00788     0.00307      0.0145     0.00454\n",
       "3        0.00730     0.00329      0.0146     0.00324\n",
       "4        0.01250     0.00360      0.0315     0.00802\n",
       "...          ...         ...         ...         ...\n",
       "1107     0.01860     0.01160      0.0393     0.00879\n",
       "1108     0.03340     0.00239      0.0694     0.01850\n",
       "1109     0.03830     0.00407      0.0776     0.02740\n",
       "1110     0.03260     0.00863      0.0693     0.01870\n",
       "1111     0.01780     0.00350      0.0279     0.00735\n",
       "\n",
       "[1112 rows x 4 columns]"
      ]
     },
     "execution_count": 18,
     "metadata": {},
     "output_type": "execute_result"
    }
   ],
   "source": [
    "df = gpd.read_file(GEOCHEMICAL_DATA, include_fields=elements_to_analyze)\n",
    "df = pd.DataFrame(df.drop(columns='geometry'))\n",
    "ppm = 1e-6\n",
    "df = df * ppm\n",
    "_replace_zeros_with_nan_inplace(df)\n",
    "df.dropna()"
   ]
  },
  {
   "cell_type": "code",
   "execution_count": 19,
   "id": "779c219d-5eae-4dad-879f-723c2ef28978",
   "metadata": {
    "tags": []
   },
   "outputs": [],
   "source": [
    "alr_transformed = _ALR_transform(df, ['Al_ppm_511', 'Ca_ppm_511', 'Fe_ppm_511'], -2, True)"
   ]
  },
  {
   "cell_type": "code",
   "execution_count": 20,
   "id": "dd698c17-8b9a-4eb6-8fe3-50c99c063a34",
   "metadata": {
    "tags": []
   },
   "outputs": [
    {
     "data": {
      "text/plain": [
       "0.5514008918165313"
      ]
     },
     "execution_count": 20,
     "metadata": {},
     "output_type": "execute_result"
    }
   ],
   "source": [
    "np.log(df.iloc[2,0]/df.iloc[2,3])"
   ]
  },
  {
   "cell_type": "code",
   "execution_count": 21,
   "id": "cc365714-d902-4c8d-9e5a-e7b584781deb",
   "metadata": {
    "tags": []
   },
   "outputs": [
    {
     "name": "stdout",
     "output_type": "stream",
     "text": [
      "<class 'pandas.core.frame.DataFrame'>\n",
      "RangeIndex: 1112 entries, 0 to 1111\n",
      "Data columns (total 3 columns):\n",
      " #   Column      Non-Null Count  Dtype  \n",
      "---  ------      --------------  -----  \n",
      " 0   Al_ppm_511  1112 non-null   float64\n",
      " 1   Ca_ppm_511  1112 non-null   float64\n",
      " 2   Fe_ppm_511  1112 non-null   float64\n",
      "dtypes: float64(3)\n",
      "memory usage: 26.2 KB\n"
     ]
    }
   ],
   "source": [
    "alr_transformed.info()"
   ]
  },
  {
   "cell_type": "code",
   "execution_count": 22,
   "id": "8d06ed6d-19dc-497e-a91f-08002fb93abf",
   "metadata": {
    "tags": []
   },
   "outputs": [
    {
     "data": {
      "text/html": [
       "<div>\n",
       "<style scoped>\n",
       "    .dataframe tbody tr th:only-of-type {\n",
       "        vertical-align: middle;\n",
       "    }\n",
       "\n",
       "    .dataframe tbody tr th {\n",
       "        vertical-align: top;\n",
       "    }\n",
       "\n",
       "    .dataframe thead th {\n",
       "        text-align: right;\n",
       "    }\n",
       "</style>\n",
       "<table border=\"1\" class=\"dataframe\">\n",
       "  <thead>\n",
       "    <tr style=\"text-align: right;\">\n",
       "      <th></th>\n",
       "      <th>Al_ppm_511</th>\n",
       "      <th>Ca_ppm_511</th>\n",
       "      <th>Fe_ppm_511</th>\n",
       "    </tr>\n",
       "  </thead>\n",
       "  <tbody>\n",
       "    <tr>\n",
       "      <th>0</th>\n",
       "      <td>-1.103432</td>\n",
       "      <td>-0.727380</td>\n",
       "      <td>0.0</td>\n",
       "    </tr>\n",
       "    <tr>\n",
       "      <th>1</th>\n",
       "      <td>-0.696687</td>\n",
       "      <td>-1.733424</td>\n",
       "      <td>0.0</td>\n",
       "    </tr>\n",
       "    <tr>\n",
       "      <th>2</th>\n",
       "      <td>-0.609821</td>\n",
       "      <td>-1.552471</td>\n",
       "      <td>0.0</td>\n",
       "    </tr>\n",
       "    <tr>\n",
       "      <th>3</th>\n",
       "      <td>-0.693147</td>\n",
       "      <td>-1.490134</td>\n",
       "      <td>0.0</td>\n",
       "    </tr>\n",
       "    <tr>\n",
       "      <th>4</th>\n",
       "      <td>-0.924259</td>\n",
       "      <td>-2.169054</td>\n",
       "      <td>0.0</td>\n",
       "    </tr>\n",
       "    <tr>\n",
       "      <th>...</th>\n",
       "      <td>...</td>\n",
       "      <td>...</td>\n",
       "      <td>...</td>\n",
       "    </tr>\n",
       "    <tr>\n",
       "      <th>1107</th>\n",
       "      <td>-0.748063</td>\n",
       "      <td>-1.220219</td>\n",
       "      <td>0.0</td>\n",
       "    </tr>\n",
       "    <tr>\n",
       "      <th>1108</th>\n",
       "      <td>-0.731331</td>\n",
       "      <td>-3.368594</td>\n",
       "      <td>0.0</td>\n",
       "    </tr>\n",
       "    <tr>\n",
       "      <th>1109</th>\n",
       "      <td>-0.706118</td>\n",
       "      <td>-2.947924</td>\n",
       "      <td>0.0</td>\n",
       "    </tr>\n",
       "    <tr>\n",
       "      <th>1110</th>\n",
       "      <td>-0.754133</td>\n",
       "      <td>-2.083200</td>\n",
       "      <td>0.0</td>\n",
       "    </tr>\n",
       "    <tr>\n",
       "      <th>1111</th>\n",
       "      <td>-0.449428</td>\n",
       "      <td>-2.075864</td>\n",
       "      <td>0.0</td>\n",
       "    </tr>\n",
       "  </tbody>\n",
       "</table>\n",
       "<p>1112 rows × 3 columns</p>\n",
       "</div>"
      ],
      "text/plain": [
       "      Al_ppm_511  Ca_ppm_511  Fe_ppm_511\n",
       "0      -1.103432   -0.727380         0.0\n",
       "1      -0.696687   -1.733424         0.0\n",
       "2      -0.609821   -1.552471         0.0\n",
       "3      -0.693147   -1.490134         0.0\n",
       "4      -0.924259   -2.169054         0.0\n",
       "...          ...         ...         ...\n",
       "1107   -0.748063   -1.220219         0.0\n",
       "1108   -0.731331   -3.368594         0.0\n",
       "1109   -0.706118   -2.947924         0.0\n",
       "1110   -0.754133   -2.083200         0.0\n",
       "1111   -0.449428   -2.075864         0.0\n",
       "\n",
       "[1112 rows x 3 columns]"
      ]
     },
     "execution_count": 22,
     "metadata": {},
     "output_type": "execute_result"
    }
   ],
   "source": [
    "alr_transformed"
   ]
  },
  {
   "cell_type": "code",
   "execution_count": null,
   "id": "7e7824de-a83b-4e86-9220-1d48abfffe54",
   "metadata": {},
   "outputs": [],
   "source": []
  }
 ],
 "metadata": {
  "kernelspec": {
   "display_name": "Python 3 (ipykernel)",
   "language": "python",
   "name": "python3"
  },
  "language_info": {
   "codemirror_mode": {
    "name": "ipython",
    "version": 3
   },
   "file_extension": ".py",
   "mimetype": "text/x-python",
   "name": "python",
   "nbconvert_exporter": "python",
   "pygments_lexer": "ipython3",
   "version": "3.10.12"
  }
 },
 "nbformat": 4,
 "nbformat_minor": 5
}

{
 "cells": [
  {
   "cell_type": "markdown",
   "metadata": {},
   "source": [
    "# Introduction on using JupyterLab\n",
    "\n",
    "[JupyterLab](https://jupyter.org/) is the latest web-based interactive development environment for notebooks, code, and data. In JupyterLab, you can modify code in browser (but the code gets ran on server) and save your code as IPython notebooks. A notebook is an interactive document displayed in your browser which contains source code (e.g. Python or R), as well as rich text elements like paragraphs, equations, figures, links, and so on. This combination is extremely useful for explorative tasks where the source code, documentation and even visualisations of your analysis are strongly intertwined. Due to this unique characteristic, Jupyter notebooks have achieved a strong adoption particularly in the fields of data analysis and machine learning.\n",
    "\n",
    "Since eis_toolkit will be implemented as a Python package (and hopefully distributed via PyPi in the end), JupyterLab is a good fit for testing environment. JupyterLab offers us a quick and natural way to test eis_toolkit's functions."
   ]
  },
  {
   "cell_type": "markdown",
   "metadata": {},
   "source": [
    "## Launching notebooks\n",
    "\n",
    "Start the notebooks with `poetry run jupyter lab`, so your jupyter instance uses the exact libraries available to eis_toolkit."
   ]
  },
  {
   "cell_type": "markdown",
   "metadata": {},
   "source": [
    "## Usage instructions\n",
    "\n",
    "A block containing text or code is called a **cell**. You can easily modify each cell's content or run cells and see their output appear right below the executed code cell."
   ]
  },
  {
   "cell_type": "markdown",
   "metadata": {},
   "source": [
    "### How to run a cell\n",
    "\n",
    "A cell can be either a text (markdown) cell or a code cell.\n",
    "\n",
    "> If you are not familiar with markdowns, you might need to take a look at https://www.markdownguide.org/cheat-sheet/\n",
    "\n",
    "In case of code cell, you can run a cell by selecting it (click with mouse's left button anywhere in the grey cell area) and by pressing **CTRL+Enter**.\n",
    "\n",
    "In case of text cell, you can run a cell by selecting it (double click with mouse's left button anywhere in the text) and by pressing **CTRL+Enter**.\n",
    "\n",
    "The execution of the cell is running as long you can see a star (`[*]`) inside of the square brackets. The execution of the cell is complete when a star gets replaced with an number (`[1]`).\n",
    "\n",
    "Try to execute the cell below!"
   ]
  },
  {
   "cell_type": "code",
   "execution_count": 7,
   "metadata": {},
   "outputs": [
    {
     "name": "stdout",
     "output_type": "stream",
     "text": [
      "value of a is 1\n"
     ]
    }
   ],
   "source": [
    "a = 1\n",
    "print(\"value of a is\", a)"
   ]
  },
  {
   "cell_type": "markdown",
   "metadata": {},
   "source": [
    "The variable values in the cells will be stored and you can access the values also from other cells. Run the cell below two times and see what happens:"
   ]
  },
  {
   "cell_type": "code",
   "execution_count": 9,
   "metadata": {},
   "outputs": [
    {
     "name": "stdout",
     "output_type": "stream",
     "text": [
      "value of a is 3\n"
     ]
    }
   ],
   "source": [
    "a += 1\n",
    "print(\"value of a is\", a)"
   ]
  },
  {
   "cell_type": "markdown",
   "metadata": {},
   "source": [
    "### How to add a cell\n",
    "\n",
    "You can add both regular code cells and text cells into any point of notebook file by selecting the left edge of a cell and by pressing **a** button (if you wish to create a new cell above the currently selected cell) or **b** button (if you wish to create a new cell below the currently selected cell).\n",
    "\n",
    "A new cell will, by default, be a code cell. You can convert it into a text cell by pressing **m** button after pressing **a**/**b** button or after selecting the cell whose type you wish to convert. In turn, you can change the text cell back to the code cell by pressing **y** button."
   ]
  },
  {
   "cell_type": "markdown",
   "metadata": {},
   "source": [
    "### How to delete a cell\n",
    "\n",
    "You can delete existing cells (created by you or anyone else) by selecting the cell and pressing **d** button consequently two times."
   ]
  },
  {
   "cell_type": "markdown",
   "metadata": {},
   "source": [
    "### In case of undesired suprises\n",
    "\n",
    "In case the execution of some cell gets interrupted and you would like to keep on working with the notebook at a particular spot, it is recommended to rerun all the cells above. This can be easily achieved by selecting the cell whose execution got interrupted and navigating to the toolbar at the head of JupyterLab and choosing **Run > Run all above selected cell**.\n",
    "\n",
    "In case execution of some cell seems to get stuck, or takes forever, you can also interrupt execution of the cell by navigating to **Kernel > Interrupt kernel**."
   ]
  },
  {
   "cell_type": "markdown",
   "metadata": {},
   "source": [
    "## Common play rules\n",
    "\n",
    "Do not be afraid of leaving your mark into the notebook files. You can create new .ipynb files by clicking + icon in the left control panel or add more cells into the existing notebooks. However, be careful on deleting stuff! Rather add your own test or version than delete someone else's :)\n",
    "\n",
    "If you contribute to the notebooks by adding something, please provide explanations on what you did either via text cells or code documents."
   ]
  },
  {
   "cell_type": "code",
   "execution_count": 5,
   "metadata": {},
   "outputs": [
    {
     "name": "stdout",
     "output_type": "stream",
     "text": [
      "Hi there!\n"
     ]
    }
   ],
   "source": [
    "# In case of a code cell, you can add explanations as code comment like this:\n",
    "\n",
    "# Let's create a function which prints Hi there!\n",
    "def dummy_print():\n",
    "    print('Hi there!')\n",
    "    \n",
    "# Let's call that function\n",
    "dummy_print()"
   ]
  },
  {
   "cell_type": "code",
   "execution_count": null,
   "metadata": {},
   "outputs": [],
   "source": []
  }
 ],
 "metadata": {
  "kernelspec": {
   "display_name": "Python 3.10.6 64-bit",
   "language": "python",
   "name": "python3"
  },
  "language_info": {
   "codemirror_mode": {
    "name": "ipython",
    "version": 3
   },
   "file_extension": ".py",
   "mimetype": "text/x-python",
   "name": "python",
   "nbconvert_exporter": "python",
   "pygments_lexer": "ipython3",
   "version": "3.10.6"
  },
  "vscode": {
   "interpreter": {
    "hash": "916dbcbb3f70747c44a77c7bcd40155683ae19c65e1c03b4aa3499c5328201f1"
   }
  }
 },
 "nbformat": 4,
 "nbformat_minor": 4
}

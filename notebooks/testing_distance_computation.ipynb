{
 "cells": [
  {
   "cell_type": "code",
   "execution_count": 1,
   "metadata": {},
   "outputs": [],
   "source": [
    "import sys\n",
    "\n",
    "sys.path.append(\"..\")"
   ]
  },
  {
   "cell_type": "code",
   "execution_count": null,
   "metadata": {},
   "outputs": [],
   "source": [
    "import time\n",
    "import rasterio\n",
    "import geopandas as gpd\n",
    "import matplotlib\n",
    "import matplotlib.pyplot as plt\n",
    "\n",
    "from textwrap import fill\n",
    "from functools import partial\n",
    "from shapely.geometry import LineString, Point, box\n",
    "\n",
    "from tests.raster_processing.clip_test import raster_path as SMALL_RASTER_PATH\n",
    "\n",
    "from eis_toolkit.vector_processing.distance_computation import distance_computation, distance_computation_optimized"
   ]
  },
  {
   "cell_type": "code",
   "execution_count": 3,
   "metadata": {},
   "outputs": [],
   "source": [
    "with rasterio.open(SMALL_RASTER_PATH) as raster:\n",
    "    SMALL_RASTER_PROFILE = raster.profile\n",
    "\n",
    "geodataframe_with_raster_crs = partial(gpd.GeoDataFrame, crs=SMALL_RASTER_PROFILE[\"crs\"])\n",
    "\n",
    "EXPECTED_SMALL_RASTER_SHAPE = SMALL_RASTER_PROFILE[\"height\"], SMALL_RASTER_PROFILE[\"width\"]\n",
    "\n",
    "POINT_GEOMETRIES_WITHIN_SMALL_RASTER = geodataframe_with_raster_crs(\n",
    "    geometry=[\n",
    "        Point(384745.000, 6671375.000),\n",
    "        Point(384800.000, 6671375.000),\n",
    "    ]\n",
    ")\n",
    "LINE_GEOMETRIES_WITHIN_SMALL_RASTER = geodataframe_with_raster_crs(\n",
    "    geometry=[\n",
    "        LineString([Point(384745.000, 6671375.000), Point(384800.000, 6671375.000)]),\n",
    "        LineString([Point(384745.000, 6671375.000), Point(384745.000, 6671375.000)]),\n",
    "    ]\n",
    ")\n",
    "POLYGON_GEOMETRIES_WITHIN_SMALL_RASTER = geodataframe_with_raster_crs(\n",
    "    geometry=[\n",
    "        box(384744.000, 6671272.000, 384764.000, 6671292.000),\n",
    "        box(384784.000, 6671280.000, 384800.000, 6671300.000),\n",
    "    ]\n",
    ")\n",
    "\n",
    "\n",
    "test_cases = [\n",
    "    (\n",
    "        \"point_geometries_within_small_raster\",\n",
    "        SMALL_RASTER_PROFILE,\n",
    "        POINT_GEOMETRIES_WITHIN_SMALL_RASTER,\n",
    "        EXPECTED_SMALL_RASTER_SHAPE,\n",
    "        0.0,\n",
    "        107.83784122468327,\n",
    "    ),\n",
    "    (\n",
    "        \"line_geometries_within_small_raster\",\n",
    "        SMALL_RASTER_PROFILE,\n",
    "        LINE_GEOMETRIES_WITHIN_SMALL_RASTER,\n",
    "        EXPECTED_SMALL_RASTER_SHAPE,\n",
    "        0.0,\n",
    "        107.83784122468327,\n",
    "    ),\n",
    "    (\n",
    "        \"polygon_geometries_within_small_raster\",\n",
    "        SMALL_RASTER_PROFILE,\n",
    "        POLYGON_GEOMETRIES_WITHIN_SMALL_RASTER,\n",
    "        EXPECTED_SMALL_RASTER_SHAPE,\n",
    "        0.0,\n",
    "        91.0,\n",
    "    ),\n",
    "]\n"
   ]
  },
  {
   "cell_type": "code",
   "execution_count": null,
   "metadata": {},
   "outputs": [
    {
     "name": "stdout",
     "output_type": "stream",
     "text": [
      "Running test: point_geometries_within_small_raster\n",
      "Time took to perform distance computation: 0.04545879364013672 s.\n",
      "Running test: line_geometries_within_small_raster\n",
      "Time took to perform distance computation: 0.029377222061157227 s.\n",
      "Running test: polygon_geometries_within_small_raster\n",
      "Time took to perform distance computation: 0.02394890785217285 s.\n"
     ]
    }
   ],
   "source": [
    "# TEST OLD DISTANCE COMPUTATION IMPLEMENTATION\n",
    "for test, raster_profile, geodataframe, _, _, _ in test_cases:\n",
    "    print(f\"Running test: {test}\")\n",
    "    start = time.time()\n",
    "    result = distance_computation(raster_profile=raster_profile, geodataframe=geodataframe)\n",
    "    end = time.time()\n",
    "    print(f\"Time took to perform distance computation: {end-start} s.\")"
   ]
  },
  {
   "cell_type": "code",
   "execution_count": 14,
   "metadata": {},
   "outputs": [
    {
     "name": "stdout",
     "output_type": "stream",
     "text": [
      "Running test: point_geometries_within_small_raster\n",
      "Time took to perform distance computation: 0.003940582275390625 s.\n",
      "Running test: line_geometries_within_small_raster\n",
      "Time took to perform distance computation: 0.0025339126586914062 s.\n",
      "Running test: polygon_geometries_within_small_raster\n",
      "Time took to perform distance computation: 0.0016758441925048828 s.\n"
     ]
    }
   ],
   "source": [
    "# TEST NEW DISTANCE COMPUTATION IMPLEMENTATION USING SPATIAL INDEXING AND NUMBA\n",
    "for test, raster_profile, geodataframe, _, _, _ in test_cases:\n",
    "    print(f\"Running test: {test}\")\n",
    "    start = time.time()\n",
    "    result = distance_computation_optimized(raster_profile=raster_profile, geodataframe=geodataframe)\n",
    "    end = time.time()\n",
    "    print(f\"Time took to perform distance computation: {end-start} s.\")"
   ]
  },
  {
   "cell_type": "code",
   "execution_count": null,
   "metadata": {},
   "outputs": [],
   "source": [
    "def _plot_image(ax, data, title, transform):\n",
    "    plot.show(data, transform=transform, ax=ax)\n",
    "    plt.subplots_adjust(hspace=0.4)\n",
    "    ax.set_title(fill(title, width=25))\n",
    "    norm = plt.Normalize(vmax=np.nanmax(data), vmin=np.nanmin(data))\n",
    "    cmap = matplotlib.cm.viridis\n",
    "    plt.colorbar(matplotlib.cm.ScalarMappable(norm=norm, cmap=cmap), ax=ax)\n",
    "\n",
    "fig, axes = plt.subplots(1, 2, figsize=(10, 5))\n",
    "axes = axes.flatten()\n",
    "\n"
   ]
  }
 ],
 "metadata": {
  "kernelspec": {
   "display_name": "eis_toolkit",
   "language": "python",
   "name": "python3"
  },
  "language_info": {
   "codemirror_mode": {
    "name": "ipython",
    "version": 3
   },
   "file_extension": ".py",
   "mimetype": "text/x-python",
   "name": "python",
   "nbconvert_exporter": "python",
   "pygments_lexer": "ipython3",
   "version": "3.10.15"
  }
 },
 "nbformat": 4,
 "nbformat_minor": 2
}

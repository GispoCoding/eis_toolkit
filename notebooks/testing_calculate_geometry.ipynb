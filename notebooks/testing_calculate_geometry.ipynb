{
 "cells": [
  {
   "cell_type": "code",
   "execution_count": 1,
   "metadata": {
    "tags": []
   },
   "outputs": [
    {
     "name": "stdout",
     "output_type": "stream",
     "text": [
      "                                            geometry  calculated_value\n",
      "0                            POINT (0.00000 0.00000)          0.000000\n",
      "1      LINESTRING (0.00000 0.00000, 1.00000 1.00000)          1.414214\n",
      "2  POLYGON ((0.00000 0.00000, 1.00000 0.00000, 1....          1.000000\n"
     ]
    }
   ],
   "source": [
    "import sys\n",
    "sys.path.insert(0, \"..\")\n",
    "from eis_toolkit.vector_processing.calculate_geometry import calculate_geometry\n",
    "import geopandas as gpd\n",
    "from shapely.geometry import Point, LineString, Polygon\n",
    "\n",
    "point = Point(0, 0)\n",
    "line = LineString([(0, 0), (1, 1)])\n",
    "polygon = Polygon([(0, 0), (1, 0), (1, 1), (0, 1)])\n",
    "\n",
    "data = {'geometry': [point, line, polygon]}\n",
    "gdf = gpd.GeoDataFrame(data, geometry='geometry')\n",
    "\n",
    "result_gdf = calculate_geometry(gdf)\n",
    "\n",
    "print(result_gdf)"
   ]
  },
  {
   "cell_type": "code",
   "execution_count": 2,
   "metadata": {
    "tags": []
   },
   "outputs": [
    {
     "name": "stdout",
     "output_type": "stream",
     "text": [
      "                                            geometry  calculated_value\n",
      "0                            POINT (0.00000 0.00000)          0.000000\n",
      "1                          POINT (10.00000 10.00000)          0.000000\n",
      "2    LINESTRING (0.00000 0.00000, 10.00000 10.00000)         14.142136\n",
      "3  LINESTRING (20.00000 20.00000, 30.00000 30.000...         28.284271\n",
      "4  POLYGON ((0.00000 0.00000, 10.00000 0.00000, 1...        100.000000\n",
      "5  POLYGON ((20.00000 0.00000, 30.00000 0.00000, ...        100.000000\n",
      "6  POLYGON ((15.00000 0.00000, 30.00000 0.00000, ...        150.000000\n"
     ]
    }
   ],
   "source": [
    "point1 = Point(0, 0)\n",
    "point2 = Point(10, 10)\n",
    "line1 = LineString([(0, 0), (10, 10)])\n",
    "line2 = LineString([(20, 20), (30, 30), (40, 20)])\n",
    "polygon1 = Polygon([(0, 0), (10, 0), (10, 10), (0, 10)])\n",
    "polygon2 = Polygon([(20, 0), (30, 0), (30, 10), (20, 10)])\n",
    "polygon3 = Polygon([(15, 0), (30, 0), (30, 10), (15, 10)])\n",
    "\n",
    "data = {'geometry': [point1, point2, line1, line2, polygon1, polygon2,polygon3]}\n",
    "gdf = gpd.GeoDataFrame(data, geometry='geometry')\n",
    "\n",
    "result_gdf = calculate_geometry(gdf)\n",
    "\n",
    "print(result_gdf)"
   ]
  }
 ],
 "metadata": {
  "kernelspec": {
   "display_name": "Python 3 (ipykernel)",
   "language": "python",
   "name": "python3"
  },
  "language_info": {
   "codemirror_mode": {
    "name": "ipython",
    "version": 3
   },
   "file_extension": ".py",
   "mimetype": "text/x-python",
   "name": "python",
   "nbconvert_exporter": "python",
   "pygments_lexer": "ipython3",
   "version": "3.10.12"
  }
 },
 "nbformat": 4,
 "nbformat_minor": 4
}

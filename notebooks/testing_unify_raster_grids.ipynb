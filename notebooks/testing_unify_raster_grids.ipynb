{
 "cells": [
  {
   "cell_type": "code",
   "execution_count": null,
   "metadata": {},
   "outputs": [],
   "source": [
    "import rasterio\n",
    "\n",
    "from rasterio.io import MemoryFile\n",
    "from rasterio.enums import Resampling\n",
    "from rasterio.plot import show\n",
    "from matplotlib import pyplot as plt\n",
    "\n",
    "import sys\n",
    "sys.path.insert(0, \"..\")\n",
    "from eis_toolkit.raster_processing.unifying import unify_raster_grids"
   ]
  },
  {
   "cell_type": "code",
   "execution_count": null,
   "metadata": {},
   "outputs": [],
   "source": [
    "# Paths\n",
    "base_raster_path = \"../tests/data/remote/small_raster.tif\"\n",
    "raster_to_unify_path = \"../tests/data/remote/unifying/raster_to_unify_1.tif\""
   ]
  },
  {
   "cell_type": "code",
   "execution_count": null,
   "metadata": {},
   "outputs": [],
   "source": [
    "# Read data\n",
    "base_raster = rasterio.open(base_raster_path)\n",
    "raster_to_unify = rasterio.open(raster_to_unify_path)"
   ]
  },
  {
   "cell_type": "code",
   "execution_count": null,
   "metadata": {},
   "outputs": [],
   "source": [
    "# See how the data looks like\n",
    "figure, ax = plt.subplots(1, 2, figsize=(13,9))\n",
    "show(base_raster, ax=ax[0])\n",
    "ax[0].set_title(\"Base raster\")\n",
    "show(raster_to_unify, ax=ax[1])\n",
    "ax[1].set_title(\"Raster-to-unify\")"
   ]
  },
  {
   "cell_type": "code",
   "execution_count": null,
   "metadata": {},
   "outputs": [],
   "source": [
    "print(\"Base raster data:\")\n",
    "print(f\"CRS - {base_raster.crs}\")\n",
    "print(f\"Pixel size - {base_raster.transform.a}, {abs(base_raster.transform.e)}\")\n",
    "print(f\"Width, height - {base_raster.width}, {base_raster.width}\")\n",
    "print(f\"Bounds - {base_raster.bounds}\")"
   ]
  },
  {
   "cell_type": "code",
   "execution_count": null,
   "metadata": {},
   "outputs": [],
   "source": [
    "print(\"Raster-to-unify data:\")\n",
    "print(f\"CRS - {raster_to_unify.crs}\")\n",
    "print(f\"Pixel size - {raster_to_unify.transform.a}, {abs(raster_to_unify.transform.e)}\")\n",
    "print(f\"Width, height - {raster_to_unify.width}, {raster_to_unify.width}\")\n",
    "print(f\"Bounds - {raster_to_unify.bounds}\")"
   ]
  },
  {
   "cell_type": "code",
   "execution_count": null,
   "metadata": {},
   "outputs": [],
   "source": [
    "# Perform the coregistration with NEAREST resampling\n",
    "out_rasters = unify_raster_grids(base_raster, [raster_to_unify], resampling_method=Resampling.nearest)\n",
    "out_image_nearest, out_meta_nearest = out_rasters[1]"
   ]
  },
  {
   "cell_type": "code",
   "execution_count": null,
   "metadata": {},
   "outputs": [],
   "source": [
    "# Perform the coregistration with BILINEAR resampling\n",
    "out_rasters = unify_raster_grids(base_raster, [raster_to_unify], resampling_method=Resampling.bilinear)\n",
    "out_image_bilinear, out_meta_bilinear = out_rasters[1]"
   ]
  },
  {
   "cell_type": "code",
   "execution_count": null,
   "metadata": {},
   "outputs": [],
   "source": [
    "# Perform the coregistration with CUBIC resampling\n",
    "out_rasters = unify_raster_grids(base_raster, [raster_to_unify], resampling_method=Resampling.bilinear)\n",
    "out_image_cubic, out_meta_cubic = out_rasters[1]"
   ]
  },
  {
   "cell_type": "code",
   "execution_count": null,
   "metadata": {},
   "outputs": [],
   "source": [
    "# Plot the results\n",
    "figure, ax = plt.subplots(2, 2, figsize=(13,13))\n",
    "show(base_raster, ax=ax[0, 0])\n",
    "ax[0, 0].set_title(\"Base raster\")\n",
    "\n",
    "# Open and show first resampling result\n",
    "with MemoryFile() as memfile:\n",
    "\twith memfile.open(**out_meta_nearest) as dataset:\n",
    "\t\tdataset.write(out_image_nearest)\n",
    "\twith memfile.open() as out_raster_1:\n",
    "\t\tshow(out_raster_1, ax=ax[0, 1])\n",
    "\t\tax[0, 1].set_title(\"unifyed with nearest\")\n",
    "\n",
    "# Open and show second resampling result\n",
    "with MemoryFile() as memfile:\n",
    "\twith memfile.open(**out_meta_bilinear) as dataset:\n",
    "\t\tdataset.write(out_image_bilinear)\n",
    "\twith memfile.open() as out_raster_2:\n",
    "\t\tshow(out_raster_2, ax=ax[1, 0])\n",
    "\t\tax[1, 0].set_title(\"unifyed with bilinear\")\n",
    "\n",
    "# Open and show third resampling result\n",
    "with MemoryFile() as memfile:\n",
    "\twith memfile.open(**out_meta_cubic) as dataset:\n",
    "\t\tdataset.write(out_image_cubic)\n",
    "\twith memfile.open() as out_raster_3:\n",
    "\t\tshow(out_raster_3, ax=ax[1, 1])\n",
    "\t\tax[1, 1].set_title(\"unifyed with cubic\")"
   ]
  },
  {
   "cell_type": "code",
   "execution_count": null,
   "metadata": {},
   "outputs": [],
   "source": [
    "# Check that result raster has now same metadata\n",
    "print(\"Base raster data:\")\n",
    "print(f\"CRS - {base_raster.crs}\")\n",
    "print(f\"Pixel size - {base_raster.transform.a}, {abs(base_raster.transform.e)}\")\n",
    "print(f\"Width, height - {base_raster.width}, {base_raster.width}\")\n",
    "print(f\"Bounds - {base_raster.bounds}\")"
   ]
  },
  {
   "cell_type": "code",
   "execution_count": null,
   "metadata": {},
   "outputs": [],
   "source": [
    "print(\"Raster-to-unify data after unifyation:\")\n",
    "print(f\"CRS - {out_raster_1.crs}\")\n",
    "print(f\"Pixel size - {out_raster_1.transform.a}, {abs(out_raster_1.transform.e)}\")\n",
    "print(f\"Width, height - {out_raster_1.width}, {out_raster_1.width}\")\n",
    "print(f\"Bounds - {out_raster_1.bounds}\")"
   ]
  },
  {
   "cell_type": "code",
   "execution_count": null,
   "metadata": {},
   "outputs": [],
   "source": [
    "# Close the rasters\n",
    "base_raster.close()\n",
    "raster_to_unify.close()\n",
    "out_raster_1.close()\n",
    "out_raster_2.close()\n",
    "out_raster_3.close()"
   ]
  }
 ],
 "metadata": {
  "kernelspec": {
   "display_name": "eis_toolkit",
   "language": "python",
   "name": "python3"
  },
  "language_info": {
   "codemirror_mode": {
    "name": "ipython",
    "version": 3
   },
   "file_extension": ".py",
   "mimetype": "text/x-python",
   "name": "python",
   "nbconvert_exporter": "python",
   "pygments_lexer": "ipython3",
   "version": "3.10.9"
  },
  "orig_nbformat": 4
 },
 "nbformat": 4,
 "nbformat_minor": 2
}

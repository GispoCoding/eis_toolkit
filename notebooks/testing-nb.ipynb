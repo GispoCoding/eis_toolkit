{
 "cells": [
  {
   "cell_type": "code",
   "execution_count": 2,
   "id": "2436a5d0-c3bc-4574-bf17-a4a717d5128e",
   "metadata": {},
   "outputs": [
    {
     "name": "stdout",
     "output_type": "stream",
     "text": [
      "[1.  0.  1.5]\n"
     ]
    }
   ],
   "source": [
    "from eis_toolkit.dependency_test import dummy_sklearn"
   ]
  },
  {
   "cell_type": "code",
   "execution_count": null,
   "id": "c8d08c53-cf4c-4703-b1d9-9062c8672685",
   "metadata": {},
   "outputs": [],
   "source": []
  }
 ],
 "metadata": {
  "kernelspec": {
   "display_name": "Python 3 (ipykernel)",
   "language": "python",
   "name": "python3"
  },
  "language_info": {
   "codemirror_mode": {
    "name": "ipython",
    "version": 3
   },
   "file_extension": ".py",
   "mimetype": "text/x-python",
   "name": "python",
   "nbconvert_exporter": "python",
   "pygments_lexer": "ipython3",
   "version": "3.10.4"
  }
 },
 "nbformat": 4,
 "nbformat_minor": 5
}

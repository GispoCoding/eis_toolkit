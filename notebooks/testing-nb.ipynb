{
 "cells": [
  {
   "cell_type": "markdown",
   "id": "c3b0d908-62d1-43f3-8971-b86b4e25ae3a",
   "metadata": {},
   "source": [
    "# Test file 1\n",
    "\n",
    "This ipynb file has been created for testing that\n",
    "- importing the eis_toolkit package works\n",
    "- executing functions in eis_toolkit works\n",
    "- dependencies work\n",
    "\n",
    "*DISCLAIMER*. Any of the functionalities utilizing GDAL functions will not work when testing eis_toolkit **outside of QGIS's Python console** unless you have separately taken care of installing GDAL library.\n",
    "\n",
    "## General instructions\n",
    "\n",
    "Do not install any packages by yourself! We want to make this work so that the user needs only run\n",
    "```\n",
    "pip install eis_toolkit\n",
    "```\n",
    "once and everything should work!\n",
    "\n",
    "The GDAL problem will be resolved automatically when we use call eis_toolkit functions from QGIS's python."
   ]
  },
  {
   "cell_type": "markdown",
   "id": "2261a1ec-ebe4-449a-9e55-429cc2aaff1c",
   "metadata": {
    "tags": []
   },
   "source": [
    "## Dummy tests"
   ]
  },
  {
   "cell_type": "markdown",
   "id": "ebb458bc-2eb5-4d4e-917b-b2f1959e69b2",
   "metadata": {},
   "source": [
    "### Arithmetic dummy functions"
   ]
  },
  {
   "cell_type": "code",
   "execution_count": 25,
   "id": "c8d08c53-cf4c-4703-b1d9-9062c8672685",
   "metadata": {},
   "outputs": [],
   "source": [
    "from eis_toolkit.dependency_test.dummy import test_function\n",
    "from eis_toolkit.dependency_test.dummy import test_function2"
   ]
  },
  {
   "cell_type": "code",
   "execution_count": 15,
   "id": "8c2612a5-13bb-4197-8fa0-0fa646a786f2",
   "metadata": {},
   "outputs": [
    {
     "data": {
      "text/plain": [
       "6"
      ]
     },
     "execution_count": 15,
     "metadata": {},
     "output_type": "execute_result"
    }
   ],
   "source": [
    "test_function(2,4)"
   ]
  },
  {
   "cell_type": "code",
   "execution_count": 16,
   "id": "fd2d6e77-5a5c-4bdc-bb16-3c35c5eea90b",
   "metadata": {},
   "outputs": [
    {
     "data": {
      "text/plain": [
       "14"
      ]
     },
     "execution_count": 16,
     "metadata": {},
     "output_type": "execute_result"
    }
   ],
   "source": [
    "test_function2(19)"
   ]
  },
  {
   "cell_type": "markdown",
   "id": "8f95a9ff-40ca-425a-b4ad-c5d6fa6f6b08",
   "metadata": {},
   "source": [
    "These worked fine!"
   ]
  },
  {
   "cell_type": "markdown",
   "id": "ab889c1f-72eb-4133-a8e5-7d68c7b7beb1",
   "metadata": {},
   "source": [
    "Note that above we created own import command for both functions. The other option would have been to\n",
    "```\n",
    "from eis_toolkit.dependency_test import dummy\n",
    "\n",
    "dummy.test_function(1,2)\n",
    "dummy.test_function2(25)\n",
    "```"
   ]
  },
  {
   "cell_type": "markdown",
   "id": "2c5d0034-c95b-4cb5-9c91-e40c08e4d29b",
   "metadata": {},
   "source": [
    "### Dependency tests"
   ]
  },
  {
   "cell_type": "code",
   "execution_count": 17,
   "id": "2436a5d0-c3bc-4574-bf17-a4a717d5128e",
   "metadata": {},
   "outputs": [],
   "source": [
    "from eis_toolkit.dependency_test import dummy_sklearn"
   ]
  },
  {
   "cell_type": "code",
   "execution_count": 21,
   "id": "2d616a1b-5c3e-47a1-8ab0-61b0dfec4dac",
   "metadata": {},
   "outputs": [],
   "source": [
    "import numpy as np\n",
    "\n",
    "x = np.array(\n",
    "    [\n",
    "        [1.0, 2.0, 3.0],\n",
    "        [2.0, 2.0, 6.0]\n",
    "    ]\n",
    ")"
   ]
  },
  {
   "cell_type": "code",
   "execution_count": 23,
   "id": "58fc95f6-7c23-441f-8dcf-d07f80fc72bd",
   "metadata": {},
   "outputs": [
    {
     "data": {
      "text/plain": [
       "array([1.5, 2. , 4.5])"
      ]
     },
     "execution_count": 23,
     "metadata": {},
     "output_type": "execute_result"
    }
   ],
   "source": [
    "dummy_sklearn.sk_mean(x)"
   ]
  },
  {
   "cell_type": "markdown",
   "id": "072134c0-54d4-4b9f-b851-6f06e83030b5",
   "metadata": {},
   "source": [
    "This worked fine!"
   ]
  },
  {
   "cell_type": "code",
   "execution_count": 24,
   "id": "c6f3125b-e4ff-4222-b271-50d675a9e487",
   "metadata": {},
   "outputs": [
    {
     "ename": "ModuleNotFoundError",
     "evalue": "No module named 'osgeo'",
     "output_type": "error",
     "traceback": [
      "\u001b[0;31m---------------------------------------------------------------------------\u001b[0m",
      "\u001b[0;31mModuleNotFoundError\u001b[0m                       Traceback (most recent call last)",
      "Input \u001b[0;32mIn [24]\u001b[0m, in \u001b[0;36m<cell line: 1>\u001b[0;34m()\u001b[0m\n\u001b[0;32m----> 1\u001b[0m \u001b[38;5;28;01mfrom\u001b[39;00m \u001b[38;5;21;01meis_toolkit\u001b[39;00m\u001b[38;5;21;01m.\u001b[39;00m\u001b[38;5;21;01mdependency_test\u001b[39;00m \u001b[38;5;28;01mimport\u001b[39;00m dummy_gdal\n",
      "File \u001b[0;32m~/PycharmProjects/eis_toolkit/eis_toolkit/dependency_test/dummy_gdal.py:1\u001b[0m, in \u001b[0;36m<module>\u001b[0;34m\u001b[0m\n\u001b[0;32m----> 1\u001b[0m \u001b[38;5;28;01mfrom\u001b[39;00m \u001b[38;5;21;01mosgeo\u001b[39;00m \u001b[38;5;28;01mimport\u001b[39;00m gdal\n\u001b[1;32m      4\u001b[0m \u001b[38;5;28;01mdef\u001b[39;00m \u001b[38;5;21mdriver_cnt\u001b[39m(a: \u001b[38;5;28mint\u001b[39m) \u001b[38;5;241m-\u001b[39m\u001b[38;5;241m>\u001b[39m \u001b[38;5;28;01mNone\u001b[39;00m:\n\u001b[1;32m      5\u001b[0m     \u001b[38;5;124;03m\"\"\"Tests whether it works to call one of gdal's functions.\u001b[39;00m\n\u001b[1;32m      6\u001b[0m \n\u001b[1;32m      7\u001b[0m \u001b[38;5;124;03m    Args:\u001b[39;00m\n\u001b[1;32m      8\u001b[0m \u001b[38;5;124;03m        a (int): input determining the functionality of the function\u001b[39;00m\n\u001b[1;32m      9\u001b[0m \u001b[38;5;124;03m    \"\"\"\u001b[39;00m\n",
      "\u001b[0;31mModuleNotFoundError\u001b[0m: No module named 'osgeo'"
     ]
    }
   ],
   "source": [
    "from eis_toolkit.dependency_test import dummy_gdal"
   ]
  },
  {
   "cell_type": "markdown",
   "id": "85676b96-ad38-4703-8982-c80771fcd98e",
   "metadata": {},
   "source": [
    "This did not work!"
   ]
  },
  {
   "cell_type": "markdown",
   "id": "7706521b-df0f-4bba-9cf4-0c5f6d7a44d6",
   "metadata": {},
   "source": [
    "## Test and experiment with dependent libraries in general\n",
    "\n",
    "In addition to using and testing the functionality of eis_toolkit, you can also use the notebooks to experiment with the libraries that eis_toolkit depends on. This could come in handy for exploring new functionalities.\n",
    "\n",
    "For example, these imports work:"
   ]
  },
  {
   "cell_type": "code",
   "execution_count": 151,
   "id": "c1339bfe-d9b5-4bde-8788-598c8c8bfa0c",
   "metadata": {},
   "outputs": [],
   "source": [
    "import numpy as np\n",
    "import matplotlib.pyplot as plt"
   ]
  },
  {
   "cell_type": "markdown",
   "id": "e0b6cc83-a338-4994-a26f-aeec5a118403",
   "metadata": {},
   "source": [
    "But of course, what we can import is limited to the virtual environment we're in:"
   ]
  },
  {
   "cell_type": "code",
   "execution_count": 154,
   "id": "acbaa675-8b96-49f1-bf26-a58432e4f6e8",
   "metadata": {},
   "outputs": [
    {
     "ename": "ModuleNotFoundError",
     "evalue": "No module named 'django'",
     "output_type": "error",
     "traceback": [
      "\u001b[0;31m---------------------------------------------------------------------------\u001b[0m",
      "\u001b[0;31mModuleNotFoundError\u001b[0m                       Traceback (most recent call last)",
      "Input \u001b[0;32mIn [154]\u001b[0m, in \u001b[0;36m<cell line: 2>\u001b[0;34m()\u001b[0m\n\u001b[1;32m      1\u001b[0m \u001b[38;5;66;03m# This fails\u001b[39;00m\n\u001b[0;32m----> 2\u001b[0m \u001b[38;5;28;01mimport\u001b[39;00m \u001b[38;5;21;01mdjango\u001b[39;00m\n",
      "\u001b[0;31mModuleNotFoundError\u001b[0m: No module named 'django'"
     ]
    }
   ],
   "source": [
    "# This fails\n",
    "import django"
   ]
  },
  {
   "cell_type": "code",
   "execution_count": 58,
   "id": "8d59d9f0-2a07-4cb6-844f-1b3c2b5b1e16",
   "metadata": {},
   "outputs": [],
   "source": [
    "def plot_random():\n",
    "    \"\"\"generate a plot of randomness\"\"\"\n",
    "    \n",
    "    fig, ax = plt.subplots()\n",
    "    ax.plot(np.random.rand(15,2))"
   ]
  },
  {
   "cell_type": "code",
   "execution_count": 59,
   "id": "fc1a04a6-ac06-475a-aba4-7abca3a39ab3",
   "metadata": {},
   "outputs": [
    {
     "data": {
      "image/png": "[encoded data removed]",
      "text/plain": [
       "<Figure size 432x288 with 1 Axes>"
      ]
     },
     "metadata": {
      "needs_background": "light"
     },
     "output_type": "display_data"
    }
   ],
   "source": [
    "plot_random()"
   ]
  },
  {
   "cell_type": "markdown",
   "id": "c27e4ab5-abca-4f92-96c8-c8811a83f9bf",
   "metadata": {},
   "source": [
    "You can use external data as well:"
   ]
  },
  {
   "cell_type": "code",
   "execution_count": 79,
   "id": "c0d3aee8-eeae-46e7-8559-3854ae6f4653",
   "metadata": {},
   "outputs": [],
   "source": [
    "import geopandas as gpd\n",
    "\n",
    "world = gpd.read_file(\"./example_data/shp/naturalearth/\")"
   ]
  },
  {
   "cell_type": "code",
   "execution_count": 148,
   "id": "425290ad-ceec-4c55-9ae6-307147ed76f4",
   "metadata": {},
   "outputs": [],
   "source": [
    "def scatter(df, x, y):\n",
    "    \n",
    "    fig, ax = plt.subplots(figsize=(15, 10))\n",
    "    df.plot(ax=ax, x=x, y=y, kind=\"scatter\")"
   ]
  },
  {
   "cell_type": "code",
   "execution_count": 150,
   "id": "5c350ccd-ffda-4965-8bfe-e98af5da2fc5",
   "metadata": {},
   "outputs": [
    {
     "data": {
      "image/png": "[encoded data removed]",
      "text/plain": [
       "<Figure size 1080x720 with 1 Axes>"
      ]
     },
     "metadata": {
      "needs_background": "light"
     },
     "output_type": "display_data"
    }
   ],
   "source": [
    "scatter(\n",
    "    df=world,\n",
    "    x=\"POP_EST\",\n",
    "    y=\"GDP_MD\",\n",
    ")"
   ]
  },
  {
   "cell_type": "markdown",
   "id": "91205bab-be8f-4ecb-9bd6-cb4d82a2e4ce",
   "metadata": {},
   "source": [
    "> Eemil\n",
    "\n",
    "Täällä voisi vaikka\n",
    "- generoida hatusta dataa ja luoda jonkin plotin siitä\n",
    "- käyttää geopandasia (tätä varten voisi lisätä jonkin testidata kansion)\n",
    "- luoda esimerkin jostain PyPin kautta asennettavasta Python kirjastosta, joka ei sisälly meidän riippuvuuksiin ja demonstroida, että sen kutsuminen tuottaa virheilmoituksen"
   ]
  }
 ],
 "metadata": {
  "kernelspec": {
   "display_name": "Python 3 (ipykernel)",
   "language": "python",
   "name": "python3"
  },
  "language_info": {
   "codemirror_mode": {
    "name": "ipython",
    "version": 3
   },
   "file_extension": ".py",
   "mimetype": "text/x-python",
   "name": "python",
   "nbconvert_exporter": "python",
   "pygments_lexer": "ipython3",
   "version": "3.10.4"
  }
 },
 "nbformat": 4,
 "nbformat_minor": 5
}
